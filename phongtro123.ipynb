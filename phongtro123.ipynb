{
 "metadata": {
  "language_info": {
   "codemirror_mode": {
    "name": "ipython",
    "version": 3
   },
   "file_extension": ".py",
   "mimetype": "text/x-python",
   "name": "python",
   "nbconvert_exporter": "python",
   "pygments_lexer": "ipython3",
   "version": "3.8.3-final"
  },
  "orig_nbformat": 2,
  "kernelspec": {
   "name": "python3",
   "display_name": "Python 3"
  }
 },
 "nbformat": 4,
 "nbformat_minor": 2,
 "cells": [
  {
   "cell_type": "code",
   "execution_count": 1,
   "metadata": {},
   "outputs": [],
   "source": [
    "import pandas as pd\n",
    "import json_lines\n",
    "import re\n",
    "import numpy as np\n",
    "\n",
    "def read_data_from_jl(file_path):\n",
    "    with open(file_path, 'rb') as f:\n",
    "        data = json_lines.reader(f)\n",
    "\n",
    "        df = pd.DataFrame(data)\n",
    "        \n",
    "        return df\n",
    "    return None"
   ]
  },
  {
   "cell_type": "code",
   "execution_count": 2,
   "metadata": {},
   "outputs": [
    {
     "output_type": "execute_result",
     "data": {
      "text/plain": [
       "                                         description  \\\n",
       "0  Cho thuê CCMN kín full đồ (có thể chuyể...   \n",
       "1  Cho thuê phòng DT 20m2 sạch sẽ, tùy từng phòng...   \n",
       "2  Cho thuê phòng full đồ Địa chỉ: số nhà 26 ngõ ...   \n",
       "3  Cho thuê nhà 15 ngõ 65 khương đình, nhà 02 tần...   \n",
       "4  Mình có 1 phòng cho thuê khép kín ở khu vực Ng...   \n",
       "5  - Diện tích các căn hộ từ 30m2 - 45m2. Giá cho...   \n",
       "6  Cho thuê phòng trọ khép kín tại Mễ Trì Thượng,...   \n",
       "7  Cho học sinh, sinh viên, người đi làm thuê phò...   \n",
       "8  CHO THUÊ HOMESTAY ĐỦ TIỆN ÍCH GIÁ SINH VIÊN Đị...   \n",
       "9  Phòng BAN CÔNG rộng Full ĐỒ CẠNH HỒ VĂN QUÁN -...   \n",
       "\n",
       "                                            location                kind  \\\n",
       "0  612 Đường Lạc Long Quân, Phường Nhật Tân, Quận...  Phòng trọ, nhà trọ   \n",
       "1  460 đường Thụy Khuê, Phường Bưởi, Quận Tây Hồ,...  Phòng trọ, nhà trọ   \n",
       "2  124 Đường Âu Cơ, Phường Tứ Liên, Quận Tây Hồ, ...  Phòng trọ, nhà trọ   \n",
       "3  15 ngõ 65 Đường Khương Đình, Phường Thượng Đìn...  Phòng trọ, nhà trọ   \n",
       "4  Đường Khương Trung, Phường Khương Trung, Quận ...  Phòng trọ, nhà trọ   \n",
       "5  Phố Hào Nam, Phường Ô Chợ Dừa, Quận Đống Đa,...  Phòng trọ, nhà trọ   \n",
       "6  Số 10, ngõ 116 phố Miếu Đầm, Đường Đỗ Đức Dục,...  Phòng trọ, nhà trọ   \n",
       "7  Nhà số 06, Ngõ 197, Phố Yên Hòa, Q. Đường Yên ...  Phòng trọ, nhà trọ   \n",
       "8  7 ngõ 68 ngách 53/16 Đường Cầu Giấy, Phường Qu...  Phòng trọ, nhà trọ   \n",
       "9  A34 Đường số 19/5, Phường Văn Quán, Quận Hà Đô...  Phòng trọ, nhà trọ   \n",
       "\n",
       "    area             price  \n",
       "0   35m²   4.5 triệu/tháng  \n",
       "1   22m²   1.8 triệu/tháng  \n",
       "2   18m²   2.5 triệu/tháng  \n",
       "3   25m²     2 triệu/tháng  \n",
       "4   15m²   2.2 triệu/tháng  \n",
       "5   30m²     1 triệu/tháng  \n",
       "6   20m²   1.5 triệu/tháng  \n",
       "7    9m²     2 triệu/tháng  \n",
       "8  240m²  1.35 triệu/tháng  \n",
       "9   22m²   2.8 triệu/tháng  "
      ],
      "text/html": "<div>\n<style scoped>\n    .dataframe tbody tr th:only-of-type {\n        vertical-align: middle;\n    }\n\n    .dataframe tbody tr th {\n        vertical-align: top;\n    }\n\n    .dataframe thead th {\n        text-align: right;\n    }\n</style>\n<table border=\"1\" class=\"dataframe\">\n  <thead>\n    <tr style=\"text-align: right;\">\n      <th></th>\n      <th>description</th>\n      <th>location</th>\n      <th>kind</th>\n      <th>area</th>\n      <th>price</th>\n    </tr>\n  </thead>\n  <tbody>\n    <tr>\n      <th>0</th>\n      <td>Cho thuê CCMN kín full đồ (có thể chuyể...</td>\n      <td>612 Đường Lạc Long Quân, Phường Nhật Tân, Quận...</td>\n      <td>Phòng trọ, nhà trọ</td>\n      <td>35m²</td>\n      <td>4.5 triệu/tháng</td>\n    </tr>\n    <tr>\n      <th>1</th>\n      <td>Cho thuê phòng DT 20m2 sạch sẽ, tùy từng phòng...</td>\n      <td>460 đường Thụy Khuê, Phường Bưởi, Quận Tây Hồ,...</td>\n      <td>Phòng trọ, nhà trọ</td>\n      <td>22m²</td>\n      <td>1.8 triệu/tháng</td>\n    </tr>\n    <tr>\n      <th>2</th>\n      <td>Cho thuê phòng full đồ Địa chỉ: số nhà 26 ngõ ...</td>\n      <td>124 Đường Âu Cơ, Phường Tứ Liên, Quận Tây Hồ, ...</td>\n      <td>Phòng trọ, nhà trọ</td>\n      <td>18m²</td>\n      <td>2.5 triệu/tháng</td>\n    </tr>\n    <tr>\n      <th>3</th>\n      <td>Cho thuê nhà 15 ngõ 65 khương đình, nhà 02 tần...</td>\n      <td>15 ngõ 65 Đường Khương Đình, Phường Thượng Đìn...</td>\n      <td>Phòng trọ, nhà trọ</td>\n      <td>25m²</td>\n      <td>2 triệu/tháng</td>\n    </tr>\n    <tr>\n      <th>4</th>\n      <td>Mình có 1 phòng cho thuê khép kín ở khu vực Ng...</td>\n      <td>Đường Khương Trung, Phường Khương Trung, Quận ...</td>\n      <td>Phòng trọ, nhà trọ</td>\n      <td>15m²</td>\n      <td>2.2 triệu/tháng</td>\n    </tr>\n    <tr>\n      <th>5</th>\n      <td>- Diện tích các căn hộ từ 30m2 - 45m2. Giá cho...</td>\n      <td>Phố Hào Nam, Phường Ô Chợ Dừa, Quận Đống Đa,...</td>\n      <td>Phòng trọ, nhà trọ</td>\n      <td>30m²</td>\n      <td>1 triệu/tháng</td>\n    </tr>\n    <tr>\n      <th>6</th>\n      <td>Cho thuê phòng trọ khép kín tại Mễ Trì Thượng,...</td>\n      <td>Số 10, ngõ 116 phố Miếu Đầm, Đường Đỗ Đức Dục,...</td>\n      <td>Phòng trọ, nhà trọ</td>\n      <td>20m²</td>\n      <td>1.5 triệu/tháng</td>\n    </tr>\n    <tr>\n      <th>7</th>\n      <td>Cho học sinh, sinh viên, người đi làm thuê phò...</td>\n      <td>Nhà số 06, Ngõ 197, Phố Yên Hòa, Q. Đường Yên ...</td>\n      <td>Phòng trọ, nhà trọ</td>\n      <td>9m²</td>\n      <td>2 triệu/tháng</td>\n    </tr>\n    <tr>\n      <th>8</th>\n      <td>CHO THUÊ HOMESTAY ĐỦ TIỆN ÍCH GIÁ SINH VIÊN Đị...</td>\n      <td>7 ngõ 68 ngách 53/16 Đường Cầu Giấy, Phường Qu...</td>\n      <td>Phòng trọ, nhà trọ</td>\n      <td>240m²</td>\n      <td>1.35 triệu/tháng</td>\n    </tr>\n    <tr>\n      <th>9</th>\n      <td>Phòng BAN CÔNG rộng Full ĐỒ CẠNH HỒ VĂN QUÁN -...</td>\n      <td>A34 Đường số 19/5, Phường Văn Quán, Quận Hà Đô...</td>\n      <td>Phòng trọ, nhà trọ</td>\n      <td>22m²</td>\n      <td>2.8 triệu/tháng</td>\n    </tr>\n  </tbody>\n</table>\n</div>"
     },
     "metadata": {},
     "execution_count": 2
    }
   ],
   "source": [
    "df = read_data_from_jl('data/phongtro123.jl')\n",
    "df.head(10)"
   ]
  },
  {
   "cell_type": "code",
   "execution_count": 3,
   "metadata": {},
   "outputs": [],
   "source": [
    "des = df['description'].values\n",
    "price = df['price'].values\n",
    "area = df['area'].values\n",
    "kind = df['kind'].values\n",
    "data = pd.DataFrame()"
   ]
  },
  {
   "cell_type": "code",
   "execution_count": 4,
   "metadata": {},
   "outputs": [
    {
     "output_type": "execute_result",
     "data": {
      "text/plain": [
       "    gia\n",
       "0  4.50\n",
       "1  1.80\n",
       "2  2.50\n",
       "3  2.00\n",
       "4  2.20\n",
       "5  1.00\n",
       "6  1.50\n",
       "7  2.00\n",
       "8  1.35\n",
       "9  2.80"
      ],
      "text/html": "<div>\n<style scoped>\n    .dataframe tbody tr th:only-of-type {\n        vertical-align: middle;\n    }\n\n    .dataframe tbody tr th {\n        vertical-align: top;\n    }\n\n    .dataframe thead th {\n        text-align: right;\n    }\n</style>\n<table border=\"1\" class=\"dataframe\">\n  <thead>\n    <tr style=\"text-align: right;\">\n      <th></th>\n      <th>gia</th>\n    </tr>\n  </thead>\n  <tbody>\n    <tr>\n      <th>0</th>\n      <td>4.50</td>\n    </tr>\n    <tr>\n      <th>1</th>\n      <td>1.80</td>\n    </tr>\n    <tr>\n      <th>2</th>\n      <td>2.50</td>\n    </tr>\n    <tr>\n      <th>3</th>\n      <td>2.00</td>\n    </tr>\n    <tr>\n      <th>4</th>\n      <td>2.20</td>\n    </tr>\n    <tr>\n      <th>5</th>\n      <td>1.00</td>\n    </tr>\n    <tr>\n      <th>6</th>\n      <td>1.50</td>\n    </tr>\n    <tr>\n      <th>7</th>\n      <td>2.00</td>\n    </tr>\n    <tr>\n      <th>8</th>\n      <td>1.35</td>\n    </tr>\n    <tr>\n      <th>9</th>\n      <td>2.80</td>\n    </tr>\n  </tbody>\n</table>\n</div>"
     },
     "metadata": {},
     "execution_count": 4
    }
   ],
   "source": [
    "a = []\n",
    "pattern = '^([0-9]+.[0-9]+|[0-9]+)'\n",
    "price = df['price'].values\n",
    "for p in price:\n",
    "    result = re.findall(pattern, p)\n",
    "    if result:\n",
    "        if float(result[0]) > 100:\n",
    "            a.append(float(result[0])/1000000)\n",
    "        else:\n",
    "            a.append(float(result[0]))\n",
    "    else:\n",
    "        a.append(0)\n",
    "\n",
    "data['gia'] = pd.Series(np.array(a), index=df.index)\n",
    "data.head(10)"
   ]
  },
  {
   "cell_type": "code",
   "execution_count": 5,
   "metadata": {},
   "outputs": [
    {
     "output_type": "execute_result",
     "data": {
      "text/plain": [
       "    gia  loai phong\n",
       "0  4.50           2\n",
       "1  1.80           0\n",
       "2  2.50           0\n",
       "3  2.00           0\n",
       "4  2.20           0\n",
       "5  1.00           0\n",
       "6  1.50           0\n",
       "7  2.00           0\n",
       "8  1.35           0\n",
       "9  2.80           0"
      ],
      "text/html": "<div>\n<style scoped>\n    .dataframe tbody tr th:only-of-type {\n        vertical-align: middle;\n    }\n\n    .dataframe tbody tr th {\n        vertical-align: top;\n    }\n\n    .dataframe thead th {\n        text-align: right;\n    }\n</style>\n<table border=\"1\" class=\"dataframe\">\n  <thead>\n    <tr style=\"text-align: right;\">\n      <th></th>\n      <th>gia</th>\n      <th>loai phong</th>\n    </tr>\n  </thead>\n  <tbody>\n    <tr>\n      <th>0</th>\n      <td>4.50</td>\n      <td>2</td>\n    </tr>\n    <tr>\n      <th>1</th>\n      <td>1.80</td>\n      <td>0</td>\n    </tr>\n    <tr>\n      <th>2</th>\n      <td>2.50</td>\n      <td>0</td>\n    </tr>\n    <tr>\n      <th>3</th>\n      <td>2.00</td>\n      <td>0</td>\n    </tr>\n    <tr>\n      <th>4</th>\n      <td>2.20</td>\n      <td>0</td>\n    </tr>\n    <tr>\n      <th>5</th>\n      <td>1.00</td>\n      <td>0</td>\n    </tr>\n    <tr>\n      <th>6</th>\n      <td>1.50</td>\n      <td>0</td>\n    </tr>\n    <tr>\n      <th>7</th>\n      <td>2.00</td>\n      <td>0</td>\n    </tr>\n    <tr>\n      <th>8</th>\n      <td>1.35</td>\n      <td>0</td>\n    </tr>\n    <tr>\n      <th>9</th>\n      <td>2.80</td>\n      <td>0</td>\n    </tr>\n  </tbody>\n</table>\n</div>"
     },
     "metadata": {},
     "execution_count": 5
    }
   ],
   "source": [
    "a = []\n",
    "pattern1 = '(CCMN|[Cc]hung cư)'\n",
    "pattern2 = '[Hh]omestay'\n",
    "for d in des:\n",
    "    ccmn = re.findall(pattern1, d)\n",
    "    hs = re.findall(pattern2, d)\n",
    "    if ccmn:\n",
    "        a.append(2)\n",
    "    elif hs:\n",
    "        a.append(1)\n",
    "    else:\n",
    "        a.append(0)\n",
    "\n",
    "data['loai phong'] = pd.Series(np.array(a), index=df.index)\n",
    "data.head(10)"
   ]
  },
  {
   "cell_type": "code",
   "execution_count": 6,
   "metadata": {},
   "outputs": [
    {
     "output_type": "execute_result",
     "data": {
      "text/plain": [
       "    gia  loai phong                                             vi tri\n",
       "0  4.50           2  612 Đường Lạc Long Quân, Phường Nhật Tân, Quận...\n",
       "1  1.80           0  460 đường Thụy Khuê, Phường Bưởi, Quận Tây Hồ,...\n",
       "2  2.50           0  124 Đường Âu Cơ, Phường Tứ Liên, Quận Tây Hồ, ...\n",
       "3  2.00           0  15 ngõ 65 Đường Khương Đình, Phường Thượng Đìn...\n",
       "4  2.20           0  Đường Khương Trung, Phường Khương Trung, Quận ...\n",
       "5  1.00           0  Phố Hào Nam, Phường Ô Chợ Dừa, Quận Đống Đa,...\n",
       "6  1.50           0  Số 10, ngõ 116 phố Miếu Đầm, Đường Đỗ Đức Dục,...\n",
       "7  2.00           0  Nhà số 06, Ngõ 197, Phố Yên Hòa, Q. Đường Yên ...\n",
       "8  1.35           0  7 ngõ 68 ngách 53/16 Đường Cầu Giấy, Phường Qu...\n",
       "9  2.80           0  A34 Đường số 19/5, Phường Văn Quán, Quận Hà Đô..."
      ],
      "text/html": "<div>\n<style scoped>\n    .dataframe tbody tr th:only-of-type {\n        vertical-align: middle;\n    }\n\n    .dataframe tbody tr th {\n        vertical-align: top;\n    }\n\n    .dataframe thead th {\n        text-align: right;\n    }\n</style>\n<table border=\"1\" class=\"dataframe\">\n  <thead>\n    <tr style=\"text-align: right;\">\n      <th></th>\n      <th>gia</th>\n      <th>loai phong</th>\n      <th>vi tri</th>\n    </tr>\n  </thead>\n  <tbody>\n    <tr>\n      <th>0</th>\n      <td>4.50</td>\n      <td>2</td>\n      <td>612 Đường Lạc Long Quân, Phường Nhật Tân, Quận...</td>\n    </tr>\n    <tr>\n      <th>1</th>\n      <td>1.80</td>\n      <td>0</td>\n      <td>460 đường Thụy Khuê, Phường Bưởi, Quận Tây Hồ,...</td>\n    </tr>\n    <tr>\n      <th>2</th>\n      <td>2.50</td>\n      <td>0</td>\n      <td>124 Đường Âu Cơ, Phường Tứ Liên, Quận Tây Hồ, ...</td>\n    </tr>\n    <tr>\n      <th>3</th>\n      <td>2.00</td>\n      <td>0</td>\n      <td>15 ngõ 65 Đường Khương Đình, Phường Thượng Đìn...</td>\n    </tr>\n    <tr>\n      <th>4</th>\n      <td>2.20</td>\n      <td>0</td>\n      <td>Đường Khương Trung, Phường Khương Trung, Quận ...</td>\n    </tr>\n    <tr>\n      <th>5</th>\n      <td>1.00</td>\n      <td>0</td>\n      <td>Phố Hào Nam, Phường Ô Chợ Dừa, Quận Đống Đa,...</td>\n    </tr>\n    <tr>\n      <th>6</th>\n      <td>1.50</td>\n      <td>0</td>\n      <td>Số 10, ngõ 116 phố Miếu Đầm, Đường Đỗ Đức Dục,...</td>\n    </tr>\n    <tr>\n      <th>7</th>\n      <td>2.00</td>\n      <td>0</td>\n      <td>Nhà số 06, Ngõ 197, Phố Yên Hòa, Q. Đường Yên ...</td>\n    </tr>\n    <tr>\n      <th>8</th>\n      <td>1.35</td>\n      <td>0</td>\n      <td>7 ngõ 68 ngách 53/16 Đường Cầu Giấy, Phường Qu...</td>\n    </tr>\n    <tr>\n      <th>9</th>\n      <td>2.80</td>\n      <td>0</td>\n      <td>A34 Đường số 19/5, Phường Văn Quán, Quận Hà Đô...</td>\n    </tr>\n  </tbody>\n</table>\n</div>"
     },
     "metadata": {},
     "execution_count": 6
    }
   ],
   "source": [
    "data['vi tri'] = df['location']\n",
    "data.head(10)"
   ]
  },
  {
   "cell_type": "code",
   "execution_count": 7,
   "metadata": {},
   "outputs": [
    {
     "output_type": "execute_result",
     "data": {
      "text/plain": [
       "    gia  loai phong                                             vi tri  \\\n",
       "0  4.50           2  612 Đường Lạc Long Quân, Phường Nhật Tân, Quận...   \n",
       "1  1.80           0  460 đường Thụy Khuê, Phường Bưởi, Quận Tây Hồ,...   \n",
       "2  2.50           0  124 Đường Âu Cơ, Phường Tứ Liên, Quận Tây Hồ, ...   \n",
       "3  2.00           0  15 ngõ 65 Đường Khương Đình, Phường Thượng Đìn...   \n",
       "4  2.20           0  Đường Khương Trung, Phường Khương Trung, Quận ...   \n",
       "5  1.00           0  Phố Hào Nam, Phường Ô Chợ Dừa, Quận Đống Đa,...   \n",
       "6  1.50           0  Số 10, ngõ 116 phố Miếu Đầm, Đường Đỗ Đức Dục,...   \n",
       "7  2.00           0  Nhà số 06, Ngõ 197, Phố Yên Hòa, Q. Đường Yên ...   \n",
       "8  1.35           0  7 ngõ 68 ngách 53/16 Đường Cầu Giấy, Phường Qu...   \n",
       "9  2.80           0  A34 Đường số 19/5, Phường Văn Quán, Quận Hà Đô...   \n",
       "\n",
       "   dien tich  \n",
       "0         35  \n",
       "1         22  \n",
       "2         18  \n",
       "3         25  \n",
       "4         15  \n",
       "5         30  \n",
       "6         20  \n",
       "7          9  \n",
       "8        240  \n",
       "9         22  "
      ],
      "text/html": "<div>\n<style scoped>\n    .dataframe tbody tr th:only-of-type {\n        vertical-align: middle;\n    }\n\n    .dataframe tbody tr th {\n        vertical-align: top;\n    }\n\n    .dataframe thead th {\n        text-align: right;\n    }\n</style>\n<table border=\"1\" class=\"dataframe\">\n  <thead>\n    <tr style=\"text-align: right;\">\n      <th></th>\n      <th>gia</th>\n      <th>loai phong</th>\n      <th>vi tri</th>\n      <th>dien tich</th>\n    </tr>\n  </thead>\n  <tbody>\n    <tr>\n      <th>0</th>\n      <td>4.50</td>\n      <td>2</td>\n      <td>612 Đường Lạc Long Quân, Phường Nhật Tân, Quận...</td>\n      <td>35</td>\n    </tr>\n    <tr>\n      <th>1</th>\n      <td>1.80</td>\n      <td>0</td>\n      <td>460 đường Thụy Khuê, Phường Bưởi, Quận Tây Hồ,...</td>\n      <td>22</td>\n    </tr>\n    <tr>\n      <th>2</th>\n      <td>2.50</td>\n      <td>0</td>\n      <td>124 Đường Âu Cơ, Phường Tứ Liên, Quận Tây Hồ, ...</td>\n      <td>18</td>\n    </tr>\n    <tr>\n      <th>3</th>\n      <td>2.00</td>\n      <td>0</td>\n      <td>15 ngõ 65 Đường Khương Đình, Phường Thượng Đìn...</td>\n      <td>25</td>\n    </tr>\n    <tr>\n      <th>4</th>\n      <td>2.20</td>\n      <td>0</td>\n      <td>Đường Khương Trung, Phường Khương Trung, Quận ...</td>\n      <td>15</td>\n    </tr>\n    <tr>\n      <th>5</th>\n      <td>1.00</td>\n      <td>0</td>\n      <td>Phố Hào Nam, Phường Ô Chợ Dừa, Quận Đống Đa,...</td>\n      <td>30</td>\n    </tr>\n    <tr>\n      <th>6</th>\n      <td>1.50</td>\n      <td>0</td>\n      <td>Số 10, ngõ 116 phố Miếu Đầm, Đường Đỗ Đức Dục,...</td>\n      <td>20</td>\n    </tr>\n    <tr>\n      <th>7</th>\n      <td>2.00</td>\n      <td>0</td>\n      <td>Nhà số 06, Ngõ 197, Phố Yên Hòa, Q. Đường Yên ...</td>\n      <td>9</td>\n    </tr>\n    <tr>\n      <th>8</th>\n      <td>1.35</td>\n      <td>0</td>\n      <td>7 ngõ 68 ngách 53/16 Đường Cầu Giấy, Phường Qu...</td>\n      <td>240</td>\n    </tr>\n    <tr>\n      <th>9</th>\n      <td>2.80</td>\n      <td>0</td>\n      <td>A34 Đường số 19/5, Phường Văn Quán, Quận Hà Đô...</td>\n      <td>22</td>\n    </tr>\n  </tbody>\n</table>\n</div>"
     },
     "metadata": {},
     "execution_count": 7
    }
   ],
   "source": [
    "b = []\n",
    "pattern = '^[0-9]+'\n",
    "for a in area:\n",
    "    result = re.findall(pattern, a)\n",
    "    if result:\n",
    "        b.append(int(result[0]))\n",
    "    else:\n",
    "        b.append(0)\n",
    "\n",
    "data['dien tich'] = pd.Series(np.array(b), index=df.index)\n",
    "data.head(10)"
   ]
  },
  {
   "cell_type": "code",
   "execution_count": 8,
   "metadata": {},
   "outputs": [
    {
     "output_type": "execute_result",
     "data": {
      "text/plain": [
       "    gia  loai phong                                             vi tri  \\\n",
       "0  4.50           2  612 Đường Lạc Long Quân, Phường Nhật Tân, Quận...   \n",
       "1  1.80           0  460 đường Thụy Khuê, Phường Bưởi, Quận Tây Hồ,...   \n",
       "2  2.50           0  124 Đường Âu Cơ, Phường Tứ Liên, Quận Tây Hồ, ...   \n",
       "3  2.00           0  15 ngõ 65 Đường Khương Đình, Phường Thượng Đìn...   \n",
       "4  2.20           0  Đường Khương Trung, Phường Khương Trung, Quận ...   \n",
       "5  1.00           0  Phố Hào Nam, Phường Ô Chợ Dừa, Quận Đống Đa,...   \n",
       "6  1.50           0  Số 10, ngõ 116 phố Miếu Đầm, Đường Đỗ Đức Dục,...   \n",
       "7  2.00           0  Nhà số 06, Ngõ 197, Phố Yên Hòa, Q. Đường Yên ...   \n",
       "8  1.35           0  7 ngõ 68 ngách 53/16 Đường Cầu Giấy, Phường Qu...   \n",
       "9  2.80           0  A34 Đường số 19/5, Phường Văn Quán, Quận Hà Đô...   \n",
       "\n",
       "   dien tich  cho de xe  \n",
       "0         35          0  \n",
       "1         22          1  \n",
       "2         18          1  \n",
       "3         25          0  \n",
       "4         15          1  \n",
       "5         30          0  \n",
       "6         20          0  \n",
       "7          9          0  \n",
       "8        240          1  \n",
       "9         22          0  "
      ],
      "text/html": "<div>\n<style scoped>\n    .dataframe tbody tr th:only-of-type {\n        vertical-align: middle;\n    }\n\n    .dataframe tbody tr th {\n        vertical-align: top;\n    }\n\n    .dataframe thead th {\n        text-align: right;\n    }\n</style>\n<table border=\"1\" class=\"dataframe\">\n  <thead>\n    <tr style=\"text-align: right;\">\n      <th></th>\n      <th>gia</th>\n      <th>loai phong</th>\n      <th>vi tri</th>\n      <th>dien tich</th>\n      <th>cho de xe</th>\n    </tr>\n  </thead>\n  <tbody>\n    <tr>\n      <th>0</th>\n      <td>4.50</td>\n      <td>2</td>\n      <td>612 Đường Lạc Long Quân, Phường Nhật Tân, Quận...</td>\n      <td>35</td>\n      <td>0</td>\n    </tr>\n    <tr>\n      <th>1</th>\n      <td>1.80</td>\n      <td>0</td>\n      <td>460 đường Thụy Khuê, Phường Bưởi, Quận Tây Hồ,...</td>\n      <td>22</td>\n      <td>1</td>\n    </tr>\n    <tr>\n      <th>2</th>\n      <td>2.50</td>\n      <td>0</td>\n      <td>124 Đường Âu Cơ, Phường Tứ Liên, Quận Tây Hồ, ...</td>\n      <td>18</td>\n      <td>1</td>\n    </tr>\n    <tr>\n      <th>3</th>\n      <td>2.00</td>\n      <td>0</td>\n      <td>15 ngõ 65 Đường Khương Đình, Phường Thượng Đìn...</td>\n      <td>25</td>\n      <td>0</td>\n    </tr>\n    <tr>\n      <th>4</th>\n      <td>2.20</td>\n      <td>0</td>\n      <td>Đường Khương Trung, Phường Khương Trung, Quận ...</td>\n      <td>15</td>\n      <td>1</td>\n    </tr>\n    <tr>\n      <th>5</th>\n      <td>1.00</td>\n      <td>0</td>\n      <td>Phố Hào Nam, Phường Ô Chợ Dừa, Quận Đống Đa,...</td>\n      <td>30</td>\n      <td>0</td>\n    </tr>\n    <tr>\n      <th>6</th>\n      <td>1.50</td>\n      <td>0</td>\n      <td>Số 10, ngõ 116 phố Miếu Đầm, Đường Đỗ Đức Dục,...</td>\n      <td>20</td>\n      <td>0</td>\n    </tr>\n    <tr>\n      <th>7</th>\n      <td>2.00</td>\n      <td>0</td>\n      <td>Nhà số 06, Ngõ 197, Phố Yên Hòa, Q. Đường Yên ...</td>\n      <td>9</td>\n      <td>0</td>\n    </tr>\n    <tr>\n      <th>8</th>\n      <td>1.35</td>\n      <td>0</td>\n      <td>7 ngõ 68 ngách 53/16 Đường Cầu Giấy, Phường Qu...</td>\n      <td>240</td>\n      <td>1</td>\n    </tr>\n    <tr>\n      <th>9</th>\n      <td>2.80</td>\n      <td>0</td>\n      <td>A34 Đường số 19/5, Phường Văn Quán, Quận Hà Đô...</td>\n      <td>22</td>\n      <td>0</td>\n    </tr>\n  </tbody>\n</table>\n</div>"
     },
     "metadata": {},
     "execution_count": 8
    }
   ],
   "source": [
    "# add parking area\n",
    "a = []\n",
    "pattern = '[Đđ]ể xe'\n",
    "for d in des:\n",
    "    result = re.findall(pattern, d)\n",
    "    if result:\n",
    "        a.append(1)\n",
    "    else:\n",
    "        a.append(0)\n",
    "\n",
    "data['cho de xe'] = pd.Series(np.array(a), index=df.index)\n",
    "data.head(10)"
   ]
  },
  {
   "cell_type": "code",
   "execution_count": 9,
   "metadata": {},
   "outputs": [
    {
     "output_type": "execute_result",
     "data": {
      "text/plain": [
       "    gia  loai phong                                             vi tri  \\\n",
       "0  4.50           2  612 Đường Lạc Long Quân, Phường Nhật Tân, Quận...   \n",
       "1  1.80           0  460 đường Thụy Khuê, Phường Bưởi, Quận Tây Hồ,...   \n",
       "2  2.50           0  124 Đường Âu Cơ, Phường Tứ Liên, Quận Tây Hồ, ...   \n",
       "3  2.00           0  15 ngõ 65 Đường Khương Đình, Phường Thượng Đìn...   \n",
       "4  2.20           0  Đường Khương Trung, Phường Khương Trung, Quận ...   \n",
       "5  1.00           0  Phố Hào Nam, Phường Ô Chợ Dừa, Quận Đống Đa,...   \n",
       "6  1.50           0  Số 10, ngõ 116 phố Miếu Đầm, Đường Đỗ Đức Dục,...   \n",
       "7  2.00           0  Nhà số 06, Ngõ 197, Phố Yên Hòa, Q. Đường Yên ...   \n",
       "8  1.35           0  7 ngõ 68 ngách 53/16 Đường Cầu Giấy, Phường Qu...   \n",
       "9  2.80           0  A34 Đường số 19/5, Phường Văn Quán, Quận Hà Đô...   \n",
       "\n",
       "   dien tich  cho de xe  dieu hoa  \n",
       "0         35          0         0  \n",
       "1         22          1         0  \n",
       "2         18          1         0  \n",
       "3         25          0         0  \n",
       "4         15          1         1  \n",
       "5         30          0         0  \n",
       "6         20          0         0  \n",
       "7          9          0         0  \n",
       "8        240          1         0  \n",
       "9         22          0         1  "
      ],
      "text/html": "<div>\n<style scoped>\n    .dataframe tbody tr th:only-of-type {\n        vertical-align: middle;\n    }\n\n    .dataframe tbody tr th {\n        vertical-align: top;\n    }\n\n    .dataframe thead th {\n        text-align: right;\n    }\n</style>\n<table border=\"1\" class=\"dataframe\">\n  <thead>\n    <tr style=\"text-align: right;\">\n      <th></th>\n      <th>gia</th>\n      <th>loai phong</th>\n      <th>vi tri</th>\n      <th>dien tich</th>\n      <th>cho de xe</th>\n      <th>dieu hoa</th>\n    </tr>\n  </thead>\n  <tbody>\n    <tr>\n      <th>0</th>\n      <td>4.50</td>\n      <td>2</td>\n      <td>612 Đường Lạc Long Quân, Phường Nhật Tân, Quận...</td>\n      <td>35</td>\n      <td>0</td>\n      <td>0</td>\n    </tr>\n    <tr>\n      <th>1</th>\n      <td>1.80</td>\n      <td>0</td>\n      <td>460 đường Thụy Khuê, Phường Bưởi, Quận Tây Hồ,...</td>\n      <td>22</td>\n      <td>1</td>\n      <td>0</td>\n    </tr>\n    <tr>\n      <th>2</th>\n      <td>2.50</td>\n      <td>0</td>\n      <td>124 Đường Âu Cơ, Phường Tứ Liên, Quận Tây Hồ, ...</td>\n      <td>18</td>\n      <td>1</td>\n      <td>0</td>\n    </tr>\n    <tr>\n      <th>3</th>\n      <td>2.00</td>\n      <td>0</td>\n      <td>15 ngõ 65 Đường Khương Đình, Phường Thượng Đìn...</td>\n      <td>25</td>\n      <td>0</td>\n      <td>0</td>\n    </tr>\n    <tr>\n      <th>4</th>\n      <td>2.20</td>\n      <td>0</td>\n      <td>Đường Khương Trung, Phường Khương Trung, Quận ...</td>\n      <td>15</td>\n      <td>1</td>\n      <td>1</td>\n    </tr>\n    <tr>\n      <th>5</th>\n      <td>1.00</td>\n      <td>0</td>\n      <td>Phố Hào Nam, Phường Ô Chợ Dừa, Quận Đống Đa,...</td>\n      <td>30</td>\n      <td>0</td>\n      <td>0</td>\n    </tr>\n    <tr>\n      <th>6</th>\n      <td>1.50</td>\n      <td>0</td>\n      <td>Số 10, ngõ 116 phố Miếu Đầm, Đường Đỗ Đức Dục,...</td>\n      <td>20</td>\n      <td>0</td>\n      <td>0</td>\n    </tr>\n    <tr>\n      <th>7</th>\n      <td>2.00</td>\n      <td>0</td>\n      <td>Nhà số 06, Ngõ 197, Phố Yên Hòa, Q. Đường Yên ...</td>\n      <td>9</td>\n      <td>0</td>\n      <td>0</td>\n    </tr>\n    <tr>\n      <th>8</th>\n      <td>1.35</td>\n      <td>0</td>\n      <td>7 ngõ 68 ngách 53/16 Đường Cầu Giấy, Phường Qu...</td>\n      <td>240</td>\n      <td>1</td>\n      <td>0</td>\n    </tr>\n    <tr>\n      <th>9</th>\n      <td>2.80</td>\n      <td>0</td>\n      <td>A34 Đường số 19/5, Phường Văn Quán, Quận Hà Đô...</td>\n      <td>22</td>\n      <td>0</td>\n      <td>1</td>\n    </tr>\n  </tbody>\n</table>\n</div>"
     },
     "metadata": {},
     "execution_count": 9
    }
   ],
   "source": [
    "a = []\n",
    "pattern = '[Đđ]iều hòa'\n",
    "for d in des:\n",
    "    result = re.findall(pattern, d)\n",
    "    if result:\n",
    "        a.append(1)\n",
    "    else:\n",
    "        a.append(0)\n",
    "\n",
    "data['dieu hoa'] = pd.Series(np.array(a), index=df.index)\n",
    "data.head(10)"
   ]
  },
  {
   "cell_type": "code",
   "execution_count": 10,
   "metadata": {},
   "outputs": [
    {
     "output_type": "execute_result",
     "data": {
      "text/plain": [
       "    gia  loai phong                                             vi tri  \\\n",
       "0  4.50           2  612 Đường Lạc Long Quân, Phường Nhật Tân, Quận...   \n",
       "1  1.80           0  460 đường Thụy Khuê, Phường Bưởi, Quận Tây Hồ,...   \n",
       "2  2.50           0  124 Đường Âu Cơ, Phường Tứ Liên, Quận Tây Hồ, ...   \n",
       "3  2.00           0  15 ngõ 65 Đường Khương Đình, Phường Thượng Đìn...   \n",
       "4  2.20           0  Đường Khương Trung, Phường Khương Trung, Quận ...   \n",
       "5  1.00           0  Phố Hào Nam, Phường Ô Chợ Dừa, Quận Đống Đa,...   \n",
       "6  1.50           0  Số 10, ngõ 116 phố Miếu Đầm, Đường Đỗ Đức Dục,...   \n",
       "7  2.00           0  Nhà số 06, Ngõ 197, Phố Yên Hòa, Q. Đường Yên ...   \n",
       "8  1.35           0  7 ngõ 68 ngách 53/16 Đường Cầu Giấy, Phường Qu...   \n",
       "9  2.80           0  A34 Đường số 19/5, Phường Văn Quán, Quận Hà Đô...   \n",
       "\n",
       "   dien tich  cho de xe  dieu hoa  nong lanh  \n",
       "0         35          0         0          1  \n",
       "1         22          1         0          1  \n",
       "2         18          1         0          1  \n",
       "3         25          0         0          0  \n",
       "4         15          1         1          1  \n",
       "5         30          0         0          1  \n",
       "6         20          0         0          0  \n",
       "7          9          0         0          0  \n",
       "8        240          1         0          0  \n",
       "9         22          0         1          1  "
      ],
      "text/html": "<div>\n<style scoped>\n    .dataframe tbody tr th:only-of-type {\n        vertical-align: middle;\n    }\n\n    .dataframe tbody tr th {\n        vertical-align: top;\n    }\n\n    .dataframe thead th {\n        text-align: right;\n    }\n</style>\n<table border=\"1\" class=\"dataframe\">\n  <thead>\n    <tr style=\"text-align: right;\">\n      <th></th>\n      <th>gia</th>\n      <th>loai phong</th>\n      <th>vi tri</th>\n      <th>dien tich</th>\n      <th>cho de xe</th>\n      <th>dieu hoa</th>\n      <th>nong lanh</th>\n    </tr>\n  </thead>\n  <tbody>\n    <tr>\n      <th>0</th>\n      <td>4.50</td>\n      <td>2</td>\n      <td>612 Đường Lạc Long Quân, Phường Nhật Tân, Quận...</td>\n      <td>35</td>\n      <td>0</td>\n      <td>0</td>\n      <td>1</td>\n    </tr>\n    <tr>\n      <th>1</th>\n      <td>1.80</td>\n      <td>0</td>\n      <td>460 đường Thụy Khuê, Phường Bưởi, Quận Tây Hồ,...</td>\n      <td>22</td>\n      <td>1</td>\n      <td>0</td>\n      <td>1</td>\n    </tr>\n    <tr>\n      <th>2</th>\n      <td>2.50</td>\n      <td>0</td>\n      <td>124 Đường Âu Cơ, Phường Tứ Liên, Quận Tây Hồ, ...</td>\n      <td>18</td>\n      <td>1</td>\n      <td>0</td>\n      <td>1</td>\n    </tr>\n    <tr>\n      <th>3</th>\n      <td>2.00</td>\n      <td>0</td>\n      <td>15 ngõ 65 Đường Khương Đình, Phường Thượng Đìn...</td>\n      <td>25</td>\n      <td>0</td>\n      <td>0</td>\n      <td>0</td>\n    </tr>\n    <tr>\n      <th>4</th>\n      <td>2.20</td>\n      <td>0</td>\n      <td>Đường Khương Trung, Phường Khương Trung, Quận ...</td>\n      <td>15</td>\n      <td>1</td>\n      <td>1</td>\n      <td>1</td>\n    </tr>\n    <tr>\n      <th>5</th>\n      <td>1.00</td>\n      <td>0</td>\n      <td>Phố Hào Nam, Phường Ô Chợ Dừa, Quận Đống Đa,...</td>\n      <td>30</td>\n      <td>0</td>\n      <td>0</td>\n      <td>1</td>\n    </tr>\n    <tr>\n      <th>6</th>\n      <td>1.50</td>\n      <td>0</td>\n      <td>Số 10, ngõ 116 phố Miếu Đầm, Đường Đỗ Đức Dục,...</td>\n      <td>20</td>\n      <td>0</td>\n      <td>0</td>\n      <td>0</td>\n    </tr>\n    <tr>\n      <th>7</th>\n      <td>2.00</td>\n      <td>0</td>\n      <td>Nhà số 06, Ngõ 197, Phố Yên Hòa, Q. Đường Yên ...</td>\n      <td>9</td>\n      <td>0</td>\n      <td>0</td>\n      <td>0</td>\n    </tr>\n    <tr>\n      <th>8</th>\n      <td>1.35</td>\n      <td>0</td>\n      <td>7 ngõ 68 ngách 53/16 Đường Cầu Giấy, Phường Qu...</td>\n      <td>240</td>\n      <td>1</td>\n      <td>0</td>\n      <td>0</td>\n    </tr>\n    <tr>\n      <th>9</th>\n      <td>2.80</td>\n      <td>0</td>\n      <td>A34 Đường số 19/5, Phường Văn Quán, Quận Hà Đô...</td>\n      <td>22</td>\n      <td>0</td>\n      <td>1</td>\n      <td>1</td>\n    </tr>\n  </tbody>\n</table>\n</div>"
     },
     "metadata": {},
     "execution_count": 10
    }
   ],
   "source": [
    "a = []\n",
    "pattern = '[Nn]óng lạnh'\n",
    "for d in des:\n",
    "    result = re.findall(pattern, d)\n",
    "    if result:\n",
    "        a.append(1)\n",
    "    else:\n",
    "        a.append(0)\n",
    "\n",
    "data['nong lanh'] = pd.Series(np.array(a), index=df.index)\n",
    "data.head(10)"
   ]
  },
  {
   "cell_type": "code",
   "execution_count": 11,
   "metadata": {},
   "outputs": [
    {
     "output_type": "execute_result",
     "data": {
      "text/plain": [
       "    gia  loai phong                                             vi tri  \\\n",
       "0  4.50           2  612 Đường Lạc Long Quân, Phường Nhật Tân, Quận...   \n",
       "1  1.80           0  460 đường Thụy Khuê, Phường Bưởi, Quận Tây Hồ,...   \n",
       "2  2.50           0  124 Đường Âu Cơ, Phường Tứ Liên, Quận Tây Hồ, ...   \n",
       "3  2.00           0  15 ngõ 65 Đường Khương Đình, Phường Thượng Đìn...   \n",
       "4  2.20           0  Đường Khương Trung, Phường Khương Trung, Quận ...   \n",
       "5  1.00           0  Phố Hào Nam, Phường Ô Chợ Dừa, Quận Đống Đa,...   \n",
       "6  1.50           0  Số 10, ngõ 116 phố Miếu Đầm, Đường Đỗ Đức Dục,...   \n",
       "7  2.00           0  Nhà số 06, Ngõ 197, Phố Yên Hòa, Q. Đường Yên ...   \n",
       "8  1.35           0  7 ngõ 68 ngách 53/16 Đường Cầu Giấy, Phường Qu...   \n",
       "9  2.80           0  A34 Đường số 19/5, Phường Văn Quán, Quận Hà Đô...   \n",
       "\n",
       "   dien tich  cho de xe  dieu hoa  nong lanh  noi that  \n",
       "0         35          0         0          1         1  \n",
       "1         22          1         0          1         0  \n",
       "2         18          1         0          1         1  \n",
       "3         25          0         0          0         0  \n",
       "4         15          1         1          1         0  \n",
       "5         30          0         0          1         1  \n",
       "6         20          0         0          0         0  \n",
       "7          9          0         0          0         0  \n",
       "8        240          1         0          0         1  \n",
       "9         22          0         1          1         1  "
      ],
      "text/html": "<div>\n<style scoped>\n    .dataframe tbody tr th:only-of-type {\n        vertical-align: middle;\n    }\n\n    .dataframe tbody tr th {\n        vertical-align: top;\n    }\n\n    .dataframe thead th {\n        text-align: right;\n    }\n</style>\n<table border=\"1\" class=\"dataframe\">\n  <thead>\n    <tr style=\"text-align: right;\">\n      <th></th>\n      <th>gia</th>\n      <th>loai phong</th>\n      <th>vi tri</th>\n      <th>dien tich</th>\n      <th>cho de xe</th>\n      <th>dieu hoa</th>\n      <th>nong lanh</th>\n      <th>noi that</th>\n    </tr>\n  </thead>\n  <tbody>\n    <tr>\n      <th>0</th>\n      <td>4.50</td>\n      <td>2</td>\n      <td>612 Đường Lạc Long Quân, Phường Nhật Tân, Quận...</td>\n      <td>35</td>\n      <td>0</td>\n      <td>0</td>\n      <td>1</td>\n      <td>1</td>\n    </tr>\n    <tr>\n      <th>1</th>\n      <td>1.80</td>\n      <td>0</td>\n      <td>460 đường Thụy Khuê, Phường Bưởi, Quận Tây Hồ,...</td>\n      <td>22</td>\n      <td>1</td>\n      <td>0</td>\n      <td>1</td>\n      <td>0</td>\n    </tr>\n    <tr>\n      <th>2</th>\n      <td>2.50</td>\n      <td>0</td>\n      <td>124 Đường Âu Cơ, Phường Tứ Liên, Quận Tây Hồ, ...</td>\n      <td>18</td>\n      <td>1</td>\n      <td>0</td>\n      <td>1</td>\n      <td>1</td>\n    </tr>\n    <tr>\n      <th>3</th>\n      <td>2.00</td>\n      <td>0</td>\n      <td>15 ngõ 65 Đường Khương Đình, Phường Thượng Đìn...</td>\n      <td>25</td>\n      <td>0</td>\n      <td>0</td>\n      <td>0</td>\n      <td>0</td>\n    </tr>\n    <tr>\n      <th>4</th>\n      <td>2.20</td>\n      <td>0</td>\n      <td>Đường Khương Trung, Phường Khương Trung, Quận ...</td>\n      <td>15</td>\n      <td>1</td>\n      <td>1</td>\n      <td>1</td>\n      <td>0</td>\n    </tr>\n    <tr>\n      <th>5</th>\n      <td>1.00</td>\n      <td>0</td>\n      <td>Phố Hào Nam, Phường Ô Chợ Dừa, Quận Đống Đa,...</td>\n      <td>30</td>\n      <td>0</td>\n      <td>0</td>\n      <td>1</td>\n      <td>1</td>\n    </tr>\n    <tr>\n      <th>6</th>\n      <td>1.50</td>\n      <td>0</td>\n      <td>Số 10, ngõ 116 phố Miếu Đầm, Đường Đỗ Đức Dục,...</td>\n      <td>20</td>\n      <td>0</td>\n      <td>0</td>\n      <td>0</td>\n      <td>0</td>\n    </tr>\n    <tr>\n      <th>7</th>\n      <td>2.00</td>\n      <td>0</td>\n      <td>Nhà số 06, Ngõ 197, Phố Yên Hòa, Q. Đường Yên ...</td>\n      <td>9</td>\n      <td>0</td>\n      <td>0</td>\n      <td>0</td>\n      <td>0</td>\n    </tr>\n    <tr>\n      <th>8</th>\n      <td>1.35</td>\n      <td>0</td>\n      <td>7 ngõ 68 ngách 53/16 Đường Cầu Giấy, Phường Qu...</td>\n      <td>240</td>\n      <td>1</td>\n      <td>0</td>\n      <td>0</td>\n      <td>1</td>\n    </tr>\n    <tr>\n      <th>9</th>\n      <td>2.80</td>\n      <td>0</td>\n      <td>A34 Đường số 19/5, Phường Văn Quán, Quận Hà Đô...</td>\n      <td>22</td>\n      <td>0</td>\n      <td>1</td>\n      <td>1</td>\n      <td>1</td>\n    </tr>\n  </tbody>\n</table>\n</div>"
     },
     "metadata": {},
     "execution_count": 11
    }
   ],
   "source": [
    "a = []\n",
    "pattern = '([Tt]ủ|[Ff]ull đồ|tivi|nội thất đầy đủ)'\n",
    "for d in des:\n",
    "    result = re.findall(pattern, d)\n",
    "    if result:\n",
    "        a.append(1)\n",
    "    else:\n",
    "        a.append(0)\n",
    "\n",
    "data['noi that'] = pd.Series(np.array(a), index=df.index)\n",
    "data.head(10)"
   ]
  },
  {
   "cell_type": "code",
   "execution_count": 12,
   "metadata": {},
   "outputs": [
    {
     "output_type": "execute_result",
     "data": {
      "text/plain": [
       "    gia  loai phong                                             vi tri  \\\n",
       "0  4.50           2  612 Đường Lạc Long Quân, Phường Nhật Tân, Quận...   \n",
       "1  1.80           0  460 đường Thụy Khuê, Phường Bưởi, Quận Tây Hồ,...   \n",
       "2  2.50           0  124 Đường Âu Cơ, Phường Tứ Liên, Quận Tây Hồ, ...   \n",
       "3  2.00           0  15 ngõ 65 Đường Khương Đình, Phường Thượng Đìn...   \n",
       "4  2.20           0  Đường Khương Trung, Phường Khương Trung, Quận ...   \n",
       "5  1.00           0  Phố Hào Nam, Phường Ô Chợ Dừa, Quận Đống Đa,...   \n",
       "6  1.50           0  Số 10, ngõ 116 phố Miếu Đầm, Đường Đỗ Đức Dục,...   \n",
       "7  2.00           0  Nhà số 06, Ngõ 197, Phố Yên Hòa, Q. Đường Yên ...   \n",
       "8  1.35           0  7 ngõ 68 ngách 53/16 Đường Cầu Giấy, Phường Qu...   \n",
       "9  2.80           0  A34 Đường số 19/5, Phường Văn Quán, Quận Hà Đô...   \n",
       "\n",
       "   dien tich  cho de xe  dieu hoa  nong lanh  noi that  khep kin  \n",
       "0         35          0         0          1         1         0  \n",
       "1         22          1         0          1         0         0  \n",
       "2         18          1         0          1         1         0  \n",
       "3         25          0         0          0         0         0  \n",
       "4         15          1         1          1         0         1  \n",
       "5         30          0         0          1         1         1  \n",
       "6         20          0         0          0         0         1  \n",
       "7          9          0         0          0         0         0  \n",
       "8        240          1         0          0         1         0  \n",
       "9         22          0         1          1         1         0  "
      ],
      "text/html": "<div>\n<style scoped>\n    .dataframe tbody tr th:only-of-type {\n        vertical-align: middle;\n    }\n\n    .dataframe tbody tr th {\n        vertical-align: top;\n    }\n\n    .dataframe thead th {\n        text-align: right;\n    }\n</style>\n<table border=\"1\" class=\"dataframe\">\n  <thead>\n    <tr style=\"text-align: right;\">\n      <th></th>\n      <th>gia</th>\n      <th>loai phong</th>\n      <th>vi tri</th>\n      <th>dien tich</th>\n      <th>cho de xe</th>\n      <th>dieu hoa</th>\n      <th>nong lanh</th>\n      <th>noi that</th>\n      <th>khep kin</th>\n    </tr>\n  </thead>\n  <tbody>\n    <tr>\n      <th>0</th>\n      <td>4.50</td>\n      <td>2</td>\n      <td>612 Đường Lạc Long Quân, Phường Nhật Tân, Quận...</td>\n      <td>35</td>\n      <td>0</td>\n      <td>0</td>\n      <td>1</td>\n      <td>1</td>\n      <td>0</td>\n    </tr>\n    <tr>\n      <th>1</th>\n      <td>1.80</td>\n      <td>0</td>\n      <td>460 đường Thụy Khuê, Phường Bưởi, Quận Tây Hồ,...</td>\n      <td>22</td>\n      <td>1</td>\n      <td>0</td>\n      <td>1</td>\n      <td>0</td>\n      <td>0</td>\n    </tr>\n    <tr>\n      <th>2</th>\n      <td>2.50</td>\n      <td>0</td>\n      <td>124 Đường Âu Cơ, Phường Tứ Liên, Quận Tây Hồ, ...</td>\n      <td>18</td>\n      <td>1</td>\n      <td>0</td>\n      <td>1</td>\n      <td>1</td>\n      <td>0</td>\n    </tr>\n    <tr>\n      <th>3</th>\n      <td>2.00</td>\n      <td>0</td>\n      <td>15 ngõ 65 Đường Khương Đình, Phường Thượng Đìn...</td>\n      <td>25</td>\n      <td>0</td>\n      <td>0</td>\n      <td>0</td>\n      <td>0</td>\n      <td>0</td>\n    </tr>\n    <tr>\n      <th>4</th>\n      <td>2.20</td>\n      <td>0</td>\n      <td>Đường Khương Trung, Phường Khương Trung, Quận ...</td>\n      <td>15</td>\n      <td>1</td>\n      <td>1</td>\n      <td>1</td>\n      <td>0</td>\n      <td>1</td>\n    </tr>\n    <tr>\n      <th>5</th>\n      <td>1.00</td>\n      <td>0</td>\n      <td>Phố Hào Nam, Phường Ô Chợ Dừa, Quận Đống Đa,...</td>\n      <td>30</td>\n      <td>0</td>\n      <td>0</td>\n      <td>1</td>\n      <td>1</td>\n      <td>1</td>\n    </tr>\n    <tr>\n      <th>6</th>\n      <td>1.50</td>\n      <td>0</td>\n      <td>Số 10, ngõ 116 phố Miếu Đầm, Đường Đỗ Đức Dục,...</td>\n      <td>20</td>\n      <td>0</td>\n      <td>0</td>\n      <td>0</td>\n      <td>0</td>\n      <td>1</td>\n    </tr>\n    <tr>\n      <th>7</th>\n      <td>2.00</td>\n      <td>0</td>\n      <td>Nhà số 06, Ngõ 197, Phố Yên Hòa, Q. Đường Yên ...</td>\n      <td>9</td>\n      <td>0</td>\n      <td>0</td>\n      <td>0</td>\n      <td>0</td>\n      <td>0</td>\n    </tr>\n    <tr>\n      <th>8</th>\n      <td>1.35</td>\n      <td>0</td>\n      <td>7 ngõ 68 ngách 53/16 Đường Cầu Giấy, Phường Qu...</td>\n      <td>240</td>\n      <td>1</td>\n      <td>0</td>\n      <td>0</td>\n      <td>1</td>\n      <td>0</td>\n    </tr>\n    <tr>\n      <th>9</th>\n      <td>2.80</td>\n      <td>0</td>\n      <td>A34 Đường số 19/5, Phường Văn Quán, Quận Hà Đô...</td>\n      <td>22</td>\n      <td>0</td>\n      <td>1</td>\n      <td>1</td>\n      <td>1</td>\n      <td>0</td>\n    </tr>\n  </tbody>\n</table>\n</div>"
     },
     "metadata": {},
     "execution_count": 12
    }
   ],
   "source": [
    "a = []\n",
    "pattern = 'khép kín'\n",
    "for d in des:\n",
    "    result = re.findall(pattern, d)\n",
    "    if result:\n",
    "        a.append(1)\n",
    "    else:\n",
    "        a.append(0)\n",
    "\n",
    "data['khep kin'] = pd.Series(np.array(a), index=df.index)\n",
    "data.head(10)"
   ]
  },
  {
   "cell_type": "code",
   "execution_count": 13,
   "metadata": {},
   "outputs": [
    {
     "output_type": "execute_result",
     "data": {
      "text/plain": [
       "    gia  loai phong                                             vi tri  \\\n",
       "0  4.50           2  612 Đường Lạc Long Quân, Phường Nhật Tân, Quận...   \n",
       "1  1.80           0  460 đường Thụy Khuê, Phường Bưởi, Quận Tây Hồ,...   \n",
       "2  2.50           0  124 Đường Âu Cơ, Phường Tứ Liên, Quận Tây Hồ, ...   \n",
       "3  2.00           0  15 ngõ 65 Đường Khương Đình, Phường Thượng Đìn...   \n",
       "4  2.20           0  Đường Khương Trung, Phường Khương Trung, Quận ...   \n",
       "5  1.00           0  Phố Hào Nam, Phường Ô Chợ Dừa, Quận Đống Đa,...   \n",
       "6  1.50           0  Số 10, ngõ 116 phố Miếu Đầm, Đường Đỗ Đức Dục,...   \n",
       "7  2.00           0  Nhà số 06, Ngõ 197, Phố Yên Hòa, Q. Đường Yên ...   \n",
       "8  1.35           0  7 ngõ 68 ngách 53/16 Đường Cầu Giấy, Phường Qu...   \n",
       "9  2.80           0  A34 Đường số 19/5, Phường Văn Quán, Quận Hà Đô...   \n",
       "\n",
       "   dien tich  cho de xe  dieu hoa  nong lanh  noi that  khep kin  \\\n",
       "0         35          0         0          1         1         0   \n",
       "1         22          1         0          1         0         0   \n",
       "2         18          1         0          1         1         0   \n",
       "3         25          0         0          0         0         0   \n",
       "4         15          1         1          1         0         1   \n",
       "5         30          0         0          1         1         1   \n",
       "6         20          0         0          0         0         1   \n",
       "7          9          0         0          0         0         0   \n",
       "8        240          1         0          0         1         0   \n",
       "9         22          0         1          1         1         0   \n",
       "\n",
       "   tong dien tich  \n",
       "0               0  \n",
       "1               0  \n",
       "2               0  \n",
       "3               0  \n",
       "4               0  \n",
       "5               0  \n",
       "6               0  \n",
       "7               0  \n",
       "8               0  \n",
       "9               0  "
      ],
      "text/html": "<div>\n<style scoped>\n    .dataframe tbody tr th:only-of-type {\n        vertical-align: middle;\n    }\n\n    .dataframe tbody tr th {\n        vertical-align: top;\n    }\n\n    .dataframe thead th {\n        text-align: right;\n    }\n</style>\n<table border=\"1\" class=\"dataframe\">\n  <thead>\n    <tr style=\"text-align: right;\">\n      <th></th>\n      <th>gia</th>\n      <th>loai phong</th>\n      <th>vi tri</th>\n      <th>dien tich</th>\n      <th>cho de xe</th>\n      <th>dieu hoa</th>\n      <th>nong lanh</th>\n      <th>noi that</th>\n      <th>khep kin</th>\n      <th>tong dien tich</th>\n    </tr>\n  </thead>\n  <tbody>\n    <tr>\n      <th>0</th>\n      <td>4.50</td>\n      <td>2</td>\n      <td>612 Đường Lạc Long Quân, Phường Nhật Tân, Quận...</td>\n      <td>35</td>\n      <td>0</td>\n      <td>0</td>\n      <td>1</td>\n      <td>1</td>\n      <td>0</td>\n      <td>0</td>\n    </tr>\n    <tr>\n      <th>1</th>\n      <td>1.80</td>\n      <td>0</td>\n      <td>460 đường Thụy Khuê, Phường Bưởi, Quận Tây Hồ,...</td>\n      <td>22</td>\n      <td>1</td>\n      <td>0</td>\n      <td>1</td>\n      <td>0</td>\n      <td>0</td>\n      <td>0</td>\n    </tr>\n    <tr>\n      <th>2</th>\n      <td>2.50</td>\n      <td>0</td>\n      <td>124 Đường Âu Cơ, Phường Tứ Liên, Quận Tây Hồ, ...</td>\n      <td>18</td>\n      <td>1</td>\n      <td>0</td>\n      <td>1</td>\n      <td>1</td>\n      <td>0</td>\n      <td>0</td>\n    </tr>\n    <tr>\n      <th>3</th>\n      <td>2.00</td>\n      <td>0</td>\n      <td>15 ngõ 65 Đường Khương Đình, Phường Thượng Đìn...</td>\n      <td>25</td>\n      <td>0</td>\n      <td>0</td>\n      <td>0</td>\n      <td>0</td>\n      <td>0</td>\n      <td>0</td>\n    </tr>\n    <tr>\n      <th>4</th>\n      <td>2.20</td>\n      <td>0</td>\n      <td>Đường Khương Trung, Phường Khương Trung, Quận ...</td>\n      <td>15</td>\n      <td>1</td>\n      <td>1</td>\n      <td>1</td>\n      <td>0</td>\n      <td>1</td>\n      <td>0</td>\n    </tr>\n    <tr>\n      <th>5</th>\n      <td>1.00</td>\n      <td>0</td>\n      <td>Phố Hào Nam, Phường Ô Chợ Dừa, Quận Đống Đa,...</td>\n      <td>30</td>\n      <td>0</td>\n      <td>0</td>\n      <td>1</td>\n      <td>1</td>\n      <td>1</td>\n      <td>0</td>\n    </tr>\n    <tr>\n      <th>6</th>\n      <td>1.50</td>\n      <td>0</td>\n      <td>Số 10, ngõ 116 phố Miếu Đầm, Đường Đỗ Đức Dục,...</td>\n      <td>20</td>\n      <td>0</td>\n      <td>0</td>\n      <td>0</td>\n      <td>0</td>\n      <td>1</td>\n      <td>0</td>\n    </tr>\n    <tr>\n      <th>7</th>\n      <td>2.00</td>\n      <td>0</td>\n      <td>Nhà số 06, Ngõ 197, Phố Yên Hòa, Q. Đường Yên ...</td>\n      <td>9</td>\n      <td>0</td>\n      <td>0</td>\n      <td>0</td>\n      <td>0</td>\n      <td>0</td>\n      <td>0</td>\n    </tr>\n    <tr>\n      <th>8</th>\n      <td>1.35</td>\n      <td>0</td>\n      <td>7 ngõ 68 ngách 53/16 Đường Cầu Giấy, Phường Qu...</td>\n      <td>240</td>\n      <td>1</td>\n      <td>0</td>\n      <td>0</td>\n      <td>1</td>\n      <td>0</td>\n      <td>0</td>\n    </tr>\n    <tr>\n      <th>9</th>\n      <td>2.80</td>\n      <td>0</td>\n      <td>A34 Đường số 19/5, Phường Văn Quán, Quận Hà Đô...</td>\n      <td>22</td>\n      <td>0</td>\n      <td>1</td>\n      <td>1</td>\n      <td>1</td>\n      <td>0</td>\n      <td>0</td>\n    </tr>\n  </tbody>\n</table>\n</div>"
     },
     "metadata": {},
     "execution_count": 13
    }
   ],
   "source": [
    "a = []\n",
    "pattern = '[Tt]ổng diện tích'\n",
    "for d in des:\n",
    "    result = re.findall(pattern, d)\n",
    "    if result:\n",
    "        a.append(1)\n",
    "    else:\n",
    "        a.append(0)\n",
    "\n",
    "data['tong dien tich'] = pd.Series(np.array(a), index=df.index)\n",
    "data.head(10)"
   ]
  },
  {
   "cell_type": "code",
   "execution_count": 19,
   "metadata": {},
   "outputs": [
    {
     "output_type": "execute_result",
     "data": {
      "text/plain": [
       "         gia  loai phong                                             vi tri  \\\n",
       "0     4.5000           2  612 Đường Lạc Long Quân, Phường Nhật Tân, Quận...   \n",
       "1     1.8000           0  460 đường Thụy Khuê, Phường Bưởi, Quận Tây Hồ,...   \n",
       "2     2.5000           0  124 Đường Âu Cơ, Phường Tứ Liên, Quận Tây Hồ, ...   \n",
       "3     2.0000           0  15 ngõ 65 Đường Khương Đình, Phường Thượng Đìn...   \n",
       "4     2.2000           0  Đường Khương Trung, Phường Khương Trung, Quận ...   \n",
       "...      ...         ...                                                ...   \n",
       "4144  2.8000           0  Nhà 9 KTT Gia Cầm, hẻm 98, ngách 26 ngõ Thái T...   \n",
       "4145  2.0000           0     Ngõ 71 Hoàng Văn Thái, Quận Thanh Xuân, Hà Nội   \n",
       "4146  2.3000           0  Hà 126, Tổ 47 Phường Dịch Vọng Hậu, đối diện đ...   \n",
       "4147  0.0007           0  Số 8, Tổ 25, Ngách 1/28, Tổ 25 Phố Thúy Lĩnh, ...   \n",
       "4148  1.7000           0                        To12 pho tram phuong LB- HN   \n",
       "\n",
       "      dien tich  cho de xe  dieu hoa  nong lanh  noi that  khep kin  \\\n",
       "0            35          0         0          1         1         0   \n",
       "1            22          1         0          1         0         0   \n",
       "2            18          1         0          1         1         0   \n",
       "3            25          0         0          0         0         0   \n",
       "4            15          1         1          1         0         1   \n",
       "...         ...        ...       ...        ...       ...       ...   \n",
       "4144         25          0         1          1         0         0   \n",
       "4145         15          1         0          0         0         0   \n",
       "4146         25          1         1          0         0         1   \n",
       "4147         20          1         0          0         0         0   \n",
       "4148         20          0         0          0         0         0   \n",
       "\n",
       "      tong dien tich       Source  \n",
       "0                  0  phongtro123  \n",
       "1                  0  phongtro123  \n",
       "2                  0  phongtro123  \n",
       "3                  0  phongtro123  \n",
       "4                  0  phongtro123  \n",
       "...              ...          ...  \n",
       "4144               0  phongtro123  \n",
       "4145               0  phongtro123  \n",
       "4146               0  phongtro123  \n",
       "4147               0  phongtro123  \n",
       "4148               0  phongtro123  \n",
       "\n",
       "[4149 rows x 11 columns]"
      ],
      "text/html": "<div>\n<style scoped>\n    .dataframe tbody tr th:only-of-type {\n        vertical-align: middle;\n    }\n\n    .dataframe tbody tr th {\n        vertical-align: top;\n    }\n\n    .dataframe thead th {\n        text-align: right;\n    }\n</style>\n<table border=\"1\" class=\"dataframe\">\n  <thead>\n    <tr style=\"text-align: right;\">\n      <th></th>\n      <th>gia</th>\n      <th>loai phong</th>\n      <th>vi tri</th>\n      <th>dien tich</th>\n      <th>cho de xe</th>\n      <th>dieu hoa</th>\n      <th>nong lanh</th>\n      <th>noi that</th>\n      <th>khep kin</th>\n      <th>tong dien tich</th>\n      <th>Source</th>\n    </tr>\n  </thead>\n  <tbody>\n    <tr>\n      <th>0</th>\n      <td>4.5000</td>\n      <td>2</td>\n      <td>612 Đường Lạc Long Quân, Phường Nhật Tân, Quận...</td>\n      <td>35</td>\n      <td>0</td>\n      <td>0</td>\n      <td>1</td>\n      <td>1</td>\n      <td>0</td>\n      <td>0</td>\n      <td>phongtro123</td>\n    </tr>\n    <tr>\n      <th>1</th>\n      <td>1.8000</td>\n      <td>0</td>\n      <td>460 đường Thụy Khuê, Phường Bưởi, Quận Tây Hồ,...</td>\n      <td>22</td>\n      <td>1</td>\n      <td>0</td>\n      <td>1</td>\n      <td>0</td>\n      <td>0</td>\n      <td>0</td>\n      <td>phongtro123</td>\n    </tr>\n    <tr>\n      <th>2</th>\n      <td>2.5000</td>\n      <td>0</td>\n      <td>124 Đường Âu Cơ, Phường Tứ Liên, Quận Tây Hồ, ...</td>\n      <td>18</td>\n      <td>1</td>\n      <td>0</td>\n      <td>1</td>\n      <td>1</td>\n      <td>0</td>\n      <td>0</td>\n      <td>phongtro123</td>\n    </tr>\n    <tr>\n      <th>3</th>\n      <td>2.0000</td>\n      <td>0</td>\n      <td>15 ngõ 65 Đường Khương Đình, Phường Thượng Đìn...</td>\n      <td>25</td>\n      <td>0</td>\n      <td>0</td>\n      <td>0</td>\n      <td>0</td>\n      <td>0</td>\n      <td>0</td>\n      <td>phongtro123</td>\n    </tr>\n    <tr>\n      <th>4</th>\n      <td>2.2000</td>\n      <td>0</td>\n      <td>Đường Khương Trung, Phường Khương Trung, Quận ...</td>\n      <td>15</td>\n      <td>1</td>\n      <td>1</td>\n      <td>1</td>\n      <td>0</td>\n      <td>1</td>\n      <td>0</td>\n      <td>phongtro123</td>\n    </tr>\n    <tr>\n      <th>...</th>\n      <td>...</td>\n      <td>...</td>\n      <td>...</td>\n      <td>...</td>\n      <td>...</td>\n      <td>...</td>\n      <td>...</td>\n      <td>...</td>\n      <td>...</td>\n      <td>...</td>\n      <td>...</td>\n    </tr>\n    <tr>\n      <th>4144</th>\n      <td>2.8000</td>\n      <td>0</td>\n      <td>Nhà 9 KTT Gia Cầm, hẻm 98, ngách 26 ngõ Thái T...</td>\n      <td>25</td>\n      <td>0</td>\n      <td>1</td>\n      <td>1</td>\n      <td>0</td>\n      <td>0</td>\n      <td>0</td>\n      <td>phongtro123</td>\n    </tr>\n    <tr>\n      <th>4145</th>\n      <td>2.0000</td>\n      <td>0</td>\n      <td>Ngõ 71 Hoàng Văn Thái, Quận Thanh Xuân, Hà Nội</td>\n      <td>15</td>\n      <td>1</td>\n      <td>0</td>\n      <td>0</td>\n      <td>0</td>\n      <td>0</td>\n      <td>0</td>\n      <td>phongtro123</td>\n    </tr>\n    <tr>\n      <th>4146</th>\n      <td>2.3000</td>\n      <td>0</td>\n      <td>Hà 126, Tổ 47 Phường Dịch Vọng Hậu, đối diện đ...</td>\n      <td>25</td>\n      <td>1</td>\n      <td>1</td>\n      <td>0</td>\n      <td>0</td>\n      <td>1</td>\n      <td>0</td>\n      <td>phongtro123</td>\n    </tr>\n    <tr>\n      <th>4147</th>\n      <td>0.0007</td>\n      <td>0</td>\n      <td>Số 8, Tổ 25, Ngách 1/28, Tổ 25 Phố Thúy Lĩnh, ...</td>\n      <td>20</td>\n      <td>1</td>\n      <td>0</td>\n      <td>0</td>\n      <td>0</td>\n      <td>0</td>\n      <td>0</td>\n      <td>phongtro123</td>\n    </tr>\n    <tr>\n      <th>4148</th>\n      <td>1.7000</td>\n      <td>0</td>\n      <td>To12 pho tram phuong LB- HN</td>\n      <td>20</td>\n      <td>0</td>\n      <td>0</td>\n      <td>0</td>\n      <td>0</td>\n      <td>0</td>\n      <td>0</td>\n      <td>phongtro123</td>\n    </tr>\n  </tbody>\n</table>\n<p>4149 rows × 11 columns</p>\n</div>"
     },
     "metadata": {},
     "execution_count": 19
    }
   ],
   "source": [
    "data['Source'] = \"phongtro123\"\n",
    "data.drop('source', axis=1)"
   ]
  },
  {
   "cell_type": "code",
   "execution_count": 16,
   "metadata": {},
   "outputs": [
    {
     "output_type": "execute_result",
     "data": {
      "text/plain": [
       "         gia  loai phong                                             vi tri  \\\n",
       "0     4.5000           2  612 Đường Lạc Long Quân, Phường Nhật Tân, Quận...   \n",
       "1     1.8000           0  460 đường Thụy Khuê, Phường Bưởi, Quận Tây Hồ,...   \n",
       "2     2.5000           0  124 Đường Âu Cơ, Phường Tứ Liên, Quận Tây Hồ, ...   \n",
       "3     2.0000           0  15 ngõ 65 Đường Khương Đình, Phường Thượng Đìn...   \n",
       "4     2.2000           0  Đường Khương Trung, Phường Khương Trung, Quận ...   \n",
       "...      ...         ...                                                ...   \n",
       "4144  2.8000           0  Nhà 9 KTT Gia Cầm, hẻm 98, ngách 26 ngõ Thái T...   \n",
       "4145  2.0000           0     Ngõ 71 Hoàng Văn Thái, Quận Thanh Xuân, Hà Nội   \n",
       "4146  2.3000           0  Hà 126, Tổ 47 Phường Dịch Vọng Hậu, đối diện đ...   \n",
       "4147  0.0007           0  Số 8, Tổ 25, Ngách 1/28, Tổ 25 Phố Thúy Lĩnh, ...   \n",
       "4148  1.7000           0                        To12 pho tram phuong LB- HN   \n",
       "\n",
       "      dien tich  cho de xe  dieu hoa  nong lanh  noi that  khep kin  \\\n",
       "0            35          0         0          1         1         0   \n",
       "1            22          1         0          1         0         0   \n",
       "2            18          1         0          1         1         0   \n",
       "3            25          0         0          0         0         0   \n",
       "4            15          1         1          1         0         1   \n",
       "...         ...        ...       ...        ...       ...       ...   \n",
       "4144         25          0         1          1         0         0   \n",
       "4145         15          1         0          0         0         0   \n",
       "4146         25          1         1          0         0         1   \n",
       "4147         20          1         0          0         0         0   \n",
       "4148         20          0         0          0         0         0   \n",
       "\n",
       "      tong dien tich        source  \n",
       "0                  0  thuephongtro  \n",
       "1                  0  thuephongtro  \n",
       "2                  0  thuephongtro  \n",
       "3                  0  thuephongtro  \n",
       "4                  0  thuephongtro  \n",
       "...              ...           ...  \n",
       "4144               0  thuephongtro  \n",
       "4145               0  thuephongtro  \n",
       "4146               0  thuephongtro  \n",
       "4147               0  thuephongtro  \n",
       "4148               0  thuephongtro  \n",
       "\n",
       "[4149 rows x 11 columns]"
      ],
      "text/html": "<div>\n<style scoped>\n    .dataframe tbody tr th:only-of-type {\n        vertical-align: middle;\n    }\n\n    .dataframe tbody tr th {\n        vertical-align: top;\n    }\n\n    .dataframe thead th {\n        text-align: right;\n    }\n</style>\n<table border=\"1\" class=\"dataframe\">\n  <thead>\n    <tr style=\"text-align: right;\">\n      <th></th>\n      <th>gia</th>\n      <th>loai phong</th>\n      <th>vi tri</th>\n      <th>dien tich</th>\n      <th>cho de xe</th>\n      <th>dieu hoa</th>\n      <th>nong lanh</th>\n      <th>noi that</th>\n      <th>khep kin</th>\n      <th>tong dien tich</th>\n      <th>source</th>\n    </tr>\n  </thead>\n  <tbody>\n    <tr>\n      <th>0</th>\n      <td>4.5000</td>\n      <td>2</td>\n      <td>612 Đường Lạc Long Quân, Phường Nhật Tân, Quận...</td>\n      <td>35</td>\n      <td>0</td>\n      <td>0</td>\n      <td>1</td>\n      <td>1</td>\n      <td>0</td>\n      <td>0</td>\n      <td>thuephongtro</td>\n    </tr>\n    <tr>\n      <th>1</th>\n      <td>1.8000</td>\n      <td>0</td>\n      <td>460 đường Thụy Khuê, Phường Bưởi, Quận Tây Hồ,...</td>\n      <td>22</td>\n      <td>1</td>\n      <td>0</td>\n      <td>1</td>\n      <td>0</td>\n      <td>0</td>\n      <td>0</td>\n      <td>thuephongtro</td>\n    </tr>\n    <tr>\n      <th>2</th>\n      <td>2.5000</td>\n      <td>0</td>\n      <td>124 Đường Âu Cơ, Phường Tứ Liên, Quận Tây Hồ, ...</td>\n      <td>18</td>\n      <td>1</td>\n      <td>0</td>\n      <td>1</td>\n      <td>1</td>\n      <td>0</td>\n      <td>0</td>\n      <td>thuephongtro</td>\n    </tr>\n    <tr>\n      <th>3</th>\n      <td>2.0000</td>\n      <td>0</td>\n      <td>15 ngõ 65 Đường Khương Đình, Phường Thượng Đìn...</td>\n      <td>25</td>\n      <td>0</td>\n      <td>0</td>\n      <td>0</td>\n      <td>0</td>\n      <td>0</td>\n      <td>0</td>\n      <td>thuephongtro</td>\n    </tr>\n    <tr>\n      <th>4</th>\n      <td>2.2000</td>\n      <td>0</td>\n      <td>Đường Khương Trung, Phường Khương Trung, Quận ...</td>\n      <td>15</td>\n      <td>1</td>\n      <td>1</td>\n      <td>1</td>\n      <td>0</td>\n      <td>1</td>\n      <td>0</td>\n      <td>thuephongtro</td>\n    </tr>\n    <tr>\n      <th>...</th>\n      <td>...</td>\n      <td>...</td>\n      <td>...</td>\n      <td>...</td>\n      <td>...</td>\n      <td>...</td>\n      <td>...</td>\n      <td>...</td>\n      <td>...</td>\n      <td>...</td>\n      <td>...</td>\n    </tr>\n    <tr>\n      <th>4144</th>\n      <td>2.8000</td>\n      <td>0</td>\n      <td>Nhà 9 KTT Gia Cầm, hẻm 98, ngách 26 ngõ Thái T...</td>\n      <td>25</td>\n      <td>0</td>\n      <td>1</td>\n      <td>1</td>\n      <td>0</td>\n      <td>0</td>\n      <td>0</td>\n      <td>thuephongtro</td>\n    </tr>\n    <tr>\n      <th>4145</th>\n      <td>2.0000</td>\n      <td>0</td>\n      <td>Ngõ 71 Hoàng Văn Thái, Quận Thanh Xuân, Hà Nội</td>\n      <td>15</td>\n      <td>1</td>\n      <td>0</td>\n      <td>0</td>\n      <td>0</td>\n      <td>0</td>\n      <td>0</td>\n      <td>thuephongtro</td>\n    </tr>\n    <tr>\n      <th>4146</th>\n      <td>2.3000</td>\n      <td>0</td>\n      <td>Hà 126, Tổ 47 Phường Dịch Vọng Hậu, đối diện đ...</td>\n      <td>25</td>\n      <td>1</td>\n      <td>1</td>\n      <td>0</td>\n      <td>0</td>\n      <td>1</td>\n      <td>0</td>\n      <td>thuephongtro</td>\n    </tr>\n    <tr>\n      <th>4147</th>\n      <td>0.0007</td>\n      <td>0</td>\n      <td>Số 8, Tổ 25, Ngách 1/28, Tổ 25 Phố Thúy Lĩnh, ...</td>\n      <td>20</td>\n      <td>1</td>\n      <td>0</td>\n      <td>0</td>\n      <td>0</td>\n      <td>0</td>\n      <td>0</td>\n      <td>thuephongtro</td>\n    </tr>\n    <tr>\n      <th>4148</th>\n      <td>1.7000</td>\n      <td>0</td>\n      <td>To12 pho tram phuong LB- HN</td>\n      <td>20</td>\n      <td>0</td>\n      <td>0</td>\n      <td>0</td>\n      <td>0</td>\n      <td>0</td>\n      <td>0</td>\n      <td>thuephongtro</td>\n    </tr>\n  </tbody>\n</table>\n<p>4149 rows × 11 columns</p>\n</div>"
     },
     "metadata": {},
     "execution_count": 16
    }
   ],
   "source": [
    "data"
   ]
  },
  {
   "cell_type": "code",
   "execution_count": 14,
   "metadata": {},
   "outputs": [
    {
     "output_type": "execute_result",
     "data": {
      "text/plain": [
       "0.9715948999390979"
      ]
     },
     "metadata": {},
     "execution_count": 14
    }
   ],
   "source": [
    "from sklearn.linear_model import Lasso\n",
    "from sklearn.model_selection import train_test_split\n",
    "from sklearn.metrics import mean_absolute_error\n",
    "\n",
    "y = data.values[:, 0]\n",
    "x = data.drop('vi tri', axis=1).values[:, 1:]\n",
    "x_train, x_test, y_train, y_test = train_test_split(x, y, test_size=0.2)\n",
    "\n",
    "clf = Lasso(alpha=0.1)\n",
    "clf.fit(x_train, y_train)\n",
    "mean_absolute_error(y_test, clf.predict(x_test))"
   ]
  },
  {
   "cell_type": "code",
   "execution_count": 20,
   "metadata": {},
   "outputs": [],
   "source": [
    "data.to_csv(\"processed-data/phongtro123.csv\")"
   ]
  },
  {
   "cell_type": "code",
   "execution_count": 104,
   "metadata": {},
   "outputs": [
    {
     "output_type": "execute_result",
     "data": {
      "text/plain": [
       "Lasso(alpha=0.1)"
      ]
     },
     "metadata": {},
     "execution_count": 104
    }
   ],
   "source": []
  },
  {
   "cell_type": "code",
   "execution_count": 105,
   "metadata": {},
   "outputs": [
    {
     "output_type": "execute_result",
     "data": {
      "text/plain": [
       "1.244151126154425"
      ]
     },
     "metadata": {},
     "execution_count": 105
    }
   ],
   "source": [
    "\n",
    "\n"
   ]
  },
  {
   "cell_type": "code",
   "execution_count": null,
   "metadata": {},
   "outputs": [],
   "source": []
  }
 ]
}