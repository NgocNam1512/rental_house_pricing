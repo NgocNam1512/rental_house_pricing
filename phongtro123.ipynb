{
 "metadata": {
  "language_info": {
   "codemirror_mode": {
    "name": "ipython",
    "version": 3
   },
   "file_extension": ".py",
   "mimetype": "text/x-python",
   "name": "python",
   "nbconvert_exporter": "python",
   "pygments_lexer": "ipython3",
   "version": "3.8.3-final"
  },
  "orig_nbformat": 2,
  "kernelspec": {
   "name": "python3",
   "display_name": "Python 3"
  }
 },
 "nbformat": 4,
 "nbformat_minor": 2,
 "cells": [
  {
   "cell_type": "code",
   "execution_count": 81,
   "metadata": {},
   "outputs": [],
   "source": [
    "import pandas as pd\n",
    "import json_lines\n",
    "import re\n",
    "import numpy as np\n",
    "\n",
    "def read_data_from_jl(file_path):\n",
    "    with open(file_path, 'rb') as f:\n",
    "        data = json_lines.reader(f)\n",
    "\n",
    "        df = pd.DataFrame(data)\n",
    "        \n",
    "        return df\n",
    "    return None"
   ]
  },
  {
   "cell_type": "code",
   "execution_count": 82,
   "metadata": {},
   "outputs": [
    {
     "output_type": "execute_result",
     "data": {
      "text/plain": [
       "                                         description  \\\n",
       "0  Cho thuê CCMN kín full đồ (có thể chuyể...   \n",
       "1  Cho thuê phòng DT 20m2 sạch sẽ, tùy từng phòng...   \n",
       "2  Cho thuê phòng full đồ Địa chỉ: số nhà 26 ngõ ...   \n",
       "3  Cho thuê nhà 15 ngõ 65 khương đình, nhà 02 tần...   \n",
       "4  Mình có 1 phòng cho thuê khép kín ở khu vực Ng...   \n",
       "5  - Diện tích các căn hộ từ 30m2 - 45m2. Giá cho...   \n",
       "6  Cho thuê phòng trọ khép kín tại Mễ Trì Thượng,...   \n",
       "7  Cho học sinh, sinh viên, người đi làm thuê phò...   \n",
       "8  CHO THUÊ HOMESTAY ĐỦ TIỆN ÍCH GIÁ SINH VIÊN Đị...   \n",
       "9  Phòng BAN CÔNG rộng Full ĐỒ CẠNH HỒ VĂN QUÁN -...   \n",
       "\n",
       "                                            location                kind  \\\n",
       "0  612 Đường Lạc Long Quân, Phường Nhật Tân, Quận...  Phòng trọ, nhà trọ   \n",
       "1  460 đường Thụy Khuê, Phường Bưởi, Quận Tây Hồ,...  Phòng trọ, nhà trọ   \n",
       "2  124 Đường Âu Cơ, Phường Tứ Liên, Quận Tây Hồ, ...  Phòng trọ, nhà trọ   \n",
       "3  15 ngõ 65 Đường Khương Đình, Phường Thượng Đìn...  Phòng trọ, nhà trọ   \n",
       "4  Đường Khương Trung, Phường Khương Trung, Quận ...  Phòng trọ, nhà trọ   \n",
       "5  Phố Hào Nam, Phường Ô Chợ Dừa, Quận Đống Đa,...  Phòng trọ, nhà trọ   \n",
       "6  Số 10, ngõ 116 phố Miếu Đầm, Đường Đỗ Đức Dục,...  Phòng trọ, nhà trọ   \n",
       "7  Nhà số 06, Ngõ 197, Phố Yên Hòa, Q. Đường Yên ...  Phòng trọ, nhà trọ   \n",
       "8  7 ngõ 68 ngách 53/16 Đường Cầu Giấy, Phường Qu...  Phòng trọ, nhà trọ   \n",
       "9  A34 Đường số 19/5, Phường Văn Quán, Quận Hà Đô...  Phòng trọ, nhà trọ   \n",
       "\n",
       "    area             price  \n",
       "0   35m²   4.5 triệu/tháng  \n",
       "1   22m²   1.8 triệu/tháng  \n",
       "2   18m²   2.5 triệu/tháng  \n",
       "3   25m²     2 triệu/tháng  \n",
       "4   15m²   2.2 triệu/tháng  \n",
       "5   30m²     1 triệu/tháng  \n",
       "6   20m²   1.5 triệu/tháng  \n",
       "7    9m²     2 triệu/tháng  \n",
       "8  240m²  1.35 triệu/tháng  \n",
       "9   22m²   2.8 triệu/tháng  "
      ],
      "text/html": "<div>\n<style scoped>\n    .dataframe tbody tr th:only-of-type {\n        vertical-align: middle;\n    }\n\n    .dataframe tbody tr th {\n        vertical-align: top;\n    }\n\n    .dataframe thead th {\n        text-align: right;\n    }\n</style>\n<table border=\"1\" class=\"dataframe\">\n  <thead>\n    <tr style=\"text-align: right;\">\n      <th></th>\n      <th>description</th>\n      <th>location</th>\n      <th>kind</th>\n      <th>area</th>\n      <th>price</th>\n    </tr>\n  </thead>\n  <tbody>\n    <tr>\n      <th>0</th>\n      <td>Cho thuê CCMN kín full đồ (có thể chuyể...</td>\n      <td>612 Đường Lạc Long Quân, Phường Nhật Tân, Quận...</td>\n      <td>Phòng trọ, nhà trọ</td>\n      <td>35m²</td>\n      <td>4.5 triệu/tháng</td>\n    </tr>\n    <tr>\n      <th>1</th>\n      <td>Cho thuê phòng DT 20m2 sạch sẽ, tùy từng phòng...</td>\n      <td>460 đường Thụy Khuê, Phường Bưởi, Quận Tây Hồ,...</td>\n      <td>Phòng trọ, nhà trọ</td>\n      <td>22m²</td>\n      <td>1.8 triệu/tháng</td>\n    </tr>\n    <tr>\n      <th>2</th>\n      <td>Cho thuê phòng full đồ Địa chỉ: số nhà 26 ngõ ...</td>\n      <td>124 Đường Âu Cơ, Phường Tứ Liên, Quận Tây Hồ, ...</td>\n      <td>Phòng trọ, nhà trọ</td>\n      <td>18m²</td>\n      <td>2.5 triệu/tháng</td>\n    </tr>\n    <tr>\n      <th>3</th>\n      <td>Cho thuê nhà 15 ngõ 65 khương đình, nhà 02 tần...</td>\n      <td>15 ngõ 65 Đường Khương Đình, Phường Thượng Đìn...</td>\n      <td>Phòng trọ, nhà trọ</td>\n      <td>25m²</td>\n      <td>2 triệu/tháng</td>\n    </tr>\n    <tr>\n      <th>4</th>\n      <td>Mình có 1 phòng cho thuê khép kín ở khu vực Ng...</td>\n      <td>Đường Khương Trung, Phường Khương Trung, Quận ...</td>\n      <td>Phòng trọ, nhà trọ</td>\n      <td>15m²</td>\n      <td>2.2 triệu/tháng</td>\n    </tr>\n    <tr>\n      <th>5</th>\n      <td>- Diện tích các căn hộ từ 30m2 - 45m2. Giá cho...</td>\n      <td>Phố Hào Nam, Phường Ô Chợ Dừa, Quận Đống Đa,...</td>\n      <td>Phòng trọ, nhà trọ</td>\n      <td>30m²</td>\n      <td>1 triệu/tháng</td>\n    </tr>\n    <tr>\n      <th>6</th>\n      <td>Cho thuê phòng trọ khép kín tại Mễ Trì Thượng,...</td>\n      <td>Số 10, ngõ 116 phố Miếu Đầm, Đường Đỗ Đức Dục,...</td>\n      <td>Phòng trọ, nhà trọ</td>\n      <td>20m²</td>\n      <td>1.5 triệu/tháng</td>\n    </tr>\n    <tr>\n      <th>7</th>\n      <td>Cho học sinh, sinh viên, người đi làm thuê phò...</td>\n      <td>Nhà số 06, Ngõ 197, Phố Yên Hòa, Q. Đường Yên ...</td>\n      <td>Phòng trọ, nhà trọ</td>\n      <td>9m²</td>\n      <td>2 triệu/tháng</td>\n    </tr>\n    <tr>\n      <th>8</th>\n      <td>CHO THUÊ HOMESTAY ĐỦ TIỆN ÍCH GIÁ SINH VIÊN Đị...</td>\n      <td>7 ngõ 68 ngách 53/16 Đường Cầu Giấy, Phường Qu...</td>\n      <td>Phòng trọ, nhà trọ</td>\n      <td>240m²</td>\n      <td>1.35 triệu/tháng</td>\n    </tr>\n    <tr>\n      <th>9</th>\n      <td>Phòng BAN CÔNG rộng Full ĐỒ CẠNH HỒ VĂN QUÁN -...</td>\n      <td>A34 Đường số 19/5, Phường Văn Quán, Quận Hà Đô...</td>\n      <td>Phòng trọ, nhà trọ</td>\n      <td>22m²</td>\n      <td>2.8 triệu/tháng</td>\n    </tr>\n  </tbody>\n</table>\n</div>"
     },
     "metadata": {},
     "execution_count": 82
    }
   ],
   "source": [
    "df = read_data_from_jl('data/phongtro123.jl')\n",
    "df.head(10)"
   ]
  },
  {
   "cell_type": "code",
   "execution_count": 83,
   "metadata": {},
   "outputs": [],
   "source": [
    "des = df['description'].values\n",
    "price = df['price'].values\n",
    "area = df['area'].values\n",
    "kind = df['kind'].values\n",
    "data = pd.DataFrame()"
   ]
  },
  {
   "cell_type": "code",
   "execution_count": 84,
   "metadata": {},
   "outputs": [
    {
     "output_type": "execute_result",
     "data": {
      "text/plain": [
       "    gia\n",
       "0  4.50\n",
       "1  1.80\n",
       "2  2.50\n",
       "3  2.00\n",
       "4  2.20\n",
       "5  1.00\n",
       "6  1.50\n",
       "7  2.00\n",
       "8  1.35\n",
       "9  2.80"
      ],
      "text/html": "<div>\n<style scoped>\n    .dataframe tbody tr th:only-of-type {\n        vertical-align: middle;\n    }\n\n    .dataframe tbody tr th {\n        vertical-align: top;\n    }\n\n    .dataframe thead th {\n        text-align: right;\n    }\n</style>\n<table border=\"1\" class=\"dataframe\">\n  <thead>\n    <tr style=\"text-align: right;\">\n      <th></th>\n      <th>gia</th>\n    </tr>\n  </thead>\n  <tbody>\n    <tr>\n      <th>0</th>\n      <td>4.50</td>\n    </tr>\n    <tr>\n      <th>1</th>\n      <td>1.80</td>\n    </tr>\n    <tr>\n      <th>2</th>\n      <td>2.50</td>\n    </tr>\n    <tr>\n      <th>3</th>\n      <td>2.00</td>\n    </tr>\n    <tr>\n      <th>4</th>\n      <td>2.20</td>\n    </tr>\n    <tr>\n      <th>5</th>\n      <td>1.00</td>\n    </tr>\n    <tr>\n      <th>6</th>\n      <td>1.50</td>\n    </tr>\n    <tr>\n      <th>7</th>\n      <td>2.00</td>\n    </tr>\n    <tr>\n      <th>8</th>\n      <td>1.35</td>\n    </tr>\n    <tr>\n      <th>9</th>\n      <td>2.80</td>\n    </tr>\n  </tbody>\n</table>\n</div>"
     },
     "metadata": {},
     "execution_count": 84
    }
   ],
   "source": [
    "a = []\n",
    "pattern = '^([0-9]+.[0-9]+|[0-9]+)'\n",
    "price = df['price'].values\n",
    "for p in price:\n",
    "    result = re.findall(pattern, p)\n",
    "    if result:\n",
    "        if float(result[0]) > 100:\n",
    "            a.append(float(result[0])/1000000)\n",
    "        else:\n",
    "            a.append(float(result[0]))\n",
    "    else:\n",
    "        a.append(0)\n",
    "\n",
    "data['gia'] = pd.Series(np.array(a), index=df.index)\n",
    "data.head(10)"
   ]
  },
  {
   "cell_type": "code",
   "execution_count": 85,
   "metadata": {},
   "outputs": [
    {
     "output_type": "execute_result",
     "data": {
      "text/plain": [
       "    gia  loai phong\n",
       "0  4.50           2\n",
       "1  1.80           0\n",
       "2  2.50           0\n",
       "3  2.00           0\n",
       "4  2.20           0\n",
       "5  1.00           0\n",
       "6  1.50           0\n",
       "7  2.00           0\n",
       "8  1.35           0\n",
       "9  2.80           0"
      ],
      "text/html": "<div>\n<style scoped>\n    .dataframe tbody tr th:only-of-type {\n        vertical-align: middle;\n    }\n\n    .dataframe tbody tr th {\n        vertical-align: top;\n    }\n\n    .dataframe thead th {\n        text-align: right;\n    }\n</style>\n<table border=\"1\" class=\"dataframe\">\n  <thead>\n    <tr style=\"text-align: right;\">\n      <th></th>\n      <th>gia</th>\n      <th>loai phong</th>\n    </tr>\n  </thead>\n  <tbody>\n    <tr>\n      <th>0</th>\n      <td>4.50</td>\n      <td>2</td>\n    </tr>\n    <tr>\n      <th>1</th>\n      <td>1.80</td>\n      <td>0</td>\n    </tr>\n    <tr>\n      <th>2</th>\n      <td>2.50</td>\n      <td>0</td>\n    </tr>\n    <tr>\n      <th>3</th>\n      <td>2.00</td>\n      <td>0</td>\n    </tr>\n    <tr>\n      <th>4</th>\n      <td>2.20</td>\n      <td>0</td>\n    </tr>\n    <tr>\n      <th>5</th>\n      <td>1.00</td>\n      <td>0</td>\n    </tr>\n    <tr>\n      <th>6</th>\n      <td>1.50</td>\n      <td>0</td>\n    </tr>\n    <tr>\n      <th>7</th>\n      <td>2.00</td>\n      <td>0</td>\n    </tr>\n    <tr>\n      <th>8</th>\n      <td>1.35</td>\n      <td>0</td>\n    </tr>\n    <tr>\n      <th>9</th>\n      <td>2.80</td>\n      <td>0</td>\n    </tr>\n  </tbody>\n</table>\n</div>"
     },
     "metadata": {},
     "execution_count": 85
    }
   ],
   "source": [
    "a = []\n",
    "pattern1 = '(CCMN|[Cc]hung cư)'\n",
    "pattern2 = '[Hh]omestay'\n",
    "for d in des:\n",
    "    ccmn = re.findall(pattern1, d)\n",
    "    hs = re.findall(pattern2, d)\n",
    "    if ccmn:\n",
    "        a.append(2)\n",
    "    elif hs:\n",
    "        a.append(1)\n",
    "    else:\n",
    "        a.append(0)\n",
    "\n",
    "data['loai phong'] = pd.Series(np.array(a), index=df.index)\n",
    "data.head(10)"
   ]
  },
  {
   "cell_type": "code",
   "execution_count": 86,
   "metadata": {},
   "outputs": [
    {
     "output_type": "execute_result",
     "data": {
      "text/plain": [
       "    gia  loai phong                                             vi tri\n",
       "0  4.50           2  612 Đường Lạc Long Quân, Phường Nhật Tân, Quận...\n",
       "1  1.80           0  460 đường Thụy Khuê, Phường Bưởi, Quận Tây Hồ,...\n",
       "2  2.50           0  124 Đường Âu Cơ, Phường Tứ Liên, Quận Tây Hồ, ...\n",
       "3  2.00           0  15 ngõ 65 Đường Khương Đình, Phường Thượng Đìn...\n",
       "4  2.20           0  Đường Khương Trung, Phường Khương Trung, Quận ...\n",
       "5  1.00           0  Phố Hào Nam, Phường Ô Chợ Dừa, Quận Đống Đa,...\n",
       "6  1.50           0  Số 10, ngõ 116 phố Miếu Đầm, Đường Đỗ Đức Dục,...\n",
       "7  2.00           0  Nhà số 06, Ngõ 197, Phố Yên Hòa, Q. Đường Yên ...\n",
       "8  1.35           0  7 ngõ 68 ngách 53/16 Đường Cầu Giấy, Phường Qu...\n",
       "9  2.80           0  A34 Đường số 19/5, Phường Văn Quán, Quận Hà Đô..."
      ],
      "text/html": "<div>\n<style scoped>\n    .dataframe tbody tr th:only-of-type {\n        vertical-align: middle;\n    }\n\n    .dataframe tbody tr th {\n        vertical-align: top;\n    }\n\n    .dataframe thead th {\n        text-align: right;\n    }\n</style>\n<table border=\"1\" class=\"dataframe\">\n  <thead>\n    <tr style=\"text-align: right;\">\n      <th></th>\n      <th>gia</th>\n      <th>loai phong</th>\n      <th>vi tri</th>\n    </tr>\n  </thead>\n  <tbody>\n    <tr>\n      <th>0</th>\n      <td>4.50</td>\n      <td>2</td>\n      <td>612 Đường Lạc Long Quân, Phường Nhật Tân, Quận...</td>\n    </tr>\n    <tr>\n      <th>1</th>\n      <td>1.80</td>\n      <td>0</td>\n      <td>460 đường Thụy Khuê, Phường Bưởi, Quận Tây Hồ,...</td>\n    </tr>\n    <tr>\n      <th>2</th>\n      <td>2.50</td>\n      <td>0</td>\n      <td>124 Đường Âu Cơ, Phường Tứ Liên, Quận Tây Hồ, ...</td>\n    </tr>\n    <tr>\n      <th>3</th>\n      <td>2.00</td>\n      <td>0</td>\n      <td>15 ngõ 65 Đường Khương Đình, Phường Thượng Đìn...</td>\n    </tr>\n    <tr>\n      <th>4</th>\n      <td>2.20</td>\n      <td>0</td>\n      <td>Đường Khương Trung, Phường Khương Trung, Quận ...</td>\n    </tr>\n    <tr>\n      <th>5</th>\n      <td>1.00</td>\n      <td>0</td>\n      <td>Phố Hào Nam, Phường Ô Chợ Dừa, Quận Đống Đa,...</td>\n    </tr>\n    <tr>\n      <th>6</th>\n      <td>1.50</td>\n      <td>0</td>\n      <td>Số 10, ngõ 116 phố Miếu Đầm, Đường Đỗ Đức Dục,...</td>\n    </tr>\n    <tr>\n      <th>7</th>\n      <td>2.00</td>\n      <td>0</td>\n      <td>Nhà số 06, Ngõ 197, Phố Yên Hòa, Q. Đường Yên ...</td>\n    </tr>\n    <tr>\n      <th>8</th>\n      <td>1.35</td>\n      <td>0</td>\n      <td>7 ngõ 68 ngách 53/16 Đường Cầu Giấy, Phường Qu...</td>\n    </tr>\n    <tr>\n      <th>9</th>\n      <td>2.80</td>\n      <td>0</td>\n      <td>A34 Đường số 19/5, Phường Văn Quán, Quận Hà Đô...</td>\n    </tr>\n  </tbody>\n</table>\n</div>"
     },
     "metadata": {},
     "execution_count": 86
    }
   ],
   "source": [
    "data['vi tri'] = df['location']\n",
    "data.head(10)"
   ]
  },
  {
   "cell_type": "code",
   "execution_count": 87,
   "metadata": {},
   "outputs": [
    {
     "output_type": "execute_result",
     "data": {
      "text/plain": [
       "    gia  loai phong                                             vi tri  \\\n",
       "0  4.50           2  612 Đường Lạc Long Quân, Phường Nhật Tân, Quận...   \n",
       "1  1.80           0  460 đường Thụy Khuê, Phường Bưởi, Quận Tây Hồ,...   \n",
       "2  2.50           0  124 Đường Âu Cơ, Phường Tứ Liên, Quận Tây Hồ, ...   \n",
       "3  2.00           0  15 ngõ 65 Đường Khương Đình, Phường Thượng Đìn...   \n",
       "4  2.20           0  Đường Khương Trung, Phường Khương Trung, Quận ...   \n",
       "5  1.00           0  Phố Hào Nam, Phường Ô Chợ Dừa, Quận Đống Đa,...   \n",
       "6  1.50           0  Số 10, ngõ 116 phố Miếu Đầm, Đường Đỗ Đức Dục,...   \n",
       "7  2.00           0  Nhà số 06, Ngõ 197, Phố Yên Hòa, Q. Đường Yên ...   \n",
       "8  1.35           0  7 ngõ 68 ngách 53/16 Đường Cầu Giấy, Phường Qu...   \n",
       "9  2.80           0  A34 Đường số 19/5, Phường Văn Quán, Quận Hà Đô...   \n",
       "\n",
       "   dien tich  \n",
       "0         35  \n",
       "1         22  \n",
       "2         18  \n",
       "3         25  \n",
       "4         15  \n",
       "5         30  \n",
       "6         20  \n",
       "7          9  \n",
       "8        240  \n",
       "9         22  "
      ],
      "text/html": "<div>\n<style scoped>\n    .dataframe tbody tr th:only-of-type {\n        vertical-align: middle;\n    }\n\n    .dataframe tbody tr th {\n        vertical-align: top;\n    }\n\n    .dataframe thead th {\n        text-align: right;\n    }\n</style>\n<table border=\"1\" class=\"dataframe\">\n  <thead>\n    <tr style=\"text-align: right;\">\n      <th></th>\n      <th>gia</th>\n      <th>loai phong</th>\n      <th>vi tri</th>\n      <th>dien tich</th>\n    </tr>\n  </thead>\n  <tbody>\n    <tr>\n      <th>0</th>\n      <td>4.50</td>\n      <td>2</td>\n      <td>612 Đường Lạc Long Quân, Phường Nhật Tân, Quận...</td>\n      <td>35</td>\n    </tr>\n    <tr>\n      <th>1</th>\n      <td>1.80</td>\n      <td>0</td>\n      <td>460 đường Thụy Khuê, Phường Bưởi, Quận Tây Hồ,...</td>\n      <td>22</td>\n    </tr>\n    <tr>\n      <th>2</th>\n      <td>2.50</td>\n      <td>0</td>\n      <td>124 Đường Âu Cơ, Phường Tứ Liên, Quận Tây Hồ, ...</td>\n      <td>18</td>\n    </tr>\n    <tr>\n      <th>3</th>\n      <td>2.00</td>\n      <td>0</td>\n      <td>15 ngõ 65 Đường Khương Đình, Phường Thượng Đìn...</td>\n      <td>25</td>\n    </tr>\n    <tr>\n      <th>4</th>\n      <td>2.20</td>\n      <td>0</td>\n      <td>Đường Khương Trung, Phường Khương Trung, Quận ...</td>\n      <td>15</td>\n    </tr>\n    <tr>\n      <th>5</th>\n      <td>1.00</td>\n      <td>0</td>\n      <td>Phố Hào Nam, Phường Ô Chợ Dừa, Quận Đống Đa,...</td>\n      <td>30</td>\n    </tr>\n    <tr>\n      <th>6</th>\n      <td>1.50</td>\n      <td>0</td>\n      <td>Số 10, ngõ 116 phố Miếu Đầm, Đường Đỗ Đức Dục,...</td>\n      <td>20</td>\n    </tr>\n    <tr>\n      <th>7</th>\n      <td>2.00</td>\n      <td>0</td>\n      <td>Nhà số 06, Ngõ 197, Phố Yên Hòa, Q. Đường Yên ...</td>\n      <td>9</td>\n    </tr>\n    <tr>\n      <th>8</th>\n      <td>1.35</td>\n      <td>0</td>\n      <td>7 ngõ 68 ngách 53/16 Đường Cầu Giấy, Phường Qu...</td>\n      <td>240</td>\n    </tr>\n    <tr>\n      <th>9</th>\n      <td>2.80</td>\n      <td>0</td>\n      <td>A34 Đường số 19/5, Phường Văn Quán, Quận Hà Đô...</td>\n      <td>22</td>\n    </tr>\n  </tbody>\n</table>\n</div>"
     },
     "metadata": {},
     "execution_count": 87
    }
   ],
   "source": [
    "b = []\n",
    "pattern = '^[0-9]+'\n",
    "for a in area:\n",
    "    result = re.findall(pattern, a)\n",
    "    if result:\n",
    "        b.append(int(result[0]))\n",
    "    else:\n",
    "        b.append(0)\n",
    "\n",
    "data['dien tich'] = pd.Series(np.array(b), index=df.index)\n",
    "data.head(10)"
   ]
  },
  {
   "cell_type": "code",
   "execution_count": 88,
   "metadata": {},
   "outputs": [
    {
     "output_type": "execute_result",
     "data": {
      "text/plain": [
       "    gia  loai phong                                             vi tri  \\\n",
       "0  4.50           2  612 Đường Lạc Long Quân, Phường Nhật Tân, Quận...   \n",
       "1  1.80           0  460 đường Thụy Khuê, Phường Bưởi, Quận Tây Hồ,...   \n",
       "2  2.50           0  124 Đường Âu Cơ, Phường Tứ Liên, Quận Tây Hồ, ...   \n",
       "3  2.00           0  15 ngõ 65 Đường Khương Đình, Phường Thượng Đìn...   \n",
       "4  2.20           0  Đường Khương Trung, Phường Khương Trung, Quận ...   \n",
       "5  1.00           0  Phố Hào Nam, Phường Ô Chợ Dừa, Quận Đống Đa,...   \n",
       "6  1.50           0  Số 10, ngõ 116 phố Miếu Đầm, Đường Đỗ Đức Dục,...   \n",
       "7  2.00           0  Nhà số 06, Ngõ 197, Phố Yên Hòa, Q. Đường Yên ...   \n",
       "8  1.35           0  7 ngõ 68 ngách 53/16 Đường Cầu Giấy, Phường Qu...   \n",
       "9  2.80           0  A34 Đường số 19/5, Phường Văn Quán, Quận Hà Đô...   \n",
       "\n",
       "   dien tich  cho de xe  \n",
       "0         35          0  \n",
       "1         22          1  \n",
       "2         18          1  \n",
       "3         25          0  \n",
       "4         15          1  \n",
       "5         30          0  \n",
       "6         20          0  \n",
       "7          9          0  \n",
       "8        240          1  \n",
       "9         22          0  "
      ],
      "text/html": "<div>\n<style scoped>\n    .dataframe tbody tr th:only-of-type {\n        vertical-align: middle;\n    }\n\n    .dataframe tbody tr th {\n        vertical-align: top;\n    }\n\n    .dataframe thead th {\n        text-align: right;\n    }\n</style>\n<table border=\"1\" class=\"dataframe\">\n  <thead>\n    <tr style=\"text-align: right;\">\n      <th></th>\n      <th>gia</th>\n      <th>loai phong</th>\n      <th>vi tri</th>\n      <th>dien tich</th>\n      <th>cho de xe</th>\n    </tr>\n  </thead>\n  <tbody>\n    <tr>\n      <th>0</th>\n      <td>4.50</td>\n      <td>2</td>\n      <td>612 Đường Lạc Long Quân, Phường Nhật Tân, Quận...</td>\n      <td>35</td>\n      <td>0</td>\n    </tr>\n    <tr>\n      <th>1</th>\n      <td>1.80</td>\n      <td>0</td>\n      <td>460 đường Thụy Khuê, Phường Bưởi, Quận Tây Hồ,...</td>\n      <td>22</td>\n      <td>1</td>\n    </tr>\n    <tr>\n      <th>2</th>\n      <td>2.50</td>\n      <td>0</td>\n      <td>124 Đường Âu Cơ, Phường Tứ Liên, Quận Tây Hồ, ...</td>\n      <td>18</td>\n      <td>1</td>\n    </tr>\n    <tr>\n      <th>3</th>\n      <td>2.00</td>\n      <td>0</td>\n      <td>15 ngõ 65 Đường Khương Đình, Phường Thượng Đìn...</td>\n      <td>25</td>\n      <td>0</td>\n    </tr>\n    <tr>\n      <th>4</th>\n      <td>2.20</td>\n      <td>0</td>\n      <td>Đường Khương Trung, Phường Khương Trung, Quận ...</td>\n      <td>15</td>\n      <td>1</td>\n    </tr>\n    <tr>\n      <th>5</th>\n      <td>1.00</td>\n      <td>0</td>\n      <td>Phố Hào Nam, Phường Ô Chợ Dừa, Quận Đống Đa,...</td>\n      <td>30</td>\n      <td>0</td>\n    </tr>\n    <tr>\n      <th>6</th>\n      <td>1.50</td>\n      <td>0</td>\n      <td>Số 10, ngõ 116 phố Miếu Đầm, Đường Đỗ Đức Dục,...</td>\n      <td>20</td>\n      <td>0</td>\n    </tr>\n    <tr>\n      <th>7</th>\n      <td>2.00</td>\n      <td>0</td>\n      <td>Nhà số 06, Ngõ 197, Phố Yên Hòa, Q. Đường Yên ...</td>\n      <td>9</td>\n      <td>0</td>\n    </tr>\n    <tr>\n      <th>8</th>\n      <td>1.35</td>\n      <td>0</td>\n      <td>7 ngõ 68 ngách 53/16 Đường Cầu Giấy, Phường Qu...</td>\n      <td>240</td>\n      <td>1</td>\n    </tr>\n    <tr>\n      <th>9</th>\n      <td>2.80</td>\n      <td>0</td>\n      <td>A34 Đường số 19/5, Phường Văn Quán, Quận Hà Đô...</td>\n      <td>22</td>\n      <td>0</td>\n    </tr>\n  </tbody>\n</table>\n</div>"
     },
     "metadata": {},
     "execution_count": 88
    }
   ],
   "source": [
    "# add parking area\n",
    "a = []\n",
    "pattern = '[Đđ]ể xe'\n",
    "for d in des:\n",
    "    result = re.findall(pattern, d)\n",
    "    if result:\n",
    "        a.append(1)\n",
    "    else:\n",
    "        a.append(0)\n",
    "\n",
    "data['cho de xe'] = pd.Series(np.array(a), index=df.index)\n",
    "data.head(10)"
   ]
  },
  {
   "cell_type": "code",
   "execution_count": 89,
   "metadata": {},
   "outputs": [
    {
     "output_type": "execute_result",
     "data": {
      "text/plain": [
       "    gia  loai phong                                             vi tri  \\\n",
       "0  4.50           2  612 Đường Lạc Long Quân, Phường Nhật Tân, Quận...   \n",
       "1  1.80           0  460 đường Thụy Khuê, Phường Bưởi, Quận Tây Hồ,...   \n",
       "2  2.50           0  124 Đường Âu Cơ, Phường Tứ Liên, Quận Tây Hồ, ...   \n",
       "3  2.00           0  15 ngõ 65 Đường Khương Đình, Phường Thượng Đìn...   \n",
       "4  2.20           0  Đường Khương Trung, Phường Khương Trung, Quận ...   \n",
       "5  1.00           0  Phố Hào Nam, Phường Ô Chợ Dừa, Quận Đống Đa,...   \n",
       "6  1.50           0  Số 10, ngõ 116 phố Miếu Đầm, Đường Đỗ Đức Dục,...   \n",
       "7  2.00           0  Nhà số 06, Ngõ 197, Phố Yên Hòa, Q. Đường Yên ...   \n",
       "8  1.35           0  7 ngõ 68 ngách 53/16 Đường Cầu Giấy, Phường Qu...   \n",
       "9  2.80           0  A34 Đường số 19/5, Phường Văn Quán, Quận Hà Đô...   \n",
       "\n",
       "   dien tich  cho de xe  dieu hoa  \n",
       "0         35          0         0  \n",
       "1         22          1         0  \n",
       "2         18          1         0  \n",
       "3         25          0         0  \n",
       "4         15          1         1  \n",
       "5         30          0         0  \n",
       "6         20          0         0  \n",
       "7          9          0         0  \n",
       "8        240          1         0  \n",
       "9         22          0         1  "
      ],
      "text/html": "<div>\n<style scoped>\n    .dataframe tbody tr th:only-of-type {\n        vertical-align: middle;\n    }\n\n    .dataframe tbody tr th {\n        vertical-align: top;\n    }\n\n    .dataframe thead th {\n        text-align: right;\n    }\n</style>\n<table border=\"1\" class=\"dataframe\">\n  <thead>\n    <tr style=\"text-align: right;\">\n      <th></th>\n      <th>gia</th>\n      <th>loai phong</th>\n      <th>vi tri</th>\n      <th>dien tich</th>\n      <th>cho de xe</th>\n      <th>dieu hoa</th>\n    </tr>\n  </thead>\n  <tbody>\n    <tr>\n      <th>0</th>\n      <td>4.50</td>\n      <td>2</td>\n      <td>612 Đường Lạc Long Quân, Phường Nhật Tân, Quận...</td>\n      <td>35</td>\n      <td>0</td>\n      <td>0</td>\n    </tr>\n    <tr>\n      <th>1</th>\n      <td>1.80</td>\n      <td>0</td>\n      <td>460 đường Thụy Khuê, Phường Bưởi, Quận Tây Hồ,...</td>\n      <td>22</td>\n      <td>1</td>\n      <td>0</td>\n    </tr>\n    <tr>\n      <th>2</th>\n      <td>2.50</td>\n      <td>0</td>\n      <td>124 Đường Âu Cơ, Phường Tứ Liên, Quận Tây Hồ, ...</td>\n      <td>18</td>\n      <td>1</td>\n      <td>0</td>\n    </tr>\n    <tr>\n      <th>3</th>\n      <td>2.00</td>\n      <td>0</td>\n      <td>15 ngõ 65 Đường Khương Đình, Phường Thượng Đìn...</td>\n      <td>25</td>\n      <td>0</td>\n      <td>0</td>\n    </tr>\n    <tr>\n      <th>4</th>\n      <td>2.20</td>\n      <td>0</td>\n      <td>Đường Khương Trung, Phường Khương Trung, Quận ...</td>\n      <td>15</td>\n      <td>1</td>\n      <td>1</td>\n    </tr>\n    <tr>\n      <th>5</th>\n      <td>1.00</td>\n      <td>0</td>\n      <td>Phố Hào Nam, Phường Ô Chợ Dừa, Quận Đống Đa,...</td>\n      <td>30</td>\n      <td>0</td>\n      <td>0</td>\n    </tr>\n    <tr>\n      <th>6</th>\n      <td>1.50</td>\n      <td>0</td>\n      <td>Số 10, ngõ 116 phố Miếu Đầm, Đường Đỗ Đức Dục,...</td>\n      <td>20</td>\n      <td>0</td>\n      <td>0</td>\n    </tr>\n    <tr>\n      <th>7</th>\n      <td>2.00</td>\n      <td>0</td>\n      <td>Nhà số 06, Ngõ 197, Phố Yên Hòa, Q. Đường Yên ...</td>\n      <td>9</td>\n      <td>0</td>\n      <td>0</td>\n    </tr>\n    <tr>\n      <th>8</th>\n      <td>1.35</td>\n      <td>0</td>\n      <td>7 ngõ 68 ngách 53/16 Đường Cầu Giấy, Phường Qu...</td>\n      <td>240</td>\n      <td>1</td>\n      <td>0</td>\n    </tr>\n    <tr>\n      <th>9</th>\n      <td>2.80</td>\n      <td>0</td>\n      <td>A34 Đường số 19/5, Phường Văn Quán, Quận Hà Đô...</td>\n      <td>22</td>\n      <td>0</td>\n      <td>1</td>\n    </tr>\n  </tbody>\n</table>\n</div>"
     },
     "metadata": {},
     "execution_count": 89
    }
   ],
   "source": [
    "a = []\n",
    "pattern = '[Đđ]iều hòa'\n",
    "for d in des:\n",
    "    result = re.findall(pattern, d)\n",
    "    if result:\n",
    "        a.append(1)\n",
    "    else:\n",
    "        a.append(0)\n",
    "\n",
    "data['dieu hoa'] = pd.Series(np.array(a), index=df.index)\n",
    "data.head(10)"
   ]
  },
  {
   "cell_type": "code",
   "execution_count": 90,
   "metadata": {},
   "outputs": [
    {
     "output_type": "execute_result",
     "data": {
      "text/plain": [
       "    gia  loai phong                                             vi tri  \\\n",
       "0  4.50           2  612 Đường Lạc Long Quân, Phường Nhật Tân, Quận...   \n",
       "1  1.80           0  460 đường Thụy Khuê, Phường Bưởi, Quận Tây Hồ,...   \n",
       "2  2.50           0  124 Đường Âu Cơ, Phường Tứ Liên, Quận Tây Hồ, ...   \n",
       "3  2.00           0  15 ngõ 65 Đường Khương Đình, Phường Thượng Đìn...   \n",
       "4  2.20           0  Đường Khương Trung, Phường Khương Trung, Quận ...   \n",
       "5  1.00           0  Phố Hào Nam, Phường Ô Chợ Dừa, Quận Đống Đa,...   \n",
       "6  1.50           0  Số 10, ngõ 116 phố Miếu Đầm, Đường Đỗ Đức Dục,...   \n",
       "7  2.00           0  Nhà số 06, Ngõ 197, Phố Yên Hòa, Q. Đường Yên ...   \n",
       "8  1.35           0  7 ngõ 68 ngách 53/16 Đường Cầu Giấy, Phường Qu...   \n",
       "9  2.80           0  A34 Đường số 19/5, Phường Văn Quán, Quận Hà Đô...   \n",
       "\n",
       "   dien tich  cho de xe  dieu hoa  nong lanh  \n",
       "0         35          0         0          1  \n",
       "1         22          1         0          1  \n",
       "2         18          1         0          1  \n",
       "3         25          0         0          0  \n",
       "4         15          1         1          1  \n",
       "5         30          0         0          1  \n",
       "6         20          0         0          0  \n",
       "7          9          0         0          0  \n",
       "8        240          1         0          0  \n",
       "9         22          0         1          1  "
      ],
      "text/html": "<div>\n<style scoped>\n    .dataframe tbody tr th:only-of-type {\n        vertical-align: middle;\n    }\n\n    .dataframe tbody tr th {\n        vertical-align: top;\n    }\n\n    .dataframe thead th {\n        text-align: right;\n    }\n</style>\n<table border=\"1\" class=\"dataframe\">\n  <thead>\n    <tr style=\"text-align: right;\">\n      <th></th>\n      <th>gia</th>\n      <th>loai phong</th>\n      <th>vi tri</th>\n      <th>dien tich</th>\n      <th>cho de xe</th>\n      <th>dieu hoa</th>\n      <th>nong lanh</th>\n    </tr>\n  </thead>\n  <tbody>\n    <tr>\n      <th>0</th>\n      <td>4.50</td>\n      <td>2</td>\n      <td>612 Đường Lạc Long Quân, Phường Nhật Tân, Quận...</td>\n      <td>35</td>\n      <td>0</td>\n      <td>0</td>\n      <td>1</td>\n    </tr>\n    <tr>\n      <th>1</th>\n      <td>1.80</td>\n      <td>0</td>\n      <td>460 đường Thụy Khuê, Phường Bưởi, Quận Tây Hồ,...</td>\n      <td>22</td>\n      <td>1</td>\n      <td>0</td>\n      <td>1</td>\n    </tr>\n    <tr>\n      <th>2</th>\n      <td>2.50</td>\n      <td>0</td>\n      <td>124 Đường Âu Cơ, Phường Tứ Liên, Quận Tây Hồ, ...</td>\n      <td>18</td>\n      <td>1</td>\n      <td>0</td>\n      <td>1</td>\n    </tr>\n    <tr>\n      <th>3</th>\n      <td>2.00</td>\n      <td>0</td>\n      <td>15 ngõ 65 Đường Khương Đình, Phường Thượng Đìn...</td>\n      <td>25</td>\n      <td>0</td>\n      <td>0</td>\n      <td>0</td>\n    </tr>\n    <tr>\n      <th>4</th>\n      <td>2.20</td>\n      <td>0</td>\n      <td>Đường Khương Trung, Phường Khương Trung, Quận ...</td>\n      <td>15</td>\n      <td>1</td>\n      <td>1</td>\n      <td>1</td>\n    </tr>\n    <tr>\n      <th>5</th>\n      <td>1.00</td>\n      <td>0</td>\n      <td>Phố Hào Nam, Phường Ô Chợ Dừa, Quận Đống Đa,...</td>\n      <td>30</td>\n      <td>0</td>\n      <td>0</td>\n      <td>1</td>\n    </tr>\n    <tr>\n      <th>6</th>\n      <td>1.50</td>\n      <td>0</td>\n      <td>Số 10, ngõ 116 phố Miếu Đầm, Đường Đỗ Đức Dục,...</td>\n      <td>20</td>\n      <td>0</td>\n      <td>0</td>\n      <td>0</td>\n    </tr>\n    <tr>\n      <th>7</th>\n      <td>2.00</td>\n      <td>0</td>\n      <td>Nhà số 06, Ngõ 197, Phố Yên Hòa, Q. Đường Yên ...</td>\n      <td>9</td>\n      <td>0</td>\n      <td>0</td>\n      <td>0</td>\n    </tr>\n    <tr>\n      <th>8</th>\n      <td>1.35</td>\n      <td>0</td>\n      <td>7 ngõ 68 ngách 53/16 Đường Cầu Giấy, Phường Qu...</td>\n      <td>240</td>\n      <td>1</td>\n      <td>0</td>\n      <td>0</td>\n    </tr>\n    <tr>\n      <th>9</th>\n      <td>2.80</td>\n      <td>0</td>\n      <td>A34 Đường số 19/5, Phường Văn Quán, Quận Hà Đô...</td>\n      <td>22</td>\n      <td>0</td>\n      <td>1</td>\n      <td>1</td>\n    </tr>\n  </tbody>\n</table>\n</div>"
     },
     "metadata": {},
     "execution_count": 90
    }
   ],
   "source": [
    "a = []\n",
    "pattern = '[Nn]óng lạnh'\n",
    "for d in des:\n",
    "    result = re.findall(pattern, d)\n",
    "    if result:\n",
    "        a.append(1)\n",
    "    else:\n",
    "        a.append(0)\n",
    "\n",
    "data['nong lanh'] = pd.Series(np.array(a), index=df.index)\n",
    "data.head(10)"
   ]
  },
  {
   "cell_type": "code",
   "execution_count": 91,
   "metadata": {},
   "outputs": [
    {
     "output_type": "execute_result",
     "data": {
      "text/plain": [
       "    gia  loai phong                                             vi tri  \\\n",
       "0  4.50           2  612 Đường Lạc Long Quân, Phường Nhật Tân, Quận...   \n",
       "1  1.80           0  460 đường Thụy Khuê, Phường Bưởi, Quận Tây Hồ,...   \n",
       "2  2.50           0  124 Đường Âu Cơ, Phường Tứ Liên, Quận Tây Hồ, ...   \n",
       "3  2.00           0  15 ngõ 65 Đường Khương Đình, Phường Thượng Đìn...   \n",
       "4  2.20           0  Đường Khương Trung, Phường Khương Trung, Quận ...   \n",
       "5  1.00           0  Phố Hào Nam, Phường Ô Chợ Dừa, Quận Đống Đa,...   \n",
       "6  1.50           0  Số 10, ngõ 116 phố Miếu Đầm, Đường Đỗ Đức Dục,...   \n",
       "7  2.00           0  Nhà số 06, Ngõ 197, Phố Yên Hòa, Q. Đường Yên ...   \n",
       "8  1.35           0  7 ngõ 68 ngách 53/16 Đường Cầu Giấy, Phường Qu...   \n",
       "9  2.80           0  A34 Đường số 19/5, Phường Văn Quán, Quận Hà Đô...   \n",
       "\n",
       "   dien tich  cho de xe  dieu hoa  nong lanh  noi that  \n",
       "0         35          0         0          1         1  \n",
       "1         22          1         0          1         0  \n",
       "2         18          1         0          1         1  \n",
       "3         25          0         0          0         0  \n",
       "4         15          1         1          1         0  \n",
       "5         30          0         0          1         1  \n",
       "6         20          0         0          0         0  \n",
       "7          9          0         0          0         0  \n",
       "8        240          1         0          0         1  \n",
       "9         22          0         1          1         1  "
      ],
      "text/html": "<div>\n<style scoped>\n    .dataframe tbody tr th:only-of-type {\n        vertical-align: middle;\n    }\n\n    .dataframe tbody tr th {\n        vertical-align: top;\n    }\n\n    .dataframe thead th {\n        text-align: right;\n    }\n</style>\n<table border=\"1\" class=\"dataframe\">\n  <thead>\n    <tr style=\"text-align: right;\">\n      <th></th>\n      <th>gia</th>\n      <th>loai phong</th>\n      <th>vi tri</th>\n      <th>dien tich</th>\n      <th>cho de xe</th>\n      <th>dieu hoa</th>\n      <th>nong lanh</th>\n      <th>noi that</th>\n    </tr>\n  </thead>\n  <tbody>\n    <tr>\n      <th>0</th>\n      <td>4.50</td>\n      <td>2</td>\n      <td>612 Đường Lạc Long Quân, Phường Nhật Tân, Quận...</td>\n      <td>35</td>\n      <td>0</td>\n      <td>0</td>\n      <td>1</td>\n      <td>1</td>\n    </tr>\n    <tr>\n      <th>1</th>\n      <td>1.80</td>\n      <td>0</td>\n      <td>460 đường Thụy Khuê, Phường Bưởi, Quận Tây Hồ,...</td>\n      <td>22</td>\n      <td>1</td>\n      <td>0</td>\n      <td>1</td>\n      <td>0</td>\n    </tr>\n    <tr>\n      <th>2</th>\n      <td>2.50</td>\n      <td>0</td>\n      <td>124 Đường Âu Cơ, Phường Tứ Liên, Quận Tây Hồ, ...</td>\n      <td>18</td>\n      <td>1</td>\n      <td>0</td>\n      <td>1</td>\n      <td>1</td>\n    </tr>\n    <tr>\n      <th>3</th>\n      <td>2.00</td>\n      <td>0</td>\n      <td>15 ngõ 65 Đường Khương Đình, Phường Thượng Đìn...</td>\n      <td>25</td>\n      <td>0</td>\n      <td>0</td>\n      <td>0</td>\n      <td>0</td>\n    </tr>\n    <tr>\n      <th>4</th>\n      <td>2.20</td>\n      <td>0</td>\n      <td>Đường Khương Trung, Phường Khương Trung, Quận ...</td>\n      <td>15</td>\n      <td>1</td>\n      <td>1</td>\n      <td>1</td>\n      <td>0</td>\n    </tr>\n    <tr>\n      <th>5</th>\n      <td>1.00</td>\n      <td>0</td>\n      <td>Phố Hào Nam, Phường Ô Chợ Dừa, Quận Đống Đa,...</td>\n      <td>30</td>\n      <td>0</td>\n      <td>0</td>\n      <td>1</td>\n      <td>1</td>\n    </tr>\n    <tr>\n      <th>6</th>\n      <td>1.50</td>\n      <td>0</td>\n      <td>Số 10, ngõ 116 phố Miếu Đầm, Đường Đỗ Đức Dục,...</td>\n      <td>20</td>\n      <td>0</td>\n      <td>0</td>\n      <td>0</td>\n      <td>0</td>\n    </tr>\n    <tr>\n      <th>7</th>\n      <td>2.00</td>\n      <td>0</td>\n      <td>Nhà số 06, Ngõ 197, Phố Yên Hòa, Q. Đường Yên ...</td>\n      <td>9</td>\n      <td>0</td>\n      <td>0</td>\n      <td>0</td>\n      <td>0</td>\n    </tr>\n    <tr>\n      <th>8</th>\n      <td>1.35</td>\n      <td>0</td>\n      <td>7 ngõ 68 ngách 53/16 Đường Cầu Giấy, Phường Qu...</td>\n      <td>240</td>\n      <td>1</td>\n      <td>0</td>\n      <td>0</td>\n      <td>1</td>\n    </tr>\n    <tr>\n      <th>9</th>\n      <td>2.80</td>\n      <td>0</td>\n      <td>A34 Đường số 19/5, Phường Văn Quán, Quận Hà Đô...</td>\n      <td>22</td>\n      <td>0</td>\n      <td>1</td>\n      <td>1</td>\n      <td>1</td>\n    </tr>\n  </tbody>\n</table>\n</div>"
     },
     "metadata": {},
     "execution_count": 91
    }
   ],
   "source": [
    "a = []\n",
    "pattern = '([Tt]ủ|[Ff]ull đồ|tivi|nội thất đầy đủ)'\n",
    "for d in des:\n",
    "    result = re.findall(pattern, d)\n",
    "    if result:\n",
    "        a.append(1)\n",
    "    else:\n",
    "        a.append(0)\n",
    "\n",
    "data['noi that'] = pd.Series(np.array(a), index=df.index)\n",
    "data.head(10)"
   ]
  },
  {
   "cell_type": "code",
   "execution_count": 92,
   "metadata": {},
   "outputs": [
    {
     "output_type": "execute_result",
     "data": {
      "text/plain": [
       "    gia  loai phong                                             vi tri  \\\n",
       "0  4.50           2  612 Đường Lạc Long Quân, Phường Nhật Tân, Quận...   \n",
       "1  1.80           0  460 đường Thụy Khuê, Phường Bưởi, Quận Tây Hồ,...   \n",
       "2  2.50           0  124 Đường Âu Cơ, Phường Tứ Liên, Quận Tây Hồ, ...   \n",
       "3  2.00           0  15 ngõ 65 Đường Khương Đình, Phường Thượng Đìn...   \n",
       "4  2.20           0  Đường Khương Trung, Phường Khương Trung, Quận ...   \n",
       "5  1.00           0  Phố Hào Nam, Phường Ô Chợ Dừa, Quận Đống Đa,...   \n",
       "6  1.50           0  Số 10, ngõ 116 phố Miếu Đầm, Đường Đỗ Đức Dục,...   \n",
       "7  2.00           0  Nhà số 06, Ngõ 197, Phố Yên Hòa, Q. Đường Yên ...   \n",
       "8  1.35           0  7 ngõ 68 ngách 53/16 Đường Cầu Giấy, Phường Qu...   \n",
       "9  2.80           0  A34 Đường số 19/5, Phường Văn Quán, Quận Hà Đô...   \n",
       "\n",
       "   dien tich  cho de xe  dieu hoa  nong lanh  noi that  khep kin  \n",
       "0         35          0         0          1         1         0  \n",
       "1         22          1         0          1         0         0  \n",
       "2         18          1         0          1         1         0  \n",
       "3         25          0         0          0         0         0  \n",
       "4         15          1         1          1         0         1  \n",
       "5         30          0         0          1         1         1  \n",
       "6         20          0         0          0         0         1  \n",
       "7          9          0         0          0         0         0  \n",
       "8        240          1         0          0         1         0  \n",
       "9         22          0         1          1         1         0  "
      ],
      "text/html": "<div>\n<style scoped>\n    .dataframe tbody tr th:only-of-type {\n        vertical-align: middle;\n    }\n\n    .dataframe tbody tr th {\n        vertical-align: top;\n    }\n\n    .dataframe thead th {\n        text-align: right;\n    }\n</style>\n<table border=\"1\" class=\"dataframe\">\n  <thead>\n    <tr style=\"text-align: right;\">\n      <th></th>\n      <th>gia</th>\n      <th>loai phong</th>\n      <th>vi tri</th>\n      <th>dien tich</th>\n      <th>cho de xe</th>\n      <th>dieu hoa</th>\n      <th>nong lanh</th>\n      <th>noi that</th>\n      <th>khep kin</th>\n    </tr>\n  </thead>\n  <tbody>\n    <tr>\n      <th>0</th>\n      <td>4.50</td>\n      <td>2</td>\n      <td>612 Đường Lạc Long Quân, Phường Nhật Tân, Quận...</td>\n      <td>35</td>\n      <td>0</td>\n      <td>0</td>\n      <td>1</td>\n      <td>1</td>\n      <td>0</td>\n    </tr>\n    <tr>\n      <th>1</th>\n      <td>1.80</td>\n      <td>0</td>\n      <td>460 đường Thụy Khuê, Phường Bưởi, Quận Tây Hồ,...</td>\n      <td>22</td>\n      <td>1</td>\n      <td>0</td>\n      <td>1</td>\n      <td>0</td>\n      <td>0</td>\n    </tr>\n    <tr>\n      <th>2</th>\n      <td>2.50</td>\n      <td>0</td>\n      <td>124 Đường Âu Cơ, Phường Tứ Liên, Quận Tây Hồ, ...</td>\n      <td>18</td>\n      <td>1</td>\n      <td>0</td>\n      <td>1</td>\n      <td>1</td>\n      <td>0</td>\n    </tr>\n    <tr>\n      <th>3</th>\n      <td>2.00</td>\n      <td>0</td>\n      <td>15 ngõ 65 Đường Khương Đình, Phường Thượng Đìn...</td>\n      <td>25</td>\n      <td>0</td>\n      <td>0</td>\n      <td>0</td>\n      <td>0</td>\n      <td>0</td>\n    </tr>\n    <tr>\n      <th>4</th>\n      <td>2.20</td>\n      <td>0</td>\n      <td>Đường Khương Trung, Phường Khương Trung, Quận ...</td>\n      <td>15</td>\n      <td>1</td>\n      <td>1</td>\n      <td>1</td>\n      <td>0</td>\n      <td>1</td>\n    </tr>\n    <tr>\n      <th>5</th>\n      <td>1.00</td>\n      <td>0</td>\n      <td>Phố Hào Nam, Phường Ô Chợ Dừa, Quận Đống Đa,...</td>\n      <td>30</td>\n      <td>0</td>\n      <td>0</td>\n      <td>1</td>\n      <td>1</td>\n      <td>1</td>\n    </tr>\n    <tr>\n      <th>6</th>\n      <td>1.50</td>\n      <td>0</td>\n      <td>Số 10, ngõ 116 phố Miếu Đầm, Đường Đỗ Đức Dục,...</td>\n      <td>20</td>\n      <td>0</td>\n      <td>0</td>\n      <td>0</td>\n      <td>0</td>\n      <td>1</td>\n    </tr>\n    <tr>\n      <th>7</th>\n      <td>2.00</td>\n      <td>0</td>\n      <td>Nhà số 06, Ngõ 197, Phố Yên Hòa, Q. Đường Yên ...</td>\n      <td>9</td>\n      <td>0</td>\n      <td>0</td>\n      <td>0</td>\n      <td>0</td>\n      <td>0</td>\n    </tr>\n    <tr>\n      <th>8</th>\n      <td>1.35</td>\n      <td>0</td>\n      <td>7 ngõ 68 ngách 53/16 Đường Cầu Giấy, Phường Qu...</td>\n      <td>240</td>\n      <td>1</td>\n      <td>0</td>\n      <td>0</td>\n      <td>1</td>\n      <td>0</td>\n    </tr>\n    <tr>\n      <th>9</th>\n      <td>2.80</td>\n      <td>0</td>\n      <td>A34 Đường số 19/5, Phường Văn Quán, Quận Hà Đô...</td>\n      <td>22</td>\n      <td>0</td>\n      <td>1</td>\n      <td>1</td>\n      <td>1</td>\n      <td>0</td>\n    </tr>\n  </tbody>\n</table>\n</div>"
     },
     "metadata": {},
     "execution_count": 92
    }
   ],
   "source": [
    "a = []\n",
    "pattern = 'khép kín'\n",
    "for d in des:\n",
    "    result = re.findall(pattern, d)\n",
    "    if result:\n",
    "        a.append(1)\n",
    "    else:\n",
    "        a.append(0)\n",
    "\n",
    "data['khep kin'] = pd.Series(np.array(a), index=df.index)\n",
    "data.head(10)"
   ]
  },
  {
   "cell_type": "code",
   "execution_count": 102,
   "metadata": {},
   "outputs": [],
   "source": [
    "from sklearn.linear_model import Lasso\n",
    "from sklearn.model_selection import train_test_split\n",
    "\n",
    "y = data.values[:, 0]\n",
    "x = data.drop('vi tri', axis=1).values[:, 1:]"
   ]
  },
  {
   "cell_type": "code",
   "execution_count": 103,
   "metadata": {},
   "outputs": [],
   "source": [
    "x_train, x_test, y_train, y_test = train_test_split(x, y, test_size=0.2)"
   ]
  },
  {
   "cell_type": "code",
   "execution_count": 104,
   "metadata": {},
   "outputs": [
    {
     "output_type": "execute_result",
     "data": {
      "text/plain": [
       "Lasso(alpha=0.1)"
      ]
     },
     "metadata": {},
     "execution_count": 104
    }
   ],
   "source": [
    "clf = Lasso(alpha=0.1)\n",
    "clf.fit(x_train, y_train)"
   ]
  },
  {
   "cell_type": "code",
   "execution_count": 105,
   "metadata": {},
   "outputs": [
    {
     "output_type": "execute_result",
     "data": {
      "text/plain": [
       "1.244151126154425"
      ]
     },
     "metadata": {},
     "execution_count": 105
    }
   ],
   "source": [
    "from sklearn.metrics import mean_absolute_error\n",
    "\n",
    "mean_absolute_error(y_test, clf.predict(x_test))"
   ]
  },
  {
   "cell_type": "code",
   "execution_count": null,
   "metadata": {},
   "outputs": [],
   "source": []
  }
 ]
}