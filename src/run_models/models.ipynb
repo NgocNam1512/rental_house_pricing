{
 "cells": [
  {
   "cell_type": "code",
   "execution_count": 10,
   "metadata": {},
   "outputs": [],
   "source": [
    "import pandas as pd\n",
    "import numpy as np\n",
    "import seaborn as sns"
   ]
  },
  {
   "cell_type": "code",
   "execution_count": 11,
   "metadata": {},
   "outputs": [
    {
     "output_type": "stream",
     "name": "stdout",
     "text": [
      "<class 'pandas.core.frame.DataFrame'>\nRangeIndex: 37617 entries, 0 to 37616\nData columns (total 23 columns):\n #   Column           Non-Null Count  Dtype  \n---  ------           --------------  -----  \n 0   Index            37617 non-null  int64  \n 1   Price            36924 non-null  float64\n 2   Description      37148 non-null  object \n 3   Kind             37617 non-null  object \n 4   Location         37617 non-null  object \n 5   Size             37591 non-null  float64\n 6   Parking_slot     13480 non-null  float64\n 7   Air_condition    16624 non-null  float64\n 8   Heater_shower    13175 non-null  float64\n 9   Furnish          12529 non-null  float64\n 10  Inner_toilet     9299 non-null   float64\n 11  Size_total_bool  5539 non-null   float64\n 12  Source           37617 non-null  object \n 13  ward             37617 non-null  object \n 14  district         37617 non-null  object \n 15  province         37617 non-null  object \n 16  lat              37617 non-null  float64\n 17  lng              37617 non-null  float64\n 18  ward_string      37617 non-null  object \n 19  dist             37617 non-null  float64\n 20  num_hospital     11264 non-null  float64\n 21  num_building     33219 non-null  float64\n 22  num_school       31025 non-null  float64\ndtypes: float64(14), int64(1), object(8)\nmemory usage: 6.6+ MB\n"
     ]
    }
   ],
   "source": [
    "raw = pd.read_csv(\"./all.csv\")\n",
    "raw.info()\n",
    "data = raw.drop(raw.columns.values[0], axis=1)\n",
    "data = data.fillna(0)"
   ]
  },
  {
   "cell_type": "code",
   "execution_count": 12,
   "metadata": {},
   "outputs": [],
   "source": [
    "data.loc[data[\"Kind\"] == \"CCMN\", \"Parking_slot\"] = 1\n",
    "data.loc[data[\"Kind\"] == \"CCMN\", \"Air_condition\"] = 1\n",
    "data.loc[data[\"Kind\"] == \"CCMN\", \"Heater_shower\"] = 1\n",
    "data.loc[data[\"Kind\"] == \"CCMN\", \"Inner_toilet\"] = 1\n",
    "\n",
    "data.loc[data[\"Kind\"] == \"Homestay\", \"Parking_slot\"] = 1\n",
    "data.loc[data[\"Kind\"] == \"Homestay\", \"Air_condition\"] = 1\n",
    "data.loc[data[\"Kind\"] == \"Homestay\", \"Heater_shower\"] = 1"
   ]
  },
  {
   "cell_type": "code",
   "execution_count": 13,
   "metadata": {},
   "outputs": [
    {
     "output_type": "execute_result",
     "data": {
      "text/plain": [
       "count     37617.000000\n",
       "mean        115.213744\n",
       "std        5906.864232\n",
       "min           0.000000\n",
       "25%           2.500000\n",
       "50%          10.000000\n",
       "75%          33.000000\n",
       "max      900000.000000\n",
       "Name: Price, dtype: float64"
      ]
     },
     "metadata": {},
     "execution_count": 13
    }
   ],
   "source": [
    "data['Price'].describe()"
   ]
  },
  {
   "cell_type": "code",
   "execution_count": 14,
   "metadata": {},
   "outputs": [
    {
     "output_type": "execute_result",
     "data": {
      "text/plain": [
       "       Price  Size  Parking_slot  Air_condition  Heater_shower  Furnish  \\\n",
       "25720    4.5  35.0           1.0            1.0            1.0      1.0   \n",
       "25721    1.8  22.0           1.0            0.0            1.0      0.0   \n",
       "25722    2.5  18.0           1.0            0.0            1.0      1.0   \n",
       "25723    2.0  25.0           0.0            0.0            0.0      0.0   \n",
       "25724    2.2  15.0           1.0            1.0            1.0      0.0   \n",
       "...      ...   ...           ...            ...            ...      ...   \n",
       "37610    2.3  18.0           0.0            0.0            0.0      0.0   \n",
       "37612    3.3  25.0           1.0            0.0            1.0      1.0   \n",
       "37613    2.5  20.0           1.0            0.0            0.0      0.0   \n",
       "37614    3.0  34.0           0.0            0.0            1.0      0.0   \n",
       "37615    1.5  15.0           1.0            0.0            0.0      0.0   \n",
       "\n",
       "       Inner_toilet  Size_total_bool      dist  num_hospital  num_building  \\\n",
       "25720           1.0              0.0  5.995406           0.0           0.0   \n",
       "25721           0.0              0.0  2.975723           0.0          10.0   \n",
       "25722           0.0              0.0  5.036005           0.0           1.0   \n",
       "25723           0.0              0.0  4.385111           0.0           0.0   \n",
       "25724           1.0              0.0  4.385111           0.0           0.0   \n",
       "...             ...              ...       ...           ...           ...   \n",
       "37610           0.0              0.0  5.199598           0.0           2.0   \n",
       "37612           1.0              0.0  6.117014           0.0           2.0   \n",
       "37613           1.0              0.0  6.110135           0.0           0.0   \n",
       "37614           0.0              0.0  7.491218           0.0          14.0   \n",
       "37615           0.0              0.0  7.212244           0.0           6.0   \n",
       "\n",
       "       num_school  Kind_CCMN  Kind_Chung cư  Kind_Homestay  Kind_Phòng trọ  \\\n",
       "25720         1.0          1              0              0               0   \n",
       "25721         1.0          0              0              0               1   \n",
       "25722         0.0          0              0              0               1   \n",
       "25723         0.0          0              0              0               1   \n",
       "25724         0.0          0              0              0               1   \n",
       "...           ...        ...            ...            ...             ...   \n",
       "37610         1.0          0              0              0               1   \n",
       "37612         8.0          0              0              0               1   \n",
       "37613         0.0          0              0              0               1   \n",
       "37614         3.0          0              0              0               1   \n",
       "37615         7.0          0              0              0               1   \n",
       "\n",
       "       Source_chotot  Source_phongtro123  Source_thuephongtro  \n",
       "25720              0                   1                    0  \n",
       "25721              0                   1                    0  \n",
       "25722              0                   1                    0  \n",
       "25723              0                   1                    0  \n",
       "25724              0                   1                    0  \n",
       "...              ...                 ...                  ...  \n",
       "37610              1                   0                    0  \n",
       "37612              1                   0                    0  \n",
       "37613              1                   0                    0  \n",
       "37614              1                   0                    0  \n",
       "37615              1                   0                    0  \n",
       "\n",
       "[9321 rows x 19 columns]"
      ],
      "text/html": "<div>\n<style scoped>\n    .dataframe tbody tr th:only-of-type {\n        vertical-align: middle;\n    }\n\n    .dataframe tbody tr th {\n        vertical-align: top;\n    }\n\n    .dataframe thead th {\n        text-align: right;\n    }\n</style>\n<table border=\"1\" class=\"dataframe\">\n  <thead>\n    <tr style=\"text-align: right;\">\n      <th></th>\n      <th>Price</th>\n      <th>Size</th>\n      <th>Parking_slot</th>\n      <th>Air_condition</th>\n      <th>Heater_shower</th>\n      <th>Furnish</th>\n      <th>Inner_toilet</th>\n      <th>Size_total_bool</th>\n      <th>dist</th>\n      <th>num_hospital</th>\n      <th>num_building</th>\n      <th>num_school</th>\n      <th>Kind_CCMN</th>\n      <th>Kind_Chung cư</th>\n      <th>Kind_Homestay</th>\n      <th>Kind_Phòng trọ</th>\n      <th>Source_chotot</th>\n      <th>Source_phongtro123</th>\n      <th>Source_thuephongtro</th>\n    </tr>\n  </thead>\n  <tbody>\n    <tr>\n      <th>25720</th>\n      <td>4.5</td>\n      <td>35.0</td>\n      <td>1.0</td>\n      <td>1.0</td>\n      <td>1.0</td>\n      <td>1.0</td>\n      <td>1.0</td>\n      <td>0.0</td>\n      <td>5.995406</td>\n      <td>0.0</td>\n      <td>0.0</td>\n      <td>1.0</td>\n      <td>1</td>\n      <td>0</td>\n      <td>0</td>\n      <td>0</td>\n      <td>0</td>\n      <td>1</td>\n      <td>0</td>\n    </tr>\n    <tr>\n      <th>25721</th>\n      <td>1.8</td>\n      <td>22.0</td>\n      <td>1.0</td>\n      <td>0.0</td>\n      <td>1.0</td>\n      <td>0.0</td>\n      <td>0.0</td>\n      <td>0.0</td>\n      <td>2.975723</td>\n      <td>0.0</td>\n      <td>10.0</td>\n      <td>1.0</td>\n      <td>0</td>\n      <td>0</td>\n      <td>0</td>\n      <td>1</td>\n      <td>0</td>\n      <td>1</td>\n      <td>0</td>\n    </tr>\n    <tr>\n      <th>25722</th>\n      <td>2.5</td>\n      <td>18.0</td>\n      <td>1.0</td>\n      <td>0.0</td>\n      <td>1.0</td>\n      <td>1.0</td>\n      <td>0.0</td>\n      <td>0.0</td>\n      <td>5.036005</td>\n      <td>0.0</td>\n      <td>1.0</td>\n      <td>0.0</td>\n      <td>0</td>\n      <td>0</td>\n      <td>0</td>\n      <td>1</td>\n      <td>0</td>\n      <td>1</td>\n      <td>0</td>\n    </tr>\n    <tr>\n      <th>25723</th>\n      <td>2.0</td>\n      <td>25.0</td>\n      <td>0.0</td>\n      <td>0.0</td>\n      <td>0.0</td>\n      <td>0.0</td>\n      <td>0.0</td>\n      <td>0.0</td>\n      <td>4.385111</td>\n      <td>0.0</td>\n      <td>0.0</td>\n      <td>0.0</td>\n      <td>0</td>\n      <td>0</td>\n      <td>0</td>\n      <td>1</td>\n      <td>0</td>\n      <td>1</td>\n      <td>0</td>\n    </tr>\n    <tr>\n      <th>25724</th>\n      <td>2.2</td>\n      <td>15.0</td>\n      <td>1.0</td>\n      <td>1.0</td>\n      <td>1.0</td>\n      <td>0.0</td>\n      <td>1.0</td>\n      <td>0.0</td>\n      <td>4.385111</td>\n      <td>0.0</td>\n      <td>0.0</td>\n      <td>0.0</td>\n      <td>0</td>\n      <td>0</td>\n      <td>0</td>\n      <td>1</td>\n      <td>0</td>\n      <td>1</td>\n      <td>0</td>\n    </tr>\n    <tr>\n      <th>...</th>\n      <td>...</td>\n      <td>...</td>\n      <td>...</td>\n      <td>...</td>\n      <td>...</td>\n      <td>...</td>\n      <td>...</td>\n      <td>...</td>\n      <td>...</td>\n      <td>...</td>\n      <td>...</td>\n      <td>...</td>\n      <td>...</td>\n      <td>...</td>\n      <td>...</td>\n      <td>...</td>\n      <td>...</td>\n      <td>...</td>\n      <td>...</td>\n    </tr>\n    <tr>\n      <th>37610</th>\n      <td>2.3</td>\n      <td>18.0</td>\n      <td>0.0</td>\n      <td>0.0</td>\n      <td>0.0</td>\n      <td>0.0</td>\n      <td>0.0</td>\n      <td>0.0</td>\n      <td>5.199598</td>\n      <td>0.0</td>\n      <td>2.0</td>\n      <td>1.0</td>\n      <td>0</td>\n      <td>0</td>\n      <td>0</td>\n      <td>1</td>\n      <td>1</td>\n      <td>0</td>\n      <td>0</td>\n    </tr>\n    <tr>\n      <th>37612</th>\n      <td>3.3</td>\n      <td>25.0</td>\n      <td>1.0</td>\n      <td>0.0</td>\n      <td>1.0</td>\n      <td>1.0</td>\n      <td>1.0</td>\n      <td>0.0</td>\n      <td>6.117014</td>\n      <td>0.0</td>\n      <td>2.0</td>\n      <td>8.0</td>\n      <td>0</td>\n      <td>0</td>\n      <td>0</td>\n      <td>1</td>\n      <td>1</td>\n      <td>0</td>\n      <td>0</td>\n    </tr>\n    <tr>\n      <th>37613</th>\n      <td>2.5</td>\n      <td>20.0</td>\n      <td>1.0</td>\n      <td>0.0</td>\n      <td>0.0</td>\n      <td>0.0</td>\n      <td>1.0</td>\n      <td>0.0</td>\n      <td>6.110135</td>\n      <td>0.0</td>\n      <td>0.0</td>\n      <td>0.0</td>\n      <td>0</td>\n      <td>0</td>\n      <td>0</td>\n      <td>1</td>\n      <td>1</td>\n      <td>0</td>\n      <td>0</td>\n    </tr>\n    <tr>\n      <th>37614</th>\n      <td>3.0</td>\n      <td>34.0</td>\n      <td>0.0</td>\n      <td>0.0</td>\n      <td>1.0</td>\n      <td>0.0</td>\n      <td>0.0</td>\n      <td>0.0</td>\n      <td>7.491218</td>\n      <td>0.0</td>\n      <td>14.0</td>\n      <td>3.0</td>\n      <td>0</td>\n      <td>0</td>\n      <td>0</td>\n      <td>1</td>\n      <td>1</td>\n      <td>0</td>\n      <td>0</td>\n    </tr>\n    <tr>\n      <th>37615</th>\n      <td>1.5</td>\n      <td>15.0</td>\n      <td>1.0</td>\n      <td>0.0</td>\n      <td>0.0</td>\n      <td>0.0</td>\n      <td>0.0</td>\n      <td>0.0</td>\n      <td>7.212244</td>\n      <td>0.0</td>\n      <td>6.0</td>\n      <td>7.0</td>\n      <td>0</td>\n      <td>0</td>\n      <td>0</td>\n      <td>1</td>\n      <td>1</td>\n      <td>0</td>\n      <td>0</td>\n    </tr>\n  </tbody>\n</table>\n<p>9321 rows × 19 columns</p>\n</div>"
     },
     "metadata": {},
     "execution_count": 14
    }
   ],
   "source": [
    "data_categorical = data[['Kind', 'Source']]\n",
    "data_float = data.select_dtypes(['float64'])\n",
    "data_categorical_one_hot = pd.get_dummies(data_categorical)\n",
    "data_processed = pd.concat([data_float, data_categorical_one_hot], axis=1)\n",
    "\n",
    "data_processed = data_processed[(data_processed['Price'] > 1) & (data_processed['Price'] <= 15)]\n",
    "data_processed = data_processed[(data_processed['Size'] > 0) & (data_processed['Size'] <= 35)]\n",
    "data_processed['Price_per_m2'] = data_processed['Price'] / data_processed['Size']\n",
    "data_processed = data_processed[data_processed['Price_per_m2'] <= 0.3]\n",
    "data_processed = data_processed.drop('Price_per_m2', axis=1)\n",
    "\n",
    "data_processed = data_processed[data_processed['Source_alonhadat'] == 0]\n",
    "data_processed = data_processed.drop('Source_alonhadat', axis=1)\n",
    "data_processed1 = data_processed.drop(['lat', 'lng'], axis=1)\n",
    "data_processed1"
   ]
  },
  {
   "cell_type": "code",
   "execution_count": 15,
   "metadata": {},
   "outputs": [
    {
     "output_type": "stream",
     "name": "stdout",
     "text": [
      "(9321,) (9321, 18) (9321,)\n2.2913320322926727\n"
     ]
    }
   ],
   "source": [
    "from sklearn.model_selection import KFold\n",
    "from sklearn.ensemble import RandomForestRegressor, StackingRegressor\n",
    "from sklearn.linear_model import Ridge, Lasso\n",
    "import xgboost as xgb\n",
    "\n",
    "target= np.array(data_processed['Price'])\n",
    "args = np.argwhere((target > 1) & (target < 15)).ravel()\n",
    "features = data_processed1.drop(['Price'], axis = 1)\n",
    "feature_list = list(features.columns)\n",
    "features = np.array(features)\n",
    "\n",
    "target = target[args]\n",
    "features = features[args]\n",
    "print(target.shape, features.shape, args.shape)\n",
    "print(target.mean())\n",
    "kf = KFold(n_splits=5, random_state=42, shuffle=True)"
   ]
  },
  {
   "cell_type": "code",
   "execution_count": 16,
   "metadata": {},
   "outputs": [
    {
     "output_type": "stream",
     "name": "stdout",
     "text": [
      "Mean Absolute Error: 0.2\n",
      "Accuracy: 89.14 %.\n",
      "Mean Absolute Error: 0.2\n",
      "Accuracy: 88.43 %.\n",
      "Mean Absolute Error: 0.2\n",
      "Accuracy: 88.66 %.\n",
      "Mean Absolute Error: 0.2\n",
      "Accuracy: 88.46 %.\n",
      "Mean Absolute Error: 0.18\n",
      "Accuracy: 89.84 %.\n",
      "Average accuracy: 88.90633391201631\n",
      "Average MAE: 0.196\n"
     ]
    }
   ],
   "source": [
    "accuracies = []\n",
    "maes = []\n",
    "for train_index, test_index in kf.split(features):\n",
    "    data_train = features[train_index]\n",
    "    target_train = target[train_index]\n",
    "\n",
    "    data_test = features[test_index]\n",
    "    target_test = target[test_index]\n",
    "    \n",
    "\n",
    "    rf = RandomForestRegressor(n_estimators = 1000, random_state=42,\n",
    "                                criterion='mse', bootstrap=True, n_jobs=12)\n",
    "    rf.fit(data_train, target_train)\n",
    "\n",
    "    predictions = rf.predict(data_test)\n",
    "\n",
    "    errors = abs(np.clip(predictions - target_test, a_min=0, a_max=None))\n",
    "\n",
    "    mae = round(np.mean(errors), 2)\n",
    "    print('Mean Absolute Error:', mae)\n",
    "    mape = 100 * errors / target_test\n",
    "    accuracy = 100 - np.mean(mape)\n",
    "    print('Accuracy:', round(accuracy, 2), '%.')\n",
    "\n",
    "    accuracies.append(accuracy)\n",
    "    maes.append(mae)\n",
    "\n",
    "average_accuracy = np.mean(accuracies)\n",
    "print('Average accuracy:', average_accuracy)\n",
    "print('Average MAE:', np.mean(maes))"
   ]
  },
  {
   "cell_type": "code",
   "execution_count": 17,
   "metadata": {},
   "outputs": [
    {
     "output_type": "stream",
     "name": "stdout",
     "text": [
      "Mean Absolute Error: 0.21\n",
      "Accuracy: 88.62 %.\n",
      "Mean Absolute Error: 0.21\n",
      "Accuracy: 88.39 %.\n",
      "Mean Absolute Error: 0.22\n",
      "Accuracy: 87.89 %.\n",
      "Mean Absolute Error: 0.22\n",
      "Accuracy: 88.19 %.\n",
      "Mean Absolute Error: 0.2\n",
      "Accuracy: 89.56 %.\n",
      "Average accuracy: 88.52889704933673\n",
      "Average MAE: 0.21200000000000002\n"
     ]
    }
   ],
   "source": [
    "accuracies = []\n",
    "maes = []\n",
    "for train_index, test_index in kf.split(features):\n",
    "    data_train = features[train_index]\n",
    "    target_train = target[train_index]\n",
    "\n",
    "    data_test = features[test_index]\n",
    "    target_test = target[test_index]\n",
    "    \n",
    "\n",
    "    xgb_r = xgb.XGBRegressor(objective ='reg:squarederror', n_jobs=-1, n_estimators=1000, random_state=42)\n",
    "    xgb_r.fit(data_train, target_train)\n",
    "\n",
    "    predictions = xgb_r.predict(data_test)\n",
    "\n",
    "    errors = abs(np.clip(predictions - target_test, a_min=0, a_max=None))\n",
    "\n",
    "    mae = round(np.mean(errors), 2)\n",
    "    print('Mean Absolute Error:', mae)\n",
    "    mape = 100 * errors / target_test\n",
    "    accuracy = 100 - np.mean(mape)\n",
    "    print('Accuracy:', round(accuracy, 2), '%.')\n",
    "\n",
    "    accuracies.append(accuracy)\n",
    "    maes.append(mae)\n",
    "\n",
    "average_accuracy = np.mean(accuracies)\n",
    "print('Average accuracy:', average_accuracy)\n",
    "print('Average MAE:', np.mean(maes))"
   ]
  },
  {
   "cell_type": "code",
   "execution_count": 18,
   "metadata": {},
   "outputs": [
    {
     "output_type": "stream",
     "name": "stdout",
     "text": [
      "Mean Absolute Error: 0.21\nAccuracy: 87.7 %.\nMean Absolute Error: 0.22\nAccuracy: 86.57 %.\nMean Absolute Error: 0.22\nAccuracy: 86.93 %.\nMean Absolute Error: 0.22\nAccuracy: 87.32 %.\nMean Absolute Error: 0.2\nAccuracy: 88.44 %.\nAverage accuracy: 87.3898953893299\nAverage MAE: 0.21400000000000002\n"
     ]
    }
   ],
   "source": [
    "accuracies = []\n",
    "maes = []\n",
    "for train_index, test_index in kf.split(features):\n",
    "    data_train = features[train_index]\n",
    "    target_train = target[train_index]\n",
    "\n",
    "    data_test = features[test_index]\n",
    "    target_test = target[test_index]\n",
    "    \n",
    "\n",
    "    ridge = Ridge()\n",
    "    ridge.fit(data_train, target_train)\n",
    "\n",
    "    predictions = ridge.predict(data_test)\n",
    "\n",
    "    errors = abs(np.clip(predictions - target_test, a_min=0, a_max=None))\n",
    "\n",
    "    mae = round(np.mean(errors), 2)\n",
    "    print('Mean Absolute Error:', mae)\n",
    "    mape = 100 * errors / target_test\n",
    "    accuracy = 100 - np.mean(mape)\n",
    "    print('Accuracy:', round(accuracy, 2), '%.')\n",
    "\n",
    "    accuracies.append(accuracy)\n",
    "    maes.append(mae)\n",
    "\n",
    "average_accuracy = np.mean(accuracies)\n",
    "print('Average accuracy:', average_accuracy)\n",
    "print('Average MAE:', np.mean(maes))"
   ]
  },
  {
   "cell_type": "code",
   "execution_count": 19,
   "metadata": {},
   "outputs": [
    {
     "output_type": "stream",
     "name": "stdout",
     "text": [
      "Mean Absolute Error: 0.23\nAccuracy: 85.42 %.\nMean Absolute Error: 0.25\nAccuracy: 84.2 %.\nMean Absolute Error: 0.24\nAccuracy: 84.44 %.\nMean Absolute Error: 0.23\nAccuracy: 85.29 %.\nMean Absolute Error: 0.23\nAccuracy: 85.63 %.\nAverage accuracy: 84.996360613608\nAverage MAE: 0.236\n"
     ]
    }
   ],
   "source": [
    "accuracies = []\n",
    "maes = []\n",
    "for train_index, test_index in kf.split(features):\n",
    "    data_train = features[train_index]\n",
    "    target_train = target[train_index]\n",
    "\n",
    "    data_test = features[test_index]\n",
    "    target_test = target[test_index]\n",
    "    \n",
    "\n",
    "    lasso = Lasso()\n",
    "    lasso.fit(data_train, target_train)\n",
    "\n",
    "    predictions = lasso.predict(data_test)\n",
    "\n",
    "    errors = abs(np.clip(predictions - target_test, a_min=0, a_max=None))\n",
    "\n",
    "    mae = round(np.mean(errors), 2)\n",
    "    print('Mean Absolute Error:', mae)\n",
    "    mape = 100 * errors / target_test\n",
    "    accuracy = 100 - np.mean(mape)\n",
    "    print('Accuracy:', round(accuracy, 2), '%.')\n",
    "\n",
    "    accuracies.append(accuracy)\n",
    "    maes.append(mae)\n",
    "\n",
    "average_accuracy = np.mean(accuracies)\n",
    "print('Average accuracy:', average_accuracy)\n",
    "print('Average MAE:', np.mean(maes))"
   ]
  },
  {
   "cell_type": "code",
   "execution_count": 20,
   "metadata": {},
   "outputs": [
    {
     "output_type": "stream",
     "name": "stdout",
     "text": [
      "Mean Absolute Error: 0.2\n",
      "Accuracy: 88.64 %.\n",
      "Mean Absolute Error: 0.21\n",
      "Accuracy: 87.75 %.\n",
      "Mean Absolute Error: 0.2\n",
      "Accuracy: 88.1 %.\n",
      "Mean Absolute Error: 0.2\n",
      "Accuracy: 88.29 %.\n",
      "Mean Absolute Error: 0.19\n",
      "Accuracy: 89.17 %.\n",
      "Average accuracy: 88.39172741414976\n",
      "Average MAE: 0.2\n"
     ]
    }
   ],
   "source": [
    "estimators = [\n",
    "    ('lasso', Lasso()),\n",
    "    ('ridge', Ridge()),\n",
    "    ('xgboost', xgb.XGBRegressor(objective ='reg:squarederror', n_jobs=-1, n_estimators=1000, random_state=42)),\n",
    "    ('randomforest', RandomForestRegressor(n_estimators = 1000, n_jobs=-1, random_state=42, criterion='mse', bootstrap=True))\n",
    "]\n",
    "\n",
    "accuracies = []\n",
    "maes = []\n",
    "for train_index, test_index in kf.split(features):\n",
    "    data_train = features[train_index]\n",
    "    target_train = target[train_index]\n",
    "\n",
    "    data_test = features[test_index]\n",
    "    target_test = target[test_index]\n",
    "\n",
    "\n",
    "    stack = StackingRegressor(estimators=estimators)\n",
    "    stack.fit(data_train, target_train)\n",
    "\n",
    "    predictions = stack.predict(data_test)\n",
    "\n",
    "    errors = abs(np.clip(predictions - target_test, a_min=0, a_max=None))\n",
    "\n",
    "    mae = round(np.mean(errors), 2)\n",
    "    print('Mean Absolute Error:', mae)\n",
    "    mape = 100 * errors / target_test\n",
    "    accuracy = 100 - np.mean(mape)\n",
    "    print('Accuracy:', round(accuracy, 2), '%.')\n",
    "\n",
    "    accuracies.append(accuracy)\n",
    "    maes.append(mae)\n",
    "\n",
    "average_accuracy = np.mean(accuracies)\n",
    "print('Average accuracy:', average_accuracy)\n",
    "print('Average MAE:', np.mean(maes))"
   ]
  },
  {
   "cell_type": "code",
   "execution_count": 21,
   "metadata": {},
   "outputs": [
    {
     "output_type": "stream",
     "name": "stdout",
     "text": [
      "['Size' 'Parking_slot' 'Air_condition' 'Heater_shower' 'Furnish'\n 'Inner_toilet' 'Size_total_bool' 'dist' 'num_hospital' 'num_building'\n 'num_school' 'Kind_CCMN' 'Kind_Chung cư' 'Kind_Homestay' 'Kind_Phòng trọ'\n 'Source_chotot' 'Source_phongtro123' 'Source_thuephongtro']\n"
     ]
    },
    {
     "output_type": "execute_result",
     "data": {
      "text/plain": [
       "Text(0.5, 0, 'Mức độ')"
      ]
     },
     "metadata": {},
     "execution_count": 21
    },
    {
     "output_type": "display_data",
     "data": {
      "text/plain": "<Figure size 576x1152 with 1 Axes>",
      "image/svg+xml": "<?xml version=\"1.0\" encoding=\"utf-8\" standalone=\"no\"?>\r\n<!DOCTYPE svg PUBLIC \"-//W3C//DTD SVG 1.1//EN\"\r\n  \"http://www.w3.org/Graphics/SVG/1.1/DTD/svg11.dtd\">\r\n<!-- Created with matplotlib (https://matplotlib.org/) -->\r\n<svg height=\"930.387812pt\" version=\"1.1\" viewBox=\"0 0 589.135937 930.387812\" width=\"589.135937pt\" xmlns=\"http://www.w3.org/2000/svg\" xmlns:xlink=\"http://www.w3.org/1999/xlink\">\r\n <defs>\r\n  <style type=\"text/css\">\r\n*{stroke-linecap:butt;stroke-linejoin:round;}\r\n  </style>\r\n </defs>\r\n <g id=\"figure_1\">\r\n  <g id=\"patch_1\">\r\n   <path d=\"M 0 930.387812 \r\nL 589.135937 930.387812 \r\nL 589.135937 0 \r\nL 0 0 \r\nz\r\n\" style=\"fill:none;\"/>\r\n  </g>\r\n  <g id=\"axes_1\">\r\n   <g id=\"patch_2\">\r\n    <path d=\"M 135.535938 892.68 \r\nL 581.935938 892.68 \r\nL 581.935938 22.92 \r\nL 135.535938 22.92 \r\nz\r\n\" style=\"fill:#ffffff;\"/>\r\n   </g>\r\n   <g id=\"patch_3\">\r\n    <path clip-path=\"url(#p809cdcf480)\" d=\"M 135.535938 853.145455 \r\nL 560.678795 853.145455 \r\nL 560.678795 817.608784 \r\nL 135.535938 817.608784 \r\nz\r\n\" style=\"fill:#1f77b4;\"/>\r\n   </g>\r\n   <g id=\"patch_4\">\r\n    <path clip-path=\"url(#p809cdcf480)\" d=\"M 135.535938 808.724617 \r\nL 164.643264 808.724617 \r\nL 164.643264 773.187947 \r\nL 135.535938 773.187947 \r\nz\r\n\" style=\"fill:#1f77b4;\"/>\r\n   </g>\r\n   <g id=\"patch_5\">\r\n    <path clip-path=\"url(#p809cdcf480)\" d=\"M 135.535938 764.303779 \r\nL 158.098097 764.303779 \r\nL 158.098097 728.767109 \r\nL 135.535938 728.767109 \r\nz\r\n\" style=\"fill:#1f77b4;\"/>\r\n   </g>\r\n   <g id=\"patch_6\">\r\n    <path clip-path=\"url(#p809cdcf480)\" d=\"M 135.535938 719.882942 \r\nL 161.909893 719.882942 \r\nL 161.909893 684.346272 \r\nL 135.535938 684.346272 \r\nz\r\n\" style=\"fill:#1f77b4;\"/>\r\n   </g>\r\n   <g id=\"patch_7\">\r\n    <path clip-path=\"url(#p809cdcf480)\" d=\"M 135.535938 675.462104 \r\nL 175.457549 675.462104 \r\nL 175.457549 639.925434 \r\nL 135.535938 639.925434 \r\nz\r\n\" style=\"fill:#1f77b4;\"/>\r\n   </g>\r\n   <g id=\"patch_8\">\r\n    <path clip-path=\"url(#p809cdcf480)\" d=\"M 135.535938 631.041267 \r\nL 165.575096 631.041267 \r\nL 165.575096 595.504597 \r\nL 135.535938 595.504597 \r\nz\r\n\" style=\"fill:#1f77b4;\"/>\r\n   </g>\r\n   <g id=\"patch_9\">\r\n    <path clip-path=\"url(#p809cdcf480)\" d=\"M 135.535938 586.620429 \r\nL 137.370366 586.620429 \r\nL 137.370366 551.083759 \r\nL 135.535938 551.083759 \r\nz\r\n\" style=\"fill:#1f77b4;\"/>\r\n   </g>\r\n   <g id=\"patch_10\">\r\n    <path clip-path=\"url(#p809cdcf480)\" d=\"M 135.535938 542.199591 \r\nL 291.970647 542.199591 \r\nL 291.970647 506.662921 \r\nL 135.535938 506.662921 \r\nz\r\n\" style=\"fill:#1f77b4;\"/>\r\n   </g>\r\n   <g id=\"patch_11\">\r\n    <path clip-path=\"url(#p809cdcf480)\" d=\"M 135.535938 497.778754 \r\nL 159.837145 497.778754 \r\nL 159.837145 462.242084 \r\nL 135.535938 462.242084 \r\nz\r\n\" style=\"fill:#1f77b4;\"/>\r\n   </g>\r\n   <g id=\"patch_12\">\r\n    <path clip-path=\"url(#p809cdcf480)\" d=\"M 135.535938 453.357916 \r\nL 214.486123 453.357916 \r\nL 214.486123 417.821246 \r\nL 135.535938 417.821246 \r\nz\r\n\" style=\"fill:#1f77b4;\"/>\r\n   </g>\r\n   <g id=\"patch_13\">\r\n    <path clip-path=\"url(#p809cdcf480)\" d=\"M 135.535938 408.937079 \r\nL 191.309777 408.937079 \r\nL 191.309777 373.400409 \r\nL 135.535938 373.400409 \r\nz\r\n\" style=\"fill:#1f77b4;\"/>\r\n   </g>\r\n   <g id=\"patch_14\">\r\n    <path clip-path=\"url(#p809cdcf480)\" d=\"M 135.535938 364.516241 \r\nL 141.159728 364.516241 \r\nL 141.159728 328.979571 \r\nL 135.535938 328.979571 \r\nz\r\n\" style=\"fill:#1f77b4;\"/>\r\n   </g>\r\n   <g id=\"patch_15\">\r\n    <path clip-path=\"url(#p809cdcf480)\" d=\"M 135.535938 320.095403 \r\nL 143.16754 320.095403 \r\nL 143.16754 284.558733 \r\nL 135.535938 284.558733 \r\nz\r\n\" style=\"fill:#1f77b4;\"/>\r\n   </g>\r\n   <g id=\"patch_16\">\r\n    <path clip-path=\"url(#p809cdcf480)\" d=\"M 135.535938 275.674566 \r\nL 144.457204 275.674566 \r\nL 144.457204 240.137896 \r\nL 135.535938 240.137896 \r\nz\r\n\" style=\"fill:#1f77b4;\"/>\r\n   </g>\r\n   <g id=\"patch_17\">\r\n    <path clip-path=\"url(#p809cdcf480)\" d=\"M 135.535938 231.253728 \r\nL 145.15895 231.253728 \r\nL 145.15895 195.717058 \r\nL 135.535938 195.717058 \r\nz\r\n\" style=\"fill:#1f77b4;\"/>\r\n   </g>\r\n   <g id=\"patch_18\">\r\n    <path clip-path=\"url(#p809cdcf480)\" d=\"M 135.535938 186.832891 \r\nL 157.576951 186.832891 \r\nL 157.576951 151.296221 \r\nL 135.535938 151.296221 \r\nz\r\n\" style=\"fill:#1f77b4;\"/>\r\n   </g>\r\n   <g id=\"patch_19\">\r\n    <path clip-path=\"url(#p809cdcf480)\" d=\"M 135.535938 142.412053 \r\nL 152.933981 142.412053 \r\nL 152.933981 106.875383 \r\nL 135.535938 106.875383 \r\nz\r\n\" style=\"fill:#1f77b4;\"/>\r\n   </g>\r\n   <g id=\"patch_20\">\r\n    <path clip-path=\"url(#p809cdcf480)\" d=\"M 135.535938 97.991216 \r\nL 148.393674 97.991216 \r\nL 148.393674 62.454545 \r\nL 135.535938 62.454545 \r\nz\r\n\" style=\"fill:#1f77b4;\"/>\r\n   </g>\r\n   <g id=\"matplotlib.axis_1\">\r\n    <g id=\"xtick_1\">\r\n     <g id=\"line2d_1\">\r\n      <defs>\r\n       <path d=\"M 0 0 \r\nL 0 3.5 \r\n\" id=\"me60d6e9293\" style=\"stroke:#000000;stroke-width:0.8;\"/>\r\n      </defs>\r\n      <g>\r\n       <use style=\"stroke:#000000;stroke-width:0.8;\" x=\"135.535938\" xlink:href=\"#me60d6e9293\" y=\"892.68\"/>\r\n      </g>\r\n     </g>\r\n     <g id=\"text_1\">\r\n      <!-- 0.0 -->\r\n      <defs>\r\n       <path d=\"M 31.78125 66.40625 \r\nQ 24.171875 66.40625 20.328125 58.90625 \r\nQ 16.5 51.421875 16.5 36.375 \r\nQ 16.5 21.390625 20.328125 13.890625 \r\nQ 24.171875 6.390625 31.78125 6.390625 \r\nQ 39.453125 6.390625 43.28125 13.890625 \r\nQ 47.125 21.390625 47.125 36.375 \r\nQ 47.125 51.421875 43.28125 58.90625 \r\nQ 39.453125 66.40625 31.78125 66.40625 \r\nz\r\nM 31.78125 74.21875 \r\nQ 44.046875 74.21875 50.515625 64.515625 \r\nQ 56.984375 54.828125 56.984375 36.375 \r\nQ 56.984375 17.96875 50.515625 8.265625 \r\nQ 44.046875 -1.421875 31.78125 -1.421875 \r\nQ 19.53125 -1.421875 13.0625 8.265625 \r\nQ 6.59375 17.96875 6.59375 36.375 \r\nQ 6.59375 54.828125 13.0625 64.515625 \r\nQ 19.53125 74.21875 31.78125 74.21875 \r\nz\r\n\" id=\"DejaVuSans-48\"/>\r\n       <path d=\"M 10.6875 12.40625 \r\nL 21 12.40625 \r\nL 21 0 \r\nL 10.6875 0 \r\nz\r\n\" id=\"DejaVuSans-46\"/>\r\n      </defs>\r\n      <g transform=\"translate(127.584375 907.278437)scale(0.1 -0.1)\">\r\n       <use xlink:href=\"#DejaVuSans-48\"/>\r\n       <use x=\"63.623047\" xlink:href=\"#DejaVuSans-46\"/>\r\n       <use x=\"95.410156\" xlink:href=\"#DejaVuSans-48\"/>\r\n      </g>\r\n     </g>\r\n    </g>\r\n    <g id=\"xtick_2\">\r\n     <g id=\"line2d_2\">\r\n      <g>\r\n       <use style=\"stroke:#000000;stroke-width:0.8;\" x=\"232.989728\" xlink:href=\"#me60d6e9293\" y=\"892.68\"/>\r\n      </g>\r\n     </g>\r\n     <g id=\"text_2\">\r\n      <!-- 0.1 -->\r\n      <defs>\r\n       <path d=\"M 12.40625 8.296875 \r\nL 28.515625 8.296875 \r\nL 28.515625 63.921875 \r\nL 10.984375 60.40625 \r\nL 10.984375 69.390625 \r\nL 28.421875 72.90625 \r\nL 38.28125 72.90625 \r\nL 38.28125 8.296875 \r\nL 54.390625 8.296875 \r\nL 54.390625 0 \r\nL 12.40625 0 \r\nz\r\n\" id=\"DejaVuSans-49\"/>\r\n      </defs>\r\n      <g transform=\"translate(225.038166 907.278437)scale(0.1 -0.1)\">\r\n       <use xlink:href=\"#DejaVuSans-48\"/>\r\n       <use x=\"63.623047\" xlink:href=\"#DejaVuSans-46\"/>\r\n       <use x=\"95.410156\" xlink:href=\"#DejaVuSans-49\"/>\r\n      </g>\r\n     </g>\r\n    </g>\r\n    <g id=\"xtick_3\">\r\n     <g id=\"line2d_3\">\r\n      <g>\r\n       <use style=\"stroke:#000000;stroke-width:0.8;\" x=\"330.443519\" xlink:href=\"#me60d6e9293\" y=\"892.68\"/>\r\n      </g>\r\n     </g>\r\n     <g id=\"text_3\">\r\n      <!-- 0.2 -->\r\n      <defs>\r\n       <path d=\"M 19.1875 8.296875 \r\nL 53.609375 8.296875 \r\nL 53.609375 0 \r\nL 7.328125 0 \r\nL 7.328125 8.296875 \r\nQ 12.9375 14.109375 22.625 23.890625 \r\nQ 32.328125 33.6875 34.8125 36.53125 \r\nQ 39.546875 41.84375 41.421875 45.53125 \r\nQ 43.3125 49.21875 43.3125 52.78125 \r\nQ 43.3125 58.59375 39.234375 62.25 \r\nQ 35.15625 65.921875 28.609375 65.921875 \r\nQ 23.96875 65.921875 18.8125 64.3125 \r\nQ 13.671875 62.703125 7.8125 59.421875 \r\nL 7.8125 69.390625 \r\nQ 13.765625 71.78125 18.9375 73 \r\nQ 24.125 74.21875 28.421875 74.21875 \r\nQ 39.75 74.21875 46.484375 68.546875 \r\nQ 53.21875 62.890625 53.21875 53.421875 \r\nQ 53.21875 48.921875 51.53125 44.890625 \r\nQ 49.859375 40.875 45.40625 35.40625 \r\nQ 44.1875 33.984375 37.640625 27.21875 \r\nQ 31.109375 20.453125 19.1875 8.296875 \r\nz\r\n\" id=\"DejaVuSans-50\"/>\r\n      </defs>\r\n      <g transform=\"translate(322.491956 907.278437)scale(0.1 -0.1)\">\r\n       <use xlink:href=\"#DejaVuSans-48\"/>\r\n       <use x=\"63.623047\" xlink:href=\"#DejaVuSans-46\"/>\r\n       <use x=\"95.410156\" xlink:href=\"#DejaVuSans-50\"/>\r\n      </g>\r\n     </g>\r\n    </g>\r\n    <g id=\"xtick_4\">\r\n     <g id=\"line2d_4\">\r\n      <g>\r\n       <use style=\"stroke:#000000;stroke-width:0.8;\" x=\"427.89731\" xlink:href=\"#me60d6e9293\" y=\"892.68\"/>\r\n      </g>\r\n     </g>\r\n     <g id=\"text_4\">\r\n      <!-- 0.3 -->\r\n      <defs>\r\n       <path d=\"M 40.578125 39.3125 \r\nQ 47.65625 37.796875 51.625 33 \r\nQ 55.609375 28.21875 55.609375 21.1875 \r\nQ 55.609375 10.40625 48.1875 4.484375 \r\nQ 40.765625 -1.421875 27.09375 -1.421875 \r\nQ 22.515625 -1.421875 17.65625 -0.515625 \r\nQ 12.796875 0.390625 7.625 2.203125 \r\nL 7.625 11.71875 \r\nQ 11.71875 9.328125 16.59375 8.109375 \r\nQ 21.484375 6.890625 26.8125 6.890625 \r\nQ 36.078125 6.890625 40.9375 10.546875 \r\nQ 45.796875 14.203125 45.796875 21.1875 \r\nQ 45.796875 27.640625 41.28125 31.265625 \r\nQ 36.765625 34.90625 28.71875 34.90625 \r\nL 20.21875 34.90625 \r\nL 20.21875 43.015625 \r\nL 29.109375 43.015625 \r\nQ 36.375 43.015625 40.234375 45.921875 \r\nQ 44.09375 48.828125 44.09375 54.296875 \r\nQ 44.09375 59.90625 40.109375 62.90625 \r\nQ 36.140625 65.921875 28.71875 65.921875 \r\nQ 24.65625 65.921875 20.015625 65.03125 \r\nQ 15.375 64.15625 9.8125 62.3125 \r\nL 9.8125 71.09375 \r\nQ 15.4375 72.65625 20.34375 73.4375 \r\nQ 25.25 74.21875 29.59375 74.21875 \r\nQ 40.828125 74.21875 47.359375 69.109375 \r\nQ 53.90625 64.015625 53.90625 55.328125 \r\nQ 53.90625 49.265625 50.4375 45.09375 \r\nQ 46.96875 40.921875 40.578125 39.3125 \r\nz\r\n\" id=\"DejaVuSans-51\"/>\r\n      </defs>\r\n      <g transform=\"translate(419.945747 907.278437)scale(0.1 -0.1)\">\r\n       <use xlink:href=\"#DejaVuSans-48\"/>\r\n       <use x=\"63.623047\" xlink:href=\"#DejaVuSans-46\"/>\r\n       <use x=\"95.410156\" xlink:href=\"#DejaVuSans-51\"/>\r\n      </g>\r\n     </g>\r\n    </g>\r\n    <g id=\"xtick_5\">\r\n     <g id=\"line2d_5\">\r\n      <g>\r\n       <use style=\"stroke:#000000;stroke-width:0.8;\" x=\"525.3511\" xlink:href=\"#me60d6e9293\" y=\"892.68\"/>\r\n      </g>\r\n     </g>\r\n     <g id=\"text_5\">\r\n      <!-- 0.4 -->\r\n      <defs>\r\n       <path d=\"M 37.796875 64.3125 \r\nL 12.890625 25.390625 \r\nL 37.796875 25.390625 \r\nz\r\nM 35.203125 72.90625 \r\nL 47.609375 72.90625 \r\nL 47.609375 25.390625 \r\nL 58.015625 25.390625 \r\nL 58.015625 17.1875 \r\nL 47.609375 17.1875 \r\nL 47.609375 0 \r\nL 37.796875 0 \r\nL 37.796875 17.1875 \r\nL 4.890625 17.1875 \r\nL 4.890625 26.703125 \r\nz\r\n\" id=\"DejaVuSans-52\"/>\r\n      </defs>\r\n      <g transform=\"translate(517.399538 907.278437)scale(0.1 -0.1)\">\r\n       <use xlink:href=\"#DejaVuSans-48\"/>\r\n       <use x=\"63.623047\" xlink:href=\"#DejaVuSans-46\"/>\r\n       <use x=\"95.410156\" xlink:href=\"#DejaVuSans-52\"/>\r\n      </g>\r\n     </g>\r\n    </g>\r\n    <g id=\"text_6\">\r\n     <!-- Mức độ -->\r\n     <defs>\r\n      <path d=\"M 9.8125 72.90625 \r\nL 24.515625 72.90625 \r\nL 43.109375 23.296875 \r\nL 61.8125 72.90625 \r\nL 76.515625 72.90625 \r\nL 76.515625 0 \r\nL 66.890625 0 \r\nL 66.890625 64.015625 \r\nL 48.09375 14.015625 \r\nL 38.1875 14.015625 \r\nL 19.390625 64.015625 \r\nL 19.390625 0 \r\nL 9.8125 0 \r\nz\r\n\" id=\"DejaVuSans-77\"/>\r\n      <path d=\"M 37.796875 79.984375 \r\nL 47.515625 79.984375 \r\nL 31.59375 61.625 \r\nL 24.125 61.625 \r\nz\r\nM 48.34375 48.53125 \r\nL 48.34375 54.34375 \r\nQ 51.3125 52.140625 53.453125 51.09375 \r\nQ 55.609375 50.046875 57.125 50.046875 \r\nQ 59.375 50.046875 60.5 51.390625 \r\nQ 61.625 52.734375 61.625 55.359375 \r\nQ 61.625 56.921875 61.25 58.4375 \r\nQ 60.890625 59.953125 60.15625 61.46875 \r\nL 66.65625 61.46875 \r\nQ 67.140625 59.609375 67.375 57.953125 \r\nQ 67.625 56.296875 67.625 54.828125 \r\nQ 67.625 48.875 65.5 46.0625 \r\nQ 63.375 43.25 58.84375 43.25 \r\nQ 56.5 43.25 53.9375 44.546875 \r\nQ 51.375 45.84375 48.34375 48.53125 \r\nz\r\nM 8.59375 21.578125 \r\nL 8.59375 54.6875 \r\nL 17.578125 54.6875 \r\nL 17.578125 21.921875 \r\nQ 17.578125 14.15625 20.609375 10.265625 \r\nQ 23.640625 6.390625 29.6875 6.390625 \r\nQ 36.96875 6.390625 41.1875 11.03125 \r\nQ 45.40625 15.671875 45.40625 23.6875 \r\nL 45.40625 54.6875 \r\nL 54.390625 54.6875 \r\nL 54.390625 0 \r\nL 45.40625 0 \r\nL 45.40625 8.40625 \r\nQ 42.140625 3.421875 37.8125 1 \r\nQ 33.5 -1.421875 27.78125 -1.421875 \r\nQ 18.359375 -1.421875 13.46875 4.4375 \r\nQ 8.59375 10.296875 8.59375 21.578125 \r\nz\r\nM 31.203125 56 \r\nz\r\n\" id=\"DejaVuSans-7913\"/>\r\n      <path d=\"M 48.78125 52.59375 \r\nL 48.78125 44.1875 \r\nQ 44.96875 46.296875 41.140625 47.34375 \r\nQ 37.3125 48.390625 33.40625 48.390625 \r\nQ 24.65625 48.390625 19.8125 42.84375 \r\nQ 14.984375 37.3125 14.984375 27.296875 \r\nQ 14.984375 17.28125 19.8125 11.734375 \r\nQ 24.65625 6.203125 33.40625 6.203125 \r\nQ 37.3125 6.203125 41.140625 7.25 \r\nQ 44.96875 8.296875 48.78125 10.40625 \r\nL 48.78125 2.09375 \r\nQ 45.015625 0.34375 40.984375 -0.53125 \r\nQ 36.96875 -1.421875 32.421875 -1.421875 \r\nQ 20.0625 -1.421875 12.78125 6.34375 \r\nQ 5.515625 14.109375 5.515625 27.296875 \r\nQ 5.515625 40.671875 12.859375 48.328125 \r\nQ 20.21875 56 33.015625 56 \r\nQ 37.15625 56 41.109375 55.140625 \r\nQ 45.0625 54.296875 48.78125 52.59375 \r\nz\r\n\" id=\"DejaVuSans-99\"/>\r\n      <path id=\"DejaVuSans-32\"/>\r\n      <path d=\"M 45.40625 46.390625 \r\nL 45.40625 62.703125 \r\nL 29.5 62.703125 \r\nL 29.5 68.796875 \r\nL 45.40625 68.796875 \r\nL 45.40625 75.984375 \r\nL 54.390625 75.984375 \r\nL 54.390625 68.796875 \r\nL 61.921875 68.796875 \r\nL 61.921875 62.703125 \r\nL 54.390625 62.703125 \r\nL 54.390625 0 \r\nL 45.40625 0 \r\nL 45.40625 8.203125 \r\nQ 42.578125 3.328125 38.25 0.953125 \r\nQ 33.9375 -1.421875 27.875 -1.421875 \r\nQ 17.96875 -1.421875 11.734375 6.484375 \r\nQ 5.515625 14.40625 5.515625 27.296875 \r\nQ 5.515625 40.1875 11.734375 48.09375 \r\nQ 17.96875 56 27.875 56 \r\nQ 33.9375 56 38.25 53.625 \r\nQ 42.578125 51.265625 45.40625 46.390625 \r\nz\r\nM 14.796875 27.296875 \r\nQ 14.796875 17.390625 18.875 11.75 \r\nQ 22.953125 6.109375 30.078125 6.109375 \r\nQ 37.203125 6.109375 41.296875 11.75 \r\nQ 45.40625 17.390625 45.40625 27.296875 \r\nQ 45.40625 37.203125 41.296875 42.84375 \r\nQ 37.203125 48.484375 30.078125 48.484375 \r\nQ 22.953125 48.484375 18.875 42.84375 \r\nQ 14.796875 37.203125 14.796875 27.296875 \r\nz\r\n\" id=\"DejaVuSans-273\"/>\r\n      <path d=\"M 26.03125 -6.890625 \r\nL 35.015625 -6.890625 \r\nL 35.015625 -18.3125 \r\nL 26.03125 -18.3125 \r\nz\r\nM 30.609375 48.390625 \r\nQ 23.390625 48.390625 19.1875 42.75 \r\nQ 14.984375 37.109375 14.984375 27.296875 \r\nQ 14.984375 17.484375 19.15625 11.84375 \r\nQ 23.34375 6.203125 30.609375 6.203125 \r\nQ 37.796875 6.203125 41.984375 11.859375 \r\nQ 46.1875 17.53125 46.1875 27.296875 \r\nQ 46.1875 37.015625 41.984375 42.703125 \r\nQ 37.796875 48.390625 30.609375 48.390625 \r\nz\r\nM 30.609375 56 \r\nQ 42.328125 56 49.015625 48.375 \r\nQ 55.71875 40.765625 55.71875 27.296875 \r\nQ 55.71875 13.875 49.015625 6.21875 \r\nQ 42.328125 -1.421875 30.609375 -1.421875 \r\nQ 18.84375 -1.421875 12.171875 6.21875 \r\nQ 5.515625 13.875 5.515625 27.296875 \r\nQ 5.515625 40.765625 12.171875 48.375 \r\nQ 18.84375 56 30.609375 56 \r\nz\r\nM 26.03125 -6.890625 \r\nL 35.015625 -6.890625 \r\nL 35.015625 -18.3125 \r\nL 26.03125 -18.3125 \r\nz\r\nM 27 79.984375 \r\nL 34.234375 79.984375 \r\nL 46.1875 61.625 \r\nL 39.40625 61.625 \r\nL 30.609375 73.578125 \r\nL 21.828125 61.625 \r\nL 15.046875 61.625 \r\nz\r\n\" id=\"DejaVuSans-7897\"/>\r\n     </defs>\r\n     <g transform=\"translate(340.68125 921.108125)scale(0.1 -0.1)\">\r\n      <use xlink:href=\"#DejaVuSans-77\"/>\r\n      <use x=\"86.279297\" xlink:href=\"#DejaVuSans-7913\"/>\r\n      <use x=\"149.658203\" xlink:href=\"#DejaVuSans-99\"/>\r\n      <use x=\"204.638672\" xlink:href=\"#DejaVuSans-32\"/>\r\n      <use x=\"236.425781\" xlink:href=\"#DejaVuSans-273\"/>\r\n      <use x=\"299.902344\" xlink:href=\"#DejaVuSans-7897\"/>\r\n     </g>\r\n    </g>\r\n   </g>\r\n   <g id=\"matplotlib.axis_2\">\r\n    <g id=\"ytick_1\">\r\n     <g id=\"line2d_6\">\r\n      <defs>\r\n       <path d=\"M 0 0 \r\nL -3.5 0 \r\n\" id=\"m9892ed5f96\" style=\"stroke:#000000;stroke-width:0.8;\"/>\r\n      </defs>\r\n      <g>\r\n       <use style=\"stroke:#000000;stroke-width:0.8;\" x=\"135.535938\" xlink:href=\"#m9892ed5f96\" y=\"835.37712\"/>\r\n      </g>\r\n     </g>\r\n     <g id=\"text_7\">\r\n      <!-- Size -->\r\n      <defs>\r\n       <path d=\"M 53.515625 70.515625 \r\nL 53.515625 60.890625 \r\nQ 47.90625 63.578125 42.921875 64.890625 \r\nQ 37.9375 66.21875 33.296875 66.21875 \r\nQ 25.25 66.21875 20.875 63.09375 \r\nQ 16.5 59.96875 16.5 54.203125 \r\nQ 16.5 49.359375 19.40625 46.890625 \r\nQ 22.3125 44.4375 30.421875 42.921875 \r\nL 36.375 41.703125 \r\nQ 47.40625 39.59375 52.65625 34.296875 \r\nQ 57.90625 29 57.90625 20.125 \r\nQ 57.90625 9.515625 50.796875 4.046875 \r\nQ 43.703125 -1.421875 29.984375 -1.421875 \r\nQ 24.8125 -1.421875 18.96875 -0.25 \r\nQ 13.140625 0.921875 6.890625 3.21875 \r\nL 6.890625 13.375 \r\nQ 12.890625 10.015625 18.65625 8.296875 \r\nQ 24.421875 6.59375 29.984375 6.59375 \r\nQ 38.421875 6.59375 43.015625 9.90625 \r\nQ 47.609375 13.234375 47.609375 19.390625 \r\nQ 47.609375 24.75 44.3125 27.78125 \r\nQ 41.015625 30.8125 33.5 32.328125 \r\nL 27.484375 33.5 \r\nQ 16.453125 35.6875 11.515625 40.375 \r\nQ 6.59375 45.0625 6.59375 53.421875 \r\nQ 6.59375 63.09375 13.40625 68.65625 \r\nQ 20.21875 74.21875 32.171875 74.21875 \r\nQ 37.3125 74.21875 42.625 73.28125 \r\nQ 47.953125 72.359375 53.515625 70.515625 \r\nz\r\n\" id=\"DejaVuSans-83\"/>\r\n       <path d=\"M 9.421875 54.6875 \r\nL 18.40625 54.6875 \r\nL 18.40625 0 \r\nL 9.421875 0 \r\nz\r\nM 9.421875 75.984375 \r\nL 18.40625 75.984375 \r\nL 18.40625 64.59375 \r\nL 9.421875 64.59375 \r\nz\r\n\" id=\"DejaVuSans-105\"/>\r\n       <path d=\"M 5.515625 54.6875 \r\nL 48.1875 54.6875 \r\nL 48.1875 46.484375 \r\nL 14.40625 7.171875 \r\nL 48.1875 7.171875 \r\nL 48.1875 0 \r\nL 4.296875 0 \r\nL 4.296875 8.203125 \r\nL 38.09375 47.515625 \r\nL 5.515625 47.515625 \r\nz\r\n\" id=\"DejaVuSans-122\"/>\r\n       <path d=\"M 56.203125 29.59375 \r\nL 56.203125 25.203125 \r\nL 14.890625 25.203125 \r\nQ 15.484375 15.921875 20.484375 11.0625 \r\nQ 25.484375 6.203125 34.421875 6.203125 \r\nQ 39.59375 6.203125 44.453125 7.46875 \r\nQ 49.3125 8.734375 54.109375 11.28125 \r\nL 54.109375 2.78125 \r\nQ 49.265625 0.734375 44.1875 -0.34375 \r\nQ 39.109375 -1.421875 33.890625 -1.421875 \r\nQ 20.796875 -1.421875 13.15625 6.1875 \r\nQ 5.515625 13.8125 5.515625 26.8125 \r\nQ 5.515625 40.234375 12.765625 48.109375 \r\nQ 20.015625 56 32.328125 56 \r\nQ 43.359375 56 49.78125 48.890625 \r\nQ 56.203125 41.796875 56.203125 29.59375 \r\nz\r\nM 47.21875 32.234375 \r\nQ 47.125 39.59375 43.09375 43.984375 \r\nQ 39.0625 48.390625 32.421875 48.390625 \r\nQ 24.90625 48.390625 20.390625 44.140625 \r\nQ 15.875 39.890625 15.1875 32.171875 \r\nz\r\n\" id=\"DejaVuSans-101\"/>\r\n      </defs>\r\n      <g transform=\"translate(108.007813 839.176338)scale(0.1 -0.1)\">\r\n       <use xlink:href=\"#DejaVuSans-83\"/>\r\n       <use x=\"63.476562\" xlink:href=\"#DejaVuSans-105\"/>\r\n       <use x=\"91.259766\" xlink:href=\"#DejaVuSans-122\"/>\r\n       <use x=\"143.75\" xlink:href=\"#DejaVuSans-101\"/>\r\n      </g>\r\n     </g>\r\n    </g>\r\n    <g id=\"ytick_2\">\r\n     <g id=\"line2d_7\">\r\n      <g>\r\n       <use style=\"stroke:#000000;stroke-width:0.8;\" x=\"135.535938\" xlink:href=\"#m9892ed5f96\" y=\"790.956282\"/>\r\n      </g>\r\n     </g>\r\n     <g id=\"text_8\">\r\n      <!-- Parking_slot -->\r\n      <defs>\r\n       <path d=\"M 19.671875 64.796875 \r\nL 19.671875 37.40625 \r\nL 32.078125 37.40625 \r\nQ 38.96875 37.40625 42.71875 40.96875 \r\nQ 46.484375 44.53125 46.484375 51.125 \r\nQ 46.484375 57.671875 42.71875 61.234375 \r\nQ 38.96875 64.796875 32.078125 64.796875 \r\nz\r\nM 9.8125 72.90625 \r\nL 32.078125 72.90625 \r\nQ 44.34375 72.90625 50.609375 67.359375 \r\nQ 56.890625 61.8125 56.890625 51.125 \r\nQ 56.890625 40.328125 50.609375 34.8125 \r\nQ 44.34375 29.296875 32.078125 29.296875 \r\nL 19.671875 29.296875 \r\nL 19.671875 0 \r\nL 9.8125 0 \r\nz\r\n\" id=\"DejaVuSans-80\"/>\r\n       <path d=\"M 34.28125 27.484375 \r\nQ 23.390625 27.484375 19.1875 25 \r\nQ 14.984375 22.515625 14.984375 16.5 \r\nQ 14.984375 11.71875 18.140625 8.90625 \r\nQ 21.296875 6.109375 26.703125 6.109375 \r\nQ 34.1875 6.109375 38.703125 11.40625 \r\nQ 43.21875 16.703125 43.21875 25.484375 \r\nL 43.21875 27.484375 \r\nz\r\nM 52.203125 31.203125 \r\nL 52.203125 0 \r\nL 43.21875 0 \r\nL 43.21875 8.296875 \r\nQ 40.140625 3.328125 35.546875 0.953125 \r\nQ 30.953125 -1.421875 24.3125 -1.421875 \r\nQ 15.921875 -1.421875 10.953125 3.296875 \r\nQ 6 8.015625 6 15.921875 \r\nQ 6 25.140625 12.171875 29.828125 \r\nQ 18.359375 34.515625 30.609375 34.515625 \r\nL 43.21875 34.515625 \r\nL 43.21875 35.40625 \r\nQ 43.21875 41.609375 39.140625 45 \r\nQ 35.0625 48.390625 27.6875 48.390625 \r\nQ 23 48.390625 18.546875 47.265625 \r\nQ 14.109375 46.140625 10.015625 43.890625 \r\nL 10.015625 52.203125 \r\nQ 14.9375 54.109375 19.578125 55.046875 \r\nQ 24.21875 56 28.609375 56 \r\nQ 40.484375 56 46.34375 49.84375 \r\nQ 52.203125 43.703125 52.203125 31.203125 \r\nz\r\n\" id=\"DejaVuSans-97\"/>\r\n       <path d=\"M 41.109375 46.296875 \r\nQ 39.59375 47.171875 37.8125 47.578125 \r\nQ 36.03125 48 33.890625 48 \r\nQ 26.265625 48 22.1875 43.046875 \r\nQ 18.109375 38.09375 18.109375 28.8125 \r\nL 18.109375 0 \r\nL 9.078125 0 \r\nL 9.078125 54.6875 \r\nL 18.109375 54.6875 \r\nL 18.109375 46.1875 \r\nQ 20.953125 51.171875 25.484375 53.578125 \r\nQ 30.03125 56 36.53125 56 \r\nQ 37.453125 56 38.578125 55.875 \r\nQ 39.703125 55.765625 41.0625 55.515625 \r\nz\r\n\" id=\"DejaVuSans-114\"/>\r\n       <path d=\"M 9.078125 75.984375 \r\nL 18.109375 75.984375 \r\nL 18.109375 31.109375 \r\nL 44.921875 54.6875 \r\nL 56.390625 54.6875 \r\nL 27.390625 29.109375 \r\nL 57.625 0 \r\nL 45.90625 0 \r\nL 18.109375 26.703125 \r\nL 18.109375 0 \r\nL 9.078125 0 \r\nz\r\n\" id=\"DejaVuSans-107\"/>\r\n       <path d=\"M 54.890625 33.015625 \r\nL 54.890625 0 \r\nL 45.90625 0 \r\nL 45.90625 32.71875 \r\nQ 45.90625 40.484375 42.875 44.328125 \r\nQ 39.84375 48.1875 33.796875 48.1875 \r\nQ 26.515625 48.1875 22.3125 43.546875 \r\nQ 18.109375 38.921875 18.109375 30.90625 \r\nL 18.109375 0 \r\nL 9.078125 0 \r\nL 9.078125 54.6875 \r\nL 18.109375 54.6875 \r\nL 18.109375 46.1875 \r\nQ 21.34375 51.125 25.703125 53.5625 \r\nQ 30.078125 56 35.796875 56 \r\nQ 45.21875 56 50.046875 50.171875 \r\nQ 54.890625 44.34375 54.890625 33.015625 \r\nz\r\n\" id=\"DejaVuSans-110\"/>\r\n       <path d=\"M 45.40625 27.984375 \r\nQ 45.40625 37.75 41.375 43.109375 \r\nQ 37.359375 48.484375 30.078125 48.484375 \r\nQ 22.859375 48.484375 18.828125 43.109375 \r\nQ 14.796875 37.75 14.796875 27.984375 \r\nQ 14.796875 18.265625 18.828125 12.890625 \r\nQ 22.859375 7.515625 30.078125 7.515625 \r\nQ 37.359375 7.515625 41.375 12.890625 \r\nQ 45.40625 18.265625 45.40625 27.984375 \r\nz\r\nM 54.390625 6.78125 \r\nQ 54.390625 -7.171875 48.1875 -13.984375 \r\nQ 42 -20.796875 29.203125 -20.796875 \r\nQ 24.46875 -20.796875 20.265625 -20.09375 \r\nQ 16.0625 -19.390625 12.109375 -17.921875 \r\nL 12.109375 -9.1875 \r\nQ 16.0625 -11.328125 19.921875 -12.34375 \r\nQ 23.78125 -13.375 27.78125 -13.375 \r\nQ 36.625 -13.375 41.015625 -8.765625 \r\nQ 45.40625 -4.15625 45.40625 5.171875 \r\nL 45.40625 9.625 \r\nQ 42.625 4.78125 38.28125 2.390625 \r\nQ 33.9375 0 27.875 0 \r\nQ 17.828125 0 11.671875 7.65625 \r\nQ 5.515625 15.328125 5.515625 27.984375 \r\nQ 5.515625 40.671875 11.671875 48.328125 \r\nQ 17.828125 56 27.875 56 \r\nQ 33.9375 56 38.28125 53.609375 \r\nQ 42.625 51.21875 45.40625 46.390625 \r\nL 45.40625 54.6875 \r\nL 54.390625 54.6875 \r\nz\r\n\" id=\"DejaVuSans-103\"/>\r\n       <path d=\"M 50.984375 -16.609375 \r\nL 50.984375 -23.578125 \r\nL -0.984375 -23.578125 \r\nL -0.984375 -16.609375 \r\nz\r\n\" id=\"DejaVuSans-95\"/>\r\n       <path d=\"M 44.28125 53.078125 \r\nL 44.28125 44.578125 \r\nQ 40.484375 46.53125 36.375 47.5 \r\nQ 32.28125 48.484375 27.875 48.484375 \r\nQ 21.1875 48.484375 17.84375 46.4375 \r\nQ 14.5 44.390625 14.5 40.28125 \r\nQ 14.5 37.15625 16.890625 35.375 \r\nQ 19.28125 33.59375 26.515625 31.984375 \r\nL 29.59375 31.296875 \r\nQ 39.15625 29.25 43.1875 25.515625 \r\nQ 47.21875 21.78125 47.21875 15.09375 \r\nQ 47.21875 7.46875 41.1875 3.015625 \r\nQ 35.15625 -1.421875 24.609375 -1.421875 \r\nQ 20.21875 -1.421875 15.453125 -0.5625 \r\nQ 10.6875 0.296875 5.421875 2 \r\nL 5.421875 11.28125 \r\nQ 10.40625 8.6875 15.234375 7.390625 \r\nQ 20.0625 6.109375 24.8125 6.109375 \r\nQ 31.15625 6.109375 34.5625 8.28125 \r\nQ 37.984375 10.453125 37.984375 14.40625 \r\nQ 37.984375 18.0625 35.515625 20.015625 \r\nQ 33.0625 21.96875 24.703125 23.78125 \r\nL 21.578125 24.515625 \r\nQ 13.234375 26.265625 9.515625 29.90625 \r\nQ 5.8125 33.546875 5.8125 39.890625 \r\nQ 5.8125 47.609375 11.28125 51.796875 \r\nQ 16.75 56 26.8125 56 \r\nQ 31.78125 56 36.171875 55.265625 \r\nQ 40.578125 54.546875 44.28125 53.078125 \r\nz\r\n\" id=\"DejaVuSans-115\"/>\r\n       <path d=\"M 9.421875 75.984375 \r\nL 18.40625 75.984375 \r\nL 18.40625 0 \r\nL 9.421875 0 \r\nz\r\n\" id=\"DejaVuSans-108\"/>\r\n       <path d=\"M 30.609375 48.390625 \r\nQ 23.390625 48.390625 19.1875 42.75 \r\nQ 14.984375 37.109375 14.984375 27.296875 \r\nQ 14.984375 17.484375 19.15625 11.84375 \r\nQ 23.34375 6.203125 30.609375 6.203125 \r\nQ 37.796875 6.203125 41.984375 11.859375 \r\nQ 46.1875 17.53125 46.1875 27.296875 \r\nQ 46.1875 37.015625 41.984375 42.703125 \r\nQ 37.796875 48.390625 30.609375 48.390625 \r\nz\r\nM 30.609375 56 \r\nQ 42.328125 56 49.015625 48.375 \r\nQ 55.71875 40.765625 55.71875 27.296875 \r\nQ 55.71875 13.875 49.015625 6.21875 \r\nQ 42.328125 -1.421875 30.609375 -1.421875 \r\nQ 18.84375 -1.421875 12.171875 6.21875 \r\nQ 5.515625 13.875 5.515625 27.296875 \r\nQ 5.515625 40.765625 12.171875 48.375 \r\nQ 18.84375 56 30.609375 56 \r\nz\r\n\" id=\"DejaVuSans-111\"/>\r\n       <path d=\"M 18.3125 70.21875 \r\nL 18.3125 54.6875 \r\nL 36.8125 54.6875 \r\nL 36.8125 47.703125 \r\nL 18.3125 47.703125 \r\nL 18.3125 18.015625 \r\nQ 18.3125 11.328125 20.140625 9.421875 \r\nQ 21.96875 7.515625 27.59375 7.515625 \r\nL 36.8125 7.515625 \r\nL 36.8125 0 \r\nL 27.59375 0 \r\nQ 17.1875 0 13.234375 3.875 \r\nQ 9.28125 7.765625 9.28125 18.015625 \r\nL 9.28125 47.703125 \r\nL 2.6875 47.703125 \r\nL 2.6875 54.6875 \r\nL 9.28125 54.6875 \r\nL 9.28125 70.21875 \r\nz\r\n\" id=\"DejaVuSans-116\"/>\r\n      </defs>\r\n      <g transform=\"translate(68.435938 794.755501)scale(0.1 -0.1)\">\r\n       <use xlink:href=\"#DejaVuSans-80\"/>\r\n       <use x=\"55.802734\" xlink:href=\"#DejaVuSans-97\"/>\r\n       <use x=\"117.082031\" xlink:href=\"#DejaVuSans-114\"/>\r\n       <use x=\"158.195312\" xlink:href=\"#DejaVuSans-107\"/>\r\n       <use x=\"216.105469\" xlink:href=\"#DejaVuSans-105\"/>\r\n       <use x=\"243.888672\" xlink:href=\"#DejaVuSans-110\"/>\r\n       <use x=\"307.267578\" xlink:href=\"#DejaVuSans-103\"/>\r\n       <use x=\"370.744141\" xlink:href=\"#DejaVuSans-95\"/>\r\n       <use x=\"420.744141\" xlink:href=\"#DejaVuSans-115\"/>\r\n       <use x=\"472.84375\" xlink:href=\"#DejaVuSans-108\"/>\r\n       <use x=\"500.626953\" xlink:href=\"#DejaVuSans-111\"/>\r\n       <use x=\"561.808594\" xlink:href=\"#DejaVuSans-116\"/>\r\n      </g>\r\n     </g>\r\n    </g>\r\n    <g id=\"ytick_3\">\r\n     <g id=\"line2d_8\">\r\n      <g>\r\n       <use style=\"stroke:#000000;stroke-width:0.8;\" x=\"135.535938\" xlink:href=\"#m9892ed5f96\" y=\"746.535444\"/>\r\n      </g>\r\n     </g>\r\n     <g id=\"text_9\">\r\n      <!-- Air_condition -->\r\n      <defs>\r\n       <path d=\"M 34.1875 63.1875 \r\nL 20.796875 26.90625 \r\nL 47.609375 26.90625 \r\nz\r\nM 28.609375 72.90625 \r\nL 39.796875 72.90625 \r\nL 67.578125 0 \r\nL 57.328125 0 \r\nL 50.6875 18.703125 \r\nL 17.828125 18.703125 \r\nL 11.1875 0 \r\nL 0.78125 0 \r\nz\r\n\" id=\"DejaVuSans-65\"/>\r\n       <path d=\"M 45.40625 46.390625 \r\nL 45.40625 75.984375 \r\nL 54.390625 75.984375 \r\nL 54.390625 0 \r\nL 45.40625 0 \r\nL 45.40625 8.203125 \r\nQ 42.578125 3.328125 38.25 0.953125 \r\nQ 33.9375 -1.421875 27.875 -1.421875 \r\nQ 17.96875 -1.421875 11.734375 6.484375 \r\nQ 5.515625 14.40625 5.515625 27.296875 \r\nQ 5.515625 40.1875 11.734375 48.09375 \r\nQ 17.96875 56 27.875 56 \r\nQ 33.9375 56 38.25 53.625 \r\nQ 42.578125 51.265625 45.40625 46.390625 \r\nz\r\nM 14.796875 27.296875 \r\nQ 14.796875 17.390625 18.875 11.75 \r\nQ 22.953125 6.109375 30.078125 6.109375 \r\nQ 37.203125 6.109375 41.296875 11.75 \r\nQ 45.40625 17.390625 45.40625 27.296875 \r\nQ 45.40625 37.203125 41.296875 42.84375 \r\nQ 37.203125 48.484375 30.078125 48.484375 \r\nQ 22.953125 48.484375 18.875 42.84375 \r\nQ 14.796875 37.203125 14.796875 27.296875 \r\nz\r\n\" id=\"DejaVuSans-100\"/>\r\n      </defs>\r\n      <g transform=\"translate(63.570313 750.334663)scale(0.1 -0.1)\">\r\n       <use xlink:href=\"#DejaVuSans-65\"/>\r\n       <use x=\"68.408203\" xlink:href=\"#DejaVuSans-105\"/>\r\n       <use x=\"96.191406\" xlink:href=\"#DejaVuSans-114\"/>\r\n       <use x=\"137.304688\" xlink:href=\"#DejaVuSans-95\"/>\r\n       <use x=\"187.304688\" xlink:href=\"#DejaVuSans-99\"/>\r\n       <use x=\"242.285156\" xlink:href=\"#DejaVuSans-111\"/>\r\n       <use x=\"303.466797\" xlink:href=\"#DejaVuSans-110\"/>\r\n       <use x=\"366.845703\" xlink:href=\"#DejaVuSans-100\"/>\r\n       <use x=\"430.322266\" xlink:href=\"#DejaVuSans-105\"/>\r\n       <use x=\"458.105469\" xlink:href=\"#DejaVuSans-116\"/>\r\n       <use x=\"497.314453\" xlink:href=\"#DejaVuSans-105\"/>\r\n       <use x=\"525.097656\" xlink:href=\"#DejaVuSans-111\"/>\r\n       <use x=\"586.279297\" xlink:href=\"#DejaVuSans-110\"/>\r\n      </g>\r\n     </g>\r\n    </g>\r\n    <g id=\"ytick_4\">\r\n     <g id=\"line2d_9\">\r\n      <g>\r\n       <use style=\"stroke:#000000;stroke-width:0.8;\" x=\"135.535938\" xlink:href=\"#m9892ed5f96\" y=\"702.114607\"/>\r\n      </g>\r\n     </g>\r\n     <g id=\"text_10\">\r\n      <!-- Heater_shower -->\r\n      <defs>\r\n       <path d=\"M 9.8125 72.90625 \r\nL 19.671875 72.90625 \r\nL 19.671875 43.015625 \r\nL 55.515625 43.015625 \r\nL 55.515625 72.90625 \r\nL 65.375 72.90625 \r\nL 65.375 0 \r\nL 55.515625 0 \r\nL 55.515625 34.71875 \r\nL 19.671875 34.71875 \r\nL 19.671875 0 \r\nL 9.8125 0 \r\nz\r\n\" id=\"DejaVuSans-72\"/>\r\n       <path d=\"M 54.890625 33.015625 \r\nL 54.890625 0 \r\nL 45.90625 0 \r\nL 45.90625 32.71875 \r\nQ 45.90625 40.484375 42.875 44.328125 \r\nQ 39.84375 48.1875 33.796875 48.1875 \r\nQ 26.515625 48.1875 22.3125 43.546875 \r\nQ 18.109375 38.921875 18.109375 30.90625 \r\nL 18.109375 0 \r\nL 9.078125 0 \r\nL 9.078125 75.984375 \r\nL 18.109375 75.984375 \r\nL 18.109375 46.1875 \r\nQ 21.34375 51.125 25.703125 53.5625 \r\nQ 30.078125 56 35.796875 56 \r\nQ 45.21875 56 50.046875 50.171875 \r\nQ 54.890625 44.34375 54.890625 33.015625 \r\nz\r\n\" id=\"DejaVuSans-104\"/>\r\n       <path d=\"M 4.203125 54.6875 \r\nL 13.1875 54.6875 \r\nL 24.421875 12.015625 \r\nL 35.59375 54.6875 \r\nL 46.1875 54.6875 \r\nL 57.421875 12.015625 \r\nL 68.609375 54.6875 \r\nL 77.59375 54.6875 \r\nL 63.28125 0 \r\nL 52.6875 0 \r\nL 40.921875 44.828125 \r\nL 29.109375 0 \r\nL 18.5 0 \r\nz\r\n\" id=\"DejaVuSans-119\"/>\r\n      </defs>\r\n      <g transform=\"translate(53.442188 705.913825)scale(0.1 -0.1)\">\r\n       <use xlink:href=\"#DejaVuSans-72\"/>\r\n       <use x=\"75.195312\" xlink:href=\"#DejaVuSans-101\"/>\r\n       <use x=\"136.71875\" xlink:href=\"#DejaVuSans-97\"/>\r\n       <use x=\"197.998047\" xlink:href=\"#DejaVuSans-116\"/>\r\n       <use x=\"237.207031\" xlink:href=\"#DejaVuSans-101\"/>\r\n       <use x=\"298.730469\" xlink:href=\"#DejaVuSans-114\"/>\r\n       <use x=\"339.84375\" xlink:href=\"#DejaVuSans-95\"/>\r\n       <use x=\"389.84375\" xlink:href=\"#DejaVuSans-115\"/>\r\n       <use x=\"441.943359\" xlink:href=\"#DejaVuSans-104\"/>\r\n       <use x=\"505.322266\" xlink:href=\"#DejaVuSans-111\"/>\r\n       <use x=\"566.503906\" xlink:href=\"#DejaVuSans-119\"/>\r\n       <use x=\"648.291016\" xlink:href=\"#DejaVuSans-101\"/>\r\n       <use x=\"709.814453\" xlink:href=\"#DejaVuSans-114\"/>\r\n      </g>\r\n     </g>\r\n    </g>\r\n    <g id=\"ytick_5\">\r\n     <g id=\"line2d_10\">\r\n      <g>\r\n       <use style=\"stroke:#000000;stroke-width:0.8;\" x=\"135.535938\" xlink:href=\"#m9892ed5f96\" y=\"657.693769\"/>\r\n      </g>\r\n     </g>\r\n     <g id=\"text_11\">\r\n      <!-- Furnish -->\r\n      <defs>\r\n       <path d=\"M 9.8125 72.90625 \r\nL 51.703125 72.90625 \r\nL 51.703125 64.59375 \r\nL 19.671875 64.59375 \r\nL 19.671875 43.109375 \r\nL 48.578125 43.109375 \r\nL 48.578125 34.8125 \r\nL 19.671875 34.8125 \r\nL 19.671875 0 \r\nL 9.8125 0 \r\nz\r\n\" id=\"DejaVuSans-70\"/>\r\n       <path d=\"M 8.5 21.578125 \r\nL 8.5 54.6875 \r\nL 17.484375 54.6875 \r\nL 17.484375 21.921875 \r\nQ 17.484375 14.15625 20.5 10.265625 \r\nQ 23.53125 6.390625 29.59375 6.390625 \r\nQ 36.859375 6.390625 41.078125 11.03125 \r\nQ 45.3125 15.671875 45.3125 23.6875 \r\nL 45.3125 54.6875 \r\nL 54.296875 54.6875 \r\nL 54.296875 0 \r\nL 45.3125 0 \r\nL 45.3125 8.40625 \r\nQ 42.046875 3.421875 37.71875 1 \r\nQ 33.40625 -1.421875 27.6875 -1.421875 \r\nQ 18.265625 -1.421875 13.375 4.4375 \r\nQ 8.5 10.296875 8.5 21.578125 \r\nz\r\nM 31.109375 56 \r\nz\r\n\" id=\"DejaVuSans-117\"/>\r\n      </defs>\r\n      <g transform=\"translate(92.398438 661.492988)scale(0.1 -0.1)\">\r\n       <use xlink:href=\"#DejaVuSans-70\"/>\r\n       <use x=\"52.019531\" xlink:href=\"#DejaVuSans-117\"/>\r\n       <use x=\"115.398438\" xlink:href=\"#DejaVuSans-114\"/>\r\n       <use x=\"154.761719\" xlink:href=\"#DejaVuSans-110\"/>\r\n       <use x=\"218.140625\" xlink:href=\"#DejaVuSans-105\"/>\r\n       <use x=\"245.923828\" xlink:href=\"#DejaVuSans-115\"/>\r\n       <use x=\"298.023438\" xlink:href=\"#DejaVuSans-104\"/>\r\n      </g>\r\n     </g>\r\n    </g>\r\n    <g id=\"ytick_6\">\r\n     <g id=\"line2d_11\">\r\n      <g>\r\n       <use style=\"stroke:#000000;stroke-width:0.8;\" x=\"135.535938\" xlink:href=\"#m9892ed5f96\" y=\"613.272932\"/>\r\n      </g>\r\n     </g>\r\n     <g id=\"text_12\">\r\n      <!-- Inner_toilet -->\r\n      <defs>\r\n       <path d=\"M 9.8125 72.90625 \r\nL 19.671875 72.90625 \r\nL 19.671875 0 \r\nL 9.8125 0 \r\nz\r\n\" id=\"DejaVuSans-73\"/>\r\n      </defs>\r\n      <g transform=\"translate(71.978125 617.07215)scale(0.1 -0.1)\">\r\n       <use xlink:href=\"#DejaVuSans-73\"/>\r\n       <use x=\"29.492188\" xlink:href=\"#DejaVuSans-110\"/>\r\n       <use x=\"92.871094\" xlink:href=\"#DejaVuSans-110\"/>\r\n       <use x=\"156.25\" xlink:href=\"#DejaVuSans-101\"/>\r\n       <use x=\"217.773438\" xlink:href=\"#DejaVuSans-114\"/>\r\n       <use x=\"258.886719\" xlink:href=\"#DejaVuSans-95\"/>\r\n       <use x=\"308.886719\" xlink:href=\"#DejaVuSans-116\"/>\r\n       <use x=\"348.095703\" xlink:href=\"#DejaVuSans-111\"/>\r\n       <use x=\"409.277344\" xlink:href=\"#DejaVuSans-105\"/>\r\n       <use x=\"437.060547\" xlink:href=\"#DejaVuSans-108\"/>\r\n       <use x=\"464.84375\" xlink:href=\"#DejaVuSans-101\"/>\r\n       <use x=\"526.367188\" xlink:href=\"#DejaVuSans-116\"/>\r\n      </g>\r\n     </g>\r\n    </g>\r\n    <g id=\"ytick_7\">\r\n     <g id=\"line2d_12\">\r\n      <g>\r\n       <use style=\"stroke:#000000;stroke-width:0.8;\" x=\"135.535938\" xlink:href=\"#m9892ed5f96\" y=\"568.852094\"/>\r\n      </g>\r\n     </g>\r\n     <g id=\"text_13\">\r\n      <!-- Size_total_bool -->\r\n      <defs>\r\n       <path d=\"M 48.6875 27.296875 \r\nQ 48.6875 37.203125 44.609375 42.84375 \r\nQ 40.53125 48.484375 33.40625 48.484375 \r\nQ 26.265625 48.484375 22.1875 42.84375 \r\nQ 18.109375 37.203125 18.109375 27.296875 \r\nQ 18.109375 17.390625 22.1875 11.75 \r\nQ 26.265625 6.109375 33.40625 6.109375 \r\nQ 40.53125 6.109375 44.609375 11.75 \r\nQ 48.6875 17.390625 48.6875 27.296875 \r\nz\r\nM 18.109375 46.390625 \r\nQ 20.953125 51.265625 25.265625 53.625 \r\nQ 29.59375 56 35.59375 56 \r\nQ 45.5625 56 51.78125 48.09375 \r\nQ 58.015625 40.1875 58.015625 27.296875 \r\nQ 58.015625 14.40625 51.78125 6.484375 \r\nQ 45.5625 -1.421875 35.59375 -1.421875 \r\nQ 29.59375 -1.421875 25.265625 0.953125 \r\nQ 20.953125 3.328125 18.109375 8.203125 \r\nL 18.109375 0 \r\nL 9.078125 0 \r\nL 9.078125 75.984375 \r\nL 18.109375 75.984375 \r\nz\r\n\" id=\"DejaVuSans-98\"/>\r\n      </defs>\r\n      <g transform=\"translate(53.778125 572.651313)scale(0.1 -0.1)\">\r\n       <use xlink:href=\"#DejaVuSans-83\"/>\r\n       <use x=\"63.476562\" xlink:href=\"#DejaVuSans-105\"/>\r\n       <use x=\"91.259766\" xlink:href=\"#DejaVuSans-122\"/>\r\n       <use x=\"143.75\" xlink:href=\"#DejaVuSans-101\"/>\r\n       <use x=\"205.273438\" xlink:href=\"#DejaVuSans-95\"/>\r\n       <use x=\"255.273438\" xlink:href=\"#DejaVuSans-116\"/>\r\n       <use x=\"294.482422\" xlink:href=\"#DejaVuSans-111\"/>\r\n       <use x=\"355.664062\" xlink:href=\"#DejaVuSans-116\"/>\r\n       <use x=\"394.873047\" xlink:href=\"#DejaVuSans-97\"/>\r\n       <use x=\"456.152344\" xlink:href=\"#DejaVuSans-108\"/>\r\n       <use x=\"483.935547\" xlink:href=\"#DejaVuSans-95\"/>\r\n       <use x=\"533.935547\" xlink:href=\"#DejaVuSans-98\"/>\r\n       <use x=\"597.412109\" xlink:href=\"#DejaVuSans-111\"/>\r\n       <use x=\"658.59375\" xlink:href=\"#DejaVuSans-111\"/>\r\n       <use x=\"719.775391\" xlink:href=\"#DejaVuSans-108\"/>\r\n      </g>\r\n     </g>\r\n    </g>\r\n    <g id=\"ytick_8\">\r\n     <g id=\"line2d_13\">\r\n      <g>\r\n       <use style=\"stroke:#000000;stroke-width:0.8;\" x=\"135.535938\" xlink:href=\"#m9892ed5f96\" y=\"524.431256\"/>\r\n      </g>\r\n     </g>\r\n     <g id=\"text_14\">\r\n      <!-- dist -->\r\n      <g transform=\"translate(110.279688 528.230475)scale(0.1 -0.1)\">\r\n       <use xlink:href=\"#DejaVuSans-100\"/>\r\n       <use x=\"63.476562\" xlink:href=\"#DejaVuSans-105\"/>\r\n       <use x=\"91.259766\" xlink:href=\"#DejaVuSans-115\"/>\r\n       <use x=\"143.359375\" xlink:href=\"#DejaVuSans-116\"/>\r\n      </g>\r\n     </g>\r\n    </g>\r\n    <g id=\"ytick_9\">\r\n     <g id=\"line2d_14\">\r\n      <g>\r\n       <use style=\"stroke:#000000;stroke-width:0.8;\" x=\"135.535938\" xlink:href=\"#m9892ed5f96\" y=\"480.010419\"/>\r\n      </g>\r\n     </g>\r\n     <g id=\"text_15\">\r\n      <!-- num_hospital -->\r\n      <defs>\r\n       <path d=\"M 52 44.1875 \r\nQ 55.375 50.25 60.0625 53.125 \r\nQ 64.75 56 71.09375 56 \r\nQ 79.640625 56 84.28125 50.015625 \r\nQ 88.921875 44.046875 88.921875 33.015625 \r\nL 88.921875 0 \r\nL 79.890625 0 \r\nL 79.890625 32.71875 \r\nQ 79.890625 40.578125 77.09375 44.375 \r\nQ 74.3125 48.1875 68.609375 48.1875 \r\nQ 61.625 48.1875 57.5625 43.546875 \r\nQ 53.515625 38.921875 53.515625 30.90625 \r\nL 53.515625 0 \r\nL 44.484375 0 \r\nL 44.484375 32.71875 \r\nQ 44.484375 40.625 41.703125 44.40625 \r\nQ 38.921875 48.1875 33.109375 48.1875 \r\nQ 26.21875 48.1875 22.15625 43.53125 \r\nQ 18.109375 38.875 18.109375 30.90625 \r\nL 18.109375 0 \r\nL 9.078125 0 \r\nL 9.078125 54.6875 \r\nL 18.109375 54.6875 \r\nL 18.109375 46.1875 \r\nQ 21.1875 51.21875 25.484375 53.609375 \r\nQ 29.78125 56 35.6875 56 \r\nQ 41.65625 56 45.828125 52.96875 \r\nQ 50 49.953125 52 44.1875 \r\nz\r\n\" id=\"DejaVuSans-109\"/>\r\n       <path d=\"M 18.109375 8.203125 \r\nL 18.109375 -20.796875 \r\nL 9.078125 -20.796875 \r\nL 9.078125 54.6875 \r\nL 18.109375 54.6875 \r\nL 18.109375 46.390625 \r\nQ 20.953125 51.265625 25.265625 53.625 \r\nQ 29.59375 56 35.59375 56 \r\nQ 45.5625 56 51.78125 48.09375 \r\nQ 58.015625 40.1875 58.015625 27.296875 \r\nQ 58.015625 14.40625 51.78125 6.484375 \r\nQ 45.5625 -1.421875 35.59375 -1.421875 \r\nQ 29.59375 -1.421875 25.265625 0.953125 \r\nQ 20.953125 3.328125 18.109375 8.203125 \r\nz\r\nM 48.6875 27.296875 \r\nQ 48.6875 37.203125 44.609375 42.84375 \r\nQ 40.53125 48.484375 33.40625 48.484375 \r\nQ 26.265625 48.484375 22.1875 42.84375 \r\nQ 18.109375 37.203125 18.109375 27.296875 \r\nQ 18.109375 17.390625 22.1875 11.75 \r\nQ 26.265625 6.109375 33.40625 6.109375 \r\nQ 40.53125 6.109375 44.609375 11.75 \r\nQ 48.6875 17.390625 48.6875 27.296875 \r\nz\r\n\" id=\"DejaVuSans-112\"/>\r\n      </defs>\r\n      <g transform=\"translate(61.501563 483.809638)scale(0.1 -0.1)\">\r\n       <use xlink:href=\"#DejaVuSans-110\"/>\r\n       <use x=\"63.378906\" xlink:href=\"#DejaVuSans-117\"/>\r\n       <use x=\"126.757812\" xlink:href=\"#DejaVuSans-109\"/>\r\n       <use x=\"224.169922\" xlink:href=\"#DejaVuSans-95\"/>\r\n       <use x=\"274.169922\" xlink:href=\"#DejaVuSans-104\"/>\r\n       <use x=\"337.548828\" xlink:href=\"#DejaVuSans-111\"/>\r\n       <use x=\"398.730469\" xlink:href=\"#DejaVuSans-115\"/>\r\n       <use x=\"450.830078\" xlink:href=\"#DejaVuSans-112\"/>\r\n       <use x=\"514.306641\" xlink:href=\"#DejaVuSans-105\"/>\r\n       <use x=\"542.089844\" xlink:href=\"#DejaVuSans-116\"/>\r\n       <use x=\"581.298828\" xlink:href=\"#DejaVuSans-97\"/>\r\n       <use x=\"642.578125\" xlink:href=\"#DejaVuSans-108\"/>\r\n      </g>\r\n     </g>\r\n    </g>\r\n    <g id=\"ytick_10\">\r\n     <g id=\"line2d_15\">\r\n      <g>\r\n       <use style=\"stroke:#000000;stroke-width:0.8;\" x=\"135.535938\" xlink:href=\"#m9892ed5f96\" y=\"435.589581\"/>\r\n      </g>\r\n     </g>\r\n     <g id=\"text_16\">\r\n      <!-- num_building -->\r\n      <g transform=\"translate(61.065625 439.3888)scale(0.1 -0.1)\">\r\n       <use xlink:href=\"#DejaVuSans-110\"/>\r\n       <use x=\"63.378906\" xlink:href=\"#DejaVuSans-117\"/>\r\n       <use x=\"126.757812\" xlink:href=\"#DejaVuSans-109\"/>\r\n       <use x=\"224.169922\" xlink:href=\"#DejaVuSans-95\"/>\r\n       <use x=\"274.169922\" xlink:href=\"#DejaVuSans-98\"/>\r\n       <use x=\"337.646484\" xlink:href=\"#DejaVuSans-117\"/>\r\n       <use x=\"401.025391\" xlink:href=\"#DejaVuSans-105\"/>\r\n       <use x=\"428.808594\" xlink:href=\"#DejaVuSans-108\"/>\r\n       <use x=\"456.591797\" xlink:href=\"#DejaVuSans-100\"/>\r\n       <use x=\"520.068359\" xlink:href=\"#DejaVuSans-105\"/>\r\n       <use x=\"547.851562\" xlink:href=\"#DejaVuSans-110\"/>\r\n       <use x=\"611.230469\" xlink:href=\"#DejaVuSans-103\"/>\r\n      </g>\r\n     </g>\r\n    </g>\r\n    <g id=\"ytick_11\">\r\n     <g id=\"line2d_16\">\r\n      <g>\r\n       <use style=\"stroke:#000000;stroke-width:0.8;\" x=\"135.535938\" xlink:href=\"#m9892ed5f96\" y=\"391.168744\"/>\r\n      </g>\r\n     </g>\r\n     <g id=\"text_17\">\r\n      <!-- num_school -->\r\n      <g transform=\"translate(69.059375 394.967962)scale(0.1 -0.1)\">\r\n       <use xlink:href=\"#DejaVuSans-110\"/>\r\n       <use x=\"63.378906\" xlink:href=\"#DejaVuSans-117\"/>\r\n       <use x=\"126.757812\" xlink:href=\"#DejaVuSans-109\"/>\r\n       <use x=\"224.169922\" xlink:href=\"#DejaVuSans-95\"/>\r\n       <use x=\"274.169922\" xlink:href=\"#DejaVuSans-115\"/>\r\n       <use x=\"326.269531\" xlink:href=\"#DejaVuSans-99\"/>\r\n       <use x=\"381.25\" xlink:href=\"#DejaVuSans-104\"/>\r\n       <use x=\"444.628906\" xlink:href=\"#DejaVuSans-111\"/>\r\n       <use x=\"505.810547\" xlink:href=\"#DejaVuSans-111\"/>\r\n       <use x=\"566.992188\" xlink:href=\"#DejaVuSans-108\"/>\r\n      </g>\r\n     </g>\r\n    </g>\r\n    <g id=\"ytick_12\">\r\n     <g id=\"line2d_17\">\r\n      <g>\r\n       <use style=\"stroke:#000000;stroke-width:0.8;\" x=\"135.535938\" xlink:href=\"#m9892ed5f96\" y=\"346.747906\"/>\r\n      </g>\r\n     </g>\r\n     <g id=\"text_18\">\r\n      <!-- Kind_CCMN -->\r\n      <defs>\r\n       <path d=\"M 9.8125 72.90625 \r\nL 19.671875 72.90625 \r\nL 19.671875 42.09375 \r\nL 52.390625 72.90625 \r\nL 65.09375 72.90625 \r\nL 28.90625 38.921875 \r\nL 67.671875 0 \r\nL 54.6875 0 \r\nL 19.671875 35.109375 \r\nL 19.671875 0 \r\nL 9.8125 0 \r\nz\r\n\" id=\"DejaVuSans-75\"/>\r\n       <path d=\"M 64.40625 67.28125 \r\nL 64.40625 56.890625 \r\nQ 59.421875 61.53125 53.78125 63.8125 \r\nQ 48.140625 66.109375 41.796875 66.109375 \r\nQ 29.296875 66.109375 22.65625 58.46875 \r\nQ 16.015625 50.828125 16.015625 36.375 \r\nQ 16.015625 21.96875 22.65625 14.328125 \r\nQ 29.296875 6.6875 41.796875 6.6875 \r\nQ 48.140625 6.6875 53.78125 8.984375 \r\nQ 59.421875 11.28125 64.40625 15.921875 \r\nL 64.40625 5.609375 \r\nQ 59.234375 2.09375 53.4375 0.328125 \r\nQ 47.65625 -1.421875 41.21875 -1.421875 \r\nQ 24.65625 -1.421875 15.125 8.703125 \r\nQ 5.609375 18.84375 5.609375 36.375 \r\nQ 5.609375 53.953125 15.125 64.078125 \r\nQ 24.65625 74.21875 41.21875 74.21875 \r\nQ 47.75 74.21875 53.53125 72.484375 \r\nQ 59.328125 70.75 64.40625 67.28125 \r\nz\r\n\" id=\"DejaVuSans-67\"/>\r\n       <path d=\"M 9.8125 72.90625 \r\nL 23.09375 72.90625 \r\nL 55.421875 11.921875 \r\nL 55.421875 72.90625 \r\nL 64.984375 72.90625 \r\nL 64.984375 0 \r\nL 51.703125 0 \r\nL 19.390625 60.984375 \r\nL 19.390625 0 \r\nL 9.8125 0 \r\nz\r\n\" id=\"DejaVuSans-78\"/>\r\n      </defs>\r\n      <g transform=\"translate(71.439063 350.547125)scale(0.1 -0.1)\">\r\n       <use xlink:href=\"#DejaVuSans-75\"/>\r\n       <use x=\"65.576172\" xlink:href=\"#DejaVuSans-105\"/>\r\n       <use x=\"93.359375\" xlink:href=\"#DejaVuSans-110\"/>\r\n       <use x=\"156.738281\" xlink:href=\"#DejaVuSans-100\"/>\r\n       <use x=\"220.214844\" xlink:href=\"#DejaVuSans-95\"/>\r\n       <use x=\"270.214844\" xlink:href=\"#DejaVuSans-67\"/>\r\n       <use x=\"340.039062\" xlink:href=\"#DejaVuSans-67\"/>\r\n       <use x=\"409.863281\" xlink:href=\"#DejaVuSans-77\"/>\r\n       <use x=\"496.142578\" xlink:href=\"#DejaVuSans-78\"/>\r\n      </g>\r\n     </g>\r\n    </g>\r\n    <g id=\"ytick_13\">\r\n     <g id=\"line2d_18\">\r\n      <g>\r\n       <use style=\"stroke:#000000;stroke-width:0.8;\" x=\"135.535938\" xlink:href=\"#m9892ed5f96\" y=\"302.327068\"/>\r\n      </g>\r\n     </g>\r\n     <g id=\"text_19\">\r\n      <!-- Kind_Chung cư -->\r\n      <defs>\r\n       <path d=\"M 48.34375 48.53125 \r\nL 48.34375 54.34375 \r\nQ 51.3125 52.140625 53.453125 51.09375 \r\nQ 55.609375 50.046875 57.125 50.046875 \r\nQ 59.375 50.046875 60.5 51.390625 \r\nQ 61.625 52.734375 61.625 55.359375 \r\nQ 61.625 56.921875 61.25 58.4375 \r\nQ 60.890625 59.953125 60.15625 61.46875 \r\nL 66.65625 61.46875 \r\nQ 67.140625 59.609375 67.375 57.953125 \r\nQ 67.625 56.296875 67.625 54.828125 \r\nQ 67.625 48.875 65.5 46.0625 \r\nQ 63.375 43.25 58.84375 43.25 \r\nQ 56.5 43.25 53.9375 44.546875 \r\nQ 51.375 45.84375 48.34375 48.53125 \r\nz\r\nM 8.59375 21.578125 \r\nL 8.59375 54.6875 \r\nL 17.578125 54.6875 \r\nL 17.578125 21.921875 \r\nQ 17.578125 14.15625 20.609375 10.265625 \r\nQ 23.640625 6.390625 29.6875 6.390625 \r\nQ 36.96875 6.390625 41.1875 11.03125 \r\nQ 45.40625 15.671875 45.40625 23.6875 \r\nL 45.40625 54.6875 \r\nL 54.390625 54.6875 \r\nL 54.390625 0 \r\nL 45.40625 0 \r\nL 45.40625 8.40625 \r\nQ 42.140625 3.421875 37.8125 1 \r\nQ 33.5 -1.421875 27.78125 -1.421875 \r\nQ 18.359375 -1.421875 13.46875 4.4375 \r\nQ 8.59375 10.296875 8.59375 21.578125 \r\nz\r\nM 31.203125 56 \r\nz\r\n\" id=\"DejaVuSans-432\"/>\r\n      </defs>\r\n      <g transform=\"translate(54.15625 306.126287)scale(0.1 -0.1)\">\r\n       <use xlink:href=\"#DejaVuSans-75\"/>\r\n       <use x=\"65.576172\" xlink:href=\"#DejaVuSans-105\"/>\r\n       <use x=\"93.359375\" xlink:href=\"#DejaVuSans-110\"/>\r\n       <use x=\"156.738281\" xlink:href=\"#DejaVuSans-100\"/>\r\n       <use x=\"220.214844\" xlink:href=\"#DejaVuSans-95\"/>\r\n       <use x=\"270.214844\" xlink:href=\"#DejaVuSans-67\"/>\r\n       <use x=\"340.039062\" xlink:href=\"#DejaVuSans-104\"/>\r\n       <use x=\"403.417969\" xlink:href=\"#DejaVuSans-117\"/>\r\n       <use x=\"466.796875\" xlink:href=\"#DejaVuSans-110\"/>\r\n       <use x=\"530.175781\" xlink:href=\"#DejaVuSans-103\"/>\r\n       <use x=\"593.652344\" xlink:href=\"#DejaVuSans-32\"/>\r\n       <use x=\"625.439453\" xlink:href=\"#DejaVuSans-99\"/>\r\n       <use x=\"680.419922\" xlink:href=\"#DejaVuSans-432\"/>\r\n      </g>\r\n     </g>\r\n    </g>\r\n    <g id=\"ytick_14\">\r\n     <g id=\"line2d_19\">\r\n      <g>\r\n       <use style=\"stroke:#000000;stroke-width:0.8;\" x=\"135.535938\" xlink:href=\"#m9892ed5f96\" y=\"257.906231\"/>\r\n      </g>\r\n     </g>\r\n     <g id=\"text_20\">\r\n      <!-- Kind_Homestay -->\r\n      <defs>\r\n       <path d=\"M 32.171875 -5.078125 \r\nQ 28.375 -14.84375 24.75 -17.8125 \r\nQ 21.140625 -20.796875 15.09375 -20.796875 \r\nL 7.90625 -20.796875 \r\nL 7.90625 -13.28125 \r\nL 13.1875 -13.28125 \r\nQ 16.890625 -13.28125 18.9375 -11.515625 \r\nQ 21 -9.765625 23.484375 -3.21875 \r\nL 25.09375 0.875 \r\nL 2.984375 54.6875 \r\nL 12.5 54.6875 \r\nL 29.59375 11.921875 \r\nL 46.6875 54.6875 \r\nL 56.203125 54.6875 \r\nz\r\n\" id=\"DejaVuSans-121\"/>\r\n      </defs>\r\n      <g transform=\"translate(50.804688 261.70545)scale(0.1 -0.1)\">\r\n       <use xlink:href=\"#DejaVuSans-75\"/>\r\n       <use x=\"65.576172\" xlink:href=\"#DejaVuSans-105\"/>\r\n       <use x=\"93.359375\" xlink:href=\"#DejaVuSans-110\"/>\r\n       <use x=\"156.738281\" xlink:href=\"#DejaVuSans-100\"/>\r\n       <use x=\"220.214844\" xlink:href=\"#DejaVuSans-95\"/>\r\n       <use x=\"270.214844\" xlink:href=\"#DejaVuSans-72\"/>\r\n       <use x=\"345.410156\" xlink:href=\"#DejaVuSans-111\"/>\r\n       <use x=\"406.591797\" xlink:href=\"#DejaVuSans-109\"/>\r\n       <use x=\"504.003906\" xlink:href=\"#DejaVuSans-101\"/>\r\n       <use x=\"565.527344\" xlink:href=\"#DejaVuSans-115\"/>\r\n       <use x=\"617.626953\" xlink:href=\"#DejaVuSans-116\"/>\r\n       <use x=\"656.835938\" xlink:href=\"#DejaVuSans-97\"/>\r\n       <use x=\"718.115234\" xlink:href=\"#DejaVuSans-121\"/>\r\n      </g>\r\n     </g>\r\n    </g>\r\n    <g id=\"ytick_15\">\r\n     <g id=\"line2d_20\">\r\n      <g>\r\n       <use style=\"stroke:#000000;stroke-width:0.8;\" x=\"135.535938\" xlink:href=\"#m9892ed5f96\" y=\"213.485393\"/>\r\n      </g>\r\n     </g>\r\n     <g id=\"text_21\">\r\n      <!-- Kind_Phòng trọ -->\r\n      <defs>\r\n       <path d=\"M 30.609375 48.390625 \r\nQ 23.390625 48.390625 19.1875 42.75 \r\nQ 14.984375 37.109375 14.984375 27.296875 \r\nQ 14.984375 17.484375 19.15625 11.84375 \r\nQ 23.34375 6.203125 30.609375 6.203125 \r\nQ 37.796875 6.203125 41.984375 11.859375 \r\nQ 46.1875 17.53125 46.1875 27.296875 \r\nQ 46.1875 37.015625 41.984375 42.703125 \r\nQ 37.796875 48.390625 30.609375 48.390625 \r\nz\r\nM 30.609375 56 \r\nQ 42.328125 56 49.015625 48.375 \r\nQ 55.71875 40.765625 55.71875 27.296875 \r\nQ 55.71875 13.875 49.015625 6.21875 \r\nQ 42.328125 -1.421875 30.609375 -1.421875 \r\nQ 18.84375 -1.421875 12.171875 6.21875 \r\nQ 5.515625 13.875 5.515625 27.296875 \r\nQ 5.515625 40.765625 12.171875 48.375 \r\nQ 18.84375 56 30.609375 56 \r\nz\r\nM 23.53125 79.984375 \r\nL 37.3125 61.71875 \r\nL 29.828125 61.71875 \r\nL 13.921875 79.984375 \r\nz\r\n\" id=\"DejaVuSans-242\"/>\r\n       <path d=\"M 30.609375 48.390625 \r\nQ 23.390625 48.390625 19.1875 42.75 \r\nQ 14.984375 37.109375 14.984375 27.296875 \r\nQ 14.984375 17.484375 19.15625 11.84375 \r\nQ 23.34375 6.203125 30.609375 6.203125 \r\nQ 37.796875 6.203125 41.984375 11.859375 \r\nQ 46.1875 17.53125 46.1875 27.296875 \r\nQ 46.1875 37.015625 41.984375 42.703125 \r\nQ 37.796875 48.390625 30.609375 48.390625 \r\nz\r\nM 30.609375 56 \r\nQ 42.328125 56 49.015625 48.375 \r\nQ 55.71875 40.765625 55.71875 27.296875 \r\nQ 55.71875 13.875 49.015625 6.21875 \r\nQ 42.328125 -1.421875 30.609375 -1.421875 \r\nQ 18.84375 -1.421875 12.171875 6.21875 \r\nQ 5.515625 13.875 5.515625 27.296875 \r\nQ 5.515625 40.765625 12.171875 48.375 \r\nQ 18.84375 56 30.609375 56 \r\nz\r\nM 26.03125 -6.890625 \r\nL 35.015625 -6.890625 \r\nL 35.015625 -18.3125 \r\nL 26.03125 -18.3125 \r\nz\r\n\" id=\"DejaVuSans-7885\"/>\r\n      </defs>\r\n      <g transform=\"translate(53.014063 217.484612)scale(0.1 -0.1)\">\r\n       <use xlink:href=\"#DejaVuSans-75\"/>\r\n       <use x=\"65.576172\" xlink:href=\"#DejaVuSans-105\"/>\r\n       <use x=\"93.359375\" xlink:href=\"#DejaVuSans-110\"/>\r\n       <use x=\"156.738281\" xlink:href=\"#DejaVuSans-100\"/>\r\n       <use x=\"220.214844\" xlink:href=\"#DejaVuSans-95\"/>\r\n       <use x=\"270.214844\" xlink:href=\"#DejaVuSans-80\"/>\r\n       <use x=\"330.517578\" xlink:href=\"#DejaVuSans-104\"/>\r\n       <use x=\"393.896484\" xlink:href=\"#DejaVuSans-242\"/>\r\n       <use x=\"455.078125\" xlink:href=\"#DejaVuSans-110\"/>\r\n       <use x=\"518.457031\" xlink:href=\"#DejaVuSans-103\"/>\r\n       <use x=\"581.933594\" xlink:href=\"#DejaVuSans-32\"/>\r\n       <use x=\"613.720703\" xlink:href=\"#DejaVuSans-116\"/>\r\n       <use x=\"652.929688\" xlink:href=\"#DejaVuSans-114\"/>\r\n       <use x=\"694.042969\" xlink:href=\"#DejaVuSans-7885\"/>\r\n      </g>\r\n     </g>\r\n    </g>\r\n    <g id=\"ytick_16\">\r\n     <g id=\"line2d_21\">\r\n      <g>\r\n       <use style=\"stroke:#000000;stroke-width:0.8;\" x=\"135.535938\" xlink:href=\"#m9892ed5f96\" y=\"169.064556\"/>\r\n      </g>\r\n     </g>\r\n     <g id=\"text_22\">\r\n      <!-- Source_chotot -->\r\n      <g transform=\"translate(57.279688 172.863774)scale(0.1 -0.1)\">\r\n       <use xlink:href=\"#DejaVuSans-83\"/>\r\n       <use x=\"63.476562\" xlink:href=\"#DejaVuSans-111\"/>\r\n       <use x=\"124.658203\" xlink:href=\"#DejaVuSans-117\"/>\r\n       <use x=\"188.037109\" xlink:href=\"#DejaVuSans-114\"/>\r\n       <use x=\"226.900391\" xlink:href=\"#DejaVuSans-99\"/>\r\n       <use x=\"281.880859\" xlink:href=\"#DejaVuSans-101\"/>\r\n       <use x=\"343.404297\" xlink:href=\"#DejaVuSans-95\"/>\r\n       <use x=\"393.404297\" xlink:href=\"#DejaVuSans-99\"/>\r\n       <use x=\"448.384766\" xlink:href=\"#DejaVuSans-104\"/>\r\n       <use x=\"511.763672\" xlink:href=\"#DejaVuSans-111\"/>\r\n       <use x=\"572.945312\" xlink:href=\"#DejaVuSans-116\"/>\r\n       <use x=\"612.154297\" xlink:href=\"#DejaVuSans-111\"/>\r\n       <use x=\"673.335938\" xlink:href=\"#DejaVuSans-116\"/>\r\n      </g>\r\n     </g>\r\n    </g>\r\n    <g id=\"ytick_17\">\r\n     <g id=\"line2d_22\">\r\n      <g>\r\n       <use style=\"stroke:#000000;stroke-width:0.8;\" x=\"135.535938\" xlink:href=\"#m9892ed5f96\" y=\"124.643718\"/>\r\n      </g>\r\n     </g>\r\n     <g id=\"text_23\">\r\n      <!-- Source_phongtro123 -->\r\n      <g transform=\"translate(24.690625 128.442937)scale(0.1 -0.1)\">\r\n       <use xlink:href=\"#DejaVuSans-83\"/>\r\n       <use x=\"63.476562\" xlink:href=\"#DejaVuSans-111\"/>\r\n       <use x=\"124.658203\" xlink:href=\"#DejaVuSans-117\"/>\r\n       <use x=\"188.037109\" xlink:href=\"#DejaVuSans-114\"/>\r\n       <use x=\"226.900391\" xlink:href=\"#DejaVuSans-99\"/>\r\n       <use x=\"281.880859\" xlink:href=\"#DejaVuSans-101\"/>\r\n       <use x=\"343.404297\" xlink:href=\"#DejaVuSans-95\"/>\r\n       <use x=\"393.404297\" xlink:href=\"#DejaVuSans-112\"/>\r\n       <use x=\"456.880859\" xlink:href=\"#DejaVuSans-104\"/>\r\n       <use x=\"520.259766\" xlink:href=\"#DejaVuSans-111\"/>\r\n       <use x=\"581.441406\" xlink:href=\"#DejaVuSans-110\"/>\r\n       <use x=\"644.820312\" xlink:href=\"#DejaVuSans-103\"/>\r\n       <use x=\"708.296875\" xlink:href=\"#DejaVuSans-116\"/>\r\n       <use x=\"747.505859\" xlink:href=\"#DejaVuSans-114\"/>\r\n       <use x=\"786.369141\" xlink:href=\"#DejaVuSans-111\"/>\r\n       <use x=\"847.550781\" xlink:href=\"#DejaVuSans-49\"/>\r\n       <use x=\"911.173828\" xlink:href=\"#DejaVuSans-50\"/>\r\n       <use x=\"974.796875\" xlink:href=\"#DejaVuSans-51\"/>\r\n      </g>\r\n     </g>\r\n    </g>\r\n    <g id=\"ytick_18\">\r\n     <g id=\"line2d_23\">\r\n      <g>\r\n       <use style=\"stroke:#000000;stroke-width:0.8;\" x=\"135.535938\" xlink:href=\"#m9892ed5f96\" y=\"80.22288\"/>\r\n      </g>\r\n     </g>\r\n     <g id=\"text_24\">\r\n      <!-- Source_thuephongtro -->\r\n      <g transform=\"translate(21.029688 84.022099)scale(0.1 -0.1)\">\r\n       <use xlink:href=\"#DejaVuSans-83\"/>\r\n       <use x=\"63.476562\" xlink:href=\"#DejaVuSans-111\"/>\r\n       <use x=\"124.658203\" xlink:href=\"#DejaVuSans-117\"/>\r\n       <use x=\"188.037109\" xlink:href=\"#DejaVuSans-114\"/>\r\n       <use x=\"226.900391\" xlink:href=\"#DejaVuSans-99\"/>\r\n       <use x=\"281.880859\" xlink:href=\"#DejaVuSans-101\"/>\r\n       <use x=\"343.404297\" xlink:href=\"#DejaVuSans-95\"/>\r\n       <use x=\"393.404297\" xlink:href=\"#DejaVuSans-116\"/>\r\n       <use x=\"432.613281\" xlink:href=\"#DejaVuSans-104\"/>\r\n       <use x=\"495.992188\" xlink:href=\"#DejaVuSans-117\"/>\r\n       <use x=\"559.371094\" xlink:href=\"#DejaVuSans-101\"/>\r\n       <use x=\"620.894531\" xlink:href=\"#DejaVuSans-112\"/>\r\n       <use x=\"684.371094\" xlink:href=\"#DejaVuSans-104\"/>\r\n       <use x=\"747.75\" xlink:href=\"#DejaVuSans-111\"/>\r\n       <use x=\"808.931641\" xlink:href=\"#DejaVuSans-110\"/>\r\n       <use x=\"872.310547\" xlink:href=\"#DejaVuSans-103\"/>\r\n       <use x=\"935.787109\" xlink:href=\"#DejaVuSans-116\"/>\r\n       <use x=\"974.996094\" xlink:href=\"#DejaVuSans-114\"/>\r\n       <use x=\"1013.859375\" xlink:href=\"#DejaVuSans-111\"/>\r\n      </g>\r\n     </g>\r\n    </g>\r\n    <g id=\"text_25\">\r\n     <!-- Các thuộc tính -->\r\n     <defs>\r\n      <path d=\"M 34.28125 27.484375 \r\nQ 23.390625 27.484375 19.1875 25 \r\nQ 14.984375 22.515625 14.984375 16.5 \r\nQ 14.984375 11.71875 18.140625 8.90625 \r\nQ 21.296875 6.109375 26.703125 6.109375 \r\nQ 34.1875 6.109375 38.703125 11.40625 \r\nQ 43.21875 16.703125 43.21875 25.484375 \r\nL 43.21875 27.484375 \r\nz\r\nM 52.203125 31.203125 \r\nL 52.203125 0 \r\nL 43.21875 0 \r\nL 43.21875 8.296875 \r\nQ 40.140625 3.328125 35.546875 0.953125 \r\nQ 30.953125 -1.421875 24.3125 -1.421875 \r\nQ 15.921875 -1.421875 10.953125 3.296875 \r\nQ 6 8.015625 6 15.921875 \r\nQ 6 25.140625 12.171875 29.828125 \r\nQ 18.359375 34.515625 30.609375 34.515625 \r\nL 43.21875 34.515625 \r\nL 43.21875 35.40625 \r\nQ 43.21875 41.609375 39.140625 45 \r\nQ 35.0625 48.390625 27.6875 48.390625 \r\nQ 23 48.390625 18.546875 47.265625 \r\nQ 14.109375 46.140625 10.015625 43.890625 \r\nL 10.015625 52.203125 \r\nQ 14.9375 54.109375 19.578125 55.046875 \r\nQ 24.21875 56 28.609375 56 \r\nQ 40.484375 56 46.34375 49.84375 \r\nQ 52.203125 43.703125 52.203125 31.203125 \r\nz\r\nM 35.796875 79.984375 \r\nL 45.515625 79.984375 \r\nL 29.59375 61.625 \r\nL 22.125 61.625 \r\nz\r\n\" id=\"DejaVuSans-225\"/>\r\n      <path d=\"M 20.703125 79.984375 \r\nL 30.421875 79.984375 \r\nL 14.5 61.625 \r\nL 7.03125 61.625 \r\nz\r\nM 9.421875 54.6875 \r\nL 18.40625 54.6875 \r\nL 18.40625 0 \r\nL 9.421875 0 \r\nz\r\nM 13.921875 56 \r\nz\r\n\" id=\"DejaVuSans-237\"/>\r\n     </defs>\r\n     <g transform=\"translate(14.95 494.075781)rotate(-90)scale(0.1 -0.1)\">\r\n      <use xlink:href=\"#DejaVuSans-67\"/>\r\n      <use x=\"69.824219\" xlink:href=\"#DejaVuSans-225\"/>\r\n      <use x=\"131.103516\" xlink:href=\"#DejaVuSans-99\"/>\r\n      <use x=\"186.083984\" xlink:href=\"#DejaVuSans-32\"/>\r\n      <use x=\"217.871094\" xlink:href=\"#DejaVuSans-116\"/>\r\n      <use x=\"257.080078\" xlink:href=\"#DejaVuSans-104\"/>\r\n      <use x=\"320.458984\" xlink:href=\"#DejaVuSans-117\"/>\r\n      <use x=\"383.837891\" xlink:href=\"#DejaVuSans-7897\"/>\r\n      <use x=\"445.019531\" xlink:href=\"#DejaVuSans-99\"/>\r\n      <use x=\"500\" xlink:href=\"#DejaVuSans-32\"/>\r\n      <use x=\"531.787109\" xlink:href=\"#DejaVuSans-116\"/>\r\n      <use x=\"570.996094\" xlink:href=\"#DejaVuSans-237\"/>\r\n      <use x=\"598.779297\" xlink:href=\"#DejaVuSans-110\"/>\r\n      <use x=\"662.158203\" xlink:href=\"#DejaVuSans-104\"/>\r\n     </g>\r\n    </g>\r\n   </g>\r\n   <g id=\"patch_21\">\r\n    <path d=\"M 135.535938 892.68 \r\nL 135.535938 22.92 \r\n\" style=\"fill:none;stroke:#000000;stroke-linecap:square;stroke-linejoin:miter;stroke-width:0.8;\"/>\r\n   </g>\r\n   <g id=\"patch_22\">\r\n    <path d=\"M 581.935938 892.68 \r\nL 581.935938 22.92 \r\n\" style=\"fill:none;stroke:#000000;stroke-linecap:square;stroke-linejoin:miter;stroke-width:0.8;\"/>\r\n   </g>\r\n   <g id=\"patch_23\">\r\n    <path d=\"M 135.535938 892.68 \r\nL 581.935938 892.68 \r\n\" style=\"fill:none;stroke:#000000;stroke-linecap:square;stroke-linejoin:miter;stroke-width:0.8;\"/>\r\n   </g>\r\n   <g id=\"patch_24\">\r\n    <path d=\"M 135.535938 22.92 \r\nL 581.935938 22.92 \r\n\" style=\"fill:none;stroke:#000000;stroke-linecap:square;stroke-linejoin:miter;stroke-width:0.8;\"/>\r\n   </g>\r\n   <g id=\"text_26\">\r\n    <!-- Mức độ quan trọng của các thuộc tính -->\r\n    <defs>\r\n     <path d=\"M 14.796875 27.296875 \r\nQ 14.796875 17.390625 18.875 11.75 \r\nQ 22.953125 6.109375 30.078125 6.109375 \r\nQ 37.203125 6.109375 41.296875 11.75 \r\nQ 45.40625 17.390625 45.40625 27.296875 \r\nQ 45.40625 37.203125 41.296875 42.84375 \r\nQ 37.203125 48.484375 30.078125 48.484375 \r\nQ 22.953125 48.484375 18.875 42.84375 \r\nQ 14.796875 37.203125 14.796875 27.296875 \r\nz\r\nM 45.40625 8.203125 \r\nQ 42.578125 3.328125 38.25 0.953125 \r\nQ 33.9375 -1.421875 27.875 -1.421875 \r\nQ 17.96875 -1.421875 11.734375 6.484375 \r\nQ 5.515625 14.40625 5.515625 27.296875 \r\nQ 5.515625 40.1875 11.734375 48.09375 \r\nQ 17.96875 56 27.875 56 \r\nQ 33.9375 56 38.25 53.625 \r\nQ 42.578125 51.265625 45.40625 46.390625 \r\nL 45.40625 54.6875 \r\nL 54.390625 54.6875 \r\nL 54.390625 -20.796875 \r\nL 45.40625 -20.796875 \r\nz\r\n\" id=\"DejaVuSans-113\"/>\r\n     <path d=\"M 8.5 21.578125 \r\nL 8.5 54.6875 \r\nL 17.484375 54.6875 \r\nL 17.484375 21.921875 \r\nQ 17.484375 14.15625 20.5 10.265625 \r\nQ 23.53125 6.390625 29.59375 6.390625 \r\nQ 36.859375 6.390625 41.078125 11.03125 \r\nQ 45.3125 15.671875 45.3125 23.6875 \r\nL 45.3125 54.6875 \r\nL 54.296875 54.6875 \r\nL 54.296875 0 \r\nL 45.3125 0 \r\nL 45.3125 8.40625 \r\nQ 42.046875 3.421875 37.71875 1 \r\nQ 33.40625 -1.421875 27.6875 -1.421875 \r\nQ 18.265625 -1.421875 13.375 4.4375 \r\nQ 8.5 10.296875 8.5 21.578125 \r\nz\r\nM 31.109375 56 \r\nz\r\nM 21.296875 78.515625 \r\nQ 26.765625 81 31.890625 81 \r\nQ 36.96875 81 40.0625 78.921875 \r\nQ 43.171875 76.859375 43.171875 73.578125 \r\nQ 43.171875 70.609375 38.875 67.4375 \r\nL 36.71875 65.875 \r\nQ 35.015625 64.59375 34.8125 64.15625 \r\nQ 34.46875 63.375 34.46875 61.8125 \r\nL 28.65625 61.8125 \r\nL 28.65625 62.40625 \r\nQ 28.65625 64.359375 29.390625 65.671875 \r\nQ 30.125 67 32.625 68.796875 \r\nL 34.8125 70.453125 \r\nQ 37.0625 72.125 37.0625 74.078125 \r\nQ 37.0625 75.09375 35.546875 75.96875 \r\nQ 34.03125 76.859375 30.5625 76.859375 \r\nQ 26.171875 76.859375 21.296875 74.3125 \r\nz\r\n\" id=\"DejaVuSans-7911\"/>\r\n    </defs>\r\n    <g transform=\"translate(244.831562 16.92)scale(0.12 -0.12)\">\r\n     <use xlink:href=\"#DejaVuSans-77\"/>\r\n     <use x=\"86.279297\" xlink:href=\"#DejaVuSans-7913\"/>\r\n     <use x=\"149.658203\" xlink:href=\"#DejaVuSans-99\"/>\r\n     <use x=\"204.638672\" xlink:href=\"#DejaVuSans-32\"/>\r\n     <use x=\"236.425781\" xlink:href=\"#DejaVuSans-273\"/>\r\n     <use x=\"299.902344\" xlink:href=\"#DejaVuSans-7897\"/>\r\n     <use x=\"361.083984\" xlink:href=\"#DejaVuSans-32\"/>\r\n     <use x=\"392.871094\" xlink:href=\"#DejaVuSans-113\"/>\r\n     <use x=\"456.347656\" xlink:href=\"#DejaVuSans-117\"/>\r\n     <use x=\"519.726562\" xlink:href=\"#DejaVuSans-97\"/>\r\n     <use x=\"581.005859\" xlink:href=\"#DejaVuSans-110\"/>\r\n     <use x=\"644.384766\" xlink:href=\"#DejaVuSans-32\"/>\r\n     <use x=\"676.171875\" xlink:href=\"#DejaVuSans-116\"/>\r\n     <use x=\"715.380859\" xlink:href=\"#DejaVuSans-114\"/>\r\n     <use x=\"756.494141\" xlink:href=\"#DejaVuSans-7885\"/>\r\n     <use x=\"817.675781\" xlink:href=\"#DejaVuSans-110\"/>\r\n     <use x=\"881.054688\" xlink:href=\"#DejaVuSans-103\"/>\r\n     <use x=\"944.53125\" xlink:href=\"#DejaVuSans-32\"/>\r\n     <use x=\"976.318359\" xlink:href=\"#DejaVuSans-99\"/>\r\n     <use x=\"1031.298828\" xlink:href=\"#DejaVuSans-7911\"/>\r\n     <use x=\"1094.677734\" xlink:href=\"#DejaVuSans-97\"/>\r\n     <use x=\"1155.957031\" xlink:href=\"#DejaVuSans-32\"/>\r\n     <use x=\"1187.744141\" xlink:href=\"#DejaVuSans-99\"/>\r\n     <use x=\"1242.724609\" xlink:href=\"#DejaVuSans-225\"/>\r\n     <use x=\"1304.003906\" xlink:href=\"#DejaVuSans-99\"/>\r\n     <use x=\"1358.984375\" xlink:href=\"#DejaVuSans-32\"/>\r\n     <use x=\"1390.771484\" xlink:href=\"#DejaVuSans-116\"/>\r\n     <use x=\"1429.980469\" xlink:href=\"#DejaVuSans-104\"/>\r\n     <use x=\"1493.359375\" xlink:href=\"#DejaVuSans-117\"/>\r\n     <use x=\"1556.738281\" xlink:href=\"#DejaVuSans-7897\"/>\r\n     <use x=\"1617.919922\" xlink:href=\"#DejaVuSans-99\"/>\r\n     <use x=\"1672.900391\" xlink:href=\"#DejaVuSans-32\"/>\r\n     <use x=\"1704.6875\" xlink:href=\"#DejaVuSans-116\"/>\r\n     <use x=\"1743.896484\" xlink:href=\"#DejaVuSans-237\"/>\r\n     <use x=\"1771.679688\" xlink:href=\"#DejaVuSans-110\"/>\r\n     <use x=\"1835.058594\" xlink:href=\"#DejaVuSans-104\"/>\r\n    </g>\r\n   </g>\r\n  </g>\r\n </g>\r\n <defs>\r\n  <clipPath id=\"p809cdcf480\">\r\n   <rect height=\"869.76\" width=\"446.4\" x=\"135.535938\" y=\"22.92\"/>\r\n  </clipPath>\r\n </defs>\r\n</svg>\r\n",
      "image/png": "[encoded data removed]"
     },
     "metadata": {
      "needs_background": "light"
     }
    }
   ],
   "source": [
    "import matplotlib.pyplot as plt\n",
    "\n",
    "features_name = data_processed.drop(['lat', 'lng', 'Price'], axis = 1).columns.values\n",
    "n = len(features_name)\n",
    "print(features_name)\n",
    "plt.figure(figsize=(8,16))\n",
    "plt.barh(range(n), rf.feature_importances_)\n",
    "plt.yticks(range(n), features_name)\n",
    "plt.title(\"Mức độ quan trọng của các thuộc tính\")\n",
    "plt.ylabel(\"Các thuộc tính\")\n",
    "plt.xlabel(\"Mức độ\")"
   ]
  },
  {
   "cell_type": "code",
   "execution_count": 36,
   "metadata": {},
   "outputs": [
    {
     "output_type": "stream",
     "name": "stdout",
     "text": [
      "{'n_estimators': [200, 400, 600, 800, 1000, 1200, 1400, 1600, 1800, 2000], 'max_features': ['auto', 'sqrt'], 'max_depth': [10, 20, 30, 40, 50, 60, 70, 80, 90, 100, None], 'min_samples_split': [2, 5, 10], 'min_samples_leaf': [1, 2, 4], 'bootstrap': [True, False]}\n"
     ]
    }
   ],
   "source": [
    "from sklearn.model_selection import RandomizedSearchCV\n",
    "\n",
    "n_estimators = [int(x) for x in np.linspace(start = 200, stop = 2000, num = 10)]\n",
    "max_features = ['auto', 'sqrt']\n",
    "max_depth = [int(x) for x in np.linspace(10, 100, num = 10)]\n",
    "max_depth.append(None)\n",
    "min_samples_split = [2, 5, 10]\n",
    "min_samples_leaf = [1, 2, 4]\n",
    "bootstrap = [True, False]\n",
    "random_grid = {'n_estimators': n_estimators,\n",
    "               'max_features': max_features,\n",
    "               'max_depth': max_depth,\n",
    "               'min_samples_split': min_samples_split,\n",
    "               'min_samples_leaf': min_samples_leaf,\n",
    "               'bootstrap': bootstrap}\n",
    "print(random_grid)"
   ]
  },
  {
   "cell_type": "code",
   "execution_count": 37,
   "metadata": {},
   "outputs": [
    {
     "output_type": "stream",
     "name": "stdout",
     "text": [
      "Fitting 5 folds for each of 100 candidates, totalling 500 fits\n",
      "[Parallel(n_jobs=-1)]: Using backend LokyBackend with 8 concurrent workers.\n",
      "[Parallel(n_jobs=-1)]: Done  25 tasks      | elapsed:  1.5min\n",
      "[Parallel(n_jobs=-1)]: Done 146 tasks      | elapsed: 11.8min\n",
      "[Parallel(n_jobs=-1)]: Done 349 tasks      | elapsed: 31.1min\n",
      "[Parallel(n_jobs=-1)]: Done 500 out of 500 | elapsed: 45.3min finished\n"
     ]
    },
    {
     "output_type": "execute_result",
     "data": {
      "text/plain": [
       "RandomizedSearchCV(cv=5, estimator=RandomForestRegressor(), n_iter=100,\n",
       "                   n_jobs=-1,\n",
       "                   param_distributions={'bootstrap': [True, False],\n",
       "                                        'max_depth': [10, 20, 30, 40, 50, 60,\n",
       "                                                      70, 80, 90, 100, None],\n",
       "                                        'max_features': ['auto', 'sqrt'],\n",
       "                                        'min_samples_leaf': [1, 2, 4],\n",
       "                                        'min_samples_split': [2, 5, 10],\n",
       "                                        'n_estimators': [200, 400, 600, 800,\n",
       "                                                         1000, 1200, 1400, 1600,\n",
       "                                                         1800, 2000]},\n",
       "                   random_state=42, verbose=2)"
      ]
     },
     "metadata": {},
     "execution_count": 37
    }
   ],
   "source": [
    "rf = RandomForestRegressor()\n",
    "rf_random = RandomizedSearchCV(estimator = rf, param_distributions = random_grid, n_iter = 100, cv = 5, verbose=2, random_state=42, n_jobs = -1)\n",
    "rf_random.fit(features, target)"
   ]
  },
  {
   "cell_type": "code",
   "execution_count": 39,
   "metadata": {},
   "outputs": [
    {
     "output_type": "execute_result",
     "data": {
      "text/plain": [
       "{'n_estimators': 400,\n",
       " 'min_samples_split': 2,\n",
       " 'min_samples_leaf': 4,\n",
       " 'max_features': 'sqrt',\n",
       " 'max_depth': 70,\n",
       " 'bootstrap': True}"
      ]
     },
     "metadata": {},
     "execution_count": 39
    }
   ],
   "source": [
    "rf_random.best_params_"
   ]
  },
  {
   "cell_type": "code",
   "execution_count": 40,
   "metadata": {},
   "outputs": [
    {
     "output_type": "stream",
     "name": "stdout",
     "text": [
      "Mean Absolute Error: 0.19\n",
      "Accuracy: 88.94 %.\n",
      "Mean Absolute Error: 0.2\n",
      "Accuracy: 87.64 %.\n",
      "Mean Absolute Error: 0.2\n",
      "Accuracy: 87.87 %.\n",
      "Mean Absolute Error: 0.2\n",
      "Accuracy: 88.3 %.\n",
      "Mean Absolute Error: 0.17\n",
      "Accuracy: 89.66 %.\n",
      "Average accuracy: 88.48343249669027\n",
      "Average MAE: 0.192\n"
     ]
    }
   ],
   "source": [
    "accuracies = []\n",
    "maes = []\n",
    "for train_index, test_index in kf.split(features):\n",
    "    data_train = features[train_index]\n",
    "    target_train = target[train_index]\n",
    "\n",
    "    data_test = features[test_index]\n",
    "    target_test = target[test_index]\n",
    "    \n",
    "\n",
    "    rf = RandomForestRegressor(n_estimators = 400, random_state=42,\n",
    "                                min_samples_split=2,\n",
    "                                min_samples_leaf=4,\n",
    "                                max_features='sqrt',\n",
    "                                max_depth=70,\n",
    "                                criterion='mse',\n",
    "                                bootstrap=True)\n",
    "    rf.fit(data_train, target_train)\n",
    "\n",
    "    predictions = rf.predict(data_test)\n",
    "\n",
    "    errors = abs(np.clip(predictions - target_test, a_min=0, a_max=None))\n",
    "\n",
    "    mae = round(np.mean(errors), 2)\n",
    "    print('Mean Absolute Error:', mae)\n",
    "    mape = 100 * errors / target_test\n",
    "    accuracy = 100 - np.mean(mape)\n",
    "    print('Accuracy:', round(accuracy, 2), '%.')\n",
    "\n",
    "    accuracies.append(accuracy)\n",
    "    maes.append(mae)\n",
    "\n",
    "average_accuracy = np.mean(accuracies)\n",
    "print('Average accuracy:', average_accuracy)\n",
    "print('Average MAE:', np.mean(maes))"
   ]
  },
  {
   "cell_type": "code",
   "execution_count": null,
   "metadata": {},
   "outputs": [],
   "source": []
  }
 ],
 "metadata": {
  "kernelspec": {
   "display_name": "Python 3",
   "language": "python",
   "name": "python3"
  },
  "language_info": {
   "codemirror_mode": {
    "name": "ipython",
    "version": 3
   },
   "file_extension": ".py",
   "mimetype": "text/x-python",
   "name": "python",
   "nbconvert_exporter": "python",
   "pygments_lexer": "ipython3",
   "version": "3.8.3-final"
  }
 },
 "nbformat": 4,
 "nbformat_minor": 4
}