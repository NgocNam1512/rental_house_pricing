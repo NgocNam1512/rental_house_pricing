{
 "cells": [
  {
   "cell_type": "code",
   "execution_count": 29,
   "metadata": {},
   "outputs": [],
   "source": [
    "import pandas as pd\n",
    "import numpy as np\n",
    "import seaborn as sns"
   ]
  },
  {
   "cell_type": "code",
   "execution_count": 30,
   "metadata": {},
   "outputs": [
    {
     "output_type": "stream",
     "name": "stdout",
     "text": [
      "<class 'pandas.core.frame.DataFrame'>\nRangeIndex: 37617 entries, 0 to 37616\nData columns (total 23 columns):\n #   Column           Non-Null Count  Dtype  \n---  ------           --------------  -----  \n 0   Index            37617 non-null  int64  \n 1   Price            36924 non-null  float64\n 2   Description      37148 non-null  object \n 3   Kind             37617 non-null  object \n 4   Location         37617 non-null  object \n 5   Size             37591 non-null  float64\n 6   Parking_slot     13480 non-null  float64\n 7   Air_condition    16624 non-null  float64\n 8   Heater_shower    13175 non-null  float64\n 9   Furnish          12529 non-null  float64\n 10  Inner_toilet     9299 non-null   float64\n 11  Size_total_bool  5539 non-null   float64\n 12  Source           37617 non-null  object \n 13  ward             37617 non-null  object \n 14  district         37617 non-null  object \n 15  province         37617 non-null  object \n 16  lat              37617 non-null  float64\n 17  lng              37617 non-null  float64\n 18  ward_string      37617 non-null  object \n 19  dist             37617 non-null  float64\n 20  num_hospital     11264 non-null  float64\n 21  num_building     33219 non-null  float64\n 22  num_school       31025 non-null  float64\ndtypes: float64(14), int64(1), object(8)\nmemory usage: 6.6+ MB\n"
     ]
    }
   ],
   "source": [
    "raw = pd.read_csv(\"./all.csv\")\n",
    "raw.info()\n",
    "data = raw.drop(raw.columns.values[0], axis=1)\n",
    "data = data.fillna(0)"
   ]
  },
  {
   "cell_type": "code",
   "execution_count": 31,
   "metadata": {},
   "outputs": [],
   "source": [
    "data.loc[data[\"Kind\"] == \"CCMN\", \"Parking_slot\"] = 1\n",
    "data.loc[data[\"Kind\"] == \"CCMN\", \"Air_condition\"] = 1\n",
    "data.loc[data[\"Kind\"] == \"CCMN\", \"Heater_shower\"] = 1\n",
    "data.loc[data[\"Kind\"] == \"CCMN\", \"Inner_toilet\"] = 1\n",
    "\n",
    "data.loc[data[\"Kind\"] == \"Homestay\", \"Parking_slot\"] = 1\n",
    "data.loc[data[\"Kind\"] == \"Homestay\", \"Air_condition\"] = 1\n",
    "data.loc[data[\"Kind\"] == \"Homestay\", \"Heater_shower\"] = 1"
   ]
  },
  {
   "cell_type": "code",
   "execution_count": 32,
   "metadata": {},
   "outputs": [
    {
     "output_type": "execute_result",
     "data": {
      "text/plain": [
       "count     37617.000000\n",
       "mean        115.213744\n",
       "std        5906.864232\n",
       "min           0.000000\n",
       "25%           2.500000\n",
       "50%          10.000000\n",
       "75%          33.000000\n",
       "max      900000.000000\n",
       "Name: Price, dtype: float64"
      ]
     },
     "metadata": {},
     "execution_count": 32
    }
   ],
   "source": [
    "data['Price'].describe()"
   ]
  },
  {
   "cell_type": "code",
   "execution_count": 33,
   "metadata": {},
   "outputs": [
    {
     "output_type": "execute_result",
     "data": {
      "text/plain": [
       "       Price  Size  Parking_slot  Air_condition  Heater_shower  Furnish  \\\n",
       "25720    4.5  35.0           1.0            1.0            1.0      1.0   \n",
       "25721    1.8  22.0           1.0            0.0            1.0      0.0   \n",
       "25722    2.5  18.0           1.0            0.0            1.0      1.0   \n",
       "25723    2.0  25.0           0.0            0.0            0.0      0.0   \n",
       "25724    2.2  15.0           1.0            1.0            1.0      0.0   \n",
       "...      ...   ...           ...            ...            ...      ...   \n",
       "37612    3.3  25.0           1.0            0.0            1.0      1.0   \n",
       "37613    2.5  20.0           1.0            0.0            0.0      0.0   \n",
       "37614    3.0  34.0           0.0            0.0            1.0      0.0   \n",
       "37615    1.5  15.0           1.0            0.0            0.0      0.0   \n",
       "37616   35.0  60.0           0.0            0.0            0.0      0.0   \n",
       "\n",
       "       Inner_toilet  Size_total_bool      dist  num_hospital  num_building  \\\n",
       "25720           1.0              0.0  5.995406           0.0           0.0   \n",
       "25721           0.0              0.0  2.975723           0.0          10.0   \n",
       "25722           0.0              0.0  5.036005           0.0           1.0   \n",
       "25723           0.0              0.0  4.385111           0.0           0.0   \n",
       "25724           1.0              0.0  4.385111           0.0           0.0   \n",
       "...             ...              ...       ...           ...           ...   \n",
       "37612           1.0              0.0  6.117014           0.0           2.0   \n",
       "37613           1.0              0.0  6.110135           0.0           0.0   \n",
       "37614           0.0              0.0  7.491218           0.0          14.0   \n",
       "37615           0.0              0.0  7.212244           0.0           6.0   \n",
       "37616           0.0              0.0  1.079575           0.0           0.0   \n",
       "\n",
       "       num_school  Kind_CCMN  Kind_Chung cư  Kind_Homestay  Kind_Phòng trọ  \\\n",
       "25720         1.0          1              0              0               0   \n",
       "25721         1.0          0              0              0               1   \n",
       "25722         0.0          0              0              0               1   \n",
       "25723         0.0          0              0              0               1   \n",
       "25724         0.0          0              0              0               1   \n",
       "...           ...        ...            ...            ...             ...   \n",
       "37612         8.0          0              0              0               1   \n",
       "37613         0.0          0              0              0               1   \n",
       "37614         3.0          0              0              0               1   \n",
       "37615         7.0          0              0              0               1   \n",
       "37616         2.0          0              0              0               1   \n",
       "\n",
       "       Source_alonhadat  Source_chotot  Source_phongtro123  \\\n",
       "25720                 0              0                   1   \n",
       "25721                 0              0                   1   \n",
       "25722                 0              0                   1   \n",
       "25723                 0              0                   1   \n",
       "25724                 0              0                   1   \n",
       "...                 ...            ...                 ...   \n",
       "37612                 0              1                   0   \n",
       "37613                 0              1                   0   \n",
       "37614                 0              1                   0   \n",
       "37615                 0              1                   0   \n",
       "37616                 0              1                   0   \n",
       "\n",
       "       Source_thuephongtro  \n",
       "25720                    0  \n",
       "25721                    0  \n",
       "25722                    0  \n",
       "25723                    0  \n",
       "25724                    0  \n",
       "...                    ...  \n",
       "37612                    0  \n",
       "37613                    0  \n",
       "37614                    0  \n",
       "37615                    0  \n",
       "37616                    0  \n",
       "\n",
       "[11897 rows x 20 columns]"
      ],
      "text/html": "<div>\n<style scoped>\n    .dataframe tbody tr th:only-of-type {\n        vertical-align: middle;\n    }\n\n    .dataframe tbody tr th {\n        vertical-align: top;\n    }\n\n    .dataframe thead th {\n        text-align: right;\n    }\n</style>\n<table border=\"1\" class=\"dataframe\">\n  <thead>\n    <tr style=\"text-align: right;\">\n      <th></th>\n      <th>Price</th>\n      <th>Size</th>\n      <th>Parking_slot</th>\n      <th>Air_condition</th>\n      <th>Heater_shower</th>\n      <th>Furnish</th>\n      <th>Inner_toilet</th>\n      <th>Size_total_bool</th>\n      <th>dist</th>\n      <th>num_hospital</th>\n      <th>num_building</th>\n      <th>num_school</th>\n      <th>Kind_CCMN</th>\n      <th>Kind_Chung cư</th>\n      <th>Kind_Homestay</th>\n      <th>Kind_Phòng trọ</th>\n      <th>Source_alonhadat</th>\n      <th>Source_chotot</th>\n      <th>Source_phongtro123</th>\n      <th>Source_thuephongtro</th>\n    </tr>\n  </thead>\n  <tbody>\n    <tr>\n      <th>25720</th>\n      <td>4.5</td>\n      <td>35.0</td>\n      <td>1.0</td>\n      <td>1.0</td>\n      <td>1.0</td>\n      <td>1.0</td>\n      <td>1.0</td>\n      <td>0.0</td>\n      <td>5.995406</td>\n      <td>0.0</td>\n      <td>0.0</td>\n      <td>1.0</td>\n      <td>1</td>\n      <td>0</td>\n      <td>0</td>\n      <td>0</td>\n      <td>0</td>\n      <td>0</td>\n      <td>1</td>\n      <td>0</td>\n    </tr>\n    <tr>\n      <th>25721</th>\n      <td>1.8</td>\n      <td>22.0</td>\n      <td>1.0</td>\n      <td>0.0</td>\n      <td>1.0</td>\n      <td>0.0</td>\n      <td>0.0</td>\n      <td>0.0</td>\n      <td>2.975723</td>\n      <td>0.0</td>\n      <td>10.0</td>\n      <td>1.0</td>\n      <td>0</td>\n      <td>0</td>\n      <td>0</td>\n      <td>1</td>\n      <td>0</td>\n      <td>0</td>\n      <td>1</td>\n      <td>0</td>\n    </tr>\n    <tr>\n      <th>25722</th>\n      <td>2.5</td>\n      <td>18.0</td>\n      <td>1.0</td>\n      <td>0.0</td>\n      <td>1.0</td>\n      <td>1.0</td>\n      <td>0.0</td>\n      <td>0.0</td>\n      <td>5.036005</td>\n      <td>0.0</td>\n      <td>1.0</td>\n      <td>0.0</td>\n      <td>0</td>\n      <td>0</td>\n      <td>0</td>\n      <td>1</td>\n      <td>0</td>\n      <td>0</td>\n      <td>1</td>\n      <td>0</td>\n    </tr>\n    <tr>\n      <th>25723</th>\n      <td>2.0</td>\n      <td>25.0</td>\n      <td>0.0</td>\n      <td>0.0</td>\n      <td>0.0</td>\n      <td>0.0</td>\n      <td>0.0</td>\n      <td>0.0</td>\n      <td>4.385111</td>\n      <td>0.0</td>\n      <td>0.0</td>\n      <td>0.0</td>\n      <td>0</td>\n      <td>0</td>\n      <td>0</td>\n      <td>1</td>\n      <td>0</td>\n      <td>0</td>\n      <td>1</td>\n      <td>0</td>\n    </tr>\n    <tr>\n      <th>25724</th>\n      <td>2.2</td>\n      <td>15.0</td>\n      <td>1.0</td>\n      <td>1.0</td>\n      <td>1.0</td>\n      <td>0.0</td>\n      <td>1.0</td>\n      <td>0.0</td>\n      <td>4.385111</td>\n      <td>0.0</td>\n      <td>0.0</td>\n      <td>0.0</td>\n      <td>0</td>\n      <td>0</td>\n      <td>0</td>\n      <td>1</td>\n      <td>0</td>\n      <td>0</td>\n      <td>1</td>\n      <td>0</td>\n    </tr>\n    <tr>\n      <th>...</th>\n      <td>...</td>\n      <td>...</td>\n      <td>...</td>\n      <td>...</td>\n      <td>...</td>\n      <td>...</td>\n      <td>...</td>\n      <td>...</td>\n      <td>...</td>\n      <td>...</td>\n      <td>...</td>\n      <td>...</td>\n      <td>...</td>\n      <td>...</td>\n      <td>...</td>\n      <td>...</td>\n      <td>...</td>\n      <td>...</td>\n      <td>...</td>\n      <td>...</td>\n    </tr>\n    <tr>\n      <th>37612</th>\n      <td>3.3</td>\n      <td>25.0</td>\n      <td>1.0</td>\n      <td>0.0</td>\n      <td>1.0</td>\n      <td>1.0</td>\n      <td>1.0</td>\n      <td>0.0</td>\n      <td>6.117014</td>\n      <td>0.0</td>\n      <td>2.0</td>\n      <td>8.0</td>\n      <td>0</td>\n      <td>0</td>\n      <td>0</td>\n      <td>1</td>\n      <td>0</td>\n      <td>1</td>\n      <td>0</td>\n      <td>0</td>\n    </tr>\n    <tr>\n      <th>37613</th>\n      <td>2.5</td>\n      <td>20.0</td>\n      <td>1.0</td>\n      <td>0.0</td>\n      <td>0.0</td>\n      <td>0.0</td>\n      <td>1.0</td>\n      <td>0.0</td>\n      <td>6.110135</td>\n      <td>0.0</td>\n      <td>0.0</td>\n      <td>0.0</td>\n      <td>0</td>\n      <td>0</td>\n      <td>0</td>\n      <td>1</td>\n      <td>0</td>\n      <td>1</td>\n      <td>0</td>\n      <td>0</td>\n    </tr>\n    <tr>\n      <th>37614</th>\n      <td>3.0</td>\n      <td>34.0</td>\n      <td>0.0</td>\n      <td>0.0</td>\n      <td>1.0</td>\n      <td>0.0</td>\n      <td>0.0</td>\n      <td>0.0</td>\n      <td>7.491218</td>\n      <td>0.0</td>\n      <td>14.0</td>\n      <td>3.0</td>\n      <td>0</td>\n      <td>0</td>\n      <td>0</td>\n      <td>1</td>\n      <td>0</td>\n      <td>1</td>\n      <td>0</td>\n      <td>0</td>\n    </tr>\n    <tr>\n      <th>37615</th>\n      <td>1.5</td>\n      <td>15.0</td>\n      <td>1.0</td>\n      <td>0.0</td>\n      <td>0.0</td>\n      <td>0.0</td>\n      <td>0.0</td>\n      <td>0.0</td>\n      <td>7.212244</td>\n      <td>0.0</td>\n      <td>6.0</td>\n      <td>7.0</td>\n      <td>0</td>\n      <td>0</td>\n      <td>0</td>\n      <td>1</td>\n      <td>0</td>\n      <td>1</td>\n      <td>0</td>\n      <td>0</td>\n    </tr>\n    <tr>\n      <th>37616</th>\n      <td>35.0</td>\n      <td>60.0</td>\n      <td>0.0</td>\n      <td>0.0</td>\n      <td>0.0</td>\n      <td>0.0</td>\n      <td>0.0</td>\n      <td>0.0</td>\n      <td>1.079575</td>\n      <td>0.0</td>\n      <td>0.0</td>\n      <td>2.0</td>\n      <td>0</td>\n      <td>0</td>\n      <td>0</td>\n      <td>1</td>\n      <td>0</td>\n      <td>1</td>\n      <td>0</td>\n      <td>0</td>\n    </tr>\n  </tbody>\n</table>\n<p>11897 rows × 20 columns</p>\n</div>"
     },
     "metadata": {},
     "execution_count": 33
    }
   ],
   "source": [
    "data_categorical = data[['Kind', 'Source']]\n",
    "data_float = data.select_dtypes(['float64'])\n",
    "data_categorical_one_hot = pd.get_dummies(data_categorical)\n",
    "data_processed = pd.concat([data_float, data_categorical_one_hot], axis=1)\n",
    "data_processed = data_processed[data_processed['Source_alonhadat'] == 0]\n",
    "data_processed1 = data_processed.drop(['lat', 'lng'], axis=1)\n",
    "data_processed1"
   ]
  },
  {
   "cell_type": "code",
   "execution_count": 34,
   "metadata": {},
   "outputs": [
    {
     "output_type": "stream",
     "name": "stdout",
     "text": [
      "(10428,) (10428, 19) (10428,)\n2.41818314844649\n"
     ]
    }
   ],
   "source": [
    "from sklearn.model_selection import KFold\n",
    "from sklearn.ensemble import RandomForestRegressor, StackingRegressor\n",
    "from sklearn.linear_model import Ridge, Lasso\n",
    "import xgboost as xgb\n",
    "\n",
    "target= np.array(data_processed['Price'])\n",
    "args = np.argwhere((target > 1) & (target < 15)).ravel()\n",
    "features = data_processed1.drop(['Price'], axis = 1)\n",
    "feature_list = list(features.columns)\n",
    "features = np.array(features)\n",
    "\n",
    "target = target[args]\n",
    "features = features[args]\n",
    "print(target.shape, features.shape, args.shape)\n",
    "print(target.mean())\n",
    "kf = KFold(n_splits=5, random_state=42, shuffle=True)"
   ]
  },
  {
   "cell_type": "code",
   "execution_count": 42,
   "metadata": {},
   "outputs": [
    {
     "output_type": "stream",
     "name": "stdout",
     "text": [
      "Mean Absolute Error: 0.25\n",
      "Accuracy: 86.3 %.\n",
      "Mean Absolute Error: 0.25\n",
      "Accuracy: 85.98 %.\n",
      "Mean Absolute Error: 0.26\n",
      "Accuracy: 85.56 %.\n",
      "Mean Absolute Error: 0.24\n",
      "Accuracy: 86.75 %.\n",
      "Mean Absolute Error: 0.22\n",
      "Accuracy: 88.16 %.\n",
      "Average accuracy: 86.55213834098271\n",
      "Average MAE: 0.244\n"
     ]
    }
   ],
   "source": [
    "accuracies = []\n",
    "maes = []\n",
    "for train_index, test_index in kf.split(features):\n",
    "    data_train = features[train_index]\n",
    "    target_train = target[train_index]\n",
    "\n",
    "    data_test = features[test_index]\n",
    "    target_test = target[test_index]\n",
    "    \n",
    "\n",
    "    rf = RandomForestRegressor(n_estimators = 1000, random_state=42,\n",
    "                                criterion='mse', bootstrap=True, n_jobs=12)\n",
    "    rf.fit(data_train, target_train)\n",
    "\n",
    "    predictions = rf.predict(data_test)\n",
    "\n",
    "    errors = abs(np.clip(predictions - target_test, a_min=0, a_max=None))\n",
    "\n",
    "    mae = round(np.mean(errors), 2)\n",
    "    print('Mean Absolute Error:', mae)\n",
    "    mape = 100 * errors / target_test\n",
    "    accuracy = 100 - np.mean(mape)\n",
    "    print('Accuracy:', round(accuracy, 2), '%.')\n",
    "\n",
    "    accuracies.append(accuracy)\n",
    "    maes.append(mae)\n",
    "\n",
    "average_accuracy = np.mean(accuracies)\n",
    "print('Average accuracy:', average_accuracy)\n",
    "print('Average MAE:', np.mean(maes))"
   ]
  },
  {
   "cell_type": "code",
   "execution_count": 43,
   "metadata": {},
   "outputs": [
    {
     "output_type": "stream",
     "name": "stdout",
     "text": [
      "Mean Absolute Error: 0.27\n",
      "Accuracy: 86.33 %.\n",
      "Mean Absolute Error: 0.28\n",
      "Accuracy: 85.15 %.\n",
      "Mean Absolute Error: 0.27\n",
      "Accuracy: 85.66 %.\n",
      "Mean Absolute Error: 0.25\n",
      "Accuracy: 86.62 %.\n",
      "Mean Absolute Error: 0.24\n",
      "Accuracy: 87.49 %.\n",
      "Average accuracy: 86.25182116988796\n",
      "Average MAE: 0.262\n"
     ]
    }
   ],
   "source": [
    "accuracies = []\n",
    "maes = []\n",
    "for train_index, test_index in kf.split(features):\n",
    "    data_train = features[train_index]\n",
    "    target_train = target[train_index]\n",
    "\n",
    "    data_test = features[test_index]\n",
    "    target_test = target[test_index]\n",
    "    \n",
    "\n",
    "    xgb_r = xgb.XGBRegressor(objective ='reg:squarederror', n_jobs=-1, n_estimators=1000, random_state=42)\n",
    "    xgb_r.fit(data_train, target_train)\n",
    "\n",
    "    predictions = xgb_r.predict(data_test)\n",
    "\n",
    "    errors = abs(np.clip(predictions - target_test, a_min=0, a_max=None))\n",
    "\n",
    "    mae = round(np.mean(errors), 2)\n",
    "    print('Mean Absolute Error:', mae)\n",
    "    mape = 100 * errors / target_test\n",
    "    accuracy = 100 - np.mean(mape)\n",
    "    print('Accuracy:', round(accuracy, 2), '%.')\n",
    "\n",
    "    accuracies.append(accuracy)\n",
    "    maes.append(mae)\n",
    "\n",
    "average_accuracy = np.mean(accuracies)\n",
    "print('Average accuracy:', average_accuracy)\n",
    "print('Average MAE:', np.mean(maes))"
   ]
  },
  {
   "cell_type": "code",
   "execution_count": 44,
   "metadata": {},
   "outputs": [
    {
     "output_type": "stream",
     "name": "stdout",
     "text": [
      "Mean Absolute Error: 0.35\nAccuracy: 77.88 %.\nMean Absolute Error: 0.38\nAccuracy: 76.22 %.\nMean Absolute Error: 0.34\nAccuracy: 78.47 %.\nMean Absolute Error: 0.34\nAccuracy: 78.83 %.\nMean Absolute Error: 0.33\nAccuracy: 79.64 %.\nAverage accuracy: 78.2082072137879\nAverage MAE: 0.34800000000000003\n"
     ]
    }
   ],
   "source": [
    "accuracies = []\n",
    "maes = []\n",
    "for train_index, test_index in kf.split(features):\n",
    "    data_train = features[train_index]\n",
    "    target_train = target[train_index]\n",
    "\n",
    "    data_test = features[test_index]\n",
    "    target_test = target[test_index]\n",
    "    \n",
    "\n",
    "    ridge = Ridge()\n",
    "    ridge.fit(data_train, target_train)\n",
    "\n",
    "    predictions = ridge.predict(data_test)\n",
    "\n",
    "    errors = abs(np.clip(predictions - target_test, a_min=0, a_max=None))\n",
    "\n",
    "    mae = round(np.mean(errors), 2)\n",
    "    print('Mean Absolute Error:', mae)\n",
    "    mape = 100 * errors / target_test\n",
    "    accuracy = 100 - np.mean(mape)\n",
    "    print('Accuracy:', round(accuracy, 2), '%.')\n",
    "\n",
    "    accuracies.append(accuracy)\n",
    "    maes.append(mae)\n",
    "\n",
    "average_accuracy = np.mean(accuracies)\n",
    "print('Average accuracy:', average_accuracy)\n",
    "print('Average MAE:', np.mean(maes))"
   ]
  },
  {
   "cell_type": "code",
   "execution_count": 45,
   "metadata": {},
   "outputs": [
    {
     "output_type": "stream",
     "name": "stdout",
     "text": [
      "Mean Absolute Error: 0.37\nAccuracy: 76.42 %.\nMean Absolute Error: 0.39\nAccuracy: 75.13 %.\nMean Absolute Error: 0.36\nAccuracy: 77.01 %.\nMean Absolute Error: 0.35\nAccuracy: 77.71 %.\nMean Absolute Error: 0.35\nAccuracy: 78.28 %.\nAverage accuracy: 76.9115073117272\nAverage MAE: 0.36400000000000005\n"
     ]
    }
   ],
   "source": [
    "accuracies = []\n",
    "maes = []\n",
    "for train_index, test_index in kf.split(features):\n",
    "    data_train = features[train_index]\n",
    "    target_train = target[train_index]\n",
    "\n",
    "    data_test = features[test_index]\n",
    "    target_test = target[test_index]\n",
    "    \n",
    "\n",
    "    lasso = Lasso()\n",
    "    lasso.fit(data_train, target_train)\n",
    "\n",
    "    predictions = lasso.predict(data_test)\n",
    "\n",
    "    errors = abs(np.clip(predictions - target_test, a_min=0, a_max=None))\n",
    "\n",
    "    mae = round(np.mean(errors), 2)\n",
    "    print('Mean Absolute Error:', mae)\n",
    "    mape = 100 * errors / target_test\n",
    "    accuracy = 100 - np.mean(mape)\n",
    "    print('Accuracy:', round(accuracy, 2), '%.')\n",
    "\n",
    "    accuracies.append(accuracy)\n",
    "    maes.append(mae)\n",
    "\n",
    "average_accuracy = np.mean(accuracies)\n",
    "print('Average accuracy:', average_accuracy)\n",
    "print('Average MAE:', np.mean(maes))"
   ]
  },
  {
   "cell_type": "code",
   "execution_count": 46,
   "metadata": {},
   "outputs": [
    {
     "output_type": "stream",
     "name": "stdout",
     "text": [
      "Mean Absolute Error: 0.24\n",
      "Accuracy: 85.92 %.\n",
      "Mean Absolute Error: 0.24\n",
      "Accuracy: 85.58 %.\n",
      "Mean Absolute Error: 0.24\n",
      "Accuracy: 85.67 %.\n",
      "Mean Absolute Error: 0.23\n",
      "Accuracy: 86.7 %.\n",
      "Mean Absolute Error: 0.22\n",
      "Accuracy: 87.38 %.\n",
      "Average accuracy: 86.24946098278772\n",
      "Average MAE: 0.23399999999999999\n"
     ]
    }
   ],
   "source": [
    "estimators = [\n",
    "    ('lasso', Lasso()),\n",
    "    ('ridge', Ridge()),\n",
    "    ('xgboost', xgb.XGBRegressor(objective ='reg:squarederror', n_jobs=-1, n_estimators=1000, random_state=42)),\n",
    "    ('randomforest', RandomForestRegressor(n_estimators = 1000, n_jobs=-1, random_state=42, criterion='mse', bootstrap=True))\n",
    "]\n",
    "\n",
    "accuracies = []\n",
    "maes = []\n",
    "for train_index, test_index in kf.split(features):\n",
    "    data_train = features[train_index]\n",
    "    target_train = target[train_index]\n",
    "\n",
    "    data_test = features[test_index]\n",
    "    target_test = target[test_index]\n",
    "\n",
    "\n",
    "    stack = StackingRegressor(estimators=estimators)\n",
    "    stack.fit(data_train, target_train)\n",
    "\n",
    "    predictions = stack.predict(data_test)\n",
    "\n",
    "    errors = abs(np.clip(predictions - target_test, a_min=0, a_max=None))\n",
    "\n",
    "    mae = round(np.mean(errors), 2)\n",
    "    print('Mean Absolute Error:', mae)\n",
    "    mape = 100 * errors / target_test\n",
    "    accuracy = 100 - np.mean(mape)\n",
    "    print('Accuracy:', round(accuracy, 2), '%.')\n",
    "\n",
    "    accuracies.append(accuracy)\n",
    "    maes.append(mae)\n",
    "\n",
    "average_accuracy = np.mean(accuracies)\n",
    "print('Average accuracy:', average_accuracy)\n",
    "print('Average MAE:', np.mean(maes))"
   ]
  },
  {
   "cell_type": "code",
   "execution_count": 36,
   "metadata": {},
   "outputs": [],
   "source": [
    "# import matplotlib.pyplot as plt\n",
    "\n",
    "# features_name = data_processed.drop(['lat', 'lng', 'Price'], axis = 1).columns.values\n",
    "# n = len(features_name)\n",
    "# print(features_name)\n",
    "# plt.figure(figsize=(8,16))\n",
    "# plt.barh(range(n), rf.feature_importances_)\n",
    "# plt.yticks(range(n), features_name)\n",
    "# plt.title(\"Mức độ quan trọng của các thuộc tính\")\n",
    "# plt.ylabel(\"Các thuộc tính\")\n",
    "# plt.xlabel(\"Mức độ\")"
   ]
  },
  {
   "cell_type": "code",
   "execution_count": null,
   "metadata": {},
   "outputs": [],
   "source": []
  }
 ],
 "metadata": {
  "kernelspec": {
   "display_name": "Python 3",
   "language": "python",
   "name": "python3"
  },
  "language_info": {
   "codemirror_mode": {
    "name": "ipython",
    "version": 3
   },
   "file_extension": ".py",
   "mimetype": "text/x-python",
   "name": "python",
   "nbconvert_exporter": "python",
   "pygments_lexer": "ipython3",
   "version": "3.8.3-final"
  }
 },
 "nbformat": 4,
 "nbformat_minor": 4
}