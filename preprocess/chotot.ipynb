{
 "metadata": {
  "language_info": {
   "codemirror_mode": {
    "name": "ipython",
    "version": 3
   },
   "file_extension": ".py",
   "mimetype": "text/x-python",
   "name": "python",
   "nbconvert_exporter": "python",
   "pygments_lexer": "ipython3",
   "version": "3.7.6-final"
  },
  "orig_nbformat": 2,
  "kernelspec": {
   "name": "Python 3.7.6 64-bit ('base': conda)",
   "display_name": "Python 3.7.6 64-bit ('base': conda)",
   "metadata": {
    "interpreter": {
     "hash": "8a5797dd4fbc0503c481c36e24bc09e544db3d812d4ab55ac6329dbd8da60d75"
    }
   }
  }
 },
 "nbformat": 4,
 "nbformat_minor": 2,
 "cells": [
  {
   "cell_type": "code",
   "execution_count": 5,
   "metadata": {},
   "outputs": [],
   "source": [
    "import pandas as pd\n",
    "import numpy as np\n",
    "import json_lines\n",
    "import re\n",
    "from regex import reg\n",
    "\n",
    "# regex_pattern = {\n",
    "#     \"kind\": {\n",
    "#         \"patterns\": [\"(CCMN|[Cc]hung cư)\", \"[Hh]omestay\"],\n",
    "#         \"values\" : [\"Chung cư\", \"Homestay\"],\n",
    "#         \"default\": \"Phòng trọ\"\n",
    "#     },\n",
    "#     \"Parking_slot\": {\n",
    "#         \"patterns\": [\"[Đđ]ể xe\"],\n",
    "#         \"values\" : [1],\n",
    "#         \"default\": 0,\n",
    "#     },\n",
    "#     \"Air_condition\": {\n",
    "#         \"patterns\": [\"[Đđ]iều hòa\"],\n",
    "#         \"values\" : [1],\n",
    "#         \"default\": 0\n",
    "#     },\n",
    "#     \"Heater_shower\": {\n",
    "#         \"patterns\": [\"[Nn]óng lạnh\"],\n",
    "#         \"values\" : [1],\n",
    "#         \"default\": 0\n",
    "#     },\n",
    "#     \"Furnish\": {\n",
    "#         \"patterns\": [\"([Tt]ủ|[Ff]ull đồ|tivi|nội thất đầy đủ)\"],\n",
    "#         \"values\" : [1],\n",
    "#         \"default\": 0\n",
    "#     },\n",
    "#     \"Inner_toilet\": {\n",
    "#         \"patterns\": [\"khép kín\"],\n",
    "#         \"values\" : [1],\n",
    "#         \"default\": 0\n",
    "#     },\n",
    "#     \"Size_total_bool\": {\n",
    "#         \"patterns\": [\"[Tt]ổng diện tích\"],\n",
    "#         \"values\" : [1],\n",
    "#         \"default\": 0\n",
    "#     }\n",
    "# }\n",
    "\n",
    "# def reg(prop_type, data):\n",
    "    \n",
    "#     patterns = regex_pattern[prop_type][\"patterns\"]\n",
    "#     values = regex_pattern[prop_type][\"values\"]\n",
    "#     default_value = regex_pattern[prop_type][\"default\"]\n",
    "\n",
    "#     for idx, pattern in enumerate(patterns):\n",
    "        \n",
    "#         if re.findall(pattern, data):\n",
    "#             return values[idx]\n",
    "#     return default_value\n",
    "\n",
    "# if __name__ == \"__main__\":\n",
    "#     # print(regex_pattern[\"Size_total_bool\"])\n",
    "#     print(reg(\"Parking_slot\", \"vai ca dai\"))\n",
    "#     print(reg(\"Parking_slot\", \"vai ca dai\"))"
   ]
  },
  {
   "cell_type": "code",
   "execution_count": 6,
   "metadata": {
    "tags": []
   },
   "outputs": [],
   "source": [
    "file_path = '../raw_data/chotot.jl'\n",
    "target_arr = []\n",
    "with open(file_path, 'rb') as f:\n",
    "    data = json_lines.reader(f)\n",
    "    for idx, e in enumerate(data):\n",
    "        # print(e['ad'].keys)\n",
    "        if 'price' not in e['ad'].keys() or 'size' not in e['ad'].keys() or 'address' not in e['ad_params'].keys():\n",
    "            continue\n",
    "        # print(reg('Parking_slot', \"vai ca dai\"))\n",
    "        obj = {\n",
    "            'Price': e['ad']['price']/1000000,\n",
    "            'Kind': reg('kind', e['ad']['body']),\n",
    "            'Size': e['ad']['size'],\n",
    "            'Source': 'chotot',\n",
    "            'Idx': idx,\n",
    "            'Location': e['ad_params']['address']['value'],\n",
    "            'Parking_slot': reg('Parking_slot', e['ad']['body']),\n",
    "            'Air_condition': reg('Air_condition', e['ad']['body']),\n",
    "            'Heater_shower': reg('Heater_shower', e['ad']['body']),\n",
    "            'Furnish': reg('Furnish', e['ad']['body']),\n",
    "            'Inner_toilet': reg('Inner_toilet', e['ad']['body']),\n",
    "            'Size_total_bool': reg('Size_total_bool', e['ad']['body']),\n",
    "            'Description': e['ad']['body']\n",
    "        }\n",
    "        target_arr.append(obj)\n",
    "df = pd.DataFrame(target_arr)\n",
    "# df = read_data_from_jl('../../raw_data/chotot.jl')\n",
    "# type(df)\n",
    "# list(data)"
   ]
  },
  {
   "cell_type": "code",
   "execution_count": 7,
   "metadata": {},
   "outputs": [
    {
     "output_type": "execute_result",
     "data": {
      "text/plain": [
       "      Price       Kind   Size  Source   Idx  \\\n",
       "0      2.00  Phòng trọ   18.0  chotot     0   \n",
       "1      3.00   Chung cư   30.0  chotot     1   \n",
       "2      2.10   Chung cư   23.0  chotot     2   \n",
       "3      3.50   Chung cư   28.0  chotot     3   \n",
       "4      1.65  Phòng trọ  100.0  chotot     4   \n",
       "...     ...        ...    ...     ...   ...   \n",
       "4973   3.30  Phòng trọ   25.0  chotot  5125   \n",
       "4974   2.50  Phòng trọ   20.0  chotot  5126   \n",
       "4975   3.00  Phòng trọ   34.0  chotot  5127   \n",
       "4976   1.50  Phòng trọ   15.0  chotot  5128   \n",
       "4977  35.00  Phòng trọ   60.0  chotot  5129   \n",
       "\n",
       "                                               Location  Parking_slot  \\\n",
       "0     Đường Ngô Quyền, Phường Phan Chu Trinh, Quận H...             1   \n",
       "1     9, Đường Hoàng Hoa Thám, Phường Liễu Giai, Quậ...             1   \n",
       "2     Số nhà 34 ngõ 23 phố Nhật Tảo, Phường Đông Ngạ...             1   \n",
       "3     16 ngõ 4, Đường Đại lộ Thăng Long, Phường Mễ T...             0   \n",
       "4     37/183, Đường Đặng Tiến Đông, Phường Láng Hạ, ...             0   \n",
       "...                                                 ...           ...   \n",
       "4973  623, Đường Nguyễn Trãi, Phường Thanh Xuân Nam,...             1   \n",
       "4974  Bát Khối, Phường Long Biên, Quận Long Biên, Hà...             1   \n",
       "4975  Số nhà 43 phố Mộ Lao, Phường Mộ Lao, Quận Hà Đ...             0   \n",
       "4976  26D ngõ 10, Đường Tân Mỹ, Phường Mỹ Đình 2, Qu...             1   \n",
       "4977  Đường Lý Nam Đế, Phường Cửa Đông, Quận Hoàn Ki...             0   \n",
       "\n",
       "      Air_condition  Heater_shower  Furnish  Inner_toilet  Size_total_bool  \\\n",
       "0                 1              1        1             1                0   \n",
       "1                 1              1        1             1                0   \n",
       "2                 1              1        0             1                0   \n",
       "3                 0              0        0             1                0   \n",
       "4                 0              1        1             0                0   \n",
       "...             ...            ...      ...           ...              ...   \n",
       "4973              0              1        1             1                0   \n",
       "4974              0              0        0             1                0   \n",
       "4975              0              1        0             0                0   \n",
       "4976              0              0        0             0                0   \n",
       "4977              0              0        0             0                0   \n",
       "\n",
       "                                            Description  \n",
       "0     còn phòng cho thuê ở 19 ngô quyền riêng chủ\\n▶...  \n",
       "1     Hiện tôi đang còn phòng cần cho thuê tại chung...  \n",
       "2     Cho thuê phòng trọ chung cư mini mới xây khép ...  \n",
       "3     #CCMN MỚI TINH MỚI XÂY, THANG MÁY, GIỜ GIẤC TỰ...  \n",
       "4     Cần cho thuê phòng trọ phố Láng Hạ cách Rạp Qu...  \n",
       "...                                                 ...  \n",
       "4973  #donghanhcungsinhvien #donghanhcungsinhvien\\nG...  \n",
       "4974  Hiện nhà mình vừa xây xong 2 phòng trọ ở khu v...  \n",
       "4975  • Cho thuê phòng 34m2 giờ giấc tự do \\n• Có nó...  \n",
       "4976  Cho thuê phòng giá 1,5tr -2tr2 ngõ 10 Tân Mỹ g...  \n",
       "4977  Cho thuê nhà MP Lý Nam Đế,60m2×4T,MT 4m,giá 35...  \n",
       "\n",
       "[4978 rows x 13 columns]"
      ],
      "text/html": "<div>\n<style scoped>\n    .dataframe tbody tr th:only-of-type {\n        vertical-align: middle;\n    }\n\n    .dataframe tbody tr th {\n        vertical-align: top;\n    }\n\n    .dataframe thead th {\n        text-align: right;\n    }\n</style>\n<table border=\"1\" class=\"dataframe\">\n  <thead>\n    <tr style=\"text-align: right;\">\n      <th></th>\n      <th>Price</th>\n      <th>Kind</th>\n      <th>Size</th>\n      <th>Source</th>\n      <th>Idx</th>\n      <th>Location</th>\n      <th>Parking_slot</th>\n      <th>Air_condition</th>\n      <th>Heater_shower</th>\n      <th>Furnish</th>\n      <th>Inner_toilet</th>\n      <th>Size_total_bool</th>\n      <th>Description</th>\n    </tr>\n  </thead>\n  <tbody>\n    <tr>\n      <th>0</th>\n      <td>2.00</td>\n      <td>Phòng trọ</td>\n      <td>18.0</td>\n      <td>chotot</td>\n      <td>0</td>\n      <td>Đường Ngô Quyền, Phường Phan Chu Trinh, Quận H...</td>\n      <td>1</td>\n      <td>1</td>\n      <td>1</td>\n      <td>1</td>\n      <td>1</td>\n      <td>0</td>\n      <td>còn phòng cho thuê ở 19 ngô quyền riêng chủ\\n▶...</td>\n    </tr>\n    <tr>\n      <th>1</th>\n      <td>3.00</td>\n      <td>Chung cư</td>\n      <td>30.0</td>\n      <td>chotot</td>\n      <td>1</td>\n      <td>9, Đường Hoàng Hoa Thám, Phường Liễu Giai, Quậ...</td>\n      <td>1</td>\n      <td>1</td>\n      <td>1</td>\n      <td>1</td>\n      <td>1</td>\n      <td>0</td>\n      <td>Hiện tôi đang còn phòng cần cho thuê tại chung...</td>\n    </tr>\n    <tr>\n      <th>2</th>\n      <td>2.10</td>\n      <td>Chung cư</td>\n      <td>23.0</td>\n      <td>chotot</td>\n      <td>2</td>\n      <td>Số nhà 34 ngõ 23 phố Nhật Tảo, Phường Đông Ngạ...</td>\n      <td>1</td>\n      <td>1</td>\n      <td>1</td>\n      <td>0</td>\n      <td>1</td>\n      <td>0</td>\n      <td>Cho thuê phòng trọ chung cư mini mới xây khép ...</td>\n    </tr>\n    <tr>\n      <th>3</th>\n      <td>3.50</td>\n      <td>Chung cư</td>\n      <td>28.0</td>\n      <td>chotot</td>\n      <td>3</td>\n      <td>16 ngõ 4, Đường Đại lộ Thăng Long, Phường Mễ T...</td>\n      <td>0</td>\n      <td>0</td>\n      <td>0</td>\n      <td>0</td>\n      <td>1</td>\n      <td>0</td>\n      <td>#CCMN MỚI TINH MỚI XÂY, THANG MÁY, GIỜ GIẤC TỰ...</td>\n    </tr>\n    <tr>\n      <th>4</th>\n      <td>1.65</td>\n      <td>Phòng trọ</td>\n      <td>100.0</td>\n      <td>chotot</td>\n      <td>4</td>\n      <td>37/183, Đường Đặng Tiến Đông, Phường Láng Hạ, ...</td>\n      <td>0</td>\n      <td>0</td>\n      <td>1</td>\n      <td>1</td>\n      <td>0</td>\n      <td>0</td>\n      <td>Cần cho thuê phòng trọ phố Láng Hạ cách Rạp Qu...</td>\n    </tr>\n    <tr>\n      <th>...</th>\n      <td>...</td>\n      <td>...</td>\n      <td>...</td>\n      <td>...</td>\n      <td>...</td>\n      <td>...</td>\n      <td>...</td>\n      <td>...</td>\n      <td>...</td>\n      <td>...</td>\n      <td>...</td>\n      <td>...</td>\n      <td>...</td>\n    </tr>\n    <tr>\n      <th>4973</th>\n      <td>3.30</td>\n      <td>Phòng trọ</td>\n      <td>25.0</td>\n      <td>chotot</td>\n      <td>5125</td>\n      <td>623, Đường Nguyễn Trãi, Phường Thanh Xuân Nam,...</td>\n      <td>1</td>\n      <td>0</td>\n      <td>1</td>\n      <td>1</td>\n      <td>1</td>\n      <td>0</td>\n      <td>#donghanhcungsinhvien #donghanhcungsinhvien\\nG...</td>\n    </tr>\n    <tr>\n      <th>4974</th>\n      <td>2.50</td>\n      <td>Phòng trọ</td>\n      <td>20.0</td>\n      <td>chotot</td>\n      <td>5126</td>\n      <td>Bát Khối, Phường Long Biên, Quận Long Biên, Hà...</td>\n      <td>1</td>\n      <td>0</td>\n      <td>0</td>\n      <td>0</td>\n      <td>1</td>\n      <td>0</td>\n      <td>Hiện nhà mình vừa xây xong 2 phòng trọ ở khu v...</td>\n    </tr>\n    <tr>\n      <th>4975</th>\n      <td>3.00</td>\n      <td>Phòng trọ</td>\n      <td>34.0</td>\n      <td>chotot</td>\n      <td>5127</td>\n      <td>Số nhà 43 phố Mộ Lao, Phường Mộ Lao, Quận Hà Đ...</td>\n      <td>0</td>\n      <td>0</td>\n      <td>1</td>\n      <td>0</td>\n      <td>0</td>\n      <td>0</td>\n      <td>• Cho thuê phòng 34m2 giờ giấc tự do \\n• Có nó...</td>\n    </tr>\n    <tr>\n      <th>4976</th>\n      <td>1.50</td>\n      <td>Phòng trọ</td>\n      <td>15.0</td>\n      <td>chotot</td>\n      <td>5128</td>\n      <td>26D ngõ 10, Đường Tân Mỹ, Phường Mỹ Đình 2, Qu...</td>\n      <td>1</td>\n      <td>0</td>\n      <td>0</td>\n      <td>0</td>\n      <td>0</td>\n      <td>0</td>\n      <td>Cho thuê phòng giá 1,5tr -2tr2 ngõ 10 Tân Mỹ g...</td>\n    </tr>\n    <tr>\n      <th>4977</th>\n      <td>35.00</td>\n      <td>Phòng trọ</td>\n      <td>60.0</td>\n      <td>chotot</td>\n      <td>5129</td>\n      <td>Đường Lý Nam Đế, Phường Cửa Đông, Quận Hoàn Ki...</td>\n      <td>0</td>\n      <td>0</td>\n      <td>0</td>\n      <td>0</td>\n      <td>0</td>\n      <td>0</td>\n      <td>Cho thuê nhà MP Lý Nam Đế,60m2×4T,MT 4m,giá 35...</td>\n    </tr>\n  </tbody>\n</table>\n<p>4978 rows × 13 columns</p>\n</div>"
     },
     "metadata": {},
     "execution_count": 7
    }
   ],
   "source": [
    "df"
   ]
  },
  {
   "cell_type": "code",
   "execution_count": 9,
   "metadata": {},
   "outputs": [
    {
     "output_type": "execute_result",
     "data": {
      "text/plain": [
       "array(['\"- TIỆN ÍCH DÙNG CHUNG BAO GỒM ĐIỀU HÒA, NÓNG LẠNH, MÁY GIẶT, BẾP TỪ, CÂY LỌC NƯỚC UỐNG, CHỖ ĐỂ TRONG NHÀ XE MÁY 100K, XE ĐẠP ĐIỆN 150K\\n\\n- ĐIỆN 4K / SỐ, NƯỚC 25/M3, WIFI 60K, MẠNG DÂY 80K, VỆ SINH 80K, TẤT CẢ PHÍ TÍNH THEO ĐẦU NGƯỜI Ở.\\n\\n- HỢP ĐỒNG 12 THÁNG, CỌC 1 TRIỆU + 1 THÁNG TIỀN NHÀ\\n\\n- Địa chỉ : Tổ dân phố hoàng quốc việt 8, Phường Cổ Nhuế 1, 234 Hoàng Quốc Việt, Cầu Giấy, Hà Nội.',\n",
       "       '\"Thanh Xuân như một chèn trà\\nKhông ở nhà đẹp hết bà thanh xuân \"\\n\\nNhà không đẹp không lấy tiền ah :)) Phòng 27m2 có cửa sổ thông thoáng, vệ sinh khép kín. Nội thất gồm:\\n-\\tTrang trí phòng đẹp\\n-\\tĐiều hòa\\n-\\tNóng lạnh\\n-\\tQuạt trần\\n-\\tKệ tủ\\n-\\tGiường đôi\\n-\\tSet chăn ga gối đệm\\n-\\tChậu rửa \\n-\\tKệ bếp\\n-\\tThiết bị vệ sinh cao cấp\\nDịch vụ tiện ích gồm:\\n-\\tInternet, thang máy tốc độ cao\\n-\\tMIỄN PHÍ để xe tầng 1, máy giặt và dàn phơi thông minh.\\n-\\tAnh ninh đảm bảo tốt, khóa vân tay, camera 24/24 chống trộm, thang máy thẻ từ\\n-\\tVS chung hàng tuần\\nGiá dịch vụ:\\n-\\tĐiện ; 2,5k/số\\n-\\tNước: 100k/ng\\n-\\tInternet: 50k/ng\\nKhông giới hạn số người ở, phù hợp cho mọi lứa tuổi.\\nKhông gian xung quanh thoáng mát nhiều cây xanh, có chỗ cho trẻ em vui chơi ngoài ngõ.\\nKhu dân cư an ninh đảm bảo, thân thiện.\\nGiá 3,8tr.\\nLIÊN HỆ MIỄN PHÍ XEM PHÒNG, XIN CÁM ƠN.',\n",
       "       '#CCMN MỚI TINH MỚI XÂY, THANG MÁY, GIỜ GIẤC TỰ DO, GIÁ TỪ 3-4tr, ngõ 4 Đại Lộ Thăng Long \\n\\nGIÁ 2.9tr - 3.5tr - 3.6tr - 3.7tr - 4tr2, tùy phòng ở ngay\\n\\n\\uf000 Phòng tràn #ánh_sáng tự nhiên, #ban_công, #cửa_sổ thoáng mát, vs khép kín full thiết bị\\n\\uf000 Thiết kế #Bếp_riêng_ngủ_riêng\\n\\uf000 Lựa chọn loại phòng #KHÔNG_ĐỒ /hoặc #FULL_ĐỒ\\n\\uf000 Tiện để ở / #kinh_doanh_online (xung quanh có 4-5 đơn vị vận chuyển nhanh)\\n\\n\\uf000 TIỆN ÍCH CHUNG:\\n#Máy_giặt\\n#Camera an ninh tuyệt đối\\n#Thang_máy siêu to\\n#Xe_free (xe máy) có #bãi_ô_tô\\n#Internet\\n#Giờ_giấc_tự_do #ko_chung_chủ \\n\\uf000 Gần #Keangnam #Trần_Duy_Hưng #BigC #ĐHLĐXH #Lương Thế Vinh\\n\\n\\uf000 Cọc 1 thanh toán 1\\n\\n\\uf000 16 Ngõ 4 Đại lộ Thăng Long\\n\\uf000 Miễn TG / xem nhà 24/7 free\\n           \\n#phongdieuhoa #phongkhepkin  #phongdudo  #phongtrometrithuong  #phongtrometri #ccmn \\n#phongtrogiare #phongkhongdo #phongtrogankeangnam #đại_lộ_thăng_long',\n",
       "       ...,\n",
       "       '🤩Cho thuê phòng trọ cao cấp 50m2 khép kín tại ngõ 122 Kim Giang , nhà mới xây nên rất sạch sẽ , thoáng mát và tiện nghi , bạn chỉ việc xách valy đến ở:\\n👉 Khu dân trí cao, an ninh tốt, đi lại thuận tiện, gần chợ Kim Giang, chợ Lủ, Đại học Thăng Long - ĐH  Hà Nội ,  Viện y học cổ truyền Quân đội, siêu thị, ngân hàng …\\n👉 Điều hòa 2 chiều 18000 BTU, Wifi đầy đủ\\n👉 Bình tắm nóng lạnh , WC riêng luôn\\n👉 Nội thất giường tủ cao cấp (Nhìn ảnh biết ngay)\\n👉 Không gian phòng ăn ngăn cách riêng biệt\\n👉 Cầu thang máy hiện đại , di chuyển quá dễ dàng\\n👉 Chỗ để xe rộng rãi , công tơ điện riêng \\n👉 Rất phù hợp với người đi làm ổn định / Gia đình 2-3 người \\n\\n Giá 4.5tr\\nNgõ 122  Kim Giang , Phường Đại Kim, Hoàng Mai, Hà Nội',\n",
       "       '🤩🤩🤩 View cực sang chảnh đây ace\\n\\n🏢 Ngay cuối đường Chiến Thắng, gần ngay #Đại #Học #Hà #Nội, #Bưu #Chính #Viễn #Thông, Học Viện #An #Ninh, #đại #học #Kiến #Trúc, #bệnh #viện 103, #Y #Học #Cổ #Truyền ...\\n\\n📌 1 khách 1 ngủ\\n\\n✨ Đường to oto đậu trước cửa\\n\\n✨ Không chung chủ, ra vào vân tay, giờ giấc thoả mái.\\n\\n✨ Để xe free, an ninh đảm bảo với camera 24/7',\n",
       "       '🧧 **Chính chủ cho thuê phòng giá tốt ở Ngõ 445 Nguyễn Khang **🧧**\\n**\\n😍 Thông ngõ 155 Cầu Giấy, 381 Nguyễn Khang, Thành Thái\\n😍 Cách cv Cầu Giấy 500m, Chợ 200m\\n😍 Các trường ĐH cách dưới 2km\\n- Gtvt, thủ đô 1km\\n- ĐH ngoại thương, ngoại giao và các trường chùa láng, HV Báo Chí 1,5km\\n- Hv thanh thiếu niên, ĐH Luật, Sư Phạm, Quốc Gia, Ngoại Ngữ, ĐH Phương Đông 2km\\n🎯 Diện tích 30m2.\\n🎯 Full nội thất giường tủ, bàn ghế, điều hoà, nóng lạnh, chỗ nấu ăn. Khép kín từng phòng\\n🎯Không giới hạn người ở, không cấm thú cưng và không chung chủ\\nKhu nhà yên tĩnh, hàng xóm thân thiện, an ninh tốt, thuận tiện\\nCó fix với khách nhiệt tình'],\n",
       "      dtype=object)"
      ]
     },
     "metadata": {},
     "execution_count": 9
    }
   ],
   "source": [
    "np.unique(df['Description'].values)"
   ]
  },
  {
   "cell_type": "code",
   "execution_count": 10,
   "metadata": {},
   "outputs": [],
   "source": [
    "df.to_csv('chotot.csv')"
   ]
  },
  {
   "cell_type": "code",
   "execution_count": null,
   "metadata": {},
   "outputs": [],
   "source": []
  }
 ]
}