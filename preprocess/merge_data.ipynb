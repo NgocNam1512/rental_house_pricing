{
 "metadata": {
  "language_info": {
   "codemirror_mode": {
    "name": "ipython",
    "version": 3
   },
   "file_extension": ".py",
   "mimetype": "text/x-python",
   "name": "python",
   "nbconvert_exporter": "python",
   "pygments_lexer": "ipython3",
   "version": "3.8.3-final"
  },
  "orig_nbformat": 2,
  "kernelspec": {
   "name": "python3",
   "display_name": "Python 3"
  }
 },
 "nbformat": 4,
 "nbformat_minor": 2,
 "cells": [
  {
   "cell_type": "code",
   "execution_count": 6,
   "metadata": {},
   "outputs": [],
   "source": [
    "import pandas as pd\n",
    "\n",
    "alonhadat = pd.read_csv('processed-data/alonhadat.csv')\n",
    "phongtro123 = pd.read_csv('processed-data/phongtro123.csv')\n",
    "thuephongtro = pd.read_csv('processed-data/thuephongtro.csv')"
   ]
  },
  {
   "cell_type": "code",
   "execution_count": 7,
   "metadata": {},
   "outputs": [],
   "source": [
    "data = pd.concat([alonhadat, phongtro123, thuephongtro])"
   ]
  },
  {
   "cell_type": "code",
   "execution_count": 8,
   "metadata": {},
   "outputs": [],
   "source": [
    "data = data.drop('Unnamed: 0', axis=1)"
   ]
  },
  {
   "cell_type": "code",
   "execution_count": 9,
   "metadata": {},
   "outputs": [],
   "source": [
    "data.to_csv('processed-data/all.csv')"
   ]
  },
  {
   "cell_type": "code",
   "execution_count": 10,
   "metadata": {},
   "outputs": [
    {
     "output_type": "execute_result",
     "data": {
      "text/plain": [
       "      Price                                        Description       Kind  \\\n",
       "0       6.0  1- Tòa nhà chung cư mini 8 tầng đang hoàn thiệ...       CCMN   \n",
       "1       7.0  Cho thuê mặt bằng tầng 1 làm VP CTY, kho hàng ...  Phòng trọ   \n",
       "2       4.0  Căn hộ khép kín tại số 50 ngõ 322 đường Mỹ Đìn...  Phòng trọ   \n",
       "3       9.0  Được sự đồng ý của chủ nhà và bạn quả lý tòa n...       CCMN   \n",
       "4      12.0  Thiết kế \\r\\n -Căn góc 120m2 3PN,2Wc 1Khach đầ...  Phòng trọ   \n",
       "...     ...                                                ...        ...   \n",
       "2991   15.0  \\r\\n                             \\r\\n         ...  Phòng trọ   \n",
       "2992    2.5  \\r\\n                             \\r\\n         ...  Phòng trọ   \n",
       "2993    3.7  \\r\\n                             \\r\\n         ...  Phòng trọ   \n",
       "2994    5.5  \\r\\n                             \\r\\n         ...       CCMN   \n",
       "2995    1.3  \\r\\n                             \\r\\n         ...  Phòng trọ   \n",
       "\n",
       "                                               Location  Size  Parking_slot  \\\n",
       "0      57A NGÕ 221 Phố Tôn Đức Thắng, Phường Hàng B...    40             1   \n",
       "1      Đường Nguyễn Cơ Thạch, Phường Cầu Diễn, Quận ...    70             0   \n",
       "2      Số nhà 5 ngõ 322/50 Đường Mỹ Đình, Phường Mỹ ...    30             1   \n",
       "3      Đường Hoàng Đạo Thúy, Phường Trung Hòa, Quận ...    76             1   \n",
       "4      Đường Vũ Trọng Phụng, Phường Thanh Xuân Trung...   120             0   \n",
       "...                                                 ...   ...           ...   \n",
       "2991  374c, đường Mỹ Đình, Phường Mỹ Đình 1, Nam Từ ...    30             0   \n",
       "2992  28 402/42/22 Đường Đình Thôn, Phường Mỹ Đình 1...    30             1   \n",
       "2993  Đường Lê Quang Đạo, Phường Phú Đô, Nam Từ Liêm...    30             0   \n",
       "2994  Ngõ 23 Đường Nguyễn Thị Định, Phường Trung Hòa...    35             1   \n",
       "2995                                Hoàng Mai, Hà Nội    10             1   \n",
       "\n",
       "      Air_condition  Heater_shower  Furnish  Inner_toilet  Size_total_bool  \\\n",
       "0                 1              1        1             1                0   \n",
       "1                 0              0        0             0                0   \n",
       "2                 1              1        1             1                0   \n",
       "3                 1              1        1             1                0   \n",
       "4                 0              0        0             0                0   \n",
       "...             ...            ...      ...           ...              ...   \n",
       "2991              0              0        0             0                0   \n",
       "2992              0              1        0             0                0   \n",
       "2993              1              1        1             1                0   \n",
       "2994              1              1        0             1                0   \n",
       "2995              0              1        0             0                0   \n",
       "\n",
       "            Source  \n",
       "0        alonhadat  \n",
       "1        alonhadat  \n",
       "2        alonhadat  \n",
       "3        alonhadat  \n",
       "4        alonhadat  \n",
       "...            ...  \n",
       "2991  thuephongtro  \n",
       "2992  thuephongtro  \n",
       "2993  thuephongtro  \n",
       "2994  thuephongtro  \n",
       "2995  thuephongtro  \n",
       "\n",
       "[18470 rows x 12 columns]"
      ],
      "text/html": "<div>\n<style scoped>\n    .dataframe tbody tr th:only-of-type {\n        vertical-align: middle;\n    }\n\n    .dataframe tbody tr th {\n        vertical-align: top;\n    }\n\n    .dataframe thead th {\n        text-align: right;\n    }\n</style>\n<table border=\"1\" class=\"dataframe\">\n  <thead>\n    <tr style=\"text-align: right;\">\n      <th></th>\n      <th>Price</th>\n      <th>Description</th>\n      <th>Kind</th>\n      <th>Location</th>\n      <th>Size</th>\n      <th>Parking_slot</th>\n      <th>Air_condition</th>\n      <th>Heater_shower</th>\n      <th>Furnish</th>\n      <th>Inner_toilet</th>\n      <th>Size_total_bool</th>\n      <th>Source</th>\n    </tr>\n  </thead>\n  <tbody>\n    <tr>\n      <th>0</th>\n      <td>6.0</td>\n      <td>1- Tòa nhà chung cư mini 8 tầng đang hoàn thiệ...</td>\n      <td>CCMN</td>\n      <td>57A NGÕ 221 Phố Tôn Đức Thắng, Phường Hàng B...</td>\n      <td>40</td>\n      <td>1</td>\n      <td>1</td>\n      <td>1</td>\n      <td>1</td>\n      <td>1</td>\n      <td>0</td>\n      <td>alonhadat</td>\n    </tr>\n    <tr>\n      <th>1</th>\n      <td>7.0</td>\n      <td>Cho thuê mặt bằng tầng 1 làm VP CTY, kho hàng ...</td>\n      <td>Phòng trọ</td>\n      <td>Đường Nguyễn Cơ Thạch, Phường Cầu Diễn, Quận ...</td>\n      <td>70</td>\n      <td>0</td>\n      <td>0</td>\n      <td>0</td>\n      <td>0</td>\n      <td>0</td>\n      <td>0</td>\n      <td>alonhadat</td>\n    </tr>\n    <tr>\n      <th>2</th>\n      <td>4.0</td>\n      <td>Căn hộ khép kín tại số 50 ngõ 322 đường Mỹ Đìn...</td>\n      <td>Phòng trọ</td>\n      <td>Số nhà 5 ngõ 322/50 Đường Mỹ Đình, Phường Mỹ ...</td>\n      <td>30</td>\n      <td>1</td>\n      <td>1</td>\n      <td>1</td>\n      <td>1</td>\n      <td>1</td>\n      <td>0</td>\n      <td>alonhadat</td>\n    </tr>\n    <tr>\n      <th>3</th>\n      <td>9.0</td>\n      <td>Được sự đồng ý của chủ nhà và bạn quả lý tòa n...</td>\n      <td>CCMN</td>\n      <td>Đường Hoàng Đạo Thúy, Phường Trung Hòa, Quận ...</td>\n      <td>76</td>\n      <td>1</td>\n      <td>1</td>\n      <td>1</td>\n      <td>1</td>\n      <td>1</td>\n      <td>0</td>\n      <td>alonhadat</td>\n    </tr>\n    <tr>\n      <th>4</th>\n      <td>12.0</td>\n      <td>Thiết kế \\r\\n -Căn góc 120m2 3PN,2Wc 1Khach đầ...</td>\n      <td>Phòng trọ</td>\n      <td>Đường Vũ Trọng Phụng, Phường Thanh Xuân Trung...</td>\n      <td>120</td>\n      <td>0</td>\n      <td>0</td>\n      <td>0</td>\n      <td>0</td>\n      <td>0</td>\n      <td>0</td>\n      <td>alonhadat</td>\n    </tr>\n    <tr>\n      <th>...</th>\n      <td>...</td>\n      <td>...</td>\n      <td>...</td>\n      <td>...</td>\n      <td>...</td>\n      <td>...</td>\n      <td>...</td>\n      <td>...</td>\n      <td>...</td>\n      <td>...</td>\n      <td>...</td>\n      <td>...</td>\n    </tr>\n    <tr>\n      <th>2991</th>\n      <td>15.0</td>\n      <td>\\r\\n                             \\r\\n         ...</td>\n      <td>Phòng trọ</td>\n      <td>374c, đường Mỹ Đình, Phường Mỹ Đình 1, Nam Từ ...</td>\n      <td>30</td>\n      <td>0</td>\n      <td>0</td>\n      <td>0</td>\n      <td>0</td>\n      <td>0</td>\n      <td>0</td>\n      <td>thuephongtro</td>\n    </tr>\n    <tr>\n      <th>2992</th>\n      <td>2.5</td>\n      <td>\\r\\n                             \\r\\n         ...</td>\n      <td>Phòng trọ</td>\n      <td>28 402/42/22 Đường Đình Thôn, Phường Mỹ Đình 1...</td>\n      <td>30</td>\n      <td>1</td>\n      <td>0</td>\n      <td>1</td>\n      <td>0</td>\n      <td>0</td>\n      <td>0</td>\n      <td>thuephongtro</td>\n    </tr>\n    <tr>\n      <th>2993</th>\n      <td>3.7</td>\n      <td>\\r\\n                             \\r\\n         ...</td>\n      <td>Phòng trọ</td>\n      <td>Đường Lê Quang Đạo, Phường Phú Đô, Nam Từ Liêm...</td>\n      <td>30</td>\n      <td>0</td>\n      <td>1</td>\n      <td>1</td>\n      <td>1</td>\n      <td>1</td>\n      <td>0</td>\n      <td>thuephongtro</td>\n    </tr>\n    <tr>\n      <th>2994</th>\n      <td>5.5</td>\n      <td>\\r\\n                             \\r\\n         ...</td>\n      <td>CCMN</td>\n      <td>Ngõ 23 Đường Nguyễn Thị Định, Phường Trung Hòa...</td>\n      <td>35</td>\n      <td>1</td>\n      <td>1</td>\n      <td>1</td>\n      <td>0</td>\n      <td>1</td>\n      <td>0</td>\n      <td>thuephongtro</td>\n    </tr>\n    <tr>\n      <th>2995</th>\n      <td>1.3</td>\n      <td>\\r\\n                             \\r\\n         ...</td>\n      <td>Phòng trọ</td>\n      <td>Hoàng Mai, Hà Nội</td>\n      <td>10</td>\n      <td>1</td>\n      <td>0</td>\n      <td>1</td>\n      <td>0</td>\n      <td>0</td>\n      <td>0</td>\n      <td>thuephongtro</td>\n    </tr>\n  </tbody>\n</table>\n<p>18470 rows × 12 columns</p>\n</div>"
     },
     "metadata": {},
     "execution_count": 10
    }
   ],
   "source": [
    "data"
   ]
  },
  {
   "cell_type": "code",
   "execution_count": null,
   "metadata": {},
   "outputs": [],
   "source": []
  }
 ]
}