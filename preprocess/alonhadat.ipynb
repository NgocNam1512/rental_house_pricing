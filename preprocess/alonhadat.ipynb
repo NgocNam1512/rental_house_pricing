{
 "metadata": {
  "language_info": {
   "codemirror_mode": {
    "name": "ipython",
    "version": 3
   },
   "file_extension": ".py",
   "mimetype": "text/x-python",
   "name": "python",
   "nbconvert_exporter": "python",
   "pygments_lexer": "ipython3",
   "version": "3.8.3-final"
  },
  "orig_nbformat": 2,
  "kernelspec": {
   "name": "python3",
   "display_name": "Python 3"
  }
 },
 "nbformat": 4,
 "nbformat_minor": 2,
 "cells": [
  {
   "cell_type": "code",
   "execution_count": 1,
   "metadata": {},
   "outputs": [],
   "source": [
    "import pandas as pd\n",
    "import json_lines\n",
    "import re\n",
    "import numpy as np\n",
    "\n",
    "def read_data_from_jl(file_path):\n",
    "    with open(file_path, 'rb') as f:\n",
    "        data = json_lines.reader(f)\n",
    "\n",
    "        df = pd.DataFrame(data)\n",
    "        \n",
    "        return df\n",
    "    return None"
   ]
  },
  {
   "cell_type": "code",
   "execution_count": 15,
   "metadata": {},
   "outputs": [
    {
     "output_type": "execute_result",
     "data": {
      "text/plain": [
       "                    price    area  \\\n",
       "0         6 triệu / tháng    40 m   \n",
       "1        37 triệu / tháng   200 m   \n",
       "2         7 triệu / tháng    70 m   \n",
       "3        50 triệu / tháng   200 m   \n",
       "4         4 triệu / tháng    30 m   \n",
       "...                   ...     ...   \n",
       "26490   5,5 triệu / tháng    50 m   \n",
       "26491    15 triệu / tháng    55 m   \n",
       "26492    10 triệu / tháng    60 m   \n",
       "26493    17 triệu / tháng    60 m   \n",
       "26494    30 triệu / tháng    42 m   \n",
       "\n",
       "                                                location  \\\n",
       "0       57A NGÕ 221 Phố Tôn Đức Thắng, Phường Hàng B...   \n",
       "1       Phố Nguyễn Văn Tuyết, Phường Ngã Tư Sở, Quậ...   \n",
       "2       Đường Nguyễn Cơ Thạch, Phường Cầu Diễn, Quận ...   \n",
       "3       Đường Lê Đức Thọ, Phường Dịch Vọng Hậu, Quận ...   \n",
       "4       Số nhà 5 ngõ 322/50 Đường Mỹ Đình, Phường Mỹ ...   \n",
       "...                                                  ...   \n",
       "26490   Đường Nguyễn Khang, Phường Yên Hòa, Quận Cầu ...   \n",
       "26491   Phố Trần Đại Nghĩa, Phường Bách Khoa, Quận H...   \n",
       "26492   Phố Trần Đại Nghĩa, Phường Đồng Tâm, Quận Ha...   \n",
       "26493   Phố Nguyên Hồng, Phường Láng Hạ, Quận Đống ...   \n",
       "26494   Phố Chùa Láng, Phường Láng Thượng, Quận Đốn...   \n",
       "\n",
       "                                             description  \\\n",
       "0      1- Tòa nhà chung cư mini 8 tầng đang hoàn thiệ...   \n",
       "1      MB Hợp Bia hơi, Bún Phở Phố Nguyễn Văn Tuyết -...   \n",
       "2      Cho thuê mặt bằng tầng 1 làm VP CTY, kho hàng ...   \n",
       "3      MP lê Đức Thọ , Diện tích 200m2, 1 tầng, MT 8m...   \n",
       "4      Căn hộ khép kín tại số 50 ngõ 322 đường Mỹ Đìn...   \n",
       "...                                                  ...   \n",
       "26490  Chính chủ cho thuê CCMN, Studio ở Trung Kính, ...   \n",
       "26491  Cho thuê nhà riêng tại ngõ trần đại nghĩa kéo ...   \n",
       "26492  Cho thuê nhà ngõ tự do kinh doanh hàng ăn uống...   \n",
       "26493  Cần cho thuê nhà ngõ 34 Nguyễn Hồng, quận Đống...   \n",
       "26494  CHO THUÊ NHÀ CHÚA LÁNG THÔNG SÀN 42M2 CỰC HOT ...   \n",
       "\n",
       "                        date                kind  \n",
       "0         Ngày đăng: Hôm qua  Phòng trọ, nhà trọ  \n",
       "1         Ngày đăng: Hôm nay        Nhà mặt tiền  \n",
       "2         Ngày đăng: Hôm nay            Mặt bằng  \n",
       "3         Ngày đăng: Hôm nay        Nhà mặt tiền  \n",
       "4      Ngày đăng: 17/10/2020     Căn hộ chung cư  \n",
       "...                      ...                 ...  \n",
       "26490  Ngày đăng: 18/09/2020     Căn hộ chung cư  \n",
       "26491  Ngày đăng: 20/09/2020       Nhà trong hẻm  \n",
       "26492  Ngày đăng: 20/09/2020       Nhà trong hẻm  \n",
       "26493  Ngày đăng: 20/09/2020       Nhà trong hẻm  \n",
       "26494  Ngày đăng: 20/09/2020        Nhà mặt tiền  \n",
       "\n",
       "[26495 rows x 6 columns]"
      ],
      "text/html": "<div>\n<style scoped>\n    .dataframe tbody tr th:only-of-type {\n        vertical-align: middle;\n    }\n\n    .dataframe tbody tr th {\n        vertical-align: top;\n    }\n\n    .dataframe thead th {\n        text-align: right;\n    }\n</style>\n<table border=\"1\" class=\"dataframe\">\n  <thead>\n    <tr style=\"text-align: right;\">\n      <th></th>\n      <th>price</th>\n      <th>area</th>\n      <th>location</th>\n      <th>description</th>\n      <th>date</th>\n      <th>kind</th>\n    </tr>\n  </thead>\n  <tbody>\n    <tr>\n      <th>0</th>\n      <td>6 triệu / tháng</td>\n      <td>40 m</td>\n      <td>57A NGÕ 221 Phố Tôn Đức Thắng, Phường Hàng B...</td>\n      <td>1- Tòa nhà chung cư mini 8 tầng đang hoàn thiệ...</td>\n      <td>Ngày đăng: Hôm qua</td>\n      <td>Phòng trọ, nhà trọ</td>\n    </tr>\n    <tr>\n      <th>1</th>\n      <td>37 triệu / tháng</td>\n      <td>200 m</td>\n      <td>Phố Nguyễn Văn Tuyết, Phường Ngã Tư Sở, Quậ...</td>\n      <td>MB Hợp Bia hơi, Bún Phở Phố Nguyễn Văn Tuyết -...</td>\n      <td>Ngày đăng: Hôm nay</td>\n      <td>Nhà mặt tiền</td>\n    </tr>\n    <tr>\n      <th>2</th>\n      <td>7 triệu / tháng</td>\n      <td>70 m</td>\n      <td>Đường Nguyễn Cơ Thạch, Phường Cầu Diễn, Quận ...</td>\n      <td>Cho thuê mặt bằng tầng 1 làm VP CTY, kho hàng ...</td>\n      <td>Ngày đăng: Hôm nay</td>\n      <td>Mặt bằng</td>\n    </tr>\n    <tr>\n      <th>3</th>\n      <td>50 triệu / tháng</td>\n      <td>200 m</td>\n      <td>Đường Lê Đức Thọ, Phường Dịch Vọng Hậu, Quận ...</td>\n      <td>MP lê Đức Thọ , Diện tích 200m2, 1 tầng, MT 8m...</td>\n      <td>Ngày đăng: Hôm nay</td>\n      <td>Nhà mặt tiền</td>\n    </tr>\n    <tr>\n      <th>4</th>\n      <td>4 triệu / tháng</td>\n      <td>30 m</td>\n      <td>Số nhà 5 ngõ 322/50 Đường Mỹ Đình, Phường Mỹ ...</td>\n      <td>Căn hộ khép kín tại số 50 ngõ 322 đường Mỹ Đìn...</td>\n      <td>Ngày đăng: 17/10/2020</td>\n      <td>Căn hộ chung cư</td>\n    </tr>\n    <tr>\n      <th>...</th>\n      <td>...</td>\n      <td>...</td>\n      <td>...</td>\n      <td>...</td>\n      <td>...</td>\n      <td>...</td>\n    </tr>\n    <tr>\n      <th>26490</th>\n      <td>5,5 triệu / tháng</td>\n      <td>50 m</td>\n      <td>Đường Nguyễn Khang, Phường Yên Hòa, Quận Cầu ...</td>\n      <td>Chính chủ cho thuê CCMN, Studio ở Trung Kính, ...</td>\n      <td>Ngày đăng: 18/09/2020</td>\n      <td>Căn hộ chung cư</td>\n    </tr>\n    <tr>\n      <th>26491</th>\n      <td>15 triệu / tháng</td>\n      <td>55 m</td>\n      <td>Phố Trần Đại Nghĩa, Phường Bách Khoa, Quận H...</td>\n      <td>Cho thuê nhà riêng tại ngõ trần đại nghĩa kéo ...</td>\n      <td>Ngày đăng: 20/09/2020</td>\n      <td>Nhà trong hẻm</td>\n    </tr>\n    <tr>\n      <th>26492</th>\n      <td>10 triệu / tháng</td>\n      <td>60 m</td>\n      <td>Phố Trần Đại Nghĩa, Phường Đồng Tâm, Quận Ha...</td>\n      <td>Cho thuê nhà ngõ tự do kinh doanh hàng ăn uống...</td>\n      <td>Ngày đăng: 20/09/2020</td>\n      <td>Nhà trong hẻm</td>\n    </tr>\n    <tr>\n      <th>26493</th>\n      <td>17 triệu / tháng</td>\n      <td>60 m</td>\n      <td>Phố Nguyên Hồng, Phường Láng Hạ, Quận Đống ...</td>\n      <td>Cần cho thuê nhà ngõ 34 Nguyễn Hồng, quận Đống...</td>\n      <td>Ngày đăng: 20/09/2020</td>\n      <td>Nhà trong hẻm</td>\n    </tr>\n    <tr>\n      <th>26494</th>\n      <td>30 triệu / tháng</td>\n      <td>42 m</td>\n      <td>Phố Chùa Láng, Phường Láng Thượng, Quận Đốn...</td>\n      <td>CHO THUÊ NHÀ CHÚA LÁNG THÔNG SÀN 42M2 CỰC HOT ...</td>\n      <td>Ngày đăng: 20/09/2020</td>\n      <td>Nhà mặt tiền</td>\n    </tr>\n  </tbody>\n</table>\n<p>26495 rows × 6 columns</p>\n</div>"
     },
     "metadata": {},
     "execution_count": 15
    }
   ],
   "source": [
    "df = read_data_from_jl('data/alonhadat.jl')\n",
    "df"
   ]
  },
  {
   "cell_type": "code",
   "execution_count": 7,
   "metadata": {},
   "outputs": [],
   "source": [
    "des = df['description'].values\n",
    "price = df['price'].values\n",
    "area = df['area'].values\n",
    "kind = df['kind'].values\n",
    "data = pd.DataFrame()"
   ]
  },
  {
   "cell_type": "code",
   "execution_count": 17,
   "metadata": {},
   "outputs": [
    {
     "output_type": "execute_result",
     "data": {
      "text/plain": [
       "       Price\n",
       "0        6.0\n",
       "1       37.0\n",
       "2        7.0\n",
       "3       50.0\n",
       "4        4.0\n",
       "...      ...\n",
       "26490    5.5\n",
       "26491   15.0\n",
       "26492   10.0\n",
       "26493   17.0\n",
       "26494   30.0\n",
       "\n",
       "[26495 rows x 1 columns]"
      ],
      "text/html": "<div>\n<style scoped>\n    .dataframe tbody tr th:only-of-type {\n        vertical-align: middle;\n    }\n\n    .dataframe tbody tr th {\n        vertical-align: top;\n    }\n\n    .dataframe thead th {\n        text-align: right;\n    }\n</style>\n<table border=\"1\" class=\"dataframe\">\n  <thead>\n    <tr style=\"text-align: right;\">\n      <th></th>\n      <th>Price</th>\n    </tr>\n  </thead>\n  <tbody>\n    <tr>\n      <th>0</th>\n      <td>6.0</td>\n    </tr>\n    <tr>\n      <th>1</th>\n      <td>37.0</td>\n    </tr>\n    <tr>\n      <th>2</th>\n      <td>7.0</td>\n    </tr>\n    <tr>\n      <th>3</th>\n      <td>50.0</td>\n    </tr>\n    <tr>\n      <th>4</th>\n      <td>4.0</td>\n    </tr>\n    <tr>\n      <th>...</th>\n      <td>...</td>\n    </tr>\n    <tr>\n      <th>26490</th>\n      <td>5.5</td>\n    </tr>\n    <tr>\n      <th>26491</th>\n      <td>15.0</td>\n    </tr>\n    <tr>\n      <th>26492</th>\n      <td>10.0</td>\n    </tr>\n    <tr>\n      <th>26493</th>\n      <td>17.0</td>\n    </tr>\n    <tr>\n      <th>26494</th>\n      <td>30.0</td>\n    </tr>\n  </tbody>\n</table>\n<p>26495 rows × 1 columns</p>\n</div>"
     },
     "metadata": {},
     "execution_count": 17
    }
   ],
   "source": [
    "a = []\n",
    "pattern = '([0-9]+,[0-9]+|[0-9]+)'\n",
    "for p in price:\n",
    "    result = re.findall(pattern, p)\n",
    "    if result:\n",
    "        a.append(float(result[0].replace(\",\", \".\")))\n",
    "    else:\n",
    "        a.append(0)\n",
    "\n",
    "data['Price'] = pd.Series(np.array(a), index=df.index)\n",
    "data"
   ]
  },
  {
   "cell_type": "code",
   "execution_count": 33,
   "metadata": {},
   "outputs": [
    {
     "output_type": "execute_result",
     "data": {
      "text/plain": [
       "   Price  Kind\n",
       "0    6.0     2\n",
       "1   37.0     0\n",
       "2    7.0     0\n",
       "3   50.0     0\n",
       "4    4.0     0\n",
       "5    9.0     2\n",
       "6   12.0     0\n",
       "7    6.5     2\n",
       "8   11.0     0\n",
       "9   10.0     0"
      ],
      "text/html": "<div>\n<style scoped>\n    .dataframe tbody tr th:only-of-type {\n        vertical-align: middle;\n    }\n\n    .dataframe tbody tr th {\n        vertical-align: top;\n    }\n\n    .dataframe thead th {\n        text-align: right;\n    }\n</style>\n<table border=\"1\" class=\"dataframe\">\n  <thead>\n    <tr style=\"text-align: right;\">\n      <th></th>\n      <th>Price</th>\n      <th>Kind</th>\n    </tr>\n  </thead>\n  <tbody>\n    <tr>\n      <th>0</th>\n      <td>6.0</td>\n      <td>2</td>\n    </tr>\n    <tr>\n      <th>1</th>\n      <td>37.0</td>\n      <td>0</td>\n    </tr>\n    <tr>\n      <th>2</th>\n      <td>7.0</td>\n      <td>0</td>\n    </tr>\n    <tr>\n      <th>3</th>\n      <td>50.0</td>\n      <td>0</td>\n    </tr>\n    <tr>\n      <th>4</th>\n      <td>4.0</td>\n      <td>0</td>\n    </tr>\n    <tr>\n      <th>5</th>\n      <td>9.0</td>\n      <td>2</td>\n    </tr>\n    <tr>\n      <th>6</th>\n      <td>12.0</td>\n      <td>0</td>\n    </tr>\n    <tr>\n      <th>7</th>\n      <td>6.5</td>\n      <td>2</td>\n    </tr>\n    <tr>\n      <th>8</th>\n      <td>11.0</td>\n      <td>0</td>\n    </tr>\n    <tr>\n      <th>9</th>\n      <td>10.0</td>\n      <td>0</td>\n    </tr>\n  </tbody>\n</table>\n</div>"
     },
     "metadata": {},
     "execution_count": 33
    }
   ],
   "source": [
    "a = []\n",
    "pattern1 = '(CCMN|[Cc]hung cư)'\n",
    "pattern2 = '[Hh]omestay'\n",
    "for d in df['description'].values:\n",
    "    d = str(d)\n",
    "    ccmn = re.findall(pattern1, d)\n",
    "    hs = re.findall(pattern2, d)\n",
    "    if ccmn:\n",
    "        a.append(2)\n",
    "    elif hs:\n",
    "        a.append(1)\n",
    "    else:\n",
    "        a.append(0)\n",
    "\n",
    "data['Kind'] = pd.Series(np.array(a), index=df.index)\n",
    "data.head(10)"
   ]
  },
  {
   "cell_type": "code",
   "execution_count": 34,
   "metadata": {},
   "outputs": [
    {
     "output_type": "execute_result",
     "data": {
      "text/plain": [
       "   Price  Kind                                           Location\n",
       "0    6.0     2   57A NGÕ 221 Phố Tôn Đức Thắng, Phường Hàng B...\n",
       "1   37.0     0   Phố Nguyễn Văn Tuyết, Phường Ngã Tư Sở, Quậ...\n",
       "2    7.0     0   Đường Nguyễn Cơ Thạch, Phường Cầu Diễn, Quận ...\n",
       "3   50.0     0   Đường Lê Đức Thọ, Phường Dịch Vọng Hậu, Quận ...\n",
       "4    4.0     0   Số nhà 5 ngõ 322/50 Đường Mỹ Đình, Phường Mỹ ...\n",
       "5    9.0     2   Đường Hoàng Đạo Thúy, Phường Trung Hòa, Quận ...\n",
       "6   12.0     0   Đường Vũ Trọng Phụng, Phường Thanh Xuân Trung...\n",
       "7    6.5     2   Số 57A NGÕ 221 Phố Tôn Đức Thắng, Phường Hàn...\n",
       "8   11.0     0   Đường Thành Thái, Phường Dịch Vọng, Quận Cầu ...\n",
       "9   10.0     0   D2 Đường Giảng Võ, Phường Giảng Võ, Quận Ba Đ..."
      ],
      "text/html": "<div>\n<style scoped>\n    .dataframe tbody tr th:only-of-type {\n        vertical-align: middle;\n    }\n\n    .dataframe tbody tr th {\n        vertical-align: top;\n    }\n\n    .dataframe thead th {\n        text-align: right;\n    }\n</style>\n<table border=\"1\" class=\"dataframe\">\n  <thead>\n    <tr style=\"text-align: right;\">\n      <th></th>\n      <th>Price</th>\n      <th>Kind</th>\n      <th>Location</th>\n    </tr>\n  </thead>\n  <tbody>\n    <tr>\n      <th>0</th>\n      <td>6.0</td>\n      <td>2</td>\n      <td>57A NGÕ 221 Phố Tôn Đức Thắng, Phường Hàng B...</td>\n    </tr>\n    <tr>\n      <th>1</th>\n      <td>37.0</td>\n      <td>0</td>\n      <td>Phố Nguyễn Văn Tuyết, Phường Ngã Tư Sở, Quậ...</td>\n    </tr>\n    <tr>\n      <th>2</th>\n      <td>7.0</td>\n      <td>0</td>\n      <td>Đường Nguyễn Cơ Thạch, Phường Cầu Diễn, Quận ...</td>\n    </tr>\n    <tr>\n      <th>3</th>\n      <td>50.0</td>\n      <td>0</td>\n      <td>Đường Lê Đức Thọ, Phường Dịch Vọng Hậu, Quận ...</td>\n    </tr>\n    <tr>\n      <th>4</th>\n      <td>4.0</td>\n      <td>0</td>\n      <td>Số nhà 5 ngõ 322/50 Đường Mỹ Đình, Phường Mỹ ...</td>\n    </tr>\n    <tr>\n      <th>5</th>\n      <td>9.0</td>\n      <td>2</td>\n      <td>Đường Hoàng Đạo Thúy, Phường Trung Hòa, Quận ...</td>\n    </tr>\n    <tr>\n      <th>6</th>\n      <td>12.0</td>\n      <td>0</td>\n      <td>Đường Vũ Trọng Phụng, Phường Thanh Xuân Trung...</td>\n    </tr>\n    <tr>\n      <th>7</th>\n      <td>6.5</td>\n      <td>2</td>\n      <td>Số 57A NGÕ 221 Phố Tôn Đức Thắng, Phường Hàn...</td>\n    </tr>\n    <tr>\n      <th>8</th>\n      <td>11.0</td>\n      <td>0</td>\n      <td>Đường Thành Thái, Phường Dịch Vọng, Quận Cầu ...</td>\n    </tr>\n    <tr>\n      <th>9</th>\n      <td>10.0</td>\n      <td>0</td>\n      <td>D2 Đường Giảng Võ, Phường Giảng Võ, Quận Ba Đ...</td>\n    </tr>\n  </tbody>\n</table>\n</div>"
     },
     "metadata": {},
     "execution_count": 34
    }
   ],
   "source": [
    "data['Location'] = df['location']\n",
    "data.head(10)"
   ]
  },
  {
   "cell_type": "code",
   "execution_count": 36,
   "metadata": {},
   "outputs": [
    {
     "output_type": "execute_result",
     "data": {
      "text/plain": [
       "   Price  Kind                                           Location  Size\n",
       "0    6.0     2   57A NGÕ 221 Phố Tôn Đức Thắng, Phường Hàng B...    40\n",
       "1   37.0     0   Phố Nguyễn Văn Tuyết, Phường Ngã Tư Sở, Quậ...   200\n",
       "2    7.0     0   Đường Nguyễn Cơ Thạch, Phường Cầu Diễn, Quận ...    70\n",
       "3   50.0     0   Đường Lê Đức Thọ, Phường Dịch Vọng Hậu, Quận ...   200\n",
       "4    4.0     0   Số nhà 5 ngõ 322/50 Đường Mỹ Đình, Phường Mỹ ...    30\n",
       "5    9.0     2   Đường Hoàng Đạo Thúy, Phường Trung Hòa, Quận ...    76\n",
       "6   12.0     0   Đường Vũ Trọng Phụng, Phường Thanh Xuân Trung...   120\n",
       "7    6.5     2   Số 57A NGÕ 221 Phố Tôn Đức Thắng, Phường Hàn...    40\n",
       "8   11.0     0   Đường Thành Thái, Phường Dịch Vọng, Quận Cầu ...    75\n",
       "9   10.0     0   D2 Đường Giảng Võ, Phường Giảng Võ, Quận Ba Đ...    60"
      ],
      "text/html": "<div>\n<style scoped>\n    .dataframe tbody tr th:only-of-type {\n        vertical-align: middle;\n    }\n\n    .dataframe tbody tr th {\n        vertical-align: top;\n    }\n\n    .dataframe thead th {\n        text-align: right;\n    }\n</style>\n<table border=\"1\" class=\"dataframe\">\n  <thead>\n    <tr style=\"text-align: right;\">\n      <th></th>\n      <th>Price</th>\n      <th>Kind</th>\n      <th>Location</th>\n      <th>Size</th>\n    </tr>\n  </thead>\n  <tbody>\n    <tr>\n      <th>0</th>\n      <td>6.0</td>\n      <td>2</td>\n      <td>57A NGÕ 221 Phố Tôn Đức Thắng, Phường Hàng B...</td>\n      <td>40</td>\n    </tr>\n    <tr>\n      <th>1</th>\n      <td>37.0</td>\n      <td>0</td>\n      <td>Phố Nguyễn Văn Tuyết, Phường Ngã Tư Sở, Quậ...</td>\n      <td>200</td>\n    </tr>\n    <tr>\n      <th>2</th>\n      <td>7.0</td>\n      <td>0</td>\n      <td>Đường Nguyễn Cơ Thạch, Phường Cầu Diễn, Quận ...</td>\n      <td>70</td>\n    </tr>\n    <tr>\n      <th>3</th>\n      <td>50.0</td>\n      <td>0</td>\n      <td>Đường Lê Đức Thọ, Phường Dịch Vọng Hậu, Quận ...</td>\n      <td>200</td>\n    </tr>\n    <tr>\n      <th>4</th>\n      <td>4.0</td>\n      <td>0</td>\n      <td>Số nhà 5 ngõ 322/50 Đường Mỹ Đình, Phường Mỹ ...</td>\n      <td>30</td>\n    </tr>\n    <tr>\n      <th>5</th>\n      <td>9.0</td>\n      <td>2</td>\n      <td>Đường Hoàng Đạo Thúy, Phường Trung Hòa, Quận ...</td>\n      <td>76</td>\n    </tr>\n    <tr>\n      <th>6</th>\n      <td>12.0</td>\n      <td>0</td>\n      <td>Đường Vũ Trọng Phụng, Phường Thanh Xuân Trung...</td>\n      <td>120</td>\n    </tr>\n    <tr>\n      <th>7</th>\n      <td>6.5</td>\n      <td>2</td>\n      <td>Số 57A NGÕ 221 Phố Tôn Đức Thắng, Phường Hàn...</td>\n      <td>40</td>\n    </tr>\n    <tr>\n      <th>8</th>\n      <td>11.0</td>\n      <td>0</td>\n      <td>Đường Thành Thái, Phường Dịch Vọng, Quận Cầu ...</td>\n      <td>75</td>\n    </tr>\n    <tr>\n      <th>9</th>\n      <td>10.0</td>\n      <td>0</td>\n      <td>D2 Đường Giảng Võ, Phường Giảng Võ, Quận Ba Đ...</td>\n      <td>60</td>\n    </tr>\n  </tbody>\n</table>\n</div>"
     },
     "metadata": {},
     "execution_count": 36
    }
   ],
   "source": [
    "b = []\n",
    "pattern = '[0-9]+'\n",
    "for a in area:\n",
    "    result = re.findall(pattern, a)\n",
    "    if result:\n",
    "        b.append(int(result[0]))\n",
    "    else:\n",
    "        b.append(0)\n",
    "\n",
    "data['Size'] = pd.Series(np.array(b), index=df.index)\n",
    "data.head(10)"
   ]
  },
  {
   "cell_type": "code",
   "execution_count": 38,
   "metadata": {},
   "outputs": [
    {
     "output_type": "execute_result",
     "data": {
      "text/plain": [
       "   Price  Kind                                           Location  Size  \\\n",
       "0    6.0     2   57A NGÕ 221 Phố Tôn Đức Thắng, Phường Hàng B...    40   \n",
       "1   37.0     0   Phố Nguyễn Văn Tuyết, Phường Ngã Tư Sở, Quậ...   200   \n",
       "2    7.0     0   Đường Nguyễn Cơ Thạch, Phường Cầu Diễn, Quận ...    70   \n",
       "3   50.0     0   Đường Lê Đức Thọ, Phường Dịch Vọng Hậu, Quận ...   200   \n",
       "4    4.0     0   Số nhà 5 ngõ 322/50 Đường Mỹ Đình, Phường Mỹ ...    30   \n",
       "5    9.0     2   Đường Hoàng Đạo Thúy, Phường Trung Hòa, Quận ...    76   \n",
       "6   12.0     0   Đường Vũ Trọng Phụng, Phường Thanh Xuân Trung...   120   \n",
       "7    6.5     2   Số 57A NGÕ 221 Phố Tôn Đức Thắng, Phường Hàn...    40   \n",
       "8   11.0     0   Đường Thành Thái, Phường Dịch Vọng, Quận Cầu ...    75   \n",
       "9   10.0     0   D2 Đường Giảng Võ, Phường Giảng Võ, Quận Ba Đ...    60   \n",
       "\n",
       "   Parking_slot  \n",
       "0             0  \n",
       "1             1  \n",
       "2             0  \n",
       "3             0  \n",
       "4             1  \n",
       "5             0  \n",
       "6             0  \n",
       "7             0  \n",
       "8             0  \n",
       "9             0  "
      ],
      "text/html": "<div>\n<style scoped>\n    .dataframe tbody tr th:only-of-type {\n        vertical-align: middle;\n    }\n\n    .dataframe tbody tr th {\n        vertical-align: top;\n    }\n\n    .dataframe thead th {\n        text-align: right;\n    }\n</style>\n<table border=\"1\" class=\"dataframe\">\n  <thead>\n    <tr style=\"text-align: right;\">\n      <th></th>\n      <th>Price</th>\n      <th>Kind</th>\n      <th>Location</th>\n      <th>Size</th>\n      <th>Parking_slot</th>\n    </tr>\n  </thead>\n  <tbody>\n    <tr>\n      <th>0</th>\n      <td>6.0</td>\n      <td>2</td>\n      <td>57A NGÕ 221 Phố Tôn Đức Thắng, Phường Hàng B...</td>\n      <td>40</td>\n      <td>0</td>\n    </tr>\n    <tr>\n      <th>1</th>\n      <td>37.0</td>\n      <td>0</td>\n      <td>Phố Nguyễn Văn Tuyết, Phường Ngã Tư Sở, Quậ...</td>\n      <td>200</td>\n      <td>1</td>\n    </tr>\n    <tr>\n      <th>2</th>\n      <td>7.0</td>\n      <td>0</td>\n      <td>Đường Nguyễn Cơ Thạch, Phường Cầu Diễn, Quận ...</td>\n      <td>70</td>\n      <td>0</td>\n    </tr>\n    <tr>\n      <th>3</th>\n      <td>50.0</td>\n      <td>0</td>\n      <td>Đường Lê Đức Thọ, Phường Dịch Vọng Hậu, Quận ...</td>\n      <td>200</td>\n      <td>0</td>\n    </tr>\n    <tr>\n      <th>4</th>\n      <td>4.0</td>\n      <td>0</td>\n      <td>Số nhà 5 ngõ 322/50 Đường Mỹ Đình, Phường Mỹ ...</td>\n      <td>30</td>\n      <td>1</td>\n    </tr>\n    <tr>\n      <th>5</th>\n      <td>9.0</td>\n      <td>2</td>\n      <td>Đường Hoàng Đạo Thúy, Phường Trung Hòa, Quận ...</td>\n      <td>76</td>\n      <td>0</td>\n    </tr>\n    <tr>\n      <th>6</th>\n      <td>12.0</td>\n      <td>0</td>\n      <td>Đường Vũ Trọng Phụng, Phường Thanh Xuân Trung...</td>\n      <td>120</td>\n      <td>0</td>\n    </tr>\n    <tr>\n      <th>7</th>\n      <td>6.5</td>\n      <td>2</td>\n      <td>Số 57A NGÕ 221 Phố Tôn Đức Thắng, Phường Hàn...</td>\n      <td>40</td>\n      <td>0</td>\n    </tr>\n    <tr>\n      <th>8</th>\n      <td>11.0</td>\n      <td>0</td>\n      <td>Đường Thành Thái, Phường Dịch Vọng, Quận Cầu ...</td>\n      <td>75</td>\n      <td>0</td>\n    </tr>\n    <tr>\n      <th>9</th>\n      <td>10.0</td>\n      <td>0</td>\n      <td>D2 Đường Giảng Võ, Phường Giảng Võ, Quận Ba Đ...</td>\n      <td>60</td>\n      <td>0</td>\n    </tr>\n  </tbody>\n</table>\n</div>"
     },
     "metadata": {},
     "execution_count": 38
    }
   ],
   "source": [
    "# add parking area\n",
    "a = []\n",
    "pattern = '[Đđ]ể xe'\n",
    "for d in des:\n",
    "    d = str(d)\n",
    "    result = re.findall(pattern, d)\n",
    "    if result:\n",
    "        a.append(1)\n",
    "    else:\n",
    "        a.append(0)\n",
    "\n",
    "data['Parking_slot'] = pd.Series(np.array(a), index=df.index)\n",
    "data.head(10)"
   ]
  },
  {
   "cell_type": "code",
   "execution_count": 40,
   "metadata": {},
   "outputs": [
    {
     "output_type": "execute_result",
     "data": {
      "text/plain": [
       "   Price  Kind                                           Location  Size  \\\n",
       "0    6.0     2   57A NGÕ 221 Phố Tôn Đức Thắng, Phường Hàng B...    40   \n",
       "1   37.0     0   Phố Nguyễn Văn Tuyết, Phường Ngã Tư Sở, Quậ...   200   \n",
       "2    7.0     0   Đường Nguyễn Cơ Thạch, Phường Cầu Diễn, Quận ...    70   \n",
       "3   50.0     0   Đường Lê Đức Thọ, Phường Dịch Vọng Hậu, Quận ...   200   \n",
       "4    4.0     0   Số nhà 5 ngõ 322/50 Đường Mỹ Đình, Phường Mỹ ...    30   \n",
       "5    9.0     2   Đường Hoàng Đạo Thúy, Phường Trung Hòa, Quận ...    76   \n",
       "6   12.0     0   Đường Vũ Trọng Phụng, Phường Thanh Xuân Trung...   120   \n",
       "7    6.5     2   Số 57A NGÕ 221 Phố Tôn Đức Thắng, Phường Hàn...    40   \n",
       "8   11.0     0   Đường Thành Thái, Phường Dịch Vọng, Quận Cầu ...    75   \n",
       "9   10.0     0   D2 Đường Giảng Võ, Phường Giảng Võ, Quận Ba Đ...    60   \n",
       "\n",
       "   Parking_slot  Air_condition  \n",
       "0             0              1  \n",
       "1             1              0  \n",
       "2             0              0  \n",
       "3             0              0  \n",
       "4             1              1  \n",
       "5             0              1  \n",
       "6             0              0  \n",
       "7             0              1  \n",
       "8             0              0  \n",
       "9             0              0  "
      ],
      "text/html": "<div>\n<style scoped>\n    .dataframe tbody tr th:only-of-type {\n        vertical-align: middle;\n    }\n\n    .dataframe tbody tr th {\n        vertical-align: top;\n    }\n\n    .dataframe thead th {\n        text-align: right;\n    }\n</style>\n<table border=\"1\" class=\"dataframe\">\n  <thead>\n    <tr style=\"text-align: right;\">\n      <th></th>\n      <th>Price</th>\n      <th>Kind</th>\n      <th>Location</th>\n      <th>Size</th>\n      <th>Parking_slot</th>\n      <th>Air_condition</th>\n    </tr>\n  </thead>\n  <tbody>\n    <tr>\n      <th>0</th>\n      <td>6.0</td>\n      <td>2</td>\n      <td>57A NGÕ 221 Phố Tôn Đức Thắng, Phường Hàng B...</td>\n      <td>40</td>\n      <td>0</td>\n      <td>1</td>\n    </tr>\n    <tr>\n      <th>1</th>\n      <td>37.0</td>\n      <td>0</td>\n      <td>Phố Nguyễn Văn Tuyết, Phường Ngã Tư Sở, Quậ...</td>\n      <td>200</td>\n      <td>1</td>\n      <td>0</td>\n    </tr>\n    <tr>\n      <th>2</th>\n      <td>7.0</td>\n      <td>0</td>\n      <td>Đường Nguyễn Cơ Thạch, Phường Cầu Diễn, Quận ...</td>\n      <td>70</td>\n      <td>0</td>\n      <td>0</td>\n    </tr>\n    <tr>\n      <th>3</th>\n      <td>50.0</td>\n      <td>0</td>\n      <td>Đường Lê Đức Thọ, Phường Dịch Vọng Hậu, Quận ...</td>\n      <td>200</td>\n      <td>0</td>\n      <td>0</td>\n    </tr>\n    <tr>\n      <th>4</th>\n      <td>4.0</td>\n      <td>0</td>\n      <td>Số nhà 5 ngõ 322/50 Đường Mỹ Đình, Phường Mỹ ...</td>\n      <td>30</td>\n      <td>1</td>\n      <td>1</td>\n    </tr>\n    <tr>\n      <th>5</th>\n      <td>9.0</td>\n      <td>2</td>\n      <td>Đường Hoàng Đạo Thúy, Phường Trung Hòa, Quận ...</td>\n      <td>76</td>\n      <td>0</td>\n      <td>1</td>\n    </tr>\n    <tr>\n      <th>6</th>\n      <td>12.0</td>\n      <td>0</td>\n      <td>Đường Vũ Trọng Phụng, Phường Thanh Xuân Trung...</td>\n      <td>120</td>\n      <td>0</td>\n      <td>0</td>\n    </tr>\n    <tr>\n      <th>7</th>\n      <td>6.5</td>\n      <td>2</td>\n      <td>Số 57A NGÕ 221 Phố Tôn Đức Thắng, Phường Hàn...</td>\n      <td>40</td>\n      <td>0</td>\n      <td>1</td>\n    </tr>\n    <tr>\n      <th>8</th>\n      <td>11.0</td>\n      <td>0</td>\n      <td>Đường Thành Thái, Phường Dịch Vọng, Quận Cầu ...</td>\n      <td>75</td>\n      <td>0</td>\n      <td>0</td>\n    </tr>\n    <tr>\n      <th>9</th>\n      <td>10.0</td>\n      <td>0</td>\n      <td>D2 Đường Giảng Võ, Phường Giảng Võ, Quận Ba Đ...</td>\n      <td>60</td>\n      <td>0</td>\n      <td>0</td>\n    </tr>\n  </tbody>\n</table>\n</div>"
     },
     "metadata": {},
     "execution_count": 40
    }
   ],
   "source": [
    "a = []\n",
    "pattern = '[Đđ]iều hòa'\n",
    "for d in des:\n",
    "    d = str(d)\n",
    "    result = re.findall(pattern, d)\n",
    "    if result:\n",
    "        a.append(1)\n",
    "    else:\n",
    "        a.append(0)\n",
    "\n",
    "data['Air_condition'] = pd.Series(np.array(a), index=df.index)\n",
    "data.head(10)"
   ]
  },
  {
   "cell_type": "code",
   "execution_count": 41,
   "metadata": {},
   "outputs": [
    {
     "output_type": "execute_result",
     "data": {
      "text/plain": [
       "   Price  Kind                                           Location  Size  \\\n",
       "0    6.0     2   57A NGÕ 221 Phố Tôn Đức Thắng, Phường Hàng B...    40   \n",
       "1   37.0     0   Phố Nguyễn Văn Tuyết, Phường Ngã Tư Sở, Quậ...   200   \n",
       "2    7.0     0   Đường Nguyễn Cơ Thạch, Phường Cầu Diễn, Quận ...    70   \n",
       "3   50.0     0   Đường Lê Đức Thọ, Phường Dịch Vọng Hậu, Quận ...   200   \n",
       "4    4.0     0   Số nhà 5 ngõ 322/50 Đường Mỹ Đình, Phường Mỹ ...    30   \n",
       "5    9.0     2   Đường Hoàng Đạo Thúy, Phường Trung Hòa, Quận ...    76   \n",
       "6   12.0     0   Đường Vũ Trọng Phụng, Phường Thanh Xuân Trung...   120   \n",
       "7    6.5     2   Số 57A NGÕ 221 Phố Tôn Đức Thắng, Phường Hàn...    40   \n",
       "8   11.0     0   Đường Thành Thái, Phường Dịch Vọng, Quận Cầu ...    75   \n",
       "9   10.0     0   D2 Đường Giảng Võ, Phường Giảng Võ, Quận Ba Đ...    60   \n",
       "\n",
       "   Parking_slot  Air_condition  Heater_shower  \n",
       "0             0              1              1  \n",
       "1             1              0              0  \n",
       "2             0              0              0  \n",
       "3             0              0              0  \n",
       "4             1              1              1  \n",
       "5             0              1              1  \n",
       "6             0              0              0  \n",
       "7             0              1              1  \n",
       "8             0              0              0  \n",
       "9             0              0              0  "
      ],
      "text/html": "<div>\n<style scoped>\n    .dataframe tbody tr th:only-of-type {\n        vertical-align: middle;\n    }\n\n    .dataframe tbody tr th {\n        vertical-align: top;\n    }\n\n    .dataframe thead th {\n        text-align: right;\n    }\n</style>\n<table border=\"1\" class=\"dataframe\">\n  <thead>\n    <tr style=\"text-align: right;\">\n      <th></th>\n      <th>Price</th>\n      <th>Kind</th>\n      <th>Location</th>\n      <th>Size</th>\n      <th>Parking_slot</th>\n      <th>Air_condition</th>\n      <th>Heater_shower</th>\n    </tr>\n  </thead>\n  <tbody>\n    <tr>\n      <th>0</th>\n      <td>6.0</td>\n      <td>2</td>\n      <td>57A NGÕ 221 Phố Tôn Đức Thắng, Phường Hàng B...</td>\n      <td>40</td>\n      <td>0</td>\n      <td>1</td>\n      <td>1</td>\n    </tr>\n    <tr>\n      <th>1</th>\n      <td>37.0</td>\n      <td>0</td>\n      <td>Phố Nguyễn Văn Tuyết, Phường Ngã Tư Sở, Quậ...</td>\n      <td>200</td>\n      <td>1</td>\n      <td>0</td>\n      <td>0</td>\n    </tr>\n    <tr>\n      <th>2</th>\n      <td>7.0</td>\n      <td>0</td>\n      <td>Đường Nguyễn Cơ Thạch, Phường Cầu Diễn, Quận ...</td>\n      <td>70</td>\n      <td>0</td>\n      <td>0</td>\n      <td>0</td>\n    </tr>\n    <tr>\n      <th>3</th>\n      <td>50.0</td>\n      <td>0</td>\n      <td>Đường Lê Đức Thọ, Phường Dịch Vọng Hậu, Quận ...</td>\n      <td>200</td>\n      <td>0</td>\n      <td>0</td>\n      <td>0</td>\n    </tr>\n    <tr>\n      <th>4</th>\n      <td>4.0</td>\n      <td>0</td>\n      <td>Số nhà 5 ngõ 322/50 Đường Mỹ Đình, Phường Mỹ ...</td>\n      <td>30</td>\n      <td>1</td>\n      <td>1</td>\n      <td>1</td>\n    </tr>\n    <tr>\n      <th>5</th>\n      <td>9.0</td>\n      <td>2</td>\n      <td>Đường Hoàng Đạo Thúy, Phường Trung Hòa, Quận ...</td>\n      <td>76</td>\n      <td>0</td>\n      <td>1</td>\n      <td>1</td>\n    </tr>\n    <tr>\n      <th>6</th>\n      <td>12.0</td>\n      <td>0</td>\n      <td>Đường Vũ Trọng Phụng, Phường Thanh Xuân Trung...</td>\n      <td>120</td>\n      <td>0</td>\n      <td>0</td>\n      <td>0</td>\n    </tr>\n    <tr>\n      <th>7</th>\n      <td>6.5</td>\n      <td>2</td>\n      <td>Số 57A NGÕ 221 Phố Tôn Đức Thắng, Phường Hàn...</td>\n      <td>40</td>\n      <td>0</td>\n      <td>1</td>\n      <td>1</td>\n    </tr>\n    <tr>\n      <th>8</th>\n      <td>11.0</td>\n      <td>0</td>\n      <td>Đường Thành Thái, Phường Dịch Vọng, Quận Cầu ...</td>\n      <td>75</td>\n      <td>0</td>\n      <td>0</td>\n      <td>0</td>\n    </tr>\n    <tr>\n      <th>9</th>\n      <td>10.0</td>\n      <td>0</td>\n      <td>D2 Đường Giảng Võ, Phường Giảng Võ, Quận Ba Đ...</td>\n      <td>60</td>\n      <td>0</td>\n      <td>0</td>\n      <td>0</td>\n    </tr>\n  </tbody>\n</table>\n</div>"
     },
     "metadata": {},
     "execution_count": 41
    }
   ],
   "source": [
    "a = []\n",
    "pattern = '[Nn]óng lạnh'\n",
    "for d in des:\n",
    "    d = str(d)\n",
    "    result = re.findall(pattern, d)\n",
    "    if result:\n",
    "        a.append(1)\n",
    "    else:\n",
    "        a.append(0)\n",
    "\n",
    "data['Heater_shower'] = pd.Series(np.array(a), index=df.index)\n",
    "data.head(10)"
   ]
  },
  {
   "cell_type": "code",
   "execution_count": 42,
   "metadata": {},
   "outputs": [
    {
     "output_type": "execute_result",
     "data": {
      "text/plain": [
       "   Price  Kind                                           Location  Size  \\\n",
       "0    6.0     2   57A NGÕ 221 Phố Tôn Đức Thắng, Phường Hàng B...    40   \n",
       "1   37.0     0   Phố Nguyễn Văn Tuyết, Phường Ngã Tư Sở, Quậ...   200   \n",
       "2    7.0     0   Đường Nguyễn Cơ Thạch, Phường Cầu Diễn, Quận ...    70   \n",
       "3   50.0     0   Đường Lê Đức Thọ, Phường Dịch Vọng Hậu, Quận ...   200   \n",
       "4    4.0     0   Số nhà 5 ngõ 322/50 Đường Mỹ Đình, Phường Mỹ ...    30   \n",
       "5    9.0     2   Đường Hoàng Đạo Thúy, Phường Trung Hòa, Quận ...    76   \n",
       "6   12.0     0   Đường Vũ Trọng Phụng, Phường Thanh Xuân Trung...   120   \n",
       "7    6.5     2   Số 57A NGÕ 221 Phố Tôn Đức Thắng, Phường Hàn...    40   \n",
       "8   11.0     0   Đường Thành Thái, Phường Dịch Vọng, Quận Cầu ...    75   \n",
       "9   10.0     0   D2 Đường Giảng Võ, Phường Giảng Võ, Quận Ba Đ...    60   \n",
       "\n",
       "   Parking_slot  Air_condition  Heater_shower  Furnish  \n",
       "0             0              1              1        1  \n",
       "1             1              0              0        0  \n",
       "2             0              0              0        0  \n",
       "3             0              0              0        0  \n",
       "4             1              1              1        1  \n",
       "5             0              1              1        1  \n",
       "6             0              0              0        0  \n",
       "7             0              1              1        1  \n",
       "8             0              0              0        1  \n",
       "9             0              0              0        0  "
      ],
      "text/html": "<div>\n<style scoped>\n    .dataframe tbody tr th:only-of-type {\n        vertical-align: middle;\n    }\n\n    .dataframe tbody tr th {\n        vertical-align: top;\n    }\n\n    .dataframe thead th {\n        text-align: right;\n    }\n</style>\n<table border=\"1\" class=\"dataframe\">\n  <thead>\n    <tr style=\"text-align: right;\">\n      <th></th>\n      <th>Price</th>\n      <th>Kind</th>\n      <th>Location</th>\n      <th>Size</th>\n      <th>Parking_slot</th>\n      <th>Air_condition</th>\n      <th>Heater_shower</th>\n      <th>Furnish</th>\n    </tr>\n  </thead>\n  <tbody>\n    <tr>\n      <th>0</th>\n      <td>6.0</td>\n      <td>2</td>\n      <td>57A NGÕ 221 Phố Tôn Đức Thắng, Phường Hàng B...</td>\n      <td>40</td>\n      <td>0</td>\n      <td>1</td>\n      <td>1</td>\n      <td>1</td>\n    </tr>\n    <tr>\n      <th>1</th>\n      <td>37.0</td>\n      <td>0</td>\n      <td>Phố Nguyễn Văn Tuyết, Phường Ngã Tư Sở, Quậ...</td>\n      <td>200</td>\n      <td>1</td>\n      <td>0</td>\n      <td>0</td>\n      <td>0</td>\n    </tr>\n    <tr>\n      <th>2</th>\n      <td>7.0</td>\n      <td>0</td>\n      <td>Đường Nguyễn Cơ Thạch, Phường Cầu Diễn, Quận ...</td>\n      <td>70</td>\n      <td>0</td>\n      <td>0</td>\n      <td>0</td>\n      <td>0</td>\n    </tr>\n    <tr>\n      <th>3</th>\n      <td>50.0</td>\n      <td>0</td>\n      <td>Đường Lê Đức Thọ, Phường Dịch Vọng Hậu, Quận ...</td>\n      <td>200</td>\n      <td>0</td>\n      <td>0</td>\n      <td>0</td>\n      <td>0</td>\n    </tr>\n    <tr>\n      <th>4</th>\n      <td>4.0</td>\n      <td>0</td>\n      <td>Số nhà 5 ngõ 322/50 Đường Mỹ Đình, Phường Mỹ ...</td>\n      <td>30</td>\n      <td>1</td>\n      <td>1</td>\n      <td>1</td>\n      <td>1</td>\n    </tr>\n    <tr>\n      <th>5</th>\n      <td>9.0</td>\n      <td>2</td>\n      <td>Đường Hoàng Đạo Thúy, Phường Trung Hòa, Quận ...</td>\n      <td>76</td>\n      <td>0</td>\n      <td>1</td>\n      <td>1</td>\n      <td>1</td>\n    </tr>\n    <tr>\n      <th>6</th>\n      <td>12.0</td>\n      <td>0</td>\n      <td>Đường Vũ Trọng Phụng, Phường Thanh Xuân Trung...</td>\n      <td>120</td>\n      <td>0</td>\n      <td>0</td>\n      <td>0</td>\n      <td>0</td>\n    </tr>\n    <tr>\n      <th>7</th>\n      <td>6.5</td>\n      <td>2</td>\n      <td>Số 57A NGÕ 221 Phố Tôn Đức Thắng, Phường Hàn...</td>\n      <td>40</td>\n      <td>0</td>\n      <td>1</td>\n      <td>1</td>\n      <td>1</td>\n    </tr>\n    <tr>\n      <th>8</th>\n      <td>11.0</td>\n      <td>0</td>\n      <td>Đường Thành Thái, Phường Dịch Vọng, Quận Cầu ...</td>\n      <td>75</td>\n      <td>0</td>\n      <td>0</td>\n      <td>0</td>\n      <td>1</td>\n    </tr>\n    <tr>\n      <th>9</th>\n      <td>10.0</td>\n      <td>0</td>\n      <td>D2 Đường Giảng Võ, Phường Giảng Võ, Quận Ba Đ...</td>\n      <td>60</td>\n      <td>0</td>\n      <td>0</td>\n      <td>0</td>\n      <td>0</td>\n    </tr>\n  </tbody>\n</table>\n</div>"
     },
     "metadata": {},
     "execution_count": 42
    }
   ],
   "source": [
    "a = []\n",
    "pattern = '([Tt]ủ|[Ff]ull đồ|tivi|nội thất đầy đủ)'\n",
    "for d in des:\n",
    "    d = str(d)\n",
    "    result = re.findall(pattern, d)\n",
    "    if result:\n",
    "        a.append(1)\n",
    "    else:\n",
    "        a.append(0)\n",
    "\n",
    "data['Furnish'] = pd.Series(np.array(a), index=df.index)\n",
    "data.head(10)"
   ]
  },
  {
   "cell_type": "code",
   "execution_count": 43,
   "metadata": {},
   "outputs": [
    {
     "output_type": "execute_result",
     "data": {
      "text/plain": [
       "   Price  Kind                                           Location  Size  \\\n",
       "0    6.0     2   57A NGÕ 221 Phố Tôn Đức Thắng, Phường Hàng B...    40   \n",
       "1   37.0     0   Phố Nguyễn Văn Tuyết, Phường Ngã Tư Sở, Quậ...   200   \n",
       "2    7.0     0   Đường Nguyễn Cơ Thạch, Phường Cầu Diễn, Quận ...    70   \n",
       "3   50.0     0   Đường Lê Đức Thọ, Phường Dịch Vọng Hậu, Quận ...   200   \n",
       "4    4.0     0   Số nhà 5 ngõ 322/50 Đường Mỹ Đình, Phường Mỹ ...    30   \n",
       "5    9.0     2   Đường Hoàng Đạo Thúy, Phường Trung Hòa, Quận ...    76   \n",
       "6   12.0     0   Đường Vũ Trọng Phụng, Phường Thanh Xuân Trung...   120   \n",
       "7    6.5     2   Số 57A NGÕ 221 Phố Tôn Đức Thắng, Phường Hàn...    40   \n",
       "8   11.0     0   Đường Thành Thái, Phường Dịch Vọng, Quận Cầu ...    75   \n",
       "9   10.0     0   D2 Đường Giảng Võ, Phường Giảng Võ, Quận Ba Đ...    60   \n",
       "\n",
       "   Parking_slot  Air_condition  Heater_shower  Furnish  Inner_toilet  \n",
       "0             0              1              1        1             1  \n",
       "1             1              0              0        0             0  \n",
       "2             0              0              0        0             0  \n",
       "3             0              0              0        0             0  \n",
       "4             1              1              1        1             1  \n",
       "5             0              1              1        1             0  \n",
       "6             0              0              0        0             0  \n",
       "7             0              1              1        1             1  \n",
       "8             0              0              0        1             0  \n",
       "9             0              0              0        0             0  "
      ],
      "text/html": "<div>\n<style scoped>\n    .dataframe tbody tr th:only-of-type {\n        vertical-align: middle;\n    }\n\n    .dataframe tbody tr th {\n        vertical-align: top;\n    }\n\n    .dataframe thead th {\n        text-align: right;\n    }\n</style>\n<table border=\"1\" class=\"dataframe\">\n  <thead>\n    <tr style=\"text-align: right;\">\n      <th></th>\n      <th>Price</th>\n      <th>Kind</th>\n      <th>Location</th>\n      <th>Size</th>\n      <th>Parking_slot</th>\n      <th>Air_condition</th>\n      <th>Heater_shower</th>\n      <th>Furnish</th>\n      <th>Inner_toilet</th>\n    </tr>\n  </thead>\n  <tbody>\n    <tr>\n      <th>0</th>\n      <td>6.0</td>\n      <td>2</td>\n      <td>57A NGÕ 221 Phố Tôn Đức Thắng, Phường Hàng B...</td>\n      <td>40</td>\n      <td>0</td>\n      <td>1</td>\n      <td>1</td>\n      <td>1</td>\n      <td>1</td>\n    </tr>\n    <tr>\n      <th>1</th>\n      <td>37.0</td>\n      <td>0</td>\n      <td>Phố Nguyễn Văn Tuyết, Phường Ngã Tư Sở, Quậ...</td>\n      <td>200</td>\n      <td>1</td>\n      <td>0</td>\n      <td>0</td>\n      <td>0</td>\n      <td>0</td>\n    </tr>\n    <tr>\n      <th>2</th>\n      <td>7.0</td>\n      <td>0</td>\n      <td>Đường Nguyễn Cơ Thạch, Phường Cầu Diễn, Quận ...</td>\n      <td>70</td>\n      <td>0</td>\n      <td>0</td>\n      <td>0</td>\n      <td>0</td>\n      <td>0</td>\n    </tr>\n    <tr>\n      <th>3</th>\n      <td>50.0</td>\n      <td>0</td>\n      <td>Đường Lê Đức Thọ, Phường Dịch Vọng Hậu, Quận ...</td>\n      <td>200</td>\n      <td>0</td>\n      <td>0</td>\n      <td>0</td>\n      <td>0</td>\n      <td>0</td>\n    </tr>\n    <tr>\n      <th>4</th>\n      <td>4.0</td>\n      <td>0</td>\n      <td>Số nhà 5 ngõ 322/50 Đường Mỹ Đình, Phường Mỹ ...</td>\n      <td>30</td>\n      <td>1</td>\n      <td>1</td>\n      <td>1</td>\n      <td>1</td>\n      <td>1</td>\n    </tr>\n    <tr>\n      <th>5</th>\n      <td>9.0</td>\n      <td>2</td>\n      <td>Đường Hoàng Đạo Thúy, Phường Trung Hòa, Quận ...</td>\n      <td>76</td>\n      <td>0</td>\n      <td>1</td>\n      <td>1</td>\n      <td>1</td>\n      <td>0</td>\n    </tr>\n    <tr>\n      <th>6</th>\n      <td>12.0</td>\n      <td>0</td>\n      <td>Đường Vũ Trọng Phụng, Phường Thanh Xuân Trung...</td>\n      <td>120</td>\n      <td>0</td>\n      <td>0</td>\n      <td>0</td>\n      <td>0</td>\n      <td>0</td>\n    </tr>\n    <tr>\n      <th>7</th>\n      <td>6.5</td>\n      <td>2</td>\n      <td>Số 57A NGÕ 221 Phố Tôn Đức Thắng, Phường Hàn...</td>\n      <td>40</td>\n      <td>0</td>\n      <td>1</td>\n      <td>1</td>\n      <td>1</td>\n      <td>1</td>\n    </tr>\n    <tr>\n      <th>8</th>\n      <td>11.0</td>\n      <td>0</td>\n      <td>Đường Thành Thái, Phường Dịch Vọng, Quận Cầu ...</td>\n      <td>75</td>\n      <td>0</td>\n      <td>0</td>\n      <td>0</td>\n      <td>1</td>\n      <td>0</td>\n    </tr>\n    <tr>\n      <th>9</th>\n      <td>10.0</td>\n      <td>0</td>\n      <td>D2 Đường Giảng Võ, Phường Giảng Võ, Quận Ba Đ...</td>\n      <td>60</td>\n      <td>0</td>\n      <td>0</td>\n      <td>0</td>\n      <td>0</td>\n      <td>0</td>\n    </tr>\n  </tbody>\n</table>\n</div>"
     },
     "metadata": {},
     "execution_count": 43
    }
   ],
   "source": [
    "a = []\n",
    "pattern = 'khép kín'\n",
    "for d in des:\n",
    "    d = str(d)\n",
    "    result = re.findall(pattern, d)\n",
    "    if result:\n",
    "        a.append(1)\n",
    "    else:\n",
    "        a.append(0)\n",
    "\n",
    "data['Inner_toilet'] = pd.Series(np.array(a), index=df.index)\n",
    "data.head(10)"
   ]
  },
  {
   "cell_type": "code",
   "execution_count": 44,
   "metadata": {},
   "outputs": [
    {
     "output_type": "execute_result",
     "data": {
      "text/plain": [
       "   Price  Kind                                           Location  Size  \\\n",
       "0    6.0     2   57A NGÕ 221 Phố Tôn Đức Thắng, Phường Hàng B...    40   \n",
       "1   37.0     0   Phố Nguyễn Văn Tuyết, Phường Ngã Tư Sở, Quậ...   200   \n",
       "2    7.0     0   Đường Nguyễn Cơ Thạch, Phường Cầu Diễn, Quận ...    70   \n",
       "3   50.0     0   Đường Lê Đức Thọ, Phường Dịch Vọng Hậu, Quận ...   200   \n",
       "4    4.0     0   Số nhà 5 ngõ 322/50 Đường Mỹ Đình, Phường Mỹ ...    30   \n",
       "5    9.0     2   Đường Hoàng Đạo Thúy, Phường Trung Hòa, Quận ...    76   \n",
       "6   12.0     0   Đường Vũ Trọng Phụng, Phường Thanh Xuân Trung...   120   \n",
       "7    6.5     2   Số 57A NGÕ 221 Phố Tôn Đức Thắng, Phường Hàn...    40   \n",
       "8   11.0     0   Đường Thành Thái, Phường Dịch Vọng, Quận Cầu ...    75   \n",
       "9   10.0     0   D2 Đường Giảng Võ, Phường Giảng Võ, Quận Ba Đ...    60   \n",
       "\n",
       "   Parking_slot  Air_condition  Heater_shower  Furnish  Inner_toilet  \\\n",
       "0             0              1              1        1             1   \n",
       "1             1              0              0        0             0   \n",
       "2             0              0              0        0             0   \n",
       "3             0              0              0        0             0   \n",
       "4             1              1              1        1             1   \n",
       "5             0              1              1        1             0   \n",
       "6             0              0              0        0             0   \n",
       "7             0              1              1        1             1   \n",
       "8             0              0              0        1             0   \n",
       "9             0              0              0        0             0   \n",
       "\n",
       "   Size_total_bool  \n",
       "0                0  \n",
       "1                0  \n",
       "2                0  \n",
       "3                0  \n",
       "4                0  \n",
       "5                0  \n",
       "6                0  \n",
       "7                0  \n",
       "8                0  \n",
       "9                0  "
      ],
      "text/html": "<div>\n<style scoped>\n    .dataframe tbody tr th:only-of-type {\n        vertical-align: middle;\n    }\n\n    .dataframe tbody tr th {\n        vertical-align: top;\n    }\n\n    .dataframe thead th {\n        text-align: right;\n    }\n</style>\n<table border=\"1\" class=\"dataframe\">\n  <thead>\n    <tr style=\"text-align: right;\">\n      <th></th>\n      <th>Price</th>\n      <th>Kind</th>\n      <th>Location</th>\n      <th>Size</th>\n      <th>Parking_slot</th>\n      <th>Air_condition</th>\n      <th>Heater_shower</th>\n      <th>Furnish</th>\n      <th>Inner_toilet</th>\n      <th>Size_total_bool</th>\n    </tr>\n  </thead>\n  <tbody>\n    <tr>\n      <th>0</th>\n      <td>6.0</td>\n      <td>2</td>\n      <td>57A NGÕ 221 Phố Tôn Đức Thắng, Phường Hàng B...</td>\n      <td>40</td>\n      <td>0</td>\n      <td>1</td>\n      <td>1</td>\n      <td>1</td>\n      <td>1</td>\n      <td>0</td>\n    </tr>\n    <tr>\n      <th>1</th>\n      <td>37.0</td>\n      <td>0</td>\n      <td>Phố Nguyễn Văn Tuyết, Phường Ngã Tư Sở, Quậ...</td>\n      <td>200</td>\n      <td>1</td>\n      <td>0</td>\n      <td>0</td>\n      <td>0</td>\n      <td>0</td>\n      <td>0</td>\n    </tr>\n    <tr>\n      <th>2</th>\n      <td>7.0</td>\n      <td>0</td>\n      <td>Đường Nguyễn Cơ Thạch, Phường Cầu Diễn, Quận ...</td>\n      <td>70</td>\n      <td>0</td>\n      <td>0</td>\n      <td>0</td>\n      <td>0</td>\n      <td>0</td>\n      <td>0</td>\n    </tr>\n    <tr>\n      <th>3</th>\n      <td>50.0</td>\n      <td>0</td>\n      <td>Đường Lê Đức Thọ, Phường Dịch Vọng Hậu, Quận ...</td>\n      <td>200</td>\n      <td>0</td>\n      <td>0</td>\n      <td>0</td>\n      <td>0</td>\n      <td>0</td>\n      <td>0</td>\n    </tr>\n    <tr>\n      <th>4</th>\n      <td>4.0</td>\n      <td>0</td>\n      <td>Số nhà 5 ngõ 322/50 Đường Mỹ Đình, Phường Mỹ ...</td>\n      <td>30</td>\n      <td>1</td>\n      <td>1</td>\n      <td>1</td>\n      <td>1</td>\n      <td>1</td>\n      <td>0</td>\n    </tr>\n    <tr>\n      <th>5</th>\n      <td>9.0</td>\n      <td>2</td>\n      <td>Đường Hoàng Đạo Thúy, Phường Trung Hòa, Quận ...</td>\n      <td>76</td>\n      <td>0</td>\n      <td>1</td>\n      <td>1</td>\n      <td>1</td>\n      <td>0</td>\n      <td>0</td>\n    </tr>\n    <tr>\n      <th>6</th>\n      <td>12.0</td>\n      <td>0</td>\n      <td>Đường Vũ Trọng Phụng, Phường Thanh Xuân Trung...</td>\n      <td>120</td>\n      <td>0</td>\n      <td>0</td>\n      <td>0</td>\n      <td>0</td>\n      <td>0</td>\n      <td>0</td>\n    </tr>\n    <tr>\n      <th>7</th>\n      <td>6.5</td>\n      <td>2</td>\n      <td>Số 57A NGÕ 221 Phố Tôn Đức Thắng, Phường Hàn...</td>\n      <td>40</td>\n      <td>0</td>\n      <td>1</td>\n      <td>1</td>\n      <td>1</td>\n      <td>1</td>\n      <td>0</td>\n    </tr>\n    <tr>\n      <th>8</th>\n      <td>11.0</td>\n      <td>0</td>\n      <td>Đường Thành Thái, Phường Dịch Vọng, Quận Cầu ...</td>\n      <td>75</td>\n      <td>0</td>\n      <td>0</td>\n      <td>0</td>\n      <td>1</td>\n      <td>0</td>\n      <td>0</td>\n    </tr>\n    <tr>\n      <th>9</th>\n      <td>10.0</td>\n      <td>0</td>\n      <td>D2 Đường Giảng Võ, Phường Giảng Võ, Quận Ba Đ...</td>\n      <td>60</td>\n      <td>0</td>\n      <td>0</td>\n      <td>0</td>\n      <td>0</td>\n      <td>0</td>\n      <td>0</td>\n    </tr>\n  </tbody>\n</table>\n</div>"
     },
     "metadata": {},
     "execution_count": 44
    }
   ],
   "source": [
    "a = []\n",
    "pattern = '[Tt]ổng diện tích'\n",
    "for d in des:\n",
    "    d = str(d)\n",
    "    result = re.findall(pattern, d)\n",
    "    if result:\n",
    "        a.append(1)\n",
    "    else:\n",
    "        a.append(0)\n",
    "\n",
    "data['Size_total_bool'] = pd.Series(np.array(a), index=df.index)\n",
    "data.head(10)"
   ]
  },
  {
   "cell_type": "code",
   "execution_count": 45,
   "metadata": {},
   "outputs": [
    {
     "output_type": "execute_result",
     "data": {
      "text/plain": [
       "       Price  Kind                                           Location  Size  \\\n",
       "0        6.0     2   57A NGÕ 221 Phố Tôn Đức Thắng, Phường Hàng B...    40   \n",
       "1       37.0     0   Phố Nguyễn Văn Tuyết, Phường Ngã Tư Sở, Quậ...   200   \n",
       "2        7.0     0   Đường Nguyễn Cơ Thạch, Phường Cầu Diễn, Quận ...    70   \n",
       "3       50.0     0   Đường Lê Đức Thọ, Phường Dịch Vọng Hậu, Quận ...   200   \n",
       "4        4.0     0   Số nhà 5 ngõ 322/50 Đường Mỹ Đình, Phường Mỹ ...    30   \n",
       "...      ...   ...                                                ...   ...   \n",
       "26490    5.5     2   Đường Nguyễn Khang, Phường Yên Hòa, Quận Cầu ...    50   \n",
       "26491   15.0     0   Phố Trần Đại Nghĩa, Phường Bách Khoa, Quận H...    55   \n",
       "26492   10.0     0   Phố Trần Đại Nghĩa, Phường Đồng Tâm, Quận Ha...    60   \n",
       "26493   17.0     0   Phố Nguyên Hồng, Phường Láng Hạ, Quận Đống ...    60   \n",
       "26494   30.0     0   Phố Chùa Láng, Phường Láng Thượng, Quận Đốn...    42   \n",
       "\n",
       "       Parking_slot  Air_condition  Heater_shower  Furnish  Inner_toilet  \\\n",
       "0                 0              1              1        1             1   \n",
       "1                 1              0              0        0             0   \n",
       "2                 0              0              0        0             0   \n",
       "3                 0              0              0        0             0   \n",
       "4                 1              1              1        1             1   \n",
       "...             ...            ...            ...      ...           ...   \n",
       "26490             0              0              1        1             0   \n",
       "26491             0              0              0        0             0   \n",
       "26492             0              0              0        0             0   \n",
       "26493             0              0              0        0             0   \n",
       "26494             1              0              0        0             0   \n",
       "\n",
       "       Size_total_bool     Source  \n",
       "0                    0  alonhadat  \n",
       "1                    0  alonhadat  \n",
       "2                    0  alonhadat  \n",
       "3                    0  alonhadat  \n",
       "4                    0  alonhadat  \n",
       "...                ...        ...  \n",
       "26490                0  alonhadat  \n",
       "26491                0  alonhadat  \n",
       "26492                0  alonhadat  \n",
       "26493                0  alonhadat  \n",
       "26494                0  alonhadat  \n",
       "\n",
       "[26495 rows x 11 columns]"
      ],
      "text/html": "<div>\n<style scoped>\n    .dataframe tbody tr th:only-of-type {\n        vertical-align: middle;\n    }\n\n    .dataframe tbody tr th {\n        vertical-align: top;\n    }\n\n    .dataframe thead th {\n        text-align: right;\n    }\n</style>\n<table border=\"1\" class=\"dataframe\">\n  <thead>\n    <tr style=\"text-align: right;\">\n      <th></th>\n      <th>Price</th>\n      <th>Kind</th>\n      <th>Location</th>\n      <th>Size</th>\n      <th>Parking_slot</th>\n      <th>Air_condition</th>\n      <th>Heater_shower</th>\n      <th>Furnish</th>\n      <th>Inner_toilet</th>\n      <th>Size_total_bool</th>\n      <th>Source</th>\n    </tr>\n  </thead>\n  <tbody>\n    <tr>\n      <th>0</th>\n      <td>6.0</td>\n      <td>2</td>\n      <td>57A NGÕ 221 Phố Tôn Đức Thắng, Phường Hàng B...</td>\n      <td>40</td>\n      <td>0</td>\n      <td>1</td>\n      <td>1</td>\n      <td>1</td>\n      <td>1</td>\n      <td>0</td>\n      <td>alonhadat</td>\n    </tr>\n    <tr>\n      <th>1</th>\n      <td>37.0</td>\n      <td>0</td>\n      <td>Phố Nguyễn Văn Tuyết, Phường Ngã Tư Sở, Quậ...</td>\n      <td>200</td>\n      <td>1</td>\n      <td>0</td>\n      <td>0</td>\n      <td>0</td>\n      <td>0</td>\n      <td>0</td>\n      <td>alonhadat</td>\n    </tr>\n    <tr>\n      <th>2</th>\n      <td>7.0</td>\n      <td>0</td>\n      <td>Đường Nguyễn Cơ Thạch, Phường Cầu Diễn, Quận ...</td>\n      <td>70</td>\n      <td>0</td>\n      <td>0</td>\n      <td>0</td>\n      <td>0</td>\n      <td>0</td>\n      <td>0</td>\n      <td>alonhadat</td>\n    </tr>\n    <tr>\n      <th>3</th>\n      <td>50.0</td>\n      <td>0</td>\n      <td>Đường Lê Đức Thọ, Phường Dịch Vọng Hậu, Quận ...</td>\n      <td>200</td>\n      <td>0</td>\n      <td>0</td>\n      <td>0</td>\n      <td>0</td>\n      <td>0</td>\n      <td>0</td>\n      <td>alonhadat</td>\n    </tr>\n    <tr>\n      <th>4</th>\n      <td>4.0</td>\n      <td>0</td>\n      <td>Số nhà 5 ngõ 322/50 Đường Mỹ Đình, Phường Mỹ ...</td>\n      <td>30</td>\n      <td>1</td>\n      <td>1</td>\n      <td>1</td>\n      <td>1</td>\n      <td>1</td>\n      <td>0</td>\n      <td>alonhadat</td>\n    </tr>\n    <tr>\n      <th>...</th>\n      <td>...</td>\n      <td>...</td>\n      <td>...</td>\n      <td>...</td>\n      <td>...</td>\n      <td>...</td>\n      <td>...</td>\n      <td>...</td>\n      <td>...</td>\n      <td>...</td>\n      <td>...</td>\n    </tr>\n    <tr>\n      <th>26490</th>\n      <td>5.5</td>\n      <td>2</td>\n      <td>Đường Nguyễn Khang, Phường Yên Hòa, Quận Cầu ...</td>\n      <td>50</td>\n      <td>0</td>\n      <td>0</td>\n      <td>1</td>\n      <td>1</td>\n      <td>0</td>\n      <td>0</td>\n      <td>alonhadat</td>\n    </tr>\n    <tr>\n      <th>26491</th>\n      <td>15.0</td>\n      <td>0</td>\n      <td>Phố Trần Đại Nghĩa, Phường Bách Khoa, Quận H...</td>\n      <td>55</td>\n      <td>0</td>\n      <td>0</td>\n      <td>0</td>\n      <td>0</td>\n      <td>0</td>\n      <td>0</td>\n      <td>alonhadat</td>\n    </tr>\n    <tr>\n      <th>26492</th>\n      <td>10.0</td>\n      <td>0</td>\n      <td>Phố Trần Đại Nghĩa, Phường Đồng Tâm, Quận Ha...</td>\n      <td>60</td>\n      <td>0</td>\n      <td>0</td>\n      <td>0</td>\n      <td>0</td>\n      <td>0</td>\n      <td>0</td>\n      <td>alonhadat</td>\n    </tr>\n    <tr>\n      <th>26493</th>\n      <td>17.0</td>\n      <td>0</td>\n      <td>Phố Nguyên Hồng, Phường Láng Hạ, Quận Đống ...</td>\n      <td>60</td>\n      <td>0</td>\n      <td>0</td>\n      <td>0</td>\n      <td>0</td>\n      <td>0</td>\n      <td>0</td>\n      <td>alonhadat</td>\n    </tr>\n    <tr>\n      <th>26494</th>\n      <td>30.0</td>\n      <td>0</td>\n      <td>Phố Chùa Láng, Phường Láng Thượng, Quận Đốn...</td>\n      <td>42</td>\n      <td>1</td>\n      <td>0</td>\n      <td>0</td>\n      <td>0</td>\n      <td>0</td>\n      <td>0</td>\n      <td>alonhadat</td>\n    </tr>\n  </tbody>\n</table>\n<p>26495 rows × 11 columns</p>\n</div>"
     },
     "metadata": {},
     "execution_count": 45
    }
   ],
   "source": [
    "data['Source'] = \"alonhadat\"\n",
    "data"
   ]
  },
  {
   "cell_type": "code",
   "execution_count": 46,
   "metadata": {},
   "outputs": [
    {
     "output_type": "execute_result",
     "data": {
      "text/plain": [
       "49.59065990798999"
      ]
     },
     "metadata": {},
     "execution_count": 46
    }
   ],
   "source": [
    "from sklearn.linear_model import Lasso\n",
    "from sklearn.model_selection import train_test_split\n",
    "from sklearn.metrics import mean_absolute_error\n",
    "\n",
    "y = data.values[:, 0]\n",
    "x = data.drop(['Location','Source'], axis=1).values[:, 1:]\n",
    "x_train, x_test, y_train, y_test = train_test_split(x, y, test_size=0.2)\n",
    "\n",
    "clf = Lasso(alpha=0.1)\n",
    "clf.fit(x_train, y_train)\n",
    "mean_absolute_error(y_test, clf.predict(x_test))"
   ]
  },
  {
   "cell_type": "code",
   "execution_count": 47,
   "metadata": {},
   "outputs": [],
   "source": [
    "data.to_csv(\"processed-data/alonhadat.csv\")"
   ]
  },
  {
   "cell_type": "code",
   "execution_count": null,
   "metadata": {},
   "outputs": [],
   "source": []
  }
 ]
}