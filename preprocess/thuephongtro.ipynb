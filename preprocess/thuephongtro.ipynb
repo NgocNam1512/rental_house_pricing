{
 "metadata": {
  "language_info": {
   "codemirror_mode": {
    "name": "ipython",
    "version": 3
   },
   "file_extension": ".py",
   "mimetype": "text/x-python",
   "name": "python",
   "nbconvert_exporter": "python",
   "pygments_lexer": "ipython3",
   "version": "3.8.3-final"
  },
  "orig_nbformat": 2,
  "kernelspec": {
   "name": "python3",
   "display_name": "Python 3"
  }
 },
 "nbformat": 4,
 "nbformat_minor": 2,
 "cells": [
  {
   "cell_type": "code",
   "execution_count": 1,
   "metadata": {},
   "outputs": [],
   "source": [
    "import pandas as pd\n",
    "import json_lines\n",
    "import re\n",
    "import numpy as np\n",
    "\n",
    "def read_data_from_jl(file_path):\n",
    "    with open(file_path, 'rb') as f:\n",
    "        data = json_lines.reader(f)\n",
    "\n",
    "        df = pd.DataFrame(data)\n",
    "        \n",
    "        return df\n",
    "    return None"
   ]
  },
  {
   "cell_type": "code",
   "execution_count": 2,
   "metadata": {},
   "outputs": [
    {
     "output_type": "execute_result",
     "data": {
      "text/plain": [
       "                                         description  \\\n",
       "0  \\r\\n                             \\r\\n         ...   \n",
       "1  \\r\\n                             \\r\\n         ...   \n",
       "2  \\r\\n                             \\r\\n         ...   \n",
       "3  \\r\\n                             \\r\\n         ...   \n",
       "4  \\r\\n                             \\r\\n         ...   \n",
       "5  \\r\\n                             \\r\\n         ...   \n",
       "6  \\r\\n                             \\r\\n         ...   \n",
       "7  \\r\\n                             \\r\\n         ...   \n",
       "8  \\r\\n                             \\r\\n         ...   \n",
       "9  \\r\\n                             \\r\\n         ...   \n",
       "\n",
       "                                            location                kind  \\\n",
       "0  Đường Phạm Hùng, Phường Mỹ Đình 1, Nam Từ Liêm...  Cho thuê phòng trọ   \n",
       "1  Đường Dương Văn Bé, Phường Vĩnh Tuy, Hai Bà T...  Cho thuê phòng trọ   \n",
       "2  Đường Phạm Hùng, Phường Trung Hòa, Cầu Giấy, H...  Cho thuê phòng trọ   \n",
       "3      đường Võng Thị, Phường Bưởi, Tây Hồ, Hà Nội  Cho thuê phòng trọ   \n",
       "4     Đường Ao Sen, Phường Mỗ Lao, Hà Đông, Hà Nội  Cho thuê phòng trọ   \n",
       "5  Đường Đồng Me, Phường Mễ Trì, Nam Từ Liêm, Hà...  Cho thuê phòng trọ   \n",
       "6  Đường Đồng Me, Phường Mễ Trì, Nam Từ Liêm, Hà...  Cho thuê phòng trọ   \n",
       "7    Đường Lạc Thị, Xã Ngọc Hồi, Thanh Trì, Hà Nội  Cho thuê phòng trọ   \n",
       "8              Phường Việt Hưng, Long Biên, Hà Nội  Cho thuê phòng trọ   \n",
       "9  Ngõ 40/60/11 số nhà 9,Phố Tạ Quang Bửu, Phường...  Cho thuê phòng trọ   \n",
       "\n",
       "             price   area              date  \n",
       "0  3.7 Triệu/tháng  28 m²  08/11/2020 09:09  \n",
       "1    3 Triệu/tháng  30 m²  01/11/2020 14:35  \n",
       "2    4 Triệu/tháng  32 m²  02/11/2020 15:41  \n",
       "3    7 Triệu/tháng  50 m²  04/11/2020 19:08  \n",
       "4  999 Triệu/tháng  36 m²  05/11/2020 10:40  \n",
       "5  3.8 Triệu/tháng  36 m²  05/11/2020 13:49  \n",
       "6  3.2 Triệu/tháng  38 m²  06/11/2020 15:31  \n",
       "7    2 Triệu/tháng  35 m²  07/11/2020 11:56  \n",
       "8    3 Triệu/tháng  38 m²  07/11/2020 12:54  \n",
       "9  2.5 Triệu/tháng  24 m²  30/10/2020 11:43  "
      ],
      "text/html": "<div>\n<style scoped>\n    .dataframe tbody tr th:only-of-type {\n        vertical-align: middle;\n    }\n\n    .dataframe tbody tr th {\n        vertical-align: top;\n    }\n\n    .dataframe thead th {\n        text-align: right;\n    }\n</style>\n<table border=\"1\" class=\"dataframe\">\n  <thead>\n    <tr style=\"text-align: right;\">\n      <th></th>\n      <th>description</th>\n      <th>location</th>\n      <th>kind</th>\n      <th>price</th>\n      <th>area</th>\n      <th>date</th>\n    </tr>\n  </thead>\n  <tbody>\n    <tr>\n      <th>0</th>\n      <td>\\r\\n                             \\r\\n         ...</td>\n      <td>Đường Phạm Hùng, Phường Mỹ Đình 1, Nam Từ Liêm...</td>\n      <td>Cho thuê phòng trọ</td>\n      <td>3.7 Triệu/tháng</td>\n      <td>28 m²</td>\n      <td>08/11/2020 09:09</td>\n    </tr>\n    <tr>\n      <th>1</th>\n      <td>\\r\\n                             \\r\\n         ...</td>\n      <td>Đường Dương Văn Bé, Phường Vĩnh Tuy, Hai Bà T...</td>\n      <td>Cho thuê phòng trọ</td>\n      <td>3 Triệu/tháng</td>\n      <td>30 m²</td>\n      <td>01/11/2020 14:35</td>\n    </tr>\n    <tr>\n      <th>2</th>\n      <td>\\r\\n                             \\r\\n         ...</td>\n      <td>Đường Phạm Hùng, Phường Trung Hòa, Cầu Giấy, H...</td>\n      <td>Cho thuê phòng trọ</td>\n      <td>4 Triệu/tháng</td>\n      <td>32 m²</td>\n      <td>02/11/2020 15:41</td>\n    </tr>\n    <tr>\n      <th>3</th>\n      <td>\\r\\n                             \\r\\n         ...</td>\n      <td>đường Võng Thị, Phường Bưởi, Tây Hồ, Hà Nội</td>\n      <td>Cho thuê phòng trọ</td>\n      <td>7 Triệu/tháng</td>\n      <td>50 m²</td>\n      <td>04/11/2020 19:08</td>\n    </tr>\n    <tr>\n      <th>4</th>\n      <td>\\r\\n                             \\r\\n         ...</td>\n      <td>Đường Ao Sen, Phường Mỗ Lao, Hà Đông, Hà Nội</td>\n      <td>Cho thuê phòng trọ</td>\n      <td>999 Triệu/tháng</td>\n      <td>36 m²</td>\n      <td>05/11/2020 10:40</td>\n    </tr>\n    <tr>\n      <th>5</th>\n      <td>\\r\\n                             \\r\\n         ...</td>\n      <td>Đường Đồng Me, Phường Mễ Trì, Nam Từ Liêm, Hà...</td>\n      <td>Cho thuê phòng trọ</td>\n      <td>3.8 Triệu/tháng</td>\n      <td>36 m²</td>\n      <td>05/11/2020 13:49</td>\n    </tr>\n    <tr>\n      <th>6</th>\n      <td>\\r\\n                             \\r\\n         ...</td>\n      <td>Đường Đồng Me, Phường Mễ Trì, Nam Từ Liêm, Hà...</td>\n      <td>Cho thuê phòng trọ</td>\n      <td>3.2 Triệu/tháng</td>\n      <td>38 m²</td>\n      <td>06/11/2020 15:31</td>\n    </tr>\n    <tr>\n      <th>7</th>\n      <td>\\r\\n                             \\r\\n         ...</td>\n      <td>Đường Lạc Thị, Xã Ngọc Hồi, Thanh Trì, Hà Nội</td>\n      <td>Cho thuê phòng trọ</td>\n      <td>2 Triệu/tháng</td>\n      <td>35 m²</td>\n      <td>07/11/2020 11:56</td>\n    </tr>\n    <tr>\n      <th>8</th>\n      <td>\\r\\n                             \\r\\n         ...</td>\n      <td>Phường Việt Hưng, Long Biên, Hà Nội</td>\n      <td>Cho thuê phòng trọ</td>\n      <td>3 Triệu/tháng</td>\n      <td>38 m²</td>\n      <td>07/11/2020 12:54</td>\n    </tr>\n    <tr>\n      <th>9</th>\n      <td>\\r\\n                             \\r\\n         ...</td>\n      <td>Ngõ 40/60/11 số nhà 9,Phố Tạ Quang Bửu, Phường...</td>\n      <td>Cho thuê phòng trọ</td>\n      <td>2.5 Triệu/tháng</td>\n      <td>24 m²</td>\n      <td>30/10/2020 11:43</td>\n    </tr>\n  </tbody>\n</table>\n</div>"
     },
     "metadata": {},
     "execution_count": 2
    }
   ],
   "source": [
    "df = read_data_from_jl('data/thuephongtro.jl')\n",
    "df.head(10)"
   ]
  },
  {
   "cell_type": "code",
   "execution_count": 3,
   "metadata": {},
   "outputs": [],
   "source": [
    "des = df['description'].values\n",
    "price = df['price'].values\n",
    "area = df['area'].values\n",
    "kind = df['kind'].values\n",
    "data = pd.DataFrame()"
   ]
  },
  {
   "cell_type": "code",
   "execution_count": 5,
   "metadata": {},
   "outputs": [
    {
     "output_type": "execute_result",
     "data": {
      "text/plain": [
       "   Price\n",
       "0    3.7\n",
       "1    3.0\n",
       "2    4.0\n",
       "3    7.0\n",
       "4  999.0\n",
       "5    3.8\n",
       "6    3.2\n",
       "7    2.0\n",
       "8    3.0\n",
       "9    2.5"
      ],
      "text/html": "<div>\n<style scoped>\n    .dataframe tbody tr th:only-of-type {\n        vertical-align: middle;\n    }\n\n    .dataframe tbody tr th {\n        vertical-align: top;\n    }\n\n    .dataframe thead th {\n        text-align: right;\n    }\n</style>\n<table border=\"1\" class=\"dataframe\">\n  <thead>\n    <tr style=\"text-align: right;\">\n      <th></th>\n      <th>Price</th>\n    </tr>\n  </thead>\n  <tbody>\n    <tr>\n      <th>0</th>\n      <td>3.7</td>\n    </tr>\n    <tr>\n      <th>1</th>\n      <td>3.0</td>\n    </tr>\n    <tr>\n      <th>2</th>\n      <td>4.0</td>\n    </tr>\n    <tr>\n      <th>3</th>\n      <td>7.0</td>\n    </tr>\n    <tr>\n      <th>4</th>\n      <td>999.0</td>\n    </tr>\n    <tr>\n      <th>5</th>\n      <td>3.8</td>\n    </tr>\n    <tr>\n      <th>6</th>\n      <td>3.2</td>\n    </tr>\n    <tr>\n      <th>7</th>\n      <td>2.0</td>\n    </tr>\n    <tr>\n      <th>8</th>\n      <td>3.0</td>\n    </tr>\n    <tr>\n      <th>9</th>\n      <td>2.5</td>\n    </tr>\n  </tbody>\n</table>\n</div>"
     },
     "metadata": {},
     "execution_count": 5
    }
   ],
   "source": [
    "a = []\n",
    "pattern = '^([0-9]+.[0-9]+|[0-9]+)'\n",
    "price = df['price'].values\n",
    "for p in price:\n",
    "    result = re.findall(pattern, p)\n",
    "    if result:\n",
    "        a.append(float(result[0]))\n",
    "    else:\n",
    "        a.append(0)\n",
    "\n",
    "data['Price'] = pd.Series(np.array(a), index=df.index)\n",
    "data.head(10)"
   ]
  },
  {
   "cell_type": "code",
   "execution_count": 5,
   "metadata": {},
   "outputs": [
    {
     "output_type": "execute_result",
     "data": {
      "text/plain": [
       "   Price  Kind\n",
       "0   4.50     2\n",
       "1   1.80     0\n",
       "2   2.50     0\n",
       "3   2.00     0\n",
       "4   2.20     0\n",
       "5   1.00     0\n",
       "6   1.50     0\n",
       "7   2.00     0\n",
       "8   1.35     0\n",
       "9   2.80     0"
      ],
      "text/html": "<div>\n<style scoped>\n    .dataframe tbody tr th:only-of-type {\n        vertical-align: middle;\n    }\n\n    .dataframe tbody tr th {\n        vertical-align: top;\n    }\n\n    .dataframe thead th {\n        text-align: right;\n    }\n</style>\n<table border=\"1\" class=\"dataframe\">\n  <thead>\n    <tr style=\"text-align: right;\">\n      <th></th>\n      <th>Price</th>\n      <th>Kind</th>\n    </tr>\n  </thead>\n  <tbody>\n    <tr>\n      <th>0</th>\n      <td>4.50</td>\n      <td>2</td>\n    </tr>\n    <tr>\n      <th>1</th>\n      <td>1.80</td>\n      <td>0</td>\n    </tr>\n    <tr>\n      <th>2</th>\n      <td>2.50</td>\n      <td>0</td>\n    </tr>\n    <tr>\n      <th>3</th>\n      <td>2.00</td>\n      <td>0</td>\n    </tr>\n    <tr>\n      <th>4</th>\n      <td>2.20</td>\n      <td>0</td>\n    </tr>\n    <tr>\n      <th>5</th>\n      <td>1.00</td>\n      <td>0</td>\n    </tr>\n    <tr>\n      <th>6</th>\n      <td>1.50</td>\n      <td>0</td>\n    </tr>\n    <tr>\n      <th>7</th>\n      <td>2.00</td>\n      <td>0</td>\n    </tr>\n    <tr>\n      <th>8</th>\n      <td>1.35</td>\n      <td>0</td>\n    </tr>\n    <tr>\n      <th>9</th>\n      <td>2.80</td>\n      <td>0</td>\n    </tr>\n  </tbody>\n</table>\n</div>"
     },
     "metadata": {},
     "execution_count": 5
    }
   ],
   "source": [
    "a = []\n",
    "pattern1 = '(CCMN|[Cc]hung cư)'\n",
    "pattern2 = '[Hh]omestay'\n",
    "for d in des:\n",
    "    ccmn = re.findall(pattern1, d)\n",
    "    hs = re.findall(pattern2, d)\n",
    "    if ccmn:\n",
    "        a.append(2)\n",
    "    elif hs:\n",
    "        a.append(1)\n",
    "    else:\n",
    "        a.append(0)\n",
    "\n",
    "data['Kind'] = pd.Series(np.array(a), index=df.index)\n",
    "data.head(10)"
   ]
  },
  {
   "cell_type": "code",
   "execution_count": 6,
   "metadata": {},
   "outputs": [
    {
     "output_type": "execute_result",
     "data": {
      "text/plain": [
       "   Price                                           Location\n",
       "0    3.7  Đường Phạm Hùng, Phường Mỹ Đình 1, Nam Từ Liêm...\n",
       "1    3.0  Đường Dương Văn Bé, Phường Vĩnh Tuy, Hai Bà T...\n",
       "2    4.0  Đường Phạm Hùng, Phường Trung Hòa, Cầu Giấy, H...\n",
       "3    7.0      đường Võng Thị, Phường Bưởi, Tây Hồ, Hà Nội\n",
       "4  999.0     Đường Ao Sen, Phường Mỗ Lao, Hà Đông, Hà Nội\n",
       "5    3.8  Đường Đồng Me, Phường Mễ Trì, Nam Từ Liêm, Hà...\n",
       "6    3.2  Đường Đồng Me, Phường Mễ Trì, Nam Từ Liêm, Hà...\n",
       "7    2.0    Đường Lạc Thị, Xã Ngọc Hồi, Thanh Trì, Hà Nội\n",
       "8    3.0              Phường Việt Hưng, Long Biên, Hà Nội\n",
       "9    2.5  Ngõ 40/60/11 số nhà 9,Phố Tạ Quang Bửu, Phường..."
      ],
      "text/html": "<div>\n<style scoped>\n    .dataframe tbody tr th:only-of-type {\n        vertical-align: middle;\n    }\n\n    .dataframe tbody tr th {\n        vertical-align: top;\n    }\n\n    .dataframe thead th {\n        text-align: right;\n    }\n</style>\n<table border=\"1\" class=\"dataframe\">\n  <thead>\n    <tr style=\"text-align: right;\">\n      <th></th>\n      <th>Price</th>\n      <th>Location</th>\n    </tr>\n  </thead>\n  <tbody>\n    <tr>\n      <th>0</th>\n      <td>3.7</td>\n      <td>Đường Phạm Hùng, Phường Mỹ Đình 1, Nam Từ Liêm...</td>\n    </tr>\n    <tr>\n      <th>1</th>\n      <td>3.0</td>\n      <td>Đường Dương Văn Bé, Phường Vĩnh Tuy, Hai Bà T...</td>\n    </tr>\n    <tr>\n      <th>2</th>\n      <td>4.0</td>\n      <td>Đường Phạm Hùng, Phường Trung Hòa, Cầu Giấy, H...</td>\n    </tr>\n    <tr>\n      <th>3</th>\n      <td>7.0</td>\n      <td>đường Võng Thị, Phường Bưởi, Tây Hồ, Hà Nội</td>\n    </tr>\n    <tr>\n      <th>4</th>\n      <td>999.0</td>\n      <td>Đường Ao Sen, Phường Mỗ Lao, Hà Đông, Hà Nội</td>\n    </tr>\n    <tr>\n      <th>5</th>\n      <td>3.8</td>\n      <td>Đường Đồng Me, Phường Mễ Trì, Nam Từ Liêm, Hà...</td>\n    </tr>\n    <tr>\n      <th>6</th>\n      <td>3.2</td>\n      <td>Đường Đồng Me, Phường Mễ Trì, Nam Từ Liêm, Hà...</td>\n    </tr>\n    <tr>\n      <th>7</th>\n      <td>2.0</td>\n      <td>Đường Lạc Thị, Xã Ngọc Hồi, Thanh Trì, Hà Nội</td>\n    </tr>\n    <tr>\n      <th>8</th>\n      <td>3.0</td>\n      <td>Phường Việt Hưng, Long Biên, Hà Nội</td>\n    </tr>\n    <tr>\n      <th>9</th>\n      <td>2.5</td>\n      <td>Ngõ 40/60/11 số nhà 9,Phố Tạ Quang Bửu, Phường...</td>\n    </tr>\n  </tbody>\n</table>\n</div>"
     },
     "metadata": {},
     "execution_count": 6
    }
   ],
   "source": [
    "data['Location'] = df['location']\n",
    "data.head(10)"
   ]
  },
  {
   "cell_type": "code",
   "execution_count": 7,
   "metadata": {},
   "outputs": [
    {
     "output_type": "execute_result",
     "data": {
      "text/plain": [
       "   Price                                           Location  Size\n",
       "0    3.7  Đường Phạm Hùng, Phường Mỹ Đình 1, Nam Từ Liêm...    28\n",
       "1    3.0  Đường Dương Văn Bé, Phường Vĩnh Tuy, Hai Bà T...    30\n",
       "2    4.0  Đường Phạm Hùng, Phường Trung Hòa, Cầu Giấy, H...    32\n",
       "3    7.0      đường Võng Thị, Phường Bưởi, Tây Hồ, Hà Nội    50\n",
       "4  999.0     Đường Ao Sen, Phường Mỗ Lao, Hà Đông, Hà Nội    36\n",
       "5    3.8  Đường Đồng Me, Phường Mễ Trì, Nam Từ Liêm, Hà...    36\n",
       "6    3.2  Đường Đồng Me, Phường Mễ Trì, Nam Từ Liêm, Hà...    38\n",
       "7    2.0    Đường Lạc Thị, Xã Ngọc Hồi, Thanh Trì, Hà Nội    35\n",
       "8    3.0              Phường Việt Hưng, Long Biên, Hà Nội    38\n",
       "9    2.5  Ngõ 40/60/11 số nhà 9,Phố Tạ Quang Bửu, Phường...    24"
      ],
      "text/html": "<div>\n<style scoped>\n    .dataframe tbody tr th:only-of-type {\n        vertical-align: middle;\n    }\n\n    .dataframe tbody tr th {\n        vertical-align: top;\n    }\n\n    .dataframe thead th {\n        text-align: right;\n    }\n</style>\n<table border=\"1\" class=\"dataframe\">\n  <thead>\n    <tr style=\"text-align: right;\">\n      <th></th>\n      <th>Price</th>\n      <th>Location</th>\n      <th>Size</th>\n    </tr>\n  </thead>\n  <tbody>\n    <tr>\n      <th>0</th>\n      <td>3.7</td>\n      <td>Đường Phạm Hùng, Phường Mỹ Đình 1, Nam Từ Liêm...</td>\n      <td>28</td>\n    </tr>\n    <tr>\n      <th>1</th>\n      <td>3.0</td>\n      <td>Đường Dương Văn Bé, Phường Vĩnh Tuy, Hai Bà T...</td>\n      <td>30</td>\n    </tr>\n    <tr>\n      <th>2</th>\n      <td>4.0</td>\n      <td>Đường Phạm Hùng, Phường Trung Hòa, Cầu Giấy, H...</td>\n      <td>32</td>\n    </tr>\n    <tr>\n      <th>3</th>\n      <td>7.0</td>\n      <td>đường Võng Thị, Phường Bưởi, Tây Hồ, Hà Nội</td>\n      <td>50</td>\n    </tr>\n    <tr>\n      <th>4</th>\n      <td>999.0</td>\n      <td>Đường Ao Sen, Phường Mỗ Lao, Hà Đông, Hà Nội</td>\n      <td>36</td>\n    </tr>\n    <tr>\n      <th>5</th>\n      <td>3.8</td>\n      <td>Đường Đồng Me, Phường Mễ Trì, Nam Từ Liêm, Hà...</td>\n      <td>36</td>\n    </tr>\n    <tr>\n      <th>6</th>\n      <td>3.2</td>\n      <td>Đường Đồng Me, Phường Mễ Trì, Nam Từ Liêm, Hà...</td>\n      <td>38</td>\n    </tr>\n    <tr>\n      <th>7</th>\n      <td>2.0</td>\n      <td>Đường Lạc Thị, Xã Ngọc Hồi, Thanh Trì, Hà Nội</td>\n      <td>35</td>\n    </tr>\n    <tr>\n      <th>8</th>\n      <td>3.0</td>\n      <td>Phường Việt Hưng, Long Biên, Hà Nội</td>\n      <td>38</td>\n    </tr>\n    <tr>\n      <th>9</th>\n      <td>2.5</td>\n      <td>Ngõ 40/60/11 số nhà 9,Phố Tạ Quang Bửu, Phường...</td>\n      <td>24</td>\n    </tr>\n  </tbody>\n</table>\n</div>"
     },
     "metadata": {},
     "execution_count": 7
    }
   ],
   "source": [
    "b = []\n",
    "pattern = '^[0-9]+'\n",
    "for a in area:\n",
    "    result = re.findall(pattern, a)\n",
    "    if result:\n",
    "        b.append(int(result[0]))\n",
    "    else:\n",
    "        b.append(0)\n",
    "\n",
    "data['Size'] = pd.Series(np.array(b), index=df.index)\n",
    "data.head(10)"
   ]
  },
  {
   "cell_type": "code",
   "execution_count": 8,
   "metadata": {},
   "outputs": [
    {
     "output_type": "execute_result",
     "data": {
      "text/plain": [
       "   Price                                           Location  Size  \\\n",
       "0    3.7  Đường Phạm Hùng, Phường Mỹ Đình 1, Nam Từ Liêm...    28   \n",
       "1    3.0  Đường Dương Văn Bé, Phường Vĩnh Tuy, Hai Bà T...    30   \n",
       "2    4.0  Đường Phạm Hùng, Phường Trung Hòa, Cầu Giấy, H...    32   \n",
       "3    7.0      đường Võng Thị, Phường Bưởi, Tây Hồ, Hà Nội    50   \n",
       "4  999.0     Đường Ao Sen, Phường Mỗ Lao, Hà Đông, Hà Nội    36   \n",
       "5    3.8  Đường Đồng Me, Phường Mễ Trì, Nam Từ Liêm, Hà...    36   \n",
       "6    3.2  Đường Đồng Me, Phường Mễ Trì, Nam Từ Liêm, Hà...    38   \n",
       "7    2.0    Đường Lạc Thị, Xã Ngọc Hồi, Thanh Trì, Hà Nội    35   \n",
       "8    3.0              Phường Việt Hưng, Long Biên, Hà Nội    38   \n",
       "9    2.5  Ngõ 40/60/11 số nhà 9,Phố Tạ Quang Bửu, Phường...    24   \n",
       "\n",
       "   Parking_slot  \n",
       "0             0  \n",
       "1             1  \n",
       "2             0  \n",
       "3             1  \n",
       "4             0  \n",
       "5             1  \n",
       "6             0  \n",
       "7             1  \n",
       "8             1  \n",
       "9             0  "
      ],
      "text/html": "<div>\n<style scoped>\n    .dataframe tbody tr th:only-of-type {\n        vertical-align: middle;\n    }\n\n    .dataframe tbody tr th {\n        vertical-align: top;\n    }\n\n    .dataframe thead th {\n        text-align: right;\n    }\n</style>\n<table border=\"1\" class=\"dataframe\">\n  <thead>\n    <tr style=\"text-align: right;\">\n      <th></th>\n      <th>Price</th>\n      <th>Location</th>\n      <th>Size</th>\n      <th>Parking_slot</th>\n    </tr>\n  </thead>\n  <tbody>\n    <tr>\n      <th>0</th>\n      <td>3.7</td>\n      <td>Đường Phạm Hùng, Phường Mỹ Đình 1, Nam Từ Liêm...</td>\n      <td>28</td>\n      <td>0</td>\n    </tr>\n    <tr>\n      <th>1</th>\n      <td>3.0</td>\n      <td>Đường Dương Văn Bé, Phường Vĩnh Tuy, Hai Bà T...</td>\n      <td>30</td>\n      <td>1</td>\n    </tr>\n    <tr>\n      <th>2</th>\n      <td>4.0</td>\n      <td>Đường Phạm Hùng, Phường Trung Hòa, Cầu Giấy, H...</td>\n      <td>32</td>\n      <td>0</td>\n    </tr>\n    <tr>\n      <th>3</th>\n      <td>7.0</td>\n      <td>đường Võng Thị, Phường Bưởi, Tây Hồ, Hà Nội</td>\n      <td>50</td>\n      <td>1</td>\n    </tr>\n    <tr>\n      <th>4</th>\n      <td>999.0</td>\n      <td>Đường Ao Sen, Phường Mỗ Lao, Hà Đông, Hà Nội</td>\n      <td>36</td>\n      <td>0</td>\n    </tr>\n    <tr>\n      <th>5</th>\n      <td>3.8</td>\n      <td>Đường Đồng Me, Phường Mễ Trì, Nam Từ Liêm, Hà...</td>\n      <td>36</td>\n      <td>1</td>\n    </tr>\n    <tr>\n      <th>6</th>\n      <td>3.2</td>\n      <td>Đường Đồng Me, Phường Mễ Trì, Nam Từ Liêm, Hà...</td>\n      <td>38</td>\n      <td>0</td>\n    </tr>\n    <tr>\n      <th>7</th>\n      <td>2.0</td>\n      <td>Đường Lạc Thị, Xã Ngọc Hồi, Thanh Trì, Hà Nội</td>\n      <td>35</td>\n      <td>1</td>\n    </tr>\n    <tr>\n      <th>8</th>\n      <td>3.0</td>\n      <td>Phường Việt Hưng, Long Biên, Hà Nội</td>\n      <td>38</td>\n      <td>1</td>\n    </tr>\n    <tr>\n      <th>9</th>\n      <td>2.5</td>\n      <td>Ngõ 40/60/11 số nhà 9,Phố Tạ Quang Bửu, Phường...</td>\n      <td>24</td>\n      <td>0</td>\n    </tr>\n  </tbody>\n</table>\n</div>"
     },
     "metadata": {},
     "execution_count": 8
    }
   ],
   "source": [
    "# add parking area\n",
    "a = []\n",
    "pattern = '[Đđ]ể xe'\n",
    "for d in des:\n",
    "    result = re.findall(pattern, d)\n",
    "    if result:\n",
    "        a.append(1)\n",
    "    else:\n",
    "        a.append(0)\n",
    "\n",
    "data['Parking_slot'] = pd.Series(np.array(a), index=df.index)\n",
    "data.head(10)"
   ]
  },
  {
   "cell_type": "code",
   "execution_count": 9,
   "metadata": {},
   "outputs": [
    {
     "output_type": "execute_result",
     "data": {
      "text/plain": [
       "   Price                                           Location  Size  \\\n",
       "0    3.7  Đường Phạm Hùng, Phường Mỹ Đình 1, Nam Từ Liêm...    28   \n",
       "1    3.0  Đường Dương Văn Bé, Phường Vĩnh Tuy, Hai Bà T...    30   \n",
       "2    4.0  Đường Phạm Hùng, Phường Trung Hòa, Cầu Giấy, H...    32   \n",
       "3    7.0      đường Võng Thị, Phường Bưởi, Tây Hồ, Hà Nội    50   \n",
       "4  999.0     Đường Ao Sen, Phường Mỗ Lao, Hà Đông, Hà Nội    36   \n",
       "5    3.8  Đường Đồng Me, Phường Mễ Trì, Nam Từ Liêm, Hà...    36   \n",
       "6    3.2  Đường Đồng Me, Phường Mễ Trì, Nam Từ Liêm, Hà...    38   \n",
       "7    2.0    Đường Lạc Thị, Xã Ngọc Hồi, Thanh Trì, Hà Nội    35   \n",
       "8    3.0              Phường Việt Hưng, Long Biên, Hà Nội    38   \n",
       "9    2.5  Ngõ 40/60/11 số nhà 9,Phố Tạ Quang Bửu, Phường...    24   \n",
       "\n",
       "   Parking_slot  Air_condition  \n",
       "0             0              1  \n",
       "1             1              0  \n",
       "2             0              1  \n",
       "3             1              0  \n",
       "4             0              1  \n",
       "5             1              0  \n",
       "6             0              0  \n",
       "7             1              0  \n",
       "8             1              1  \n",
       "9             0              0  "
      ],
      "text/html": "<div>\n<style scoped>\n    .dataframe tbody tr th:only-of-type {\n        vertical-align: middle;\n    }\n\n    .dataframe tbody tr th {\n        vertical-align: top;\n    }\n\n    .dataframe thead th {\n        text-align: right;\n    }\n</style>\n<table border=\"1\" class=\"dataframe\">\n  <thead>\n    <tr style=\"text-align: right;\">\n      <th></th>\n      <th>Price</th>\n      <th>Location</th>\n      <th>Size</th>\n      <th>Parking_slot</th>\n      <th>Air_condition</th>\n    </tr>\n  </thead>\n  <tbody>\n    <tr>\n      <th>0</th>\n      <td>3.7</td>\n      <td>Đường Phạm Hùng, Phường Mỹ Đình 1, Nam Từ Liêm...</td>\n      <td>28</td>\n      <td>0</td>\n      <td>1</td>\n    </tr>\n    <tr>\n      <th>1</th>\n      <td>3.0</td>\n      <td>Đường Dương Văn Bé, Phường Vĩnh Tuy, Hai Bà T...</td>\n      <td>30</td>\n      <td>1</td>\n      <td>0</td>\n    </tr>\n    <tr>\n      <th>2</th>\n      <td>4.0</td>\n      <td>Đường Phạm Hùng, Phường Trung Hòa, Cầu Giấy, H...</td>\n      <td>32</td>\n      <td>0</td>\n      <td>1</td>\n    </tr>\n    <tr>\n      <th>3</th>\n      <td>7.0</td>\n      <td>đường Võng Thị, Phường Bưởi, Tây Hồ, Hà Nội</td>\n      <td>50</td>\n      <td>1</td>\n      <td>0</td>\n    </tr>\n    <tr>\n      <th>4</th>\n      <td>999.0</td>\n      <td>Đường Ao Sen, Phường Mỗ Lao, Hà Đông, Hà Nội</td>\n      <td>36</td>\n      <td>0</td>\n      <td>1</td>\n    </tr>\n    <tr>\n      <th>5</th>\n      <td>3.8</td>\n      <td>Đường Đồng Me, Phường Mễ Trì, Nam Từ Liêm, Hà...</td>\n      <td>36</td>\n      <td>1</td>\n      <td>0</td>\n    </tr>\n    <tr>\n      <th>6</th>\n      <td>3.2</td>\n      <td>Đường Đồng Me, Phường Mễ Trì, Nam Từ Liêm, Hà...</td>\n      <td>38</td>\n      <td>0</td>\n      <td>0</td>\n    </tr>\n    <tr>\n      <th>7</th>\n      <td>2.0</td>\n      <td>Đường Lạc Thị, Xã Ngọc Hồi, Thanh Trì, Hà Nội</td>\n      <td>35</td>\n      <td>1</td>\n      <td>0</td>\n    </tr>\n    <tr>\n      <th>8</th>\n      <td>3.0</td>\n      <td>Phường Việt Hưng, Long Biên, Hà Nội</td>\n      <td>38</td>\n      <td>1</td>\n      <td>1</td>\n    </tr>\n    <tr>\n      <th>9</th>\n      <td>2.5</td>\n      <td>Ngõ 40/60/11 số nhà 9,Phố Tạ Quang Bửu, Phường...</td>\n      <td>24</td>\n      <td>0</td>\n      <td>0</td>\n    </tr>\n  </tbody>\n</table>\n</div>"
     },
     "metadata": {},
     "execution_count": 9
    }
   ],
   "source": [
    "a = []\n",
    "pattern = '[Đđ]iều hòa'\n",
    "for d in des:\n",
    "    result = re.findall(pattern, d)\n",
    "    if result:\n",
    "        a.append(1)\n",
    "    else:\n",
    "        a.append(0)\n",
    "\n",
    "data['Air_condition'] = pd.Series(np.array(a), index=df.index)\n",
    "data.head(10)"
   ]
  },
  {
   "cell_type": "code",
   "execution_count": 10,
   "metadata": {},
   "outputs": [
    {
     "output_type": "execute_result",
     "data": {
      "text/plain": [
       "   Price                                           Location  Size  \\\n",
       "0    3.7  Đường Phạm Hùng, Phường Mỹ Đình 1, Nam Từ Liêm...    28   \n",
       "1    3.0  Đường Dương Văn Bé, Phường Vĩnh Tuy, Hai Bà T...    30   \n",
       "2    4.0  Đường Phạm Hùng, Phường Trung Hòa, Cầu Giấy, H...    32   \n",
       "3    7.0      đường Võng Thị, Phường Bưởi, Tây Hồ, Hà Nội    50   \n",
       "4  999.0     Đường Ao Sen, Phường Mỗ Lao, Hà Đông, Hà Nội    36   \n",
       "5    3.8  Đường Đồng Me, Phường Mễ Trì, Nam Từ Liêm, Hà...    36   \n",
       "6    3.2  Đường Đồng Me, Phường Mễ Trì, Nam Từ Liêm, Hà...    38   \n",
       "7    2.0    Đường Lạc Thị, Xã Ngọc Hồi, Thanh Trì, Hà Nội    35   \n",
       "8    3.0              Phường Việt Hưng, Long Biên, Hà Nội    38   \n",
       "9    2.5  Ngõ 40/60/11 số nhà 9,Phố Tạ Quang Bửu, Phường...    24   \n",
       "\n",
       "   Parking_slot  Air_condition  Heater_shower  \n",
       "0             0              1              1  \n",
       "1             1              0              1  \n",
       "2             0              1              1  \n",
       "3             1              0              1  \n",
       "4             0              1              1  \n",
       "5             1              0              0  \n",
       "6             0              0              0  \n",
       "7             1              0              0  \n",
       "8             1              1              1  \n",
       "9             0              0              1  "
      ],
      "text/html": "<div>\n<style scoped>\n    .dataframe tbody tr th:only-of-type {\n        vertical-align: middle;\n    }\n\n    .dataframe tbody tr th {\n        vertical-align: top;\n    }\n\n    .dataframe thead th {\n        text-align: right;\n    }\n</style>\n<table border=\"1\" class=\"dataframe\">\n  <thead>\n    <tr style=\"text-align: right;\">\n      <th></th>\n      <th>Price</th>\n      <th>Location</th>\n      <th>Size</th>\n      <th>Parking_slot</th>\n      <th>Air_condition</th>\n      <th>Heater_shower</th>\n    </tr>\n  </thead>\n  <tbody>\n    <tr>\n      <th>0</th>\n      <td>3.7</td>\n      <td>Đường Phạm Hùng, Phường Mỹ Đình 1, Nam Từ Liêm...</td>\n      <td>28</td>\n      <td>0</td>\n      <td>1</td>\n      <td>1</td>\n    </tr>\n    <tr>\n      <th>1</th>\n      <td>3.0</td>\n      <td>Đường Dương Văn Bé, Phường Vĩnh Tuy, Hai Bà T...</td>\n      <td>30</td>\n      <td>1</td>\n      <td>0</td>\n      <td>1</td>\n    </tr>\n    <tr>\n      <th>2</th>\n      <td>4.0</td>\n      <td>Đường Phạm Hùng, Phường Trung Hòa, Cầu Giấy, H...</td>\n      <td>32</td>\n      <td>0</td>\n      <td>1</td>\n      <td>1</td>\n    </tr>\n    <tr>\n      <th>3</th>\n      <td>7.0</td>\n      <td>đường Võng Thị, Phường Bưởi, Tây Hồ, Hà Nội</td>\n      <td>50</td>\n      <td>1</td>\n      <td>0</td>\n      <td>1</td>\n    </tr>\n    <tr>\n      <th>4</th>\n      <td>999.0</td>\n      <td>Đường Ao Sen, Phường Mỗ Lao, Hà Đông, Hà Nội</td>\n      <td>36</td>\n      <td>0</td>\n      <td>1</td>\n      <td>1</td>\n    </tr>\n    <tr>\n      <th>5</th>\n      <td>3.8</td>\n      <td>Đường Đồng Me, Phường Mễ Trì, Nam Từ Liêm, Hà...</td>\n      <td>36</td>\n      <td>1</td>\n      <td>0</td>\n      <td>0</td>\n    </tr>\n    <tr>\n      <th>6</th>\n      <td>3.2</td>\n      <td>Đường Đồng Me, Phường Mễ Trì, Nam Từ Liêm, Hà...</td>\n      <td>38</td>\n      <td>0</td>\n      <td>0</td>\n      <td>0</td>\n    </tr>\n    <tr>\n      <th>7</th>\n      <td>2.0</td>\n      <td>Đường Lạc Thị, Xã Ngọc Hồi, Thanh Trì, Hà Nội</td>\n      <td>35</td>\n      <td>1</td>\n      <td>0</td>\n      <td>0</td>\n    </tr>\n    <tr>\n      <th>8</th>\n      <td>3.0</td>\n      <td>Phường Việt Hưng, Long Biên, Hà Nội</td>\n      <td>38</td>\n      <td>1</td>\n      <td>1</td>\n      <td>1</td>\n    </tr>\n    <tr>\n      <th>9</th>\n      <td>2.5</td>\n      <td>Ngõ 40/60/11 số nhà 9,Phố Tạ Quang Bửu, Phường...</td>\n      <td>24</td>\n      <td>0</td>\n      <td>0</td>\n      <td>1</td>\n    </tr>\n  </tbody>\n</table>\n</div>"
     },
     "metadata": {},
     "execution_count": 10
    }
   ],
   "source": [
    "a = []\n",
    "pattern = '[Nn]óng lạnh'\n",
    "for d in des:\n",
    "    result = re.findall(pattern, d)\n",
    "    if result:\n",
    "        a.append(1)\n",
    "    else:\n",
    "        a.append(0)\n",
    "\n",
    "data['Heater_shower'] = pd.Series(np.array(a), index=df.index)\n",
    "data.head(10)"
   ]
  },
  {
   "cell_type": "code",
   "execution_count": 11,
   "metadata": {},
   "outputs": [
    {
     "output_type": "execute_result",
     "data": {
      "text/plain": [
       "   Price                                           Location  Size  \\\n",
       "0    3.7  Đường Phạm Hùng, Phường Mỹ Đình 1, Nam Từ Liêm...    28   \n",
       "1    3.0  Đường Dương Văn Bé, Phường Vĩnh Tuy, Hai Bà T...    30   \n",
       "2    4.0  Đường Phạm Hùng, Phường Trung Hòa, Cầu Giấy, H...    32   \n",
       "3    7.0      đường Võng Thị, Phường Bưởi, Tây Hồ, Hà Nội    50   \n",
       "4  999.0     Đường Ao Sen, Phường Mỗ Lao, Hà Đông, Hà Nội    36   \n",
       "5    3.8  Đường Đồng Me, Phường Mễ Trì, Nam Từ Liêm, Hà...    36   \n",
       "6    3.2  Đường Đồng Me, Phường Mễ Trì, Nam Từ Liêm, Hà...    38   \n",
       "7    2.0    Đường Lạc Thị, Xã Ngọc Hồi, Thanh Trì, Hà Nội    35   \n",
       "8    3.0              Phường Việt Hưng, Long Biên, Hà Nội    38   \n",
       "9    2.5  Ngõ 40/60/11 số nhà 9,Phố Tạ Quang Bửu, Phường...    24   \n",
       "\n",
       "   Parking_slot  Air_condition  Heater_shower  Furnish  \n",
       "0             0              1              1        1  \n",
       "1             1              0              1        0  \n",
       "2             0              1              1        1  \n",
       "3             1              0              1        1  \n",
       "4             0              1              1        1  \n",
       "5             1              0              0        1  \n",
       "6             0              0              0        0  \n",
       "7             1              0              0        0  \n",
       "8             1              1              1        0  \n",
       "9             0              0              1        0  "
      ],
      "text/html": "<div>\n<style scoped>\n    .dataframe tbody tr th:only-of-type {\n        vertical-align: middle;\n    }\n\n    .dataframe tbody tr th {\n        vertical-align: top;\n    }\n\n    .dataframe thead th {\n        text-align: right;\n    }\n</style>\n<table border=\"1\" class=\"dataframe\">\n  <thead>\n    <tr style=\"text-align: right;\">\n      <th></th>\n      <th>Price</th>\n      <th>Location</th>\n      <th>Size</th>\n      <th>Parking_slot</th>\n      <th>Air_condition</th>\n      <th>Heater_shower</th>\n      <th>Furnish</th>\n    </tr>\n  </thead>\n  <tbody>\n    <tr>\n      <th>0</th>\n      <td>3.7</td>\n      <td>Đường Phạm Hùng, Phường Mỹ Đình 1, Nam Từ Liêm...</td>\n      <td>28</td>\n      <td>0</td>\n      <td>1</td>\n      <td>1</td>\n      <td>1</td>\n    </tr>\n    <tr>\n      <th>1</th>\n      <td>3.0</td>\n      <td>Đường Dương Văn Bé, Phường Vĩnh Tuy, Hai Bà T...</td>\n      <td>30</td>\n      <td>1</td>\n      <td>0</td>\n      <td>1</td>\n      <td>0</td>\n    </tr>\n    <tr>\n      <th>2</th>\n      <td>4.0</td>\n      <td>Đường Phạm Hùng, Phường Trung Hòa, Cầu Giấy, H...</td>\n      <td>32</td>\n      <td>0</td>\n      <td>1</td>\n      <td>1</td>\n      <td>1</td>\n    </tr>\n    <tr>\n      <th>3</th>\n      <td>7.0</td>\n      <td>đường Võng Thị, Phường Bưởi, Tây Hồ, Hà Nội</td>\n      <td>50</td>\n      <td>1</td>\n      <td>0</td>\n      <td>1</td>\n      <td>1</td>\n    </tr>\n    <tr>\n      <th>4</th>\n      <td>999.0</td>\n      <td>Đường Ao Sen, Phường Mỗ Lao, Hà Đông, Hà Nội</td>\n      <td>36</td>\n      <td>0</td>\n      <td>1</td>\n      <td>1</td>\n      <td>1</td>\n    </tr>\n    <tr>\n      <th>5</th>\n      <td>3.8</td>\n      <td>Đường Đồng Me, Phường Mễ Trì, Nam Từ Liêm, Hà...</td>\n      <td>36</td>\n      <td>1</td>\n      <td>0</td>\n      <td>0</td>\n      <td>1</td>\n    </tr>\n    <tr>\n      <th>6</th>\n      <td>3.2</td>\n      <td>Đường Đồng Me, Phường Mễ Trì, Nam Từ Liêm, Hà...</td>\n      <td>38</td>\n      <td>0</td>\n      <td>0</td>\n      <td>0</td>\n      <td>0</td>\n    </tr>\n    <tr>\n      <th>7</th>\n      <td>2.0</td>\n      <td>Đường Lạc Thị, Xã Ngọc Hồi, Thanh Trì, Hà Nội</td>\n      <td>35</td>\n      <td>1</td>\n      <td>0</td>\n      <td>0</td>\n      <td>0</td>\n    </tr>\n    <tr>\n      <th>8</th>\n      <td>3.0</td>\n      <td>Phường Việt Hưng, Long Biên, Hà Nội</td>\n      <td>38</td>\n      <td>1</td>\n      <td>1</td>\n      <td>1</td>\n      <td>0</td>\n    </tr>\n    <tr>\n      <th>9</th>\n      <td>2.5</td>\n      <td>Ngõ 40/60/11 số nhà 9,Phố Tạ Quang Bửu, Phường...</td>\n      <td>24</td>\n      <td>0</td>\n      <td>0</td>\n      <td>1</td>\n      <td>0</td>\n    </tr>\n  </tbody>\n</table>\n</div>"
     },
     "metadata": {},
     "execution_count": 11
    }
   ],
   "source": [
    "a = []\n",
    "pattern = '([Tt]ủ|[Ff]ull đồ|tivi|nội thất đầy đủ)'\n",
    "for d in des:\n",
    "    result = re.findall(pattern, d)\n",
    "    if result:\n",
    "        a.append(1)\n",
    "    else:\n",
    "        a.append(0)\n",
    "\n",
    "data['Furnish'] = pd.Series(np.array(a), index=df.index)\n",
    "data.head(10)"
   ]
  },
  {
   "cell_type": "code",
   "execution_count": 12,
   "metadata": {},
   "outputs": [
    {
     "output_type": "execute_result",
     "data": {
      "text/plain": [
       "   Price                                           Location  Size  \\\n",
       "0    3.7  Đường Phạm Hùng, Phường Mỹ Đình 1, Nam Từ Liêm...    28   \n",
       "1    3.0  Đường Dương Văn Bé, Phường Vĩnh Tuy, Hai Bà T...    30   \n",
       "2    4.0  Đường Phạm Hùng, Phường Trung Hòa, Cầu Giấy, H...    32   \n",
       "3    7.0      đường Võng Thị, Phường Bưởi, Tây Hồ, Hà Nội    50   \n",
       "4  999.0     Đường Ao Sen, Phường Mỗ Lao, Hà Đông, Hà Nội    36   \n",
       "5    3.8  Đường Đồng Me, Phường Mễ Trì, Nam Từ Liêm, Hà...    36   \n",
       "6    3.2  Đường Đồng Me, Phường Mễ Trì, Nam Từ Liêm, Hà...    38   \n",
       "7    2.0    Đường Lạc Thị, Xã Ngọc Hồi, Thanh Trì, Hà Nội    35   \n",
       "8    3.0              Phường Việt Hưng, Long Biên, Hà Nội    38   \n",
       "9    2.5  Ngõ 40/60/11 số nhà 9,Phố Tạ Quang Bửu, Phường...    24   \n",
       "\n",
       "   Parking_slot  Air_condition  Heater_shower  Furnish  Inner_toilet  \n",
       "0             0              1              1        1             1  \n",
       "1             1              0              1        0             1  \n",
       "2             0              1              1        1             0  \n",
       "3             1              0              1        1             0  \n",
       "4             0              1              1        1             1  \n",
       "5             1              0              0        1             0  \n",
       "6             0              0              0        0             0  \n",
       "7             1              0              0        0             1  \n",
       "8             1              1              1        0             0  \n",
       "9             0              0              1        0             0  "
      ],
      "text/html": "<div>\n<style scoped>\n    .dataframe tbody tr th:only-of-type {\n        vertical-align: middle;\n    }\n\n    .dataframe tbody tr th {\n        vertical-align: top;\n    }\n\n    .dataframe thead th {\n        text-align: right;\n    }\n</style>\n<table border=\"1\" class=\"dataframe\">\n  <thead>\n    <tr style=\"text-align: right;\">\n      <th></th>\n      <th>Price</th>\n      <th>Location</th>\n      <th>Size</th>\n      <th>Parking_slot</th>\n      <th>Air_condition</th>\n      <th>Heater_shower</th>\n      <th>Furnish</th>\n      <th>Inner_toilet</th>\n    </tr>\n  </thead>\n  <tbody>\n    <tr>\n      <th>0</th>\n      <td>3.7</td>\n      <td>Đường Phạm Hùng, Phường Mỹ Đình 1, Nam Từ Liêm...</td>\n      <td>28</td>\n      <td>0</td>\n      <td>1</td>\n      <td>1</td>\n      <td>1</td>\n      <td>1</td>\n    </tr>\n    <tr>\n      <th>1</th>\n      <td>3.0</td>\n      <td>Đường Dương Văn Bé, Phường Vĩnh Tuy, Hai Bà T...</td>\n      <td>30</td>\n      <td>1</td>\n      <td>0</td>\n      <td>1</td>\n      <td>0</td>\n      <td>1</td>\n    </tr>\n    <tr>\n      <th>2</th>\n      <td>4.0</td>\n      <td>Đường Phạm Hùng, Phường Trung Hòa, Cầu Giấy, H...</td>\n      <td>32</td>\n      <td>0</td>\n      <td>1</td>\n      <td>1</td>\n      <td>1</td>\n      <td>0</td>\n    </tr>\n    <tr>\n      <th>3</th>\n      <td>7.0</td>\n      <td>đường Võng Thị, Phường Bưởi, Tây Hồ, Hà Nội</td>\n      <td>50</td>\n      <td>1</td>\n      <td>0</td>\n      <td>1</td>\n      <td>1</td>\n      <td>0</td>\n    </tr>\n    <tr>\n      <th>4</th>\n      <td>999.0</td>\n      <td>Đường Ao Sen, Phường Mỗ Lao, Hà Đông, Hà Nội</td>\n      <td>36</td>\n      <td>0</td>\n      <td>1</td>\n      <td>1</td>\n      <td>1</td>\n      <td>1</td>\n    </tr>\n    <tr>\n      <th>5</th>\n      <td>3.8</td>\n      <td>Đường Đồng Me, Phường Mễ Trì, Nam Từ Liêm, Hà...</td>\n      <td>36</td>\n      <td>1</td>\n      <td>0</td>\n      <td>0</td>\n      <td>1</td>\n      <td>0</td>\n    </tr>\n    <tr>\n      <th>6</th>\n      <td>3.2</td>\n      <td>Đường Đồng Me, Phường Mễ Trì, Nam Từ Liêm, Hà...</td>\n      <td>38</td>\n      <td>0</td>\n      <td>0</td>\n      <td>0</td>\n      <td>0</td>\n      <td>0</td>\n    </tr>\n    <tr>\n      <th>7</th>\n      <td>2.0</td>\n      <td>Đường Lạc Thị, Xã Ngọc Hồi, Thanh Trì, Hà Nội</td>\n      <td>35</td>\n      <td>1</td>\n      <td>0</td>\n      <td>0</td>\n      <td>0</td>\n      <td>1</td>\n    </tr>\n    <tr>\n      <th>8</th>\n      <td>3.0</td>\n      <td>Phường Việt Hưng, Long Biên, Hà Nội</td>\n      <td>38</td>\n      <td>1</td>\n      <td>1</td>\n      <td>1</td>\n      <td>0</td>\n      <td>0</td>\n    </tr>\n    <tr>\n      <th>9</th>\n      <td>2.5</td>\n      <td>Ngõ 40/60/11 số nhà 9,Phố Tạ Quang Bửu, Phường...</td>\n      <td>24</td>\n      <td>0</td>\n      <td>0</td>\n      <td>1</td>\n      <td>0</td>\n      <td>0</td>\n    </tr>\n  </tbody>\n</table>\n</div>"
     },
     "metadata": {},
     "execution_count": 12
    }
   ],
   "source": [
    "a = []\n",
    "pattern = 'khép kín'\n",
    "for d in des:\n",
    "    result = re.findall(pattern, d)\n",
    "    if result:\n",
    "        a.append(1)\n",
    "    else:\n",
    "        a.append(0)\n",
    "\n",
    "data['Inner_toilet'] = pd.Series(np.array(a), index=df.index)\n",
    "data.head(10)"
   ]
  },
  {
   "cell_type": "code",
   "execution_count": 13,
   "metadata": {},
   "outputs": [
    {
     "output_type": "execute_result",
     "data": {
      "text/plain": [
       "   Price                                           Location  Size  \\\n",
       "0    3.7  Đường Phạm Hùng, Phường Mỹ Đình 1, Nam Từ Liêm...    28   \n",
       "1    3.0  Đường Dương Văn Bé, Phường Vĩnh Tuy, Hai Bà T...    30   \n",
       "2    4.0  Đường Phạm Hùng, Phường Trung Hòa, Cầu Giấy, H...    32   \n",
       "3    7.0      đường Võng Thị, Phường Bưởi, Tây Hồ, Hà Nội    50   \n",
       "4  999.0     Đường Ao Sen, Phường Mỗ Lao, Hà Đông, Hà Nội    36   \n",
       "5    3.8  Đường Đồng Me, Phường Mễ Trì, Nam Từ Liêm, Hà...    36   \n",
       "6    3.2  Đường Đồng Me, Phường Mễ Trì, Nam Từ Liêm, Hà...    38   \n",
       "7    2.0    Đường Lạc Thị, Xã Ngọc Hồi, Thanh Trì, Hà Nội    35   \n",
       "8    3.0              Phường Việt Hưng, Long Biên, Hà Nội    38   \n",
       "9    2.5  Ngõ 40/60/11 số nhà 9,Phố Tạ Quang Bửu, Phường...    24   \n",
       "\n",
       "   Parking_slot  Air_condition  Heater_shower  Furnish  Inner_toilet  \\\n",
       "0             0              1              1        1             1   \n",
       "1             1              0              1        0             1   \n",
       "2             0              1              1        1             0   \n",
       "3             1              0              1        1             0   \n",
       "4             0              1              1        1             1   \n",
       "5             1              0              0        1             0   \n",
       "6             0              0              0        0             0   \n",
       "7             1              0              0        0             1   \n",
       "8             1              1              1        0             0   \n",
       "9             0              0              1        0             0   \n",
       "\n",
       "   Size_total_bool  \n",
       "0                0  \n",
       "1                0  \n",
       "2                0  \n",
       "3                0  \n",
       "4                0  \n",
       "5                0  \n",
       "6                0  \n",
       "7                0  \n",
       "8                0  \n",
       "9                0  "
      ],
      "text/html": "<div>\n<style scoped>\n    .dataframe tbody tr th:only-of-type {\n        vertical-align: middle;\n    }\n\n    .dataframe tbody tr th {\n        vertical-align: top;\n    }\n\n    .dataframe thead th {\n        text-align: right;\n    }\n</style>\n<table border=\"1\" class=\"dataframe\">\n  <thead>\n    <tr style=\"text-align: right;\">\n      <th></th>\n      <th>Price</th>\n      <th>Location</th>\n      <th>Size</th>\n      <th>Parking_slot</th>\n      <th>Air_condition</th>\n      <th>Heater_shower</th>\n      <th>Furnish</th>\n      <th>Inner_toilet</th>\n      <th>Size_total_bool</th>\n    </tr>\n  </thead>\n  <tbody>\n    <tr>\n      <th>0</th>\n      <td>3.7</td>\n      <td>Đường Phạm Hùng, Phường Mỹ Đình 1, Nam Từ Liêm...</td>\n      <td>28</td>\n      <td>0</td>\n      <td>1</td>\n      <td>1</td>\n      <td>1</td>\n      <td>1</td>\n      <td>0</td>\n    </tr>\n    <tr>\n      <th>1</th>\n      <td>3.0</td>\n      <td>Đường Dương Văn Bé, Phường Vĩnh Tuy, Hai Bà T...</td>\n      <td>30</td>\n      <td>1</td>\n      <td>0</td>\n      <td>1</td>\n      <td>0</td>\n      <td>1</td>\n      <td>0</td>\n    </tr>\n    <tr>\n      <th>2</th>\n      <td>4.0</td>\n      <td>Đường Phạm Hùng, Phường Trung Hòa, Cầu Giấy, H...</td>\n      <td>32</td>\n      <td>0</td>\n      <td>1</td>\n      <td>1</td>\n      <td>1</td>\n      <td>0</td>\n      <td>0</td>\n    </tr>\n    <tr>\n      <th>3</th>\n      <td>7.0</td>\n      <td>đường Võng Thị, Phường Bưởi, Tây Hồ, Hà Nội</td>\n      <td>50</td>\n      <td>1</td>\n      <td>0</td>\n      <td>1</td>\n      <td>1</td>\n      <td>0</td>\n      <td>0</td>\n    </tr>\n    <tr>\n      <th>4</th>\n      <td>999.0</td>\n      <td>Đường Ao Sen, Phường Mỗ Lao, Hà Đông, Hà Nội</td>\n      <td>36</td>\n      <td>0</td>\n      <td>1</td>\n      <td>1</td>\n      <td>1</td>\n      <td>1</td>\n      <td>0</td>\n    </tr>\n    <tr>\n      <th>5</th>\n      <td>3.8</td>\n      <td>Đường Đồng Me, Phường Mễ Trì, Nam Từ Liêm, Hà...</td>\n      <td>36</td>\n      <td>1</td>\n      <td>0</td>\n      <td>0</td>\n      <td>1</td>\n      <td>0</td>\n      <td>0</td>\n    </tr>\n    <tr>\n      <th>6</th>\n      <td>3.2</td>\n      <td>Đường Đồng Me, Phường Mễ Trì, Nam Từ Liêm, Hà...</td>\n      <td>38</td>\n      <td>0</td>\n      <td>0</td>\n      <td>0</td>\n      <td>0</td>\n      <td>0</td>\n      <td>0</td>\n    </tr>\n    <tr>\n      <th>7</th>\n      <td>2.0</td>\n      <td>Đường Lạc Thị, Xã Ngọc Hồi, Thanh Trì, Hà Nội</td>\n      <td>35</td>\n      <td>1</td>\n      <td>0</td>\n      <td>0</td>\n      <td>0</td>\n      <td>1</td>\n      <td>0</td>\n    </tr>\n    <tr>\n      <th>8</th>\n      <td>3.0</td>\n      <td>Phường Việt Hưng, Long Biên, Hà Nội</td>\n      <td>38</td>\n      <td>1</td>\n      <td>1</td>\n      <td>1</td>\n      <td>0</td>\n      <td>0</td>\n      <td>0</td>\n    </tr>\n    <tr>\n      <th>9</th>\n      <td>2.5</td>\n      <td>Ngõ 40/60/11 số nhà 9,Phố Tạ Quang Bửu, Phường...</td>\n      <td>24</td>\n      <td>0</td>\n      <td>0</td>\n      <td>1</td>\n      <td>0</td>\n      <td>0</td>\n      <td>0</td>\n    </tr>\n  </tbody>\n</table>\n</div>"
     },
     "metadata": {},
     "execution_count": 13
    }
   ],
   "source": [
    "a = []\n",
    "pattern = '[Tt]ổng diện tích'\n",
    "for d in des:\n",
    "    result = re.findall(pattern, d)\n",
    "    if result:\n",
    "        a.append(1)\n",
    "    else:\n",
    "        a.append(0)\n",
    "\n",
    "data['Size_total_bool'] = pd.Series(np.array(a), index=df.index)\n",
    "data.head(10)"
   ]
  },
  {
   "cell_type": "code",
   "execution_count": 14,
   "metadata": {},
   "outputs": [
    {
     "output_type": "execute_result",
     "data": {
      "text/plain": [
       "       Price                                           Location  Size  \\\n",
       "0        3.7  Đường Phạm Hùng, Phường Mỹ Đình 1, Nam Từ Liêm...    28   \n",
       "1        3.0  Đường Dương Văn Bé, Phường Vĩnh Tuy, Hai Bà T...    30   \n",
       "2        4.0  Đường Phạm Hùng, Phường Trung Hòa, Cầu Giấy, H...    32   \n",
       "3        7.0      đường Võng Thị, Phường Bưởi, Tây Hồ, Hà Nội    50   \n",
       "4      999.0     Đường Ao Sen, Phường Mỗ Lao, Hà Đông, Hà Nội    36   \n",
       "...      ...                                                ...   ...   \n",
       "3174     2.5  28 402/42/22 Đường Đình Thôn, Phường Mỹ Đình 1...    30   \n",
       "3175  1800.0  Đường Giáp Nhị, Phường Thịnh Liệt, Hoàng Mai, ...    27   \n",
       "3176     3.7  Đường Lê Quang Đạo, Phường Phú Đô, Nam Từ Liêm...    30   \n",
       "3177     5.5  Ngõ 23 Đường Nguyễn Thị Định, Phường Trung Hòa...    35   \n",
       "3178     1.3                                Hoàng Mai, Hà Nội    10   \n",
       "\n",
       "      Parking_slot  Air_condition  Heater_shower  Furnish  Inner_toilet  \\\n",
       "0                0              1              1        1             1   \n",
       "1                1              0              1        0             1   \n",
       "2                0              1              1        1             0   \n",
       "3                1              0              1        1             0   \n",
       "4                0              1              1        1             1   \n",
       "...            ...            ...            ...      ...           ...   \n",
       "3174             1              0              1        0             0   \n",
       "3175             0              0              0        0             1   \n",
       "3176             0              1              1        1             1   \n",
       "3177             0              0              0        0             0   \n",
       "3178             1              0              1        0             0   \n",
       "\n",
       "      Size_total_bool        Source  \n",
       "0                   0  thuephongtro  \n",
       "1                   0  thuephongtro  \n",
       "2                   0  thuephongtro  \n",
       "3                   0  thuephongtro  \n",
       "4                   0  thuephongtro  \n",
       "...               ...           ...  \n",
       "3174                0  thuephongtro  \n",
       "3175                0  thuephongtro  \n",
       "3176                0  thuephongtro  \n",
       "3177                0  thuephongtro  \n",
       "3178                0  thuephongtro  \n",
       "\n",
       "[3179 rows x 10 columns]"
      ],
      "text/html": "<div>\n<style scoped>\n    .dataframe tbody tr th:only-of-type {\n        vertical-align: middle;\n    }\n\n    .dataframe tbody tr th {\n        vertical-align: top;\n    }\n\n    .dataframe thead th {\n        text-align: right;\n    }\n</style>\n<table border=\"1\" class=\"dataframe\">\n  <thead>\n    <tr style=\"text-align: right;\">\n      <th></th>\n      <th>Price</th>\n      <th>Location</th>\n      <th>Size</th>\n      <th>Parking_slot</th>\n      <th>Air_condition</th>\n      <th>Heater_shower</th>\n      <th>Furnish</th>\n      <th>Inner_toilet</th>\n      <th>Size_total_bool</th>\n      <th>Source</th>\n    </tr>\n  </thead>\n  <tbody>\n    <tr>\n      <th>0</th>\n      <td>3.7</td>\n      <td>Đường Phạm Hùng, Phường Mỹ Đình 1, Nam Từ Liêm...</td>\n      <td>28</td>\n      <td>0</td>\n      <td>1</td>\n      <td>1</td>\n      <td>1</td>\n      <td>1</td>\n      <td>0</td>\n      <td>thuephongtro</td>\n    </tr>\n    <tr>\n      <th>1</th>\n      <td>3.0</td>\n      <td>Đường Dương Văn Bé, Phường Vĩnh Tuy, Hai Bà T...</td>\n      <td>30</td>\n      <td>1</td>\n      <td>0</td>\n      <td>1</td>\n      <td>0</td>\n      <td>1</td>\n      <td>0</td>\n      <td>thuephongtro</td>\n    </tr>\n    <tr>\n      <th>2</th>\n      <td>4.0</td>\n      <td>Đường Phạm Hùng, Phường Trung Hòa, Cầu Giấy, H...</td>\n      <td>32</td>\n      <td>0</td>\n      <td>1</td>\n      <td>1</td>\n      <td>1</td>\n      <td>0</td>\n      <td>0</td>\n      <td>thuephongtro</td>\n    </tr>\n    <tr>\n      <th>3</th>\n      <td>7.0</td>\n      <td>đường Võng Thị, Phường Bưởi, Tây Hồ, Hà Nội</td>\n      <td>50</td>\n      <td>1</td>\n      <td>0</td>\n      <td>1</td>\n      <td>1</td>\n      <td>0</td>\n      <td>0</td>\n      <td>thuephongtro</td>\n    </tr>\n    <tr>\n      <th>4</th>\n      <td>999.0</td>\n      <td>Đường Ao Sen, Phường Mỗ Lao, Hà Đông, Hà Nội</td>\n      <td>36</td>\n      <td>0</td>\n      <td>1</td>\n      <td>1</td>\n      <td>1</td>\n      <td>1</td>\n      <td>0</td>\n      <td>thuephongtro</td>\n    </tr>\n    <tr>\n      <th>...</th>\n      <td>...</td>\n      <td>...</td>\n      <td>...</td>\n      <td>...</td>\n      <td>...</td>\n      <td>...</td>\n      <td>...</td>\n      <td>...</td>\n      <td>...</td>\n      <td>...</td>\n    </tr>\n    <tr>\n      <th>3174</th>\n      <td>2.5</td>\n      <td>28 402/42/22 Đường Đình Thôn, Phường Mỹ Đình 1...</td>\n      <td>30</td>\n      <td>1</td>\n      <td>0</td>\n      <td>1</td>\n      <td>0</td>\n      <td>0</td>\n      <td>0</td>\n      <td>thuephongtro</td>\n    </tr>\n    <tr>\n      <th>3175</th>\n      <td>1800.0</td>\n      <td>Đường Giáp Nhị, Phường Thịnh Liệt, Hoàng Mai, ...</td>\n      <td>27</td>\n      <td>0</td>\n      <td>0</td>\n      <td>0</td>\n      <td>0</td>\n      <td>1</td>\n      <td>0</td>\n      <td>thuephongtro</td>\n    </tr>\n    <tr>\n      <th>3176</th>\n      <td>3.7</td>\n      <td>Đường Lê Quang Đạo, Phường Phú Đô, Nam Từ Liêm...</td>\n      <td>30</td>\n      <td>0</td>\n      <td>1</td>\n      <td>1</td>\n      <td>1</td>\n      <td>1</td>\n      <td>0</td>\n      <td>thuephongtro</td>\n    </tr>\n    <tr>\n      <th>3177</th>\n      <td>5.5</td>\n      <td>Ngõ 23 Đường Nguyễn Thị Định, Phường Trung Hòa...</td>\n      <td>35</td>\n      <td>0</td>\n      <td>0</td>\n      <td>0</td>\n      <td>0</td>\n      <td>0</td>\n      <td>0</td>\n      <td>thuephongtro</td>\n    </tr>\n    <tr>\n      <th>3178</th>\n      <td>1.3</td>\n      <td>Hoàng Mai, Hà Nội</td>\n      <td>10</td>\n      <td>1</td>\n      <td>0</td>\n      <td>1</td>\n      <td>0</td>\n      <td>0</td>\n      <td>0</td>\n      <td>thuephongtro</td>\n    </tr>\n  </tbody>\n</table>\n<p>3179 rows × 10 columns</p>\n</div>"
     },
     "metadata": {},
     "execution_count": 14
    }
   ],
   "source": [
    "data['Source'] = \"thuephongtro\"\n",
    "data"
   ]
  },
  {
   "cell_type": "code",
   "execution_count": 15,
   "metadata": {},
   "outputs": [
    {
     "output_type": "execute_result",
     "data": {
      "text/plain": [
       "2627.4991083042037"
      ]
     },
     "metadata": {},
     "execution_count": 15
    }
   ],
   "source": [
    "from sklearn.linear_model import Lasso\n",
    "from sklearn.model_selection import train_test_split\n",
    "from sklearn.metrics import mean_absolute_error\n",
    "\n",
    "y = data.values[:, 0]\n",
    "x = data.drop(['Location','Source'], axis=1).values[:, 1:]\n",
    "x_train, x_test, y_train, y_test = train_test_split(x, y, test_size=0.2)\n",
    "\n",
    "clf = Lasso(alpha=0.1)\n",
    "clf.fit(x_train, y_train)\n",
    "mean_absolute_error(y_test, clf.predict(x_test))"
   ]
  },
  {
   "cell_type": "code",
   "execution_count": 16,
   "metadata": {},
   "outputs": [],
   "source": [
    "data.to_csv(\"processed-data/thuephongtro.csv\")"
   ]
  },
  {
   "cell_type": "code",
   "execution_count": null,
   "metadata": {},
   "outputs": [],
   "source": []
  }
 ]
}