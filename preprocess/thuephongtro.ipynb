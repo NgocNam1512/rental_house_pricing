{
 "metadata": {
  "language_info": {
   "codemirror_mode": {
    "name": "ipython",
    "version": 3
   },
   "file_extension": ".py",
   "mimetype": "text/x-python",
   "name": "python",
   "nbconvert_exporter": "python",
   "pygments_lexer": "ipython3",
   "version": "3.8.3-final"
  },
  "orig_nbformat": 2,
  "kernelspec": {
   "name": "python3",
   "display_name": "Python 3"
  }
 },
 "nbformat": 4,
 "nbformat_minor": 2,
 "cells": [
  {
   "cell_type": "code",
   "execution_count": 1,
   "metadata": {},
   "outputs": [],
   "source": [
    "import pandas as pd\n",
    "import json_lines\n",
    "import re\n",
    "import numpy as np\n",
    "\n",
    "def read_data_from_jl(file_path):\n",
    "    with open(file_path, 'rb') as f:\n",
    "        data = json_lines.reader(f)\n",
    "\n",
    "        df = pd.DataFrame(data)\n",
    "        \n",
    "        return df\n",
    "    return None"
   ]
  },
  {
   "cell_type": "code",
   "execution_count": 2,
   "metadata": {},
   "outputs": [
    {
     "output_type": "execute_result",
     "data": {
      "text/plain": [
       "                                         description  \\\n",
       "0  \\r\\n                             \\r\\n         ...   \n",
       "1  \\r\\n                             \\r\\n         ...   \n",
       "2  \\r\\n                             \\r\\n         ...   \n",
       "3  \\r\\n                             \\r\\n         ...   \n",
       "4  \\r\\n                             \\r\\n         ...   \n",
       "5  \\r\\n                             \\r\\n         ...   \n",
       "6  \\r\\n                             \\r\\n         ...   \n",
       "7  \\r\\n                             \\r\\n         ...   \n",
       "8  \\r\\n                             \\r\\n         ...   \n",
       "9  \\r\\n                             \\r\\n         ...   \n",
       "\n",
       "                                            location                kind  \\\n",
       "0  Đường Phạm Hùng, Phường Mỹ Đình 1, Nam Từ Liêm...  Cho thuê phòng trọ   \n",
       "1  Đường Dương Văn Bé, Phường Vĩnh Tuy, Hai Bà T...  Cho thuê phòng trọ   \n",
       "2  Đường Phạm Hùng, Phường Trung Hòa, Cầu Giấy, H...  Cho thuê phòng trọ   \n",
       "3      đường Võng Thị, Phường Bưởi, Tây Hồ, Hà Nội  Cho thuê phòng trọ   \n",
       "4     Đường Ao Sen, Phường Mỗ Lao, Hà Đông, Hà Nội  Cho thuê phòng trọ   \n",
       "5  Đường Đồng Me, Phường Mễ Trì, Nam Từ Liêm, Hà...  Cho thuê phòng trọ   \n",
       "6  Đường Đồng Me, Phường Mễ Trì, Nam Từ Liêm, Hà...  Cho thuê phòng trọ   \n",
       "7    Đường Lạc Thị, Xã Ngọc Hồi, Thanh Trì, Hà Nội  Cho thuê phòng trọ   \n",
       "8              Phường Việt Hưng, Long Biên, Hà Nội  Cho thuê phòng trọ   \n",
       "9  Ngõ 40/60/11 số nhà 9,Phố Tạ Quang Bửu, Phường...  Cho thuê phòng trọ   \n",
       "\n",
       "             price   area              date  \n",
       "0  3.7 Triệu/tháng  28 m²  08/11/2020 09:09  \n",
       "1    3 Triệu/tháng  30 m²  01/11/2020 14:35  \n",
       "2    4 Triệu/tháng  32 m²  02/11/2020 15:41  \n",
       "3    7 Triệu/tháng  50 m²  04/11/2020 19:08  \n",
       "4  999 Triệu/tháng  36 m²  05/11/2020 10:40  \n",
       "5  3.8 Triệu/tháng  36 m²  05/11/2020 13:49  \n",
       "6  3.2 Triệu/tháng  38 m²  06/11/2020 15:31  \n",
       "7    2 Triệu/tháng  35 m²  07/11/2020 11:56  \n",
       "8    3 Triệu/tháng  38 m²  07/11/2020 12:54  \n",
       "9  2.5 Triệu/tháng  24 m²  30/10/2020 11:43  "
      ],
      "text/html": "<div>\n<style scoped>\n    .dataframe tbody tr th:only-of-type {\n        vertical-align: middle;\n    }\n\n    .dataframe tbody tr th {\n        vertical-align: top;\n    }\n\n    .dataframe thead th {\n        text-align: right;\n    }\n</style>\n<table border=\"1\" class=\"dataframe\">\n  <thead>\n    <tr style=\"text-align: right;\">\n      <th></th>\n      <th>description</th>\n      <th>location</th>\n      <th>kind</th>\n      <th>price</th>\n      <th>area</th>\n      <th>date</th>\n    </tr>\n  </thead>\n  <tbody>\n    <tr>\n      <th>0</th>\n      <td>\\r\\n                             \\r\\n         ...</td>\n      <td>Đường Phạm Hùng, Phường Mỹ Đình 1, Nam Từ Liêm...</td>\n      <td>Cho thuê phòng trọ</td>\n      <td>3.7 Triệu/tháng</td>\n      <td>28 m²</td>\n      <td>08/11/2020 09:09</td>\n    </tr>\n    <tr>\n      <th>1</th>\n      <td>\\r\\n                             \\r\\n         ...</td>\n      <td>Đường Dương Văn Bé, Phường Vĩnh Tuy, Hai Bà T...</td>\n      <td>Cho thuê phòng trọ</td>\n      <td>3 Triệu/tháng</td>\n      <td>30 m²</td>\n      <td>01/11/2020 14:35</td>\n    </tr>\n    <tr>\n      <th>2</th>\n      <td>\\r\\n                             \\r\\n         ...</td>\n      <td>Đường Phạm Hùng, Phường Trung Hòa, Cầu Giấy, H...</td>\n      <td>Cho thuê phòng trọ</td>\n      <td>4 Triệu/tháng</td>\n      <td>32 m²</td>\n      <td>02/11/2020 15:41</td>\n    </tr>\n    <tr>\n      <th>3</th>\n      <td>\\r\\n                             \\r\\n         ...</td>\n      <td>đường Võng Thị, Phường Bưởi, Tây Hồ, Hà Nội</td>\n      <td>Cho thuê phòng trọ</td>\n      <td>7 Triệu/tháng</td>\n      <td>50 m²</td>\n      <td>04/11/2020 19:08</td>\n    </tr>\n    <tr>\n      <th>4</th>\n      <td>\\r\\n                             \\r\\n         ...</td>\n      <td>Đường Ao Sen, Phường Mỗ Lao, Hà Đông, Hà Nội</td>\n      <td>Cho thuê phòng trọ</td>\n      <td>999 Triệu/tháng</td>\n      <td>36 m²</td>\n      <td>05/11/2020 10:40</td>\n    </tr>\n    <tr>\n      <th>5</th>\n      <td>\\r\\n                             \\r\\n         ...</td>\n      <td>Đường Đồng Me, Phường Mễ Trì, Nam Từ Liêm, Hà...</td>\n      <td>Cho thuê phòng trọ</td>\n      <td>3.8 Triệu/tháng</td>\n      <td>36 m²</td>\n      <td>05/11/2020 13:49</td>\n    </tr>\n    <tr>\n      <th>6</th>\n      <td>\\r\\n                             \\r\\n         ...</td>\n      <td>Đường Đồng Me, Phường Mễ Trì, Nam Từ Liêm, Hà...</td>\n      <td>Cho thuê phòng trọ</td>\n      <td>3.2 Triệu/tháng</td>\n      <td>38 m²</td>\n      <td>06/11/2020 15:31</td>\n    </tr>\n    <tr>\n      <th>7</th>\n      <td>\\r\\n                             \\r\\n         ...</td>\n      <td>Đường Lạc Thị, Xã Ngọc Hồi, Thanh Trì, Hà Nội</td>\n      <td>Cho thuê phòng trọ</td>\n      <td>2 Triệu/tháng</td>\n      <td>35 m²</td>\n      <td>07/11/2020 11:56</td>\n    </tr>\n    <tr>\n      <th>8</th>\n      <td>\\r\\n                             \\r\\n         ...</td>\n      <td>Phường Việt Hưng, Long Biên, Hà Nội</td>\n      <td>Cho thuê phòng trọ</td>\n      <td>3 Triệu/tháng</td>\n      <td>38 m²</td>\n      <td>07/11/2020 12:54</td>\n    </tr>\n    <tr>\n      <th>9</th>\n      <td>\\r\\n                             \\r\\n         ...</td>\n      <td>Ngõ 40/60/11 số nhà 9,Phố Tạ Quang Bửu, Phường...</td>\n      <td>Cho thuê phòng trọ</td>\n      <td>2.5 Triệu/tháng</td>\n      <td>24 m²</td>\n      <td>30/10/2020 11:43</td>\n    </tr>\n  </tbody>\n</table>\n</div>"
     },
     "metadata": {},
     "execution_count": 2
    }
   ],
   "source": [
    "df = read_data_from_jl('../data/thuephongtro.jl')\n",
    "df.head(10)"
   ]
  },
  {
   "cell_type": "code",
   "execution_count": 3,
   "metadata": {},
   "outputs": [],
   "source": [
    "des = df['description'].values\n",
    "price = df['price'].values\n",
    "area = df['area'].values\n",
    "kind = df['kind'].values\n",
    "data = pd.DataFrame()"
   ]
  },
  {
   "cell_type": "code",
   "execution_count": 4,
   "metadata": {},
   "outputs": [
    {
     "output_type": "execute_result",
     "data": {
      "text/plain": [
       "   Price\n",
       "0    3.7\n",
       "1    3.0\n",
       "2    4.0\n",
       "3    7.0\n",
       "4  999.0\n",
       "5    3.8\n",
       "6    3.2\n",
       "7    2.0\n",
       "8    3.0\n",
       "9    2.5"
      ],
      "text/html": "<div>\n<style scoped>\n    .dataframe tbody tr th:only-of-type {\n        vertical-align: middle;\n    }\n\n    .dataframe tbody tr th {\n        vertical-align: top;\n    }\n\n    .dataframe thead th {\n        text-align: right;\n    }\n</style>\n<table border=\"1\" class=\"dataframe\">\n  <thead>\n    <tr style=\"text-align: right;\">\n      <th></th>\n      <th>Price</th>\n    </tr>\n  </thead>\n  <tbody>\n    <tr>\n      <th>0</th>\n      <td>3.7</td>\n    </tr>\n    <tr>\n      <th>1</th>\n      <td>3.0</td>\n    </tr>\n    <tr>\n      <th>2</th>\n      <td>4.0</td>\n    </tr>\n    <tr>\n      <th>3</th>\n      <td>7.0</td>\n    </tr>\n    <tr>\n      <th>4</th>\n      <td>999.0</td>\n    </tr>\n    <tr>\n      <th>5</th>\n      <td>3.8</td>\n    </tr>\n    <tr>\n      <th>6</th>\n      <td>3.2</td>\n    </tr>\n    <tr>\n      <th>7</th>\n      <td>2.0</td>\n    </tr>\n    <tr>\n      <th>8</th>\n      <td>3.0</td>\n    </tr>\n    <tr>\n      <th>9</th>\n      <td>2.5</td>\n    </tr>\n  </tbody>\n</table>\n</div>"
     },
     "metadata": {},
     "execution_count": 4
    }
   ],
   "source": [
    "a = []\n",
    "pattern = '^([0-9]+.[0-9]+|[0-9]+)'\n",
    "price = df['price'].values\n",
    "for p in price:\n",
    "    result = re.findall(pattern, p)\n",
    "    if result:\n",
    "        a.append(float(result[0]))\n",
    "    else:\n",
    "        a.append(0)\n",
    "\n",
    "data['Price'] = pd.Series(np.array(a), index=df.index)\n",
    "data.head(10)"
   ]
  },
  {
   "cell_type": "code",
   "execution_count": 5,
   "metadata": {},
   "outputs": [],
   "source": [
    "data[\"Description\"] = df['description']"
   ]
  },
  {
   "cell_type": "code",
   "execution_count": 6,
   "metadata": {},
   "outputs": [
    {
     "output_type": "execute_result",
     "data": {
      "text/plain": [
       "   Price                                        Description       Kind\n",
       "0    3.7  \\r\\n                             \\r\\n         ...       CCMN\n",
       "1    3.0  \\r\\n                             \\r\\n         ...  Phòng trọ\n",
       "2    4.0  \\r\\n                             \\r\\n         ...       CCMN\n",
       "3    7.0  \\r\\n                             \\r\\n         ...  Phòng trọ\n",
       "4  999.0  \\r\\n                             \\r\\n         ...  Phòng trọ\n",
       "5    3.8  \\r\\n                             \\r\\n         ...       CCMN\n",
       "6    3.2  \\r\\n                             \\r\\n         ...       CCMN\n",
       "7    2.0  \\r\\n                             \\r\\n         ...  Phòng trọ\n",
       "8    3.0  \\r\\n                             \\r\\n         ...       CCMN\n",
       "9    2.5  \\r\\n                             \\r\\n         ...  Phòng trọ"
      ],
      "text/html": "<div>\n<style scoped>\n    .dataframe tbody tr th:only-of-type {\n        vertical-align: middle;\n    }\n\n    .dataframe tbody tr th {\n        vertical-align: top;\n    }\n\n    .dataframe thead th {\n        text-align: right;\n    }\n</style>\n<table border=\"1\" class=\"dataframe\">\n  <thead>\n    <tr style=\"text-align: right;\">\n      <th></th>\n      <th>Price</th>\n      <th>Description</th>\n      <th>Kind</th>\n    </tr>\n  </thead>\n  <tbody>\n    <tr>\n      <th>0</th>\n      <td>3.7</td>\n      <td>\\r\\n                             \\r\\n         ...</td>\n      <td>CCMN</td>\n    </tr>\n    <tr>\n      <th>1</th>\n      <td>3.0</td>\n      <td>\\r\\n                             \\r\\n         ...</td>\n      <td>Phòng trọ</td>\n    </tr>\n    <tr>\n      <th>2</th>\n      <td>4.0</td>\n      <td>\\r\\n                             \\r\\n         ...</td>\n      <td>CCMN</td>\n    </tr>\n    <tr>\n      <th>3</th>\n      <td>7.0</td>\n      <td>\\r\\n                             \\r\\n         ...</td>\n      <td>Phòng trọ</td>\n    </tr>\n    <tr>\n      <th>4</th>\n      <td>999.0</td>\n      <td>\\r\\n                             \\r\\n         ...</td>\n      <td>Phòng trọ</td>\n    </tr>\n    <tr>\n      <th>5</th>\n      <td>3.8</td>\n      <td>\\r\\n                             \\r\\n         ...</td>\n      <td>CCMN</td>\n    </tr>\n    <tr>\n      <th>6</th>\n      <td>3.2</td>\n      <td>\\r\\n                             \\r\\n         ...</td>\n      <td>CCMN</td>\n    </tr>\n    <tr>\n      <th>7</th>\n      <td>2.0</td>\n      <td>\\r\\n                             \\r\\n         ...</td>\n      <td>Phòng trọ</td>\n    </tr>\n    <tr>\n      <th>8</th>\n      <td>3.0</td>\n      <td>\\r\\n                             \\r\\n         ...</td>\n      <td>CCMN</td>\n    </tr>\n    <tr>\n      <th>9</th>\n      <td>2.5</td>\n      <td>\\r\\n                             \\r\\n         ...</td>\n      <td>Phòng trọ</td>\n    </tr>\n  </tbody>\n</table>\n</div>"
     },
     "metadata": {},
     "execution_count": 6
    }
   ],
   "source": [
    "a = []\n",
    "pattern1 = '(CCMN|[Cc]hung cư)'\n",
    "pattern2 = '[Hh]omestay'\n",
    "for d in des:\n",
    "    ccmn = re.findall(pattern1, d)\n",
    "    hs = re.findall(pattern2, d)\n",
    "    if ccmn:\n",
    "        a.append(\"CCMN\")\n",
    "    elif hs:\n",
    "        a.append(\"Homestay\")\n",
    "    else:\n",
    "        a.append(\"Phòng trọ\")\n",
    "\n",
    "data['Kind'] = pd.Series(np.array(a), index=df.index)\n",
    "data.head(10)"
   ]
  },
  {
   "cell_type": "code",
   "execution_count": 7,
   "metadata": {},
   "outputs": [
    {
     "output_type": "execute_result",
     "data": {
      "text/plain": [
       "   Price                                        Description       Kind  \\\n",
       "0    3.7  \\r\\n                             \\r\\n         ...       CCMN   \n",
       "1    3.0  \\r\\n                             \\r\\n         ...  Phòng trọ   \n",
       "2    4.0  \\r\\n                             \\r\\n         ...       CCMN   \n",
       "3    7.0  \\r\\n                             \\r\\n         ...  Phòng trọ   \n",
       "4  999.0  \\r\\n                             \\r\\n         ...  Phòng trọ   \n",
       "5    3.8  \\r\\n                             \\r\\n         ...       CCMN   \n",
       "6    3.2  \\r\\n                             \\r\\n         ...       CCMN   \n",
       "7    2.0  \\r\\n                             \\r\\n         ...  Phòng trọ   \n",
       "8    3.0  \\r\\n                             \\r\\n         ...       CCMN   \n",
       "9    2.5  \\r\\n                             \\r\\n         ...  Phòng trọ   \n",
       "\n",
       "                                            Location  \n",
       "0  Đường Phạm Hùng, Phường Mỹ Đình 1, Nam Từ Liêm...  \n",
       "1  Đường Dương Văn Bé, Phường Vĩnh Tuy, Hai Bà T...  \n",
       "2  Đường Phạm Hùng, Phường Trung Hòa, Cầu Giấy, H...  \n",
       "3      đường Võng Thị, Phường Bưởi, Tây Hồ, Hà Nội  \n",
       "4     Đường Ao Sen, Phường Mỗ Lao, Hà Đông, Hà Nội  \n",
       "5  Đường Đồng Me, Phường Mễ Trì, Nam Từ Liêm, Hà...  \n",
       "6  Đường Đồng Me, Phường Mễ Trì, Nam Từ Liêm, Hà...  \n",
       "7    Đường Lạc Thị, Xã Ngọc Hồi, Thanh Trì, Hà Nội  \n",
       "8              Phường Việt Hưng, Long Biên, Hà Nội  \n",
       "9  Ngõ 40/60/11 số nhà 9,Phố Tạ Quang Bửu, Phường...  "
      ],
      "text/html": "<div>\n<style scoped>\n    .dataframe tbody tr th:only-of-type {\n        vertical-align: middle;\n    }\n\n    .dataframe tbody tr th {\n        vertical-align: top;\n    }\n\n    .dataframe thead th {\n        text-align: right;\n    }\n</style>\n<table border=\"1\" class=\"dataframe\">\n  <thead>\n    <tr style=\"text-align: right;\">\n      <th></th>\n      <th>Price</th>\n      <th>Description</th>\n      <th>Kind</th>\n      <th>Location</th>\n    </tr>\n  </thead>\n  <tbody>\n    <tr>\n      <th>0</th>\n      <td>3.7</td>\n      <td>\\r\\n                             \\r\\n         ...</td>\n      <td>CCMN</td>\n      <td>Đường Phạm Hùng, Phường Mỹ Đình 1, Nam Từ Liêm...</td>\n    </tr>\n    <tr>\n      <th>1</th>\n      <td>3.0</td>\n      <td>\\r\\n                             \\r\\n         ...</td>\n      <td>Phòng trọ</td>\n      <td>Đường Dương Văn Bé, Phường Vĩnh Tuy, Hai Bà T...</td>\n    </tr>\n    <tr>\n      <th>2</th>\n      <td>4.0</td>\n      <td>\\r\\n                             \\r\\n         ...</td>\n      <td>CCMN</td>\n      <td>Đường Phạm Hùng, Phường Trung Hòa, Cầu Giấy, H...</td>\n    </tr>\n    <tr>\n      <th>3</th>\n      <td>7.0</td>\n      <td>\\r\\n                             \\r\\n         ...</td>\n      <td>Phòng trọ</td>\n      <td>đường Võng Thị, Phường Bưởi, Tây Hồ, Hà Nội</td>\n    </tr>\n    <tr>\n      <th>4</th>\n      <td>999.0</td>\n      <td>\\r\\n                             \\r\\n         ...</td>\n      <td>Phòng trọ</td>\n      <td>Đường Ao Sen, Phường Mỗ Lao, Hà Đông, Hà Nội</td>\n    </tr>\n    <tr>\n      <th>5</th>\n      <td>3.8</td>\n      <td>\\r\\n                             \\r\\n         ...</td>\n      <td>CCMN</td>\n      <td>Đường Đồng Me, Phường Mễ Trì, Nam Từ Liêm, Hà...</td>\n    </tr>\n    <tr>\n      <th>6</th>\n      <td>3.2</td>\n      <td>\\r\\n                             \\r\\n         ...</td>\n      <td>CCMN</td>\n      <td>Đường Đồng Me, Phường Mễ Trì, Nam Từ Liêm, Hà...</td>\n    </tr>\n    <tr>\n      <th>7</th>\n      <td>2.0</td>\n      <td>\\r\\n                             \\r\\n         ...</td>\n      <td>Phòng trọ</td>\n      <td>Đường Lạc Thị, Xã Ngọc Hồi, Thanh Trì, Hà Nội</td>\n    </tr>\n    <tr>\n      <th>8</th>\n      <td>3.0</td>\n      <td>\\r\\n                             \\r\\n         ...</td>\n      <td>CCMN</td>\n      <td>Phường Việt Hưng, Long Biên, Hà Nội</td>\n    </tr>\n    <tr>\n      <th>9</th>\n      <td>2.5</td>\n      <td>\\r\\n                             \\r\\n         ...</td>\n      <td>Phòng trọ</td>\n      <td>Ngõ 40/60/11 số nhà 9,Phố Tạ Quang Bửu, Phường...</td>\n    </tr>\n  </tbody>\n</table>\n</div>"
     },
     "metadata": {},
     "execution_count": 7
    }
   ],
   "source": [
    "data['Location'] = df['location']\n",
    "data.head(10)"
   ]
  },
  {
   "cell_type": "code",
   "execution_count": 8,
   "metadata": {},
   "outputs": [
    {
     "output_type": "execute_result",
     "data": {
      "text/plain": [
       "   Price                                        Description       Kind  \\\n",
       "0    3.7  \\r\\n                             \\r\\n         ...       CCMN   \n",
       "1    3.0  \\r\\n                             \\r\\n         ...  Phòng trọ   \n",
       "2    4.0  \\r\\n                             \\r\\n         ...       CCMN   \n",
       "3    7.0  \\r\\n                             \\r\\n         ...  Phòng trọ   \n",
       "4  999.0  \\r\\n                             \\r\\n         ...  Phòng trọ   \n",
       "5    3.8  \\r\\n                             \\r\\n         ...       CCMN   \n",
       "6    3.2  \\r\\n                             \\r\\n         ...       CCMN   \n",
       "7    2.0  \\r\\n                             \\r\\n         ...  Phòng trọ   \n",
       "8    3.0  \\r\\n                             \\r\\n         ...       CCMN   \n",
       "9    2.5  \\r\\n                             \\r\\n         ...  Phòng trọ   \n",
       "\n",
       "                                            Location  Size  \n",
       "0  Đường Phạm Hùng, Phường Mỹ Đình 1, Nam Từ Liêm...    28  \n",
       "1  Đường Dương Văn Bé, Phường Vĩnh Tuy, Hai Bà T...    30  \n",
       "2  Đường Phạm Hùng, Phường Trung Hòa, Cầu Giấy, H...    32  \n",
       "3      đường Võng Thị, Phường Bưởi, Tây Hồ, Hà Nội    50  \n",
       "4     Đường Ao Sen, Phường Mỗ Lao, Hà Đông, Hà Nội    36  \n",
       "5  Đường Đồng Me, Phường Mễ Trì, Nam Từ Liêm, Hà...    36  \n",
       "6  Đường Đồng Me, Phường Mễ Trì, Nam Từ Liêm, Hà...    38  \n",
       "7    Đường Lạc Thị, Xã Ngọc Hồi, Thanh Trì, Hà Nội    35  \n",
       "8              Phường Việt Hưng, Long Biên, Hà Nội    38  \n",
       "9  Ngõ 40/60/11 số nhà 9,Phố Tạ Quang Bửu, Phường...    24  "
      ],
      "text/html": "<div>\n<style scoped>\n    .dataframe tbody tr th:only-of-type {\n        vertical-align: middle;\n    }\n\n    .dataframe tbody tr th {\n        vertical-align: top;\n    }\n\n    .dataframe thead th {\n        text-align: right;\n    }\n</style>\n<table border=\"1\" class=\"dataframe\">\n  <thead>\n    <tr style=\"text-align: right;\">\n      <th></th>\n      <th>Price</th>\n      <th>Description</th>\n      <th>Kind</th>\n      <th>Location</th>\n      <th>Size</th>\n    </tr>\n  </thead>\n  <tbody>\n    <tr>\n      <th>0</th>\n      <td>3.7</td>\n      <td>\\r\\n                             \\r\\n         ...</td>\n      <td>CCMN</td>\n      <td>Đường Phạm Hùng, Phường Mỹ Đình 1, Nam Từ Liêm...</td>\n      <td>28</td>\n    </tr>\n    <tr>\n      <th>1</th>\n      <td>3.0</td>\n      <td>\\r\\n                             \\r\\n         ...</td>\n      <td>Phòng trọ</td>\n      <td>Đường Dương Văn Bé, Phường Vĩnh Tuy, Hai Bà T...</td>\n      <td>30</td>\n    </tr>\n    <tr>\n      <th>2</th>\n      <td>4.0</td>\n      <td>\\r\\n                             \\r\\n         ...</td>\n      <td>CCMN</td>\n      <td>Đường Phạm Hùng, Phường Trung Hòa, Cầu Giấy, H...</td>\n      <td>32</td>\n    </tr>\n    <tr>\n      <th>3</th>\n      <td>7.0</td>\n      <td>\\r\\n                             \\r\\n         ...</td>\n      <td>Phòng trọ</td>\n      <td>đường Võng Thị, Phường Bưởi, Tây Hồ, Hà Nội</td>\n      <td>50</td>\n    </tr>\n    <tr>\n      <th>4</th>\n      <td>999.0</td>\n      <td>\\r\\n                             \\r\\n         ...</td>\n      <td>Phòng trọ</td>\n      <td>Đường Ao Sen, Phường Mỗ Lao, Hà Đông, Hà Nội</td>\n      <td>36</td>\n    </tr>\n    <tr>\n      <th>5</th>\n      <td>3.8</td>\n      <td>\\r\\n                             \\r\\n         ...</td>\n      <td>CCMN</td>\n      <td>Đường Đồng Me, Phường Mễ Trì, Nam Từ Liêm, Hà...</td>\n      <td>36</td>\n    </tr>\n    <tr>\n      <th>6</th>\n      <td>3.2</td>\n      <td>\\r\\n                             \\r\\n         ...</td>\n      <td>CCMN</td>\n      <td>Đường Đồng Me, Phường Mễ Trì, Nam Từ Liêm, Hà...</td>\n      <td>38</td>\n    </tr>\n    <tr>\n      <th>7</th>\n      <td>2.0</td>\n      <td>\\r\\n                             \\r\\n         ...</td>\n      <td>Phòng trọ</td>\n      <td>Đường Lạc Thị, Xã Ngọc Hồi, Thanh Trì, Hà Nội</td>\n      <td>35</td>\n    </tr>\n    <tr>\n      <th>8</th>\n      <td>3.0</td>\n      <td>\\r\\n                             \\r\\n         ...</td>\n      <td>CCMN</td>\n      <td>Phường Việt Hưng, Long Biên, Hà Nội</td>\n      <td>38</td>\n    </tr>\n    <tr>\n      <th>9</th>\n      <td>2.5</td>\n      <td>\\r\\n                             \\r\\n         ...</td>\n      <td>Phòng trọ</td>\n      <td>Ngõ 40/60/11 số nhà 9,Phố Tạ Quang Bửu, Phường...</td>\n      <td>24</td>\n    </tr>\n  </tbody>\n</table>\n</div>"
     },
     "metadata": {},
     "execution_count": 8
    }
   ],
   "source": [
    "b = []\n",
    "pattern = '^[0-9]+'\n",
    "for a in area:\n",
    "    result = re.findall(pattern, a)\n",
    "    if result:\n",
    "        b.append(int(result[0]))\n",
    "    else:\n",
    "        b.append(0)\n",
    "\n",
    "data['Size'] = pd.Series(np.array(b), index=df.index)\n",
    "data.head(10)"
   ]
  },
  {
   "cell_type": "code",
   "execution_count": 9,
   "metadata": {},
   "outputs": [
    {
     "output_type": "execute_result",
     "data": {
      "text/plain": [
       "   Price                                        Description       Kind  \\\n",
       "0    3.7  \\r\\n                             \\r\\n         ...       CCMN   \n",
       "1    3.0  \\r\\n                             \\r\\n         ...  Phòng trọ   \n",
       "2    4.0  \\r\\n                             \\r\\n         ...       CCMN   \n",
       "3    7.0  \\r\\n                             \\r\\n         ...  Phòng trọ   \n",
       "4  999.0  \\r\\n                             \\r\\n         ...  Phòng trọ   \n",
       "5    3.8  \\r\\n                             \\r\\n         ...       CCMN   \n",
       "6    3.2  \\r\\n                             \\r\\n         ...       CCMN   \n",
       "7    2.0  \\r\\n                             \\r\\n         ...  Phòng trọ   \n",
       "8    3.0  \\r\\n                             \\r\\n         ...       CCMN   \n",
       "9    2.5  \\r\\n                             \\r\\n         ...  Phòng trọ   \n",
       "\n",
       "                                            Location  Size  Parking_slot  \n",
       "0  Đường Phạm Hùng, Phường Mỹ Đình 1, Nam Từ Liêm...    28             0  \n",
       "1  Đường Dương Văn Bé, Phường Vĩnh Tuy, Hai Bà T...    30             1  \n",
       "2  Đường Phạm Hùng, Phường Trung Hòa, Cầu Giấy, H...    32             0  \n",
       "3      đường Võng Thị, Phường Bưởi, Tây Hồ, Hà Nội    50             1  \n",
       "4     Đường Ao Sen, Phường Mỗ Lao, Hà Đông, Hà Nội    36             0  \n",
       "5  Đường Đồng Me, Phường Mễ Trì, Nam Từ Liêm, Hà...    36             1  \n",
       "6  Đường Đồng Me, Phường Mễ Trì, Nam Từ Liêm, Hà...    38             0  \n",
       "7    Đường Lạc Thị, Xã Ngọc Hồi, Thanh Trì, Hà Nội    35             1  \n",
       "8              Phường Việt Hưng, Long Biên, Hà Nội    38             1  \n",
       "9  Ngõ 40/60/11 số nhà 9,Phố Tạ Quang Bửu, Phường...    24             0  "
      ],
      "text/html": "<div>\n<style scoped>\n    .dataframe tbody tr th:only-of-type {\n        vertical-align: middle;\n    }\n\n    .dataframe tbody tr th {\n        vertical-align: top;\n    }\n\n    .dataframe thead th {\n        text-align: right;\n    }\n</style>\n<table border=\"1\" class=\"dataframe\">\n  <thead>\n    <tr style=\"text-align: right;\">\n      <th></th>\n      <th>Price</th>\n      <th>Description</th>\n      <th>Kind</th>\n      <th>Location</th>\n      <th>Size</th>\n      <th>Parking_slot</th>\n    </tr>\n  </thead>\n  <tbody>\n    <tr>\n      <th>0</th>\n      <td>3.7</td>\n      <td>\\r\\n                             \\r\\n         ...</td>\n      <td>CCMN</td>\n      <td>Đường Phạm Hùng, Phường Mỹ Đình 1, Nam Từ Liêm...</td>\n      <td>28</td>\n      <td>0</td>\n    </tr>\n    <tr>\n      <th>1</th>\n      <td>3.0</td>\n      <td>\\r\\n                             \\r\\n         ...</td>\n      <td>Phòng trọ</td>\n      <td>Đường Dương Văn Bé, Phường Vĩnh Tuy, Hai Bà T...</td>\n      <td>30</td>\n      <td>1</td>\n    </tr>\n    <tr>\n      <th>2</th>\n      <td>4.0</td>\n      <td>\\r\\n                             \\r\\n         ...</td>\n      <td>CCMN</td>\n      <td>Đường Phạm Hùng, Phường Trung Hòa, Cầu Giấy, H...</td>\n      <td>32</td>\n      <td>0</td>\n    </tr>\n    <tr>\n      <th>3</th>\n      <td>7.0</td>\n      <td>\\r\\n                             \\r\\n         ...</td>\n      <td>Phòng trọ</td>\n      <td>đường Võng Thị, Phường Bưởi, Tây Hồ, Hà Nội</td>\n      <td>50</td>\n      <td>1</td>\n    </tr>\n    <tr>\n      <th>4</th>\n      <td>999.0</td>\n      <td>\\r\\n                             \\r\\n         ...</td>\n      <td>Phòng trọ</td>\n      <td>Đường Ao Sen, Phường Mỗ Lao, Hà Đông, Hà Nội</td>\n      <td>36</td>\n      <td>0</td>\n    </tr>\n    <tr>\n      <th>5</th>\n      <td>3.8</td>\n      <td>\\r\\n                             \\r\\n         ...</td>\n      <td>CCMN</td>\n      <td>Đường Đồng Me, Phường Mễ Trì, Nam Từ Liêm, Hà...</td>\n      <td>36</td>\n      <td>1</td>\n    </tr>\n    <tr>\n      <th>6</th>\n      <td>3.2</td>\n      <td>\\r\\n                             \\r\\n         ...</td>\n      <td>CCMN</td>\n      <td>Đường Đồng Me, Phường Mễ Trì, Nam Từ Liêm, Hà...</td>\n      <td>38</td>\n      <td>0</td>\n    </tr>\n    <tr>\n      <th>7</th>\n      <td>2.0</td>\n      <td>\\r\\n                             \\r\\n         ...</td>\n      <td>Phòng trọ</td>\n      <td>Đường Lạc Thị, Xã Ngọc Hồi, Thanh Trì, Hà Nội</td>\n      <td>35</td>\n      <td>1</td>\n    </tr>\n    <tr>\n      <th>8</th>\n      <td>3.0</td>\n      <td>\\r\\n                             \\r\\n         ...</td>\n      <td>CCMN</td>\n      <td>Phường Việt Hưng, Long Biên, Hà Nội</td>\n      <td>38</td>\n      <td>1</td>\n    </tr>\n    <tr>\n      <th>9</th>\n      <td>2.5</td>\n      <td>\\r\\n                             \\r\\n         ...</td>\n      <td>Phòng trọ</td>\n      <td>Ngõ 40/60/11 số nhà 9,Phố Tạ Quang Bửu, Phường...</td>\n      <td>24</td>\n      <td>0</td>\n    </tr>\n  </tbody>\n</table>\n</div>"
     },
     "metadata": {},
     "execution_count": 9
    }
   ],
   "source": [
    "# add parking area\n",
    "a = []\n",
    "pattern = '[Đđ]ể xe'\n",
    "for d in des:\n",
    "    result = re.findall(pattern, d)\n",
    "    if result:\n",
    "        a.append(1)\n",
    "    else:\n",
    "        a.append(0)\n",
    "\n",
    "data['Parking_slot'] = pd.Series(np.array(a), index=df.index)\n",
    "data.head(10)"
   ]
  },
  {
   "cell_type": "code",
   "execution_count": 10,
   "metadata": {},
   "outputs": [
    {
     "output_type": "execute_result",
     "data": {
      "text/plain": [
       "   Price                                        Description       Kind  \\\n",
       "0    3.7  \\r\\n                             \\r\\n         ...       CCMN   \n",
       "1    3.0  \\r\\n                             \\r\\n         ...  Phòng trọ   \n",
       "2    4.0  \\r\\n                             \\r\\n         ...       CCMN   \n",
       "3    7.0  \\r\\n                             \\r\\n         ...  Phòng trọ   \n",
       "4  999.0  \\r\\n                             \\r\\n         ...  Phòng trọ   \n",
       "5    3.8  \\r\\n                             \\r\\n         ...       CCMN   \n",
       "6    3.2  \\r\\n                             \\r\\n         ...       CCMN   \n",
       "7    2.0  \\r\\n                             \\r\\n         ...  Phòng trọ   \n",
       "8    3.0  \\r\\n                             \\r\\n         ...       CCMN   \n",
       "9    2.5  \\r\\n                             \\r\\n         ...  Phòng trọ   \n",
       "\n",
       "                                            Location  Size  Parking_slot  \\\n",
       "0  Đường Phạm Hùng, Phường Mỹ Đình 1, Nam Từ Liêm...    28             0   \n",
       "1  Đường Dương Văn Bé, Phường Vĩnh Tuy, Hai Bà T...    30             1   \n",
       "2  Đường Phạm Hùng, Phường Trung Hòa, Cầu Giấy, H...    32             0   \n",
       "3      đường Võng Thị, Phường Bưởi, Tây Hồ, Hà Nội    50             1   \n",
       "4     Đường Ao Sen, Phường Mỗ Lao, Hà Đông, Hà Nội    36             0   \n",
       "5  Đường Đồng Me, Phường Mễ Trì, Nam Từ Liêm, Hà...    36             1   \n",
       "6  Đường Đồng Me, Phường Mễ Trì, Nam Từ Liêm, Hà...    38             0   \n",
       "7    Đường Lạc Thị, Xã Ngọc Hồi, Thanh Trì, Hà Nội    35             1   \n",
       "8              Phường Việt Hưng, Long Biên, Hà Nội    38             1   \n",
       "9  Ngõ 40/60/11 số nhà 9,Phố Tạ Quang Bửu, Phường...    24             0   \n",
       "\n",
       "   Air_condition  \n",
       "0              1  \n",
       "1              0  \n",
       "2              1  \n",
       "3              0  \n",
       "4              1  \n",
       "5              0  \n",
       "6              0  \n",
       "7              0  \n",
       "8              1  \n",
       "9              0  "
      ],
      "text/html": "<div>\n<style scoped>\n    .dataframe tbody tr th:only-of-type {\n        vertical-align: middle;\n    }\n\n    .dataframe tbody tr th {\n        vertical-align: top;\n    }\n\n    .dataframe thead th {\n        text-align: right;\n    }\n</style>\n<table border=\"1\" class=\"dataframe\">\n  <thead>\n    <tr style=\"text-align: right;\">\n      <th></th>\n      <th>Price</th>\n      <th>Description</th>\n      <th>Kind</th>\n      <th>Location</th>\n      <th>Size</th>\n      <th>Parking_slot</th>\n      <th>Air_condition</th>\n    </tr>\n  </thead>\n  <tbody>\n    <tr>\n      <th>0</th>\n      <td>3.7</td>\n      <td>\\r\\n                             \\r\\n         ...</td>\n      <td>CCMN</td>\n      <td>Đường Phạm Hùng, Phường Mỹ Đình 1, Nam Từ Liêm...</td>\n      <td>28</td>\n      <td>0</td>\n      <td>1</td>\n    </tr>\n    <tr>\n      <th>1</th>\n      <td>3.0</td>\n      <td>\\r\\n                             \\r\\n         ...</td>\n      <td>Phòng trọ</td>\n      <td>Đường Dương Văn Bé, Phường Vĩnh Tuy, Hai Bà T...</td>\n      <td>30</td>\n      <td>1</td>\n      <td>0</td>\n    </tr>\n    <tr>\n      <th>2</th>\n      <td>4.0</td>\n      <td>\\r\\n                             \\r\\n         ...</td>\n      <td>CCMN</td>\n      <td>Đường Phạm Hùng, Phường Trung Hòa, Cầu Giấy, H...</td>\n      <td>32</td>\n      <td>0</td>\n      <td>1</td>\n    </tr>\n    <tr>\n      <th>3</th>\n      <td>7.0</td>\n      <td>\\r\\n                             \\r\\n         ...</td>\n      <td>Phòng trọ</td>\n      <td>đường Võng Thị, Phường Bưởi, Tây Hồ, Hà Nội</td>\n      <td>50</td>\n      <td>1</td>\n      <td>0</td>\n    </tr>\n    <tr>\n      <th>4</th>\n      <td>999.0</td>\n      <td>\\r\\n                             \\r\\n         ...</td>\n      <td>Phòng trọ</td>\n      <td>Đường Ao Sen, Phường Mỗ Lao, Hà Đông, Hà Nội</td>\n      <td>36</td>\n      <td>0</td>\n      <td>1</td>\n    </tr>\n    <tr>\n      <th>5</th>\n      <td>3.8</td>\n      <td>\\r\\n                             \\r\\n         ...</td>\n      <td>CCMN</td>\n      <td>Đường Đồng Me, Phường Mễ Trì, Nam Từ Liêm, Hà...</td>\n      <td>36</td>\n      <td>1</td>\n      <td>0</td>\n    </tr>\n    <tr>\n      <th>6</th>\n      <td>3.2</td>\n      <td>\\r\\n                             \\r\\n         ...</td>\n      <td>CCMN</td>\n      <td>Đường Đồng Me, Phường Mễ Trì, Nam Từ Liêm, Hà...</td>\n      <td>38</td>\n      <td>0</td>\n      <td>0</td>\n    </tr>\n    <tr>\n      <th>7</th>\n      <td>2.0</td>\n      <td>\\r\\n                             \\r\\n         ...</td>\n      <td>Phòng trọ</td>\n      <td>Đường Lạc Thị, Xã Ngọc Hồi, Thanh Trì, Hà Nội</td>\n      <td>35</td>\n      <td>1</td>\n      <td>0</td>\n    </tr>\n    <tr>\n      <th>8</th>\n      <td>3.0</td>\n      <td>\\r\\n                             \\r\\n         ...</td>\n      <td>CCMN</td>\n      <td>Phường Việt Hưng, Long Biên, Hà Nội</td>\n      <td>38</td>\n      <td>1</td>\n      <td>1</td>\n    </tr>\n    <tr>\n      <th>9</th>\n      <td>2.5</td>\n      <td>\\r\\n                             \\r\\n         ...</td>\n      <td>Phòng trọ</td>\n      <td>Ngõ 40/60/11 số nhà 9,Phố Tạ Quang Bửu, Phường...</td>\n      <td>24</td>\n      <td>0</td>\n      <td>0</td>\n    </tr>\n  </tbody>\n</table>\n</div>"
     },
     "metadata": {},
     "execution_count": 10
    }
   ],
   "source": [
    "a = []\n",
    "pattern = '[Đđ]iều hòa'\n",
    "for d in des:\n",
    "    result = re.findall(pattern, d)\n",
    "    if result:\n",
    "        a.append(1)\n",
    "    else:\n",
    "        a.append(0)\n",
    "\n",
    "data['Air_condition'] = pd.Series(np.array(a), index=df.index)\n",
    "data.head(10)"
   ]
  },
  {
   "cell_type": "code",
   "execution_count": 11,
   "metadata": {},
   "outputs": [
    {
     "output_type": "execute_result",
     "data": {
      "text/plain": [
       "   Price                                        Description       Kind  \\\n",
       "0    3.7  \\r\\n                             \\r\\n         ...       CCMN   \n",
       "1    3.0  \\r\\n                             \\r\\n         ...  Phòng trọ   \n",
       "2    4.0  \\r\\n                             \\r\\n         ...       CCMN   \n",
       "3    7.0  \\r\\n                             \\r\\n         ...  Phòng trọ   \n",
       "4  999.0  \\r\\n                             \\r\\n         ...  Phòng trọ   \n",
       "5    3.8  \\r\\n                             \\r\\n         ...       CCMN   \n",
       "6    3.2  \\r\\n                             \\r\\n         ...       CCMN   \n",
       "7    2.0  \\r\\n                             \\r\\n         ...  Phòng trọ   \n",
       "8    3.0  \\r\\n                             \\r\\n         ...       CCMN   \n",
       "9    2.5  \\r\\n                             \\r\\n         ...  Phòng trọ   \n",
       "\n",
       "                                            Location  Size  Parking_slot  \\\n",
       "0  Đường Phạm Hùng, Phường Mỹ Đình 1, Nam Từ Liêm...    28             0   \n",
       "1  Đường Dương Văn Bé, Phường Vĩnh Tuy, Hai Bà T...    30             1   \n",
       "2  Đường Phạm Hùng, Phường Trung Hòa, Cầu Giấy, H...    32             0   \n",
       "3      đường Võng Thị, Phường Bưởi, Tây Hồ, Hà Nội    50             1   \n",
       "4     Đường Ao Sen, Phường Mỗ Lao, Hà Đông, Hà Nội    36             0   \n",
       "5  Đường Đồng Me, Phường Mễ Trì, Nam Từ Liêm, Hà...    36             1   \n",
       "6  Đường Đồng Me, Phường Mễ Trì, Nam Từ Liêm, Hà...    38             0   \n",
       "7    Đường Lạc Thị, Xã Ngọc Hồi, Thanh Trì, Hà Nội    35             1   \n",
       "8              Phường Việt Hưng, Long Biên, Hà Nội    38             1   \n",
       "9  Ngõ 40/60/11 số nhà 9,Phố Tạ Quang Bửu, Phường...    24             0   \n",
       "\n",
       "   Air_condition  Heater_shower  \n",
       "0              1              1  \n",
       "1              0              1  \n",
       "2              1              1  \n",
       "3              0              1  \n",
       "4              1              1  \n",
       "5              0              0  \n",
       "6              0              0  \n",
       "7              0              0  \n",
       "8              1              1  \n",
       "9              0              1  "
      ],
      "text/html": "<div>\n<style scoped>\n    .dataframe tbody tr th:only-of-type {\n        vertical-align: middle;\n    }\n\n    .dataframe tbody tr th {\n        vertical-align: top;\n    }\n\n    .dataframe thead th {\n        text-align: right;\n    }\n</style>\n<table border=\"1\" class=\"dataframe\">\n  <thead>\n    <tr style=\"text-align: right;\">\n      <th></th>\n      <th>Price</th>\n      <th>Description</th>\n      <th>Kind</th>\n      <th>Location</th>\n      <th>Size</th>\n      <th>Parking_slot</th>\n      <th>Air_condition</th>\n      <th>Heater_shower</th>\n    </tr>\n  </thead>\n  <tbody>\n    <tr>\n      <th>0</th>\n      <td>3.7</td>\n      <td>\\r\\n                             \\r\\n         ...</td>\n      <td>CCMN</td>\n      <td>Đường Phạm Hùng, Phường Mỹ Đình 1, Nam Từ Liêm...</td>\n      <td>28</td>\n      <td>0</td>\n      <td>1</td>\n      <td>1</td>\n    </tr>\n    <tr>\n      <th>1</th>\n      <td>3.0</td>\n      <td>\\r\\n                             \\r\\n         ...</td>\n      <td>Phòng trọ</td>\n      <td>Đường Dương Văn Bé, Phường Vĩnh Tuy, Hai Bà T...</td>\n      <td>30</td>\n      <td>1</td>\n      <td>0</td>\n      <td>1</td>\n    </tr>\n    <tr>\n      <th>2</th>\n      <td>4.0</td>\n      <td>\\r\\n                             \\r\\n         ...</td>\n      <td>CCMN</td>\n      <td>Đường Phạm Hùng, Phường Trung Hòa, Cầu Giấy, H...</td>\n      <td>32</td>\n      <td>0</td>\n      <td>1</td>\n      <td>1</td>\n    </tr>\n    <tr>\n      <th>3</th>\n      <td>7.0</td>\n      <td>\\r\\n                             \\r\\n         ...</td>\n      <td>Phòng trọ</td>\n      <td>đường Võng Thị, Phường Bưởi, Tây Hồ, Hà Nội</td>\n      <td>50</td>\n      <td>1</td>\n      <td>0</td>\n      <td>1</td>\n    </tr>\n    <tr>\n      <th>4</th>\n      <td>999.0</td>\n      <td>\\r\\n                             \\r\\n         ...</td>\n      <td>Phòng trọ</td>\n      <td>Đường Ao Sen, Phường Mỗ Lao, Hà Đông, Hà Nội</td>\n      <td>36</td>\n      <td>0</td>\n      <td>1</td>\n      <td>1</td>\n    </tr>\n    <tr>\n      <th>5</th>\n      <td>3.8</td>\n      <td>\\r\\n                             \\r\\n         ...</td>\n      <td>CCMN</td>\n      <td>Đường Đồng Me, Phường Mễ Trì, Nam Từ Liêm, Hà...</td>\n      <td>36</td>\n      <td>1</td>\n      <td>0</td>\n      <td>0</td>\n    </tr>\n    <tr>\n      <th>6</th>\n      <td>3.2</td>\n      <td>\\r\\n                             \\r\\n         ...</td>\n      <td>CCMN</td>\n      <td>Đường Đồng Me, Phường Mễ Trì, Nam Từ Liêm, Hà...</td>\n      <td>38</td>\n      <td>0</td>\n      <td>0</td>\n      <td>0</td>\n    </tr>\n    <tr>\n      <th>7</th>\n      <td>2.0</td>\n      <td>\\r\\n                             \\r\\n         ...</td>\n      <td>Phòng trọ</td>\n      <td>Đường Lạc Thị, Xã Ngọc Hồi, Thanh Trì, Hà Nội</td>\n      <td>35</td>\n      <td>1</td>\n      <td>0</td>\n      <td>0</td>\n    </tr>\n    <tr>\n      <th>8</th>\n      <td>3.0</td>\n      <td>\\r\\n                             \\r\\n         ...</td>\n      <td>CCMN</td>\n      <td>Phường Việt Hưng, Long Biên, Hà Nội</td>\n      <td>38</td>\n      <td>1</td>\n      <td>1</td>\n      <td>1</td>\n    </tr>\n    <tr>\n      <th>9</th>\n      <td>2.5</td>\n      <td>\\r\\n                             \\r\\n         ...</td>\n      <td>Phòng trọ</td>\n      <td>Ngõ 40/60/11 số nhà 9,Phố Tạ Quang Bửu, Phường...</td>\n      <td>24</td>\n      <td>0</td>\n      <td>0</td>\n      <td>1</td>\n    </tr>\n  </tbody>\n</table>\n</div>"
     },
     "metadata": {},
     "execution_count": 11
    }
   ],
   "source": [
    "a = []\n",
    "pattern = '[Nn]óng lạnh'\n",
    "for d in des:\n",
    "    result = re.findall(pattern, d)\n",
    "    if result:\n",
    "        a.append(1)\n",
    "    else:\n",
    "        a.append(0)\n",
    "\n",
    "data['Heater_shower'] = pd.Series(np.array(a), index=df.index)\n",
    "data.head(10)"
   ]
  },
  {
   "cell_type": "code",
   "execution_count": 12,
   "metadata": {},
   "outputs": [
    {
     "output_type": "execute_result",
     "data": {
      "text/plain": [
       "   Price                                        Description       Kind  \\\n",
       "0    3.7  \\r\\n                             \\r\\n         ...       CCMN   \n",
       "1    3.0  \\r\\n                             \\r\\n         ...  Phòng trọ   \n",
       "2    4.0  \\r\\n                             \\r\\n         ...       CCMN   \n",
       "3    7.0  \\r\\n                             \\r\\n         ...  Phòng trọ   \n",
       "4  999.0  \\r\\n                             \\r\\n         ...  Phòng trọ   \n",
       "5    3.8  \\r\\n                             \\r\\n         ...       CCMN   \n",
       "6    3.2  \\r\\n                             \\r\\n         ...       CCMN   \n",
       "7    2.0  \\r\\n                             \\r\\n         ...  Phòng trọ   \n",
       "8    3.0  \\r\\n                             \\r\\n         ...       CCMN   \n",
       "9    2.5  \\r\\n                             \\r\\n         ...  Phòng trọ   \n",
       "\n",
       "                                            Location  Size  Parking_slot  \\\n",
       "0  Đường Phạm Hùng, Phường Mỹ Đình 1, Nam Từ Liêm...    28             0   \n",
       "1  Đường Dương Văn Bé, Phường Vĩnh Tuy, Hai Bà T...    30             1   \n",
       "2  Đường Phạm Hùng, Phường Trung Hòa, Cầu Giấy, H...    32             0   \n",
       "3      đường Võng Thị, Phường Bưởi, Tây Hồ, Hà Nội    50             1   \n",
       "4     Đường Ao Sen, Phường Mỗ Lao, Hà Đông, Hà Nội    36             0   \n",
       "5  Đường Đồng Me, Phường Mễ Trì, Nam Từ Liêm, Hà...    36             1   \n",
       "6  Đường Đồng Me, Phường Mễ Trì, Nam Từ Liêm, Hà...    38             0   \n",
       "7    Đường Lạc Thị, Xã Ngọc Hồi, Thanh Trì, Hà Nội    35             1   \n",
       "8              Phường Việt Hưng, Long Biên, Hà Nội    38             1   \n",
       "9  Ngõ 40/60/11 số nhà 9,Phố Tạ Quang Bửu, Phường...    24             0   \n",
       "\n",
       "   Air_condition  Heater_shower  Furnish  \n",
       "0              1              1        1  \n",
       "1              0              1        0  \n",
       "2              1              1        1  \n",
       "3              0              1        1  \n",
       "4              1              1        1  \n",
       "5              0              0        1  \n",
       "6              0              0        0  \n",
       "7              0              0        0  \n",
       "8              1              1        0  \n",
       "9              0              1        0  "
      ],
      "text/html": "<div>\n<style scoped>\n    .dataframe tbody tr th:only-of-type {\n        vertical-align: middle;\n    }\n\n    .dataframe tbody tr th {\n        vertical-align: top;\n    }\n\n    .dataframe thead th {\n        text-align: right;\n    }\n</style>\n<table border=\"1\" class=\"dataframe\">\n  <thead>\n    <tr style=\"text-align: right;\">\n      <th></th>\n      <th>Price</th>\n      <th>Description</th>\n      <th>Kind</th>\n      <th>Location</th>\n      <th>Size</th>\n      <th>Parking_slot</th>\n      <th>Air_condition</th>\n      <th>Heater_shower</th>\n      <th>Furnish</th>\n    </tr>\n  </thead>\n  <tbody>\n    <tr>\n      <th>0</th>\n      <td>3.7</td>\n      <td>\\r\\n                             \\r\\n         ...</td>\n      <td>CCMN</td>\n      <td>Đường Phạm Hùng, Phường Mỹ Đình 1, Nam Từ Liêm...</td>\n      <td>28</td>\n      <td>0</td>\n      <td>1</td>\n      <td>1</td>\n      <td>1</td>\n    </tr>\n    <tr>\n      <th>1</th>\n      <td>3.0</td>\n      <td>\\r\\n                             \\r\\n         ...</td>\n      <td>Phòng trọ</td>\n      <td>Đường Dương Văn Bé, Phường Vĩnh Tuy, Hai Bà T...</td>\n      <td>30</td>\n      <td>1</td>\n      <td>0</td>\n      <td>1</td>\n      <td>0</td>\n    </tr>\n    <tr>\n      <th>2</th>\n      <td>4.0</td>\n      <td>\\r\\n                             \\r\\n         ...</td>\n      <td>CCMN</td>\n      <td>Đường Phạm Hùng, Phường Trung Hòa, Cầu Giấy, H...</td>\n      <td>32</td>\n      <td>0</td>\n      <td>1</td>\n      <td>1</td>\n      <td>1</td>\n    </tr>\n    <tr>\n      <th>3</th>\n      <td>7.0</td>\n      <td>\\r\\n                             \\r\\n         ...</td>\n      <td>Phòng trọ</td>\n      <td>đường Võng Thị, Phường Bưởi, Tây Hồ, Hà Nội</td>\n      <td>50</td>\n      <td>1</td>\n      <td>0</td>\n      <td>1</td>\n      <td>1</td>\n    </tr>\n    <tr>\n      <th>4</th>\n      <td>999.0</td>\n      <td>\\r\\n                             \\r\\n         ...</td>\n      <td>Phòng trọ</td>\n      <td>Đường Ao Sen, Phường Mỗ Lao, Hà Đông, Hà Nội</td>\n      <td>36</td>\n      <td>0</td>\n      <td>1</td>\n      <td>1</td>\n      <td>1</td>\n    </tr>\n    <tr>\n      <th>5</th>\n      <td>3.8</td>\n      <td>\\r\\n                             \\r\\n         ...</td>\n      <td>CCMN</td>\n      <td>Đường Đồng Me, Phường Mễ Trì, Nam Từ Liêm, Hà...</td>\n      <td>36</td>\n      <td>1</td>\n      <td>0</td>\n      <td>0</td>\n      <td>1</td>\n    </tr>\n    <tr>\n      <th>6</th>\n      <td>3.2</td>\n      <td>\\r\\n                             \\r\\n         ...</td>\n      <td>CCMN</td>\n      <td>Đường Đồng Me, Phường Mễ Trì, Nam Từ Liêm, Hà...</td>\n      <td>38</td>\n      <td>0</td>\n      <td>0</td>\n      <td>0</td>\n      <td>0</td>\n    </tr>\n    <tr>\n      <th>7</th>\n      <td>2.0</td>\n      <td>\\r\\n                             \\r\\n         ...</td>\n      <td>Phòng trọ</td>\n      <td>Đường Lạc Thị, Xã Ngọc Hồi, Thanh Trì, Hà Nội</td>\n      <td>35</td>\n      <td>1</td>\n      <td>0</td>\n      <td>0</td>\n      <td>0</td>\n    </tr>\n    <tr>\n      <th>8</th>\n      <td>3.0</td>\n      <td>\\r\\n                             \\r\\n         ...</td>\n      <td>CCMN</td>\n      <td>Phường Việt Hưng, Long Biên, Hà Nội</td>\n      <td>38</td>\n      <td>1</td>\n      <td>1</td>\n      <td>1</td>\n      <td>0</td>\n    </tr>\n    <tr>\n      <th>9</th>\n      <td>2.5</td>\n      <td>\\r\\n                             \\r\\n         ...</td>\n      <td>Phòng trọ</td>\n      <td>Ngõ 40/60/11 số nhà 9,Phố Tạ Quang Bửu, Phường...</td>\n      <td>24</td>\n      <td>0</td>\n      <td>0</td>\n      <td>1</td>\n      <td>0</td>\n    </tr>\n  </tbody>\n</table>\n</div>"
     },
     "metadata": {},
     "execution_count": 12
    }
   ],
   "source": [
    "a = []\n",
    "pattern = '([Tt]ủ|[Ff]ull đồ|tivi|nội thất đầy đủ)'\n",
    "for d in des:\n",
    "    result = re.findall(pattern, d)\n",
    "    if result:\n",
    "        a.append(1)\n",
    "    else:\n",
    "        a.append(0)\n",
    "\n",
    "data['Furnish'] = pd.Series(np.array(a), index=df.index)\n",
    "data.head(10)"
   ]
  },
  {
   "cell_type": "code",
   "execution_count": 13,
   "metadata": {},
   "outputs": [
    {
     "output_type": "execute_result",
     "data": {
      "text/plain": [
       "   Price                                        Description       Kind  \\\n",
       "0    3.7  \\r\\n                             \\r\\n         ...       CCMN   \n",
       "1    3.0  \\r\\n                             \\r\\n         ...  Phòng trọ   \n",
       "2    4.0  \\r\\n                             \\r\\n         ...       CCMN   \n",
       "3    7.0  \\r\\n                             \\r\\n         ...  Phòng trọ   \n",
       "4  999.0  \\r\\n                             \\r\\n         ...  Phòng trọ   \n",
       "5    3.8  \\r\\n                             \\r\\n         ...       CCMN   \n",
       "6    3.2  \\r\\n                             \\r\\n         ...       CCMN   \n",
       "7    2.0  \\r\\n                             \\r\\n         ...  Phòng trọ   \n",
       "8    3.0  \\r\\n                             \\r\\n         ...       CCMN   \n",
       "9    2.5  \\r\\n                             \\r\\n         ...  Phòng trọ   \n",
       "\n",
       "                                            Location  Size  Parking_slot  \\\n",
       "0  Đường Phạm Hùng, Phường Mỹ Đình 1, Nam Từ Liêm...    28             0   \n",
       "1  Đường Dương Văn Bé, Phường Vĩnh Tuy, Hai Bà T...    30             1   \n",
       "2  Đường Phạm Hùng, Phường Trung Hòa, Cầu Giấy, H...    32             0   \n",
       "3      đường Võng Thị, Phường Bưởi, Tây Hồ, Hà Nội    50             1   \n",
       "4     Đường Ao Sen, Phường Mỗ Lao, Hà Đông, Hà Nội    36             0   \n",
       "5  Đường Đồng Me, Phường Mễ Trì, Nam Từ Liêm, Hà...    36             1   \n",
       "6  Đường Đồng Me, Phường Mễ Trì, Nam Từ Liêm, Hà...    38             0   \n",
       "7    Đường Lạc Thị, Xã Ngọc Hồi, Thanh Trì, Hà Nội    35             1   \n",
       "8              Phường Việt Hưng, Long Biên, Hà Nội    38             1   \n",
       "9  Ngõ 40/60/11 số nhà 9,Phố Tạ Quang Bửu, Phường...    24             0   \n",
       "\n",
       "   Air_condition  Heater_shower  Furnish  Inner_toilet  \n",
       "0              1              1        1             1  \n",
       "1              0              1        0             1  \n",
       "2              1              1        1             0  \n",
       "3              0              1        1             0  \n",
       "4              1              1        1             1  \n",
       "5              0              0        1             0  \n",
       "6              0              0        0             0  \n",
       "7              0              0        0             1  \n",
       "8              1              1        0             0  \n",
       "9              0              1        0             0  "
      ],
      "text/html": "<div>\n<style scoped>\n    .dataframe tbody tr th:only-of-type {\n        vertical-align: middle;\n    }\n\n    .dataframe tbody tr th {\n        vertical-align: top;\n    }\n\n    .dataframe thead th {\n        text-align: right;\n    }\n</style>\n<table border=\"1\" class=\"dataframe\">\n  <thead>\n    <tr style=\"text-align: right;\">\n      <th></th>\n      <th>Price</th>\n      <th>Description</th>\n      <th>Kind</th>\n      <th>Location</th>\n      <th>Size</th>\n      <th>Parking_slot</th>\n      <th>Air_condition</th>\n      <th>Heater_shower</th>\n      <th>Furnish</th>\n      <th>Inner_toilet</th>\n    </tr>\n  </thead>\n  <tbody>\n    <tr>\n      <th>0</th>\n      <td>3.7</td>\n      <td>\\r\\n                             \\r\\n         ...</td>\n      <td>CCMN</td>\n      <td>Đường Phạm Hùng, Phường Mỹ Đình 1, Nam Từ Liêm...</td>\n      <td>28</td>\n      <td>0</td>\n      <td>1</td>\n      <td>1</td>\n      <td>1</td>\n      <td>1</td>\n    </tr>\n    <tr>\n      <th>1</th>\n      <td>3.0</td>\n      <td>\\r\\n                             \\r\\n         ...</td>\n      <td>Phòng trọ</td>\n      <td>Đường Dương Văn Bé, Phường Vĩnh Tuy, Hai Bà T...</td>\n      <td>30</td>\n      <td>1</td>\n      <td>0</td>\n      <td>1</td>\n      <td>0</td>\n      <td>1</td>\n    </tr>\n    <tr>\n      <th>2</th>\n      <td>4.0</td>\n      <td>\\r\\n                             \\r\\n         ...</td>\n      <td>CCMN</td>\n      <td>Đường Phạm Hùng, Phường Trung Hòa, Cầu Giấy, H...</td>\n      <td>32</td>\n      <td>0</td>\n      <td>1</td>\n      <td>1</td>\n      <td>1</td>\n      <td>0</td>\n    </tr>\n    <tr>\n      <th>3</th>\n      <td>7.0</td>\n      <td>\\r\\n                             \\r\\n         ...</td>\n      <td>Phòng trọ</td>\n      <td>đường Võng Thị, Phường Bưởi, Tây Hồ, Hà Nội</td>\n      <td>50</td>\n      <td>1</td>\n      <td>0</td>\n      <td>1</td>\n      <td>1</td>\n      <td>0</td>\n    </tr>\n    <tr>\n      <th>4</th>\n      <td>999.0</td>\n      <td>\\r\\n                             \\r\\n         ...</td>\n      <td>Phòng trọ</td>\n      <td>Đường Ao Sen, Phường Mỗ Lao, Hà Đông, Hà Nội</td>\n      <td>36</td>\n      <td>0</td>\n      <td>1</td>\n      <td>1</td>\n      <td>1</td>\n      <td>1</td>\n    </tr>\n    <tr>\n      <th>5</th>\n      <td>3.8</td>\n      <td>\\r\\n                             \\r\\n         ...</td>\n      <td>CCMN</td>\n      <td>Đường Đồng Me, Phường Mễ Trì, Nam Từ Liêm, Hà...</td>\n      <td>36</td>\n      <td>1</td>\n      <td>0</td>\n      <td>0</td>\n      <td>1</td>\n      <td>0</td>\n    </tr>\n    <tr>\n      <th>6</th>\n      <td>3.2</td>\n      <td>\\r\\n                             \\r\\n         ...</td>\n      <td>CCMN</td>\n      <td>Đường Đồng Me, Phường Mễ Trì, Nam Từ Liêm, Hà...</td>\n      <td>38</td>\n      <td>0</td>\n      <td>0</td>\n      <td>0</td>\n      <td>0</td>\n      <td>0</td>\n    </tr>\n    <tr>\n      <th>7</th>\n      <td>2.0</td>\n      <td>\\r\\n                             \\r\\n         ...</td>\n      <td>Phòng trọ</td>\n      <td>Đường Lạc Thị, Xã Ngọc Hồi, Thanh Trì, Hà Nội</td>\n      <td>35</td>\n      <td>1</td>\n      <td>0</td>\n      <td>0</td>\n      <td>0</td>\n      <td>1</td>\n    </tr>\n    <tr>\n      <th>8</th>\n      <td>3.0</td>\n      <td>\\r\\n                             \\r\\n         ...</td>\n      <td>CCMN</td>\n      <td>Phường Việt Hưng, Long Biên, Hà Nội</td>\n      <td>38</td>\n      <td>1</td>\n      <td>1</td>\n      <td>1</td>\n      <td>0</td>\n      <td>0</td>\n    </tr>\n    <tr>\n      <th>9</th>\n      <td>2.5</td>\n      <td>\\r\\n                             \\r\\n         ...</td>\n      <td>Phòng trọ</td>\n      <td>Ngõ 40/60/11 số nhà 9,Phố Tạ Quang Bửu, Phường...</td>\n      <td>24</td>\n      <td>0</td>\n      <td>0</td>\n      <td>1</td>\n      <td>0</td>\n      <td>0</td>\n    </tr>\n  </tbody>\n</table>\n</div>"
     },
     "metadata": {},
     "execution_count": 13
    }
   ],
   "source": [
    "a = []\n",
    "pattern = 'khép kín'\n",
    "for d in des:\n",
    "    result = re.findall(pattern, d)\n",
    "    if result:\n",
    "        a.append(1)\n",
    "    else:\n",
    "        a.append(0)\n",
    "\n",
    "data['Inner_toilet'] = pd.Series(np.array(a), index=df.index)\n",
    "data.head(10)"
   ]
  },
  {
   "cell_type": "code",
   "execution_count": 14,
   "metadata": {},
   "outputs": [
    {
     "output_type": "execute_result",
     "data": {
      "text/plain": [
       "   Price                                        Description       Kind  \\\n",
       "0    3.7  \\r\\n                             \\r\\n         ...       CCMN   \n",
       "1    3.0  \\r\\n                             \\r\\n         ...  Phòng trọ   \n",
       "2    4.0  \\r\\n                             \\r\\n         ...       CCMN   \n",
       "3    7.0  \\r\\n                             \\r\\n         ...  Phòng trọ   \n",
       "4  999.0  \\r\\n                             \\r\\n         ...  Phòng trọ   \n",
       "5    3.8  \\r\\n                             \\r\\n         ...       CCMN   \n",
       "6    3.2  \\r\\n                             \\r\\n         ...       CCMN   \n",
       "7    2.0  \\r\\n                             \\r\\n         ...  Phòng trọ   \n",
       "8    3.0  \\r\\n                             \\r\\n         ...       CCMN   \n",
       "9    2.5  \\r\\n                             \\r\\n         ...  Phòng trọ   \n",
       "\n",
       "                                            Location  Size  Parking_slot  \\\n",
       "0  Đường Phạm Hùng, Phường Mỹ Đình 1, Nam Từ Liêm...    28             0   \n",
       "1  Đường Dương Văn Bé, Phường Vĩnh Tuy, Hai Bà T...    30             1   \n",
       "2  Đường Phạm Hùng, Phường Trung Hòa, Cầu Giấy, H...    32             0   \n",
       "3      đường Võng Thị, Phường Bưởi, Tây Hồ, Hà Nội    50             1   \n",
       "4     Đường Ao Sen, Phường Mỗ Lao, Hà Đông, Hà Nội    36             0   \n",
       "5  Đường Đồng Me, Phường Mễ Trì, Nam Từ Liêm, Hà...    36             1   \n",
       "6  Đường Đồng Me, Phường Mễ Trì, Nam Từ Liêm, Hà...    38             0   \n",
       "7    Đường Lạc Thị, Xã Ngọc Hồi, Thanh Trì, Hà Nội    35             1   \n",
       "8              Phường Việt Hưng, Long Biên, Hà Nội    38             1   \n",
       "9  Ngõ 40/60/11 số nhà 9,Phố Tạ Quang Bửu, Phường...    24             0   \n",
       "\n",
       "   Air_condition  Heater_shower  Furnish  Inner_toilet  Size_total_bool  \n",
       "0              1              1        1             1                0  \n",
       "1              0              1        0             1                0  \n",
       "2              1              1        1             0                0  \n",
       "3              0              1        1             0                0  \n",
       "4              1              1        1             1                0  \n",
       "5              0              0        1             0                0  \n",
       "6              0              0        0             0                0  \n",
       "7              0              0        0             1                0  \n",
       "8              1              1        0             0                0  \n",
       "9              0              1        0             0                0  "
      ],
      "text/html": "<div>\n<style scoped>\n    .dataframe tbody tr th:only-of-type {\n        vertical-align: middle;\n    }\n\n    .dataframe tbody tr th {\n        vertical-align: top;\n    }\n\n    .dataframe thead th {\n        text-align: right;\n    }\n</style>\n<table border=\"1\" class=\"dataframe\">\n  <thead>\n    <tr style=\"text-align: right;\">\n      <th></th>\n      <th>Price</th>\n      <th>Description</th>\n      <th>Kind</th>\n      <th>Location</th>\n      <th>Size</th>\n      <th>Parking_slot</th>\n      <th>Air_condition</th>\n      <th>Heater_shower</th>\n      <th>Furnish</th>\n      <th>Inner_toilet</th>\n      <th>Size_total_bool</th>\n    </tr>\n  </thead>\n  <tbody>\n    <tr>\n      <th>0</th>\n      <td>3.7</td>\n      <td>\\r\\n                             \\r\\n         ...</td>\n      <td>CCMN</td>\n      <td>Đường Phạm Hùng, Phường Mỹ Đình 1, Nam Từ Liêm...</td>\n      <td>28</td>\n      <td>0</td>\n      <td>1</td>\n      <td>1</td>\n      <td>1</td>\n      <td>1</td>\n      <td>0</td>\n    </tr>\n    <tr>\n      <th>1</th>\n      <td>3.0</td>\n      <td>\\r\\n                             \\r\\n         ...</td>\n      <td>Phòng trọ</td>\n      <td>Đường Dương Văn Bé, Phường Vĩnh Tuy, Hai Bà T...</td>\n      <td>30</td>\n      <td>1</td>\n      <td>0</td>\n      <td>1</td>\n      <td>0</td>\n      <td>1</td>\n      <td>0</td>\n    </tr>\n    <tr>\n      <th>2</th>\n      <td>4.0</td>\n      <td>\\r\\n                             \\r\\n         ...</td>\n      <td>CCMN</td>\n      <td>Đường Phạm Hùng, Phường Trung Hòa, Cầu Giấy, H...</td>\n      <td>32</td>\n      <td>0</td>\n      <td>1</td>\n      <td>1</td>\n      <td>1</td>\n      <td>0</td>\n      <td>0</td>\n    </tr>\n    <tr>\n      <th>3</th>\n      <td>7.0</td>\n      <td>\\r\\n                             \\r\\n         ...</td>\n      <td>Phòng trọ</td>\n      <td>đường Võng Thị, Phường Bưởi, Tây Hồ, Hà Nội</td>\n      <td>50</td>\n      <td>1</td>\n      <td>0</td>\n      <td>1</td>\n      <td>1</td>\n      <td>0</td>\n      <td>0</td>\n    </tr>\n    <tr>\n      <th>4</th>\n      <td>999.0</td>\n      <td>\\r\\n                             \\r\\n         ...</td>\n      <td>Phòng trọ</td>\n      <td>Đường Ao Sen, Phường Mỗ Lao, Hà Đông, Hà Nội</td>\n      <td>36</td>\n      <td>0</td>\n      <td>1</td>\n      <td>1</td>\n      <td>1</td>\n      <td>1</td>\n      <td>0</td>\n    </tr>\n    <tr>\n      <th>5</th>\n      <td>3.8</td>\n      <td>\\r\\n                             \\r\\n         ...</td>\n      <td>CCMN</td>\n      <td>Đường Đồng Me, Phường Mễ Trì, Nam Từ Liêm, Hà...</td>\n      <td>36</td>\n      <td>1</td>\n      <td>0</td>\n      <td>0</td>\n      <td>1</td>\n      <td>0</td>\n      <td>0</td>\n    </tr>\n    <tr>\n      <th>6</th>\n      <td>3.2</td>\n      <td>\\r\\n                             \\r\\n         ...</td>\n      <td>CCMN</td>\n      <td>Đường Đồng Me, Phường Mễ Trì, Nam Từ Liêm, Hà...</td>\n      <td>38</td>\n      <td>0</td>\n      <td>0</td>\n      <td>0</td>\n      <td>0</td>\n      <td>0</td>\n      <td>0</td>\n    </tr>\n    <tr>\n      <th>7</th>\n      <td>2.0</td>\n      <td>\\r\\n                             \\r\\n         ...</td>\n      <td>Phòng trọ</td>\n      <td>Đường Lạc Thị, Xã Ngọc Hồi, Thanh Trì, Hà Nội</td>\n      <td>35</td>\n      <td>1</td>\n      <td>0</td>\n      <td>0</td>\n      <td>0</td>\n      <td>1</td>\n      <td>0</td>\n    </tr>\n    <tr>\n      <th>8</th>\n      <td>3.0</td>\n      <td>\\r\\n                             \\r\\n         ...</td>\n      <td>CCMN</td>\n      <td>Phường Việt Hưng, Long Biên, Hà Nội</td>\n      <td>38</td>\n      <td>1</td>\n      <td>1</td>\n      <td>1</td>\n      <td>0</td>\n      <td>0</td>\n      <td>0</td>\n    </tr>\n    <tr>\n      <th>9</th>\n      <td>2.5</td>\n      <td>\\r\\n                             \\r\\n         ...</td>\n      <td>Phòng trọ</td>\n      <td>Ngõ 40/60/11 số nhà 9,Phố Tạ Quang Bửu, Phường...</td>\n      <td>24</td>\n      <td>0</td>\n      <td>0</td>\n      <td>1</td>\n      <td>0</td>\n      <td>0</td>\n      <td>0</td>\n    </tr>\n  </tbody>\n</table>\n</div>"
     },
     "metadata": {},
     "execution_count": 14
    }
   ],
   "source": [
    "a = []\n",
    "pattern = '[Tt]ổng diện tích'\n",
    "for d in des:\n",
    "    result = re.findall(pattern, d)\n",
    "    if result:\n",
    "        a.append(1)\n",
    "    else:\n",
    "        a.append(0)\n",
    "\n",
    "data['Size_total_bool'] = pd.Series(np.array(a), index=df.index)\n",
    "data.head(10)"
   ]
  },
  {
   "cell_type": "code",
   "execution_count": 15,
   "metadata": {},
   "outputs": [
    {
     "output_type": "execute_result",
     "data": {
      "text/plain": [
       "       Price                                        Description       Kind  \\\n",
       "0        3.7  \\r\\n                             \\r\\n         ...       CCMN   \n",
       "1        3.0  \\r\\n                             \\r\\n         ...  Phòng trọ   \n",
       "2        4.0  \\r\\n                             \\r\\n         ...       CCMN   \n",
       "3        7.0  \\r\\n                             \\r\\n         ...  Phòng trọ   \n",
       "4      999.0  \\r\\n                             \\r\\n         ...  Phòng trọ   \n",
       "...      ...                                                ...        ...   \n",
       "3174     2.5  \\r\\n                             \\r\\n         ...  Phòng trọ   \n",
       "3175  1800.0  \\r\\n                             \\r\\n         ...       CCMN   \n",
       "3176     3.7  \\r\\n                             \\r\\n         ...  Phòng trọ   \n",
       "3177     5.5  \\r\\n                             \\r\\n         ...       CCMN   \n",
       "3178     1.3  \\r\\n                             \\r\\n         ...  Phòng trọ   \n",
       "\n",
       "                                               Location  Size  Parking_slot  \\\n",
       "0     Đường Phạm Hùng, Phường Mỹ Đình 1, Nam Từ Liêm...    28             0   \n",
       "1     Đường Dương Văn Bé, Phường Vĩnh Tuy, Hai Bà T...    30             1   \n",
       "2     Đường Phạm Hùng, Phường Trung Hòa, Cầu Giấy, H...    32             0   \n",
       "3         đường Võng Thị, Phường Bưởi, Tây Hồ, Hà Nội    50             1   \n",
       "4        Đường Ao Sen, Phường Mỗ Lao, Hà Đông, Hà Nội    36             0   \n",
       "...                                                 ...   ...           ...   \n",
       "3174  28 402/42/22 Đường Đình Thôn, Phường Mỹ Đình 1...    30             1   \n",
       "3175  Đường Giáp Nhị, Phường Thịnh Liệt, Hoàng Mai, ...    27             0   \n",
       "3176  Đường Lê Quang Đạo, Phường Phú Đô, Nam Từ Liêm...    30             0   \n",
       "3177  Ngõ 23 Đường Nguyễn Thị Định, Phường Trung Hòa...    35             0   \n",
       "3178                                Hoàng Mai, Hà Nội    10             1   \n",
       "\n",
       "      Air_condition  Heater_shower  Furnish  Inner_toilet  Size_total_bool  \\\n",
       "0                 1              1        1             1                0   \n",
       "1                 0              1        0             1                0   \n",
       "2                 1              1        1             0                0   \n",
       "3                 0              1        1             0                0   \n",
       "4                 1              1        1             1                0   \n",
       "...             ...            ...      ...           ...              ...   \n",
       "3174              0              1        0             0                0   \n",
       "3175              0              0        0             1                0   \n",
       "3176              1              1        1             1                0   \n",
       "3177              0              0        0             0                0   \n",
       "3178              0              1        0             0                0   \n",
       "\n",
       "            Source  \n",
       "0     thuephongtro  \n",
       "1     thuephongtro  \n",
       "2     thuephongtro  \n",
       "3     thuephongtro  \n",
       "4     thuephongtro  \n",
       "...            ...  \n",
       "3174  thuephongtro  \n",
       "3175  thuephongtro  \n",
       "3176  thuephongtro  \n",
       "3177  thuephongtro  \n",
       "3178  thuephongtro  \n",
       "\n",
       "[3179 rows x 12 columns]"
      ],
      "text/html": "<div>\n<style scoped>\n    .dataframe tbody tr th:only-of-type {\n        vertical-align: middle;\n    }\n\n    .dataframe tbody tr th {\n        vertical-align: top;\n    }\n\n    .dataframe thead th {\n        text-align: right;\n    }\n</style>\n<table border=\"1\" class=\"dataframe\">\n  <thead>\n    <tr style=\"text-align: right;\">\n      <th></th>\n      <th>Price</th>\n      <th>Description</th>\n      <th>Kind</th>\n      <th>Location</th>\n      <th>Size</th>\n      <th>Parking_slot</th>\n      <th>Air_condition</th>\n      <th>Heater_shower</th>\n      <th>Furnish</th>\n      <th>Inner_toilet</th>\n      <th>Size_total_bool</th>\n      <th>Source</th>\n    </tr>\n  </thead>\n  <tbody>\n    <tr>\n      <th>0</th>\n      <td>3.7</td>\n      <td>\\r\\n                             \\r\\n         ...</td>\n      <td>CCMN</td>\n      <td>Đường Phạm Hùng, Phường Mỹ Đình 1, Nam Từ Liêm...</td>\n      <td>28</td>\n      <td>0</td>\n      <td>1</td>\n      <td>1</td>\n      <td>1</td>\n      <td>1</td>\n      <td>0</td>\n      <td>thuephongtro</td>\n    </tr>\n    <tr>\n      <th>1</th>\n      <td>3.0</td>\n      <td>\\r\\n                             \\r\\n         ...</td>\n      <td>Phòng trọ</td>\n      <td>Đường Dương Văn Bé, Phường Vĩnh Tuy, Hai Bà T...</td>\n      <td>30</td>\n      <td>1</td>\n      <td>0</td>\n      <td>1</td>\n      <td>0</td>\n      <td>1</td>\n      <td>0</td>\n      <td>thuephongtro</td>\n    </tr>\n    <tr>\n      <th>2</th>\n      <td>4.0</td>\n      <td>\\r\\n                             \\r\\n         ...</td>\n      <td>CCMN</td>\n      <td>Đường Phạm Hùng, Phường Trung Hòa, Cầu Giấy, H...</td>\n      <td>32</td>\n      <td>0</td>\n      <td>1</td>\n      <td>1</td>\n      <td>1</td>\n      <td>0</td>\n      <td>0</td>\n      <td>thuephongtro</td>\n    </tr>\n    <tr>\n      <th>3</th>\n      <td>7.0</td>\n      <td>\\r\\n                             \\r\\n         ...</td>\n      <td>Phòng trọ</td>\n      <td>đường Võng Thị, Phường Bưởi, Tây Hồ, Hà Nội</td>\n      <td>50</td>\n      <td>1</td>\n      <td>0</td>\n      <td>1</td>\n      <td>1</td>\n      <td>0</td>\n      <td>0</td>\n      <td>thuephongtro</td>\n    </tr>\n    <tr>\n      <th>4</th>\n      <td>999.0</td>\n      <td>\\r\\n                             \\r\\n         ...</td>\n      <td>Phòng trọ</td>\n      <td>Đường Ao Sen, Phường Mỗ Lao, Hà Đông, Hà Nội</td>\n      <td>36</td>\n      <td>0</td>\n      <td>1</td>\n      <td>1</td>\n      <td>1</td>\n      <td>1</td>\n      <td>0</td>\n      <td>thuephongtro</td>\n    </tr>\n    <tr>\n      <th>...</th>\n      <td>...</td>\n      <td>...</td>\n      <td>...</td>\n      <td>...</td>\n      <td>...</td>\n      <td>...</td>\n      <td>...</td>\n      <td>...</td>\n      <td>...</td>\n      <td>...</td>\n      <td>...</td>\n      <td>...</td>\n    </tr>\n    <tr>\n      <th>3174</th>\n      <td>2.5</td>\n      <td>\\r\\n                             \\r\\n         ...</td>\n      <td>Phòng trọ</td>\n      <td>28 402/42/22 Đường Đình Thôn, Phường Mỹ Đình 1...</td>\n      <td>30</td>\n      <td>1</td>\n      <td>0</td>\n      <td>1</td>\n      <td>0</td>\n      <td>0</td>\n      <td>0</td>\n      <td>thuephongtro</td>\n    </tr>\n    <tr>\n      <th>3175</th>\n      <td>1800.0</td>\n      <td>\\r\\n                             \\r\\n         ...</td>\n      <td>CCMN</td>\n      <td>Đường Giáp Nhị, Phường Thịnh Liệt, Hoàng Mai, ...</td>\n      <td>27</td>\n      <td>0</td>\n      <td>0</td>\n      <td>0</td>\n      <td>0</td>\n      <td>1</td>\n      <td>0</td>\n      <td>thuephongtro</td>\n    </tr>\n    <tr>\n      <th>3176</th>\n      <td>3.7</td>\n      <td>\\r\\n                             \\r\\n         ...</td>\n      <td>Phòng trọ</td>\n      <td>Đường Lê Quang Đạo, Phường Phú Đô, Nam Từ Liêm...</td>\n      <td>30</td>\n      <td>0</td>\n      <td>1</td>\n      <td>1</td>\n      <td>1</td>\n      <td>1</td>\n      <td>0</td>\n      <td>thuephongtro</td>\n    </tr>\n    <tr>\n      <th>3177</th>\n      <td>5.5</td>\n      <td>\\r\\n                             \\r\\n         ...</td>\n      <td>CCMN</td>\n      <td>Ngõ 23 Đường Nguyễn Thị Định, Phường Trung Hòa...</td>\n      <td>35</td>\n      <td>0</td>\n      <td>0</td>\n      <td>0</td>\n      <td>0</td>\n      <td>0</td>\n      <td>0</td>\n      <td>thuephongtro</td>\n    </tr>\n    <tr>\n      <th>3178</th>\n      <td>1.3</td>\n      <td>\\r\\n                             \\r\\n         ...</td>\n      <td>Phòng trọ</td>\n      <td>Hoàng Mai, Hà Nội</td>\n      <td>10</td>\n      <td>1</td>\n      <td>0</td>\n      <td>1</td>\n      <td>0</td>\n      <td>0</td>\n      <td>0</td>\n      <td>thuephongtro</td>\n    </tr>\n  </tbody>\n</table>\n<p>3179 rows × 12 columns</p>\n</div>"
     },
     "metadata": {},
     "execution_count": 15
    }
   ],
   "source": [
    "data['Source'] = \"thuephongtro\"\n",
    "data"
   ]
  },
  {
   "cell_type": "code",
   "execution_count": 16,
   "metadata": {},
   "outputs": [],
   "source": [
    "# from sklearn.linear_model import Lasso\n",
    "# from sklearn.model_selection import train_test_split\n",
    "# from sklearn.metrics import mean_absolute_error\n",
    "\n",
    "# y = data.values[:, 0]\n",
    "# x = data.drop(['Location','Source'], axis=1).values[:, 1:]\n",
    "# x_train, x_test, y_train, y_test = train_test_split(x, y, test_size=0.2)\n",
    "\n",
    "# clf = Lasso(alpha=0.1)\n",
    "# clf.fit(x_train, y_train)\n",
    "# mean_absolute_error(y_test, clf.predict(x_test))"
   ]
  },
  {
   "cell_type": "code",
   "execution_count": 17,
   "metadata": {},
   "outputs": [],
   "source": [
    "# data.to_csv(\"../processed-data/thuephongtro.csv\")"
   ]
  },
  {
   "cell_type": "code",
   "execution_count": 18,
   "metadata": {},
   "outputs": [
    {
     "output_type": "execute_result",
     "data": {
      "text/plain": [
       "count      3179.000000\n",
       "mean        890.719518\n",
       "std       20303.106922\n",
       "min           0.000000\n",
       "25%           1.200000\n",
       "50%           1.800000\n",
       "75%           2.500000\n",
       "max      900000.000000\n",
       "Name: Price, dtype: float64"
      ]
     },
     "metadata": {},
     "execution_count": 18
    }
   ],
   "source": [
    "data['Price'].describe()"
   ]
  },
  {
   "cell_type": "code",
   "execution_count": 19,
   "metadata": {},
   "outputs": [
    {
     "output_type": "execute_result",
     "data": {
      "text/plain": [
       "<matplotlib.axes._subplots.AxesSubplot at 0x22214ce6430>"
      ]
     },
     "metadata": {},
     "execution_count": 19
    },
    {
     "output_type": "display_data",
     "data": {
      "text/plain": "<Figure size 432x288 with 1 Axes>",
      "image/svg+xml": "<?xml version=\"1.0\" encoding=\"utf-8\" standalone=\"no\"?>\r\n<!DOCTYPE svg PUBLIC \"-//W3C//DTD SVG 1.1//EN\"\r\n  \"http://www.w3.org/Graphics/SVG/1.1/DTD/svg11.dtd\">\r\n<!-- Created with matplotlib (https://matplotlib.org/) -->\r\n<svg height=\"262.19625pt\" version=\"1.1\" viewBox=\"0 0 352.7 262.19625\" width=\"352.7pt\" xmlns=\"http://www.w3.org/2000/svg\" xmlns:xlink=\"http://www.w3.org/1999/xlink\">\r\n <defs>\r\n  <style type=\"text/css\">\r\n*{stroke-linecap:butt;stroke-linejoin:round;}\r\n  </style>\r\n </defs>\r\n <g id=\"figure_1\">\r\n  <g id=\"patch_1\">\r\n   <path d=\"M 0 262.19625 \r\nL 352.7 262.19625 \r\nL 352.7 0 \r\nL 0 0 \r\nz\r\n\" style=\"fill:none;\"/>\r\n  </g>\r\n  <g id=\"axes_1\">\r\n   <g id=\"patch_2\">\r\n    <path d=\"M 10.7 224.64 \r\nL 345.5 224.64 \r\nL 345.5 7.2 \r\nL 10.7 7.2 \r\nz\r\n\" style=\"fill:#ffffff;\"/>\r\n   </g>\r\n   <g id=\"patch_3\">\r\n    <path clip-path=\"url(#p4a31d75158)\" d=\"M 25.918588 28.944 \r\nL 25.918588 202.896 \r\nL 25.919027 202.896 \r\nL 25.919027 28.944 \r\nL 25.918588 28.944 \r\nz\r\n\" style=\"fill:#3274a1;stroke:#3f3f3f;stroke-linejoin:miter;stroke-width:1.5;\"/>\r\n   </g>\r\n   <g id=\"matplotlib.axis_1\">\r\n    <g id=\"xtick_1\">\r\n     <g id=\"line2d_1\">\r\n      <defs>\r\n       <path d=\"M 0 0 \r\nL 0 3.5 \r\n\" id=\"m68a748a736\" style=\"stroke:#000000;stroke-width:0.8;\"/>\r\n      </defs>\r\n      <g>\r\n       <use style=\"stroke:#000000;stroke-width:0.8;\" x=\"25.918182\" xlink:href=\"#m68a748a736\" y=\"224.64\"/>\r\n      </g>\r\n     </g>\r\n     <g id=\"text_1\">\r\n      <!-- 0 -->\r\n      <defs>\r\n       <path d=\"M 31.78125 66.40625 \r\nQ 24.171875 66.40625 20.328125 58.90625 \r\nQ 16.5 51.421875 16.5 36.375 \r\nQ 16.5 21.390625 20.328125 13.890625 \r\nQ 24.171875 6.390625 31.78125 6.390625 \r\nQ 39.453125 6.390625 43.28125 13.890625 \r\nQ 47.125 21.390625 47.125 36.375 \r\nQ 47.125 51.421875 43.28125 58.90625 \r\nQ 39.453125 66.40625 31.78125 66.40625 \r\nz\r\nM 31.78125 74.21875 \r\nQ 44.046875 74.21875 50.515625 64.515625 \r\nQ 56.984375 54.828125 56.984375 36.375 \r\nQ 56.984375 17.96875 50.515625 8.265625 \r\nQ 44.046875 -1.421875 31.78125 -1.421875 \r\nQ 19.53125 -1.421875 13.0625 8.265625 \r\nQ 6.59375 17.96875 6.59375 36.375 \r\nQ 6.59375 54.828125 13.0625 64.515625 \r\nQ 19.53125 74.21875 31.78125 74.21875 \r\nz\r\n\" id=\"DejaVuSans-48\"/>\r\n      </defs>\r\n      <g transform=\"translate(22.736932 239.238437)scale(0.1 -0.1)\">\r\n       <use xlink:href=\"#DejaVuSans-48\"/>\r\n      </g>\r\n     </g>\r\n    </g>\r\n    <g id=\"xtick_2\">\r\n     <g id=\"line2d_2\">\r\n      <g>\r\n       <use style=\"stroke:#000000;stroke-width:0.8;\" x=\"93.554545\" xlink:href=\"#m68a748a736\" y=\"224.64\"/>\r\n      </g>\r\n     </g>\r\n     <g id=\"text_2\">\r\n      <!-- 200000 -->\r\n      <defs>\r\n       <path d=\"M 19.1875 8.296875 \r\nL 53.609375 8.296875 \r\nL 53.609375 0 \r\nL 7.328125 0 \r\nL 7.328125 8.296875 \r\nQ 12.9375 14.109375 22.625 23.890625 \r\nQ 32.328125 33.6875 34.8125 36.53125 \r\nQ 39.546875 41.84375 41.421875 45.53125 \r\nQ 43.3125 49.21875 43.3125 52.78125 \r\nQ 43.3125 58.59375 39.234375 62.25 \r\nQ 35.15625 65.921875 28.609375 65.921875 \r\nQ 23.96875 65.921875 18.8125 64.3125 \r\nQ 13.671875 62.703125 7.8125 59.421875 \r\nL 7.8125 69.390625 \r\nQ 13.765625 71.78125 18.9375 73 \r\nQ 24.125 74.21875 28.421875 74.21875 \r\nQ 39.75 74.21875 46.484375 68.546875 \r\nQ 53.21875 62.890625 53.21875 53.421875 \r\nQ 53.21875 48.921875 51.53125 44.890625 \r\nQ 49.859375 40.875 45.40625 35.40625 \r\nQ 44.1875 33.984375 37.640625 27.21875 \r\nQ 31.109375 20.453125 19.1875 8.296875 \r\nz\r\n\" id=\"DejaVuSans-50\"/>\r\n      </defs>\r\n      <g transform=\"translate(74.467045 239.238437)scale(0.1 -0.1)\">\r\n       <use xlink:href=\"#DejaVuSans-50\"/>\r\n       <use x=\"63.623047\" xlink:href=\"#DejaVuSans-48\"/>\r\n       <use x=\"127.246094\" xlink:href=\"#DejaVuSans-48\"/>\r\n       <use x=\"190.869141\" xlink:href=\"#DejaVuSans-48\"/>\r\n       <use x=\"254.492188\" xlink:href=\"#DejaVuSans-48\"/>\r\n       <use x=\"318.115234\" xlink:href=\"#DejaVuSans-48\"/>\r\n      </g>\r\n     </g>\r\n    </g>\r\n    <g id=\"xtick_3\">\r\n     <g id=\"line2d_3\">\r\n      <g>\r\n       <use style=\"stroke:#000000;stroke-width:0.8;\" x=\"161.190909\" xlink:href=\"#m68a748a736\" y=\"224.64\"/>\r\n      </g>\r\n     </g>\r\n     <g id=\"text_3\">\r\n      <!-- 400000 -->\r\n      <defs>\r\n       <path d=\"M 37.796875 64.3125 \r\nL 12.890625 25.390625 \r\nL 37.796875 25.390625 \r\nz\r\nM 35.203125 72.90625 \r\nL 47.609375 72.90625 \r\nL 47.609375 25.390625 \r\nL 58.015625 25.390625 \r\nL 58.015625 17.1875 \r\nL 47.609375 17.1875 \r\nL 47.609375 0 \r\nL 37.796875 0 \r\nL 37.796875 17.1875 \r\nL 4.890625 17.1875 \r\nL 4.890625 26.703125 \r\nz\r\n\" id=\"DejaVuSans-52\"/>\r\n      </defs>\r\n      <g transform=\"translate(142.103409 239.238437)scale(0.1 -0.1)\">\r\n       <use xlink:href=\"#DejaVuSans-52\"/>\r\n       <use x=\"63.623047\" xlink:href=\"#DejaVuSans-48\"/>\r\n       <use x=\"127.246094\" xlink:href=\"#DejaVuSans-48\"/>\r\n       <use x=\"190.869141\" xlink:href=\"#DejaVuSans-48\"/>\r\n       <use x=\"254.492188\" xlink:href=\"#DejaVuSans-48\"/>\r\n       <use x=\"318.115234\" xlink:href=\"#DejaVuSans-48\"/>\r\n      </g>\r\n     </g>\r\n    </g>\r\n    <g id=\"xtick_4\">\r\n     <g id=\"line2d_4\">\r\n      <g>\r\n       <use style=\"stroke:#000000;stroke-width:0.8;\" x=\"228.827273\" xlink:href=\"#m68a748a736\" y=\"224.64\"/>\r\n      </g>\r\n     </g>\r\n     <g id=\"text_4\">\r\n      <!-- 600000 -->\r\n      <defs>\r\n       <path d=\"M 33.015625 40.375 \r\nQ 26.375 40.375 22.484375 35.828125 \r\nQ 18.609375 31.296875 18.609375 23.390625 \r\nQ 18.609375 15.53125 22.484375 10.953125 \r\nQ 26.375 6.390625 33.015625 6.390625 \r\nQ 39.65625 6.390625 43.53125 10.953125 \r\nQ 47.40625 15.53125 47.40625 23.390625 \r\nQ 47.40625 31.296875 43.53125 35.828125 \r\nQ 39.65625 40.375 33.015625 40.375 \r\nz\r\nM 52.59375 71.296875 \r\nL 52.59375 62.3125 \r\nQ 48.875 64.0625 45.09375 64.984375 \r\nQ 41.3125 65.921875 37.59375 65.921875 \r\nQ 27.828125 65.921875 22.671875 59.328125 \r\nQ 17.53125 52.734375 16.796875 39.40625 \r\nQ 19.671875 43.65625 24.015625 45.921875 \r\nQ 28.375 48.1875 33.59375 48.1875 \r\nQ 44.578125 48.1875 50.953125 41.515625 \r\nQ 57.328125 34.859375 57.328125 23.390625 \r\nQ 57.328125 12.15625 50.6875 5.359375 \r\nQ 44.046875 -1.421875 33.015625 -1.421875 \r\nQ 20.359375 -1.421875 13.671875 8.265625 \r\nQ 6.984375 17.96875 6.984375 36.375 \r\nQ 6.984375 53.65625 15.1875 63.9375 \r\nQ 23.390625 74.21875 37.203125 74.21875 \r\nQ 40.921875 74.21875 44.703125 73.484375 \r\nQ 48.484375 72.75 52.59375 71.296875 \r\nz\r\n\" id=\"DejaVuSans-54\"/>\r\n      </defs>\r\n      <g transform=\"translate(209.739773 239.238437)scale(0.1 -0.1)\">\r\n       <use xlink:href=\"#DejaVuSans-54\"/>\r\n       <use x=\"63.623047\" xlink:href=\"#DejaVuSans-48\"/>\r\n       <use x=\"127.246094\" xlink:href=\"#DejaVuSans-48\"/>\r\n       <use x=\"190.869141\" xlink:href=\"#DejaVuSans-48\"/>\r\n       <use x=\"254.492188\" xlink:href=\"#DejaVuSans-48\"/>\r\n       <use x=\"318.115234\" xlink:href=\"#DejaVuSans-48\"/>\r\n      </g>\r\n     </g>\r\n    </g>\r\n    <g id=\"xtick_5\">\r\n     <g id=\"line2d_5\">\r\n      <g>\r\n       <use style=\"stroke:#000000;stroke-width:0.8;\" x=\"296.463636\" xlink:href=\"#m68a748a736\" y=\"224.64\"/>\r\n      </g>\r\n     </g>\r\n     <g id=\"text_5\">\r\n      <!-- 800000 -->\r\n      <defs>\r\n       <path d=\"M 31.78125 34.625 \r\nQ 24.75 34.625 20.71875 30.859375 \r\nQ 16.703125 27.09375 16.703125 20.515625 \r\nQ 16.703125 13.921875 20.71875 10.15625 \r\nQ 24.75 6.390625 31.78125 6.390625 \r\nQ 38.8125 6.390625 42.859375 10.171875 \r\nQ 46.921875 13.96875 46.921875 20.515625 \r\nQ 46.921875 27.09375 42.890625 30.859375 \r\nQ 38.875 34.625 31.78125 34.625 \r\nz\r\nM 21.921875 38.8125 \r\nQ 15.578125 40.375 12.03125 44.71875 \r\nQ 8.5 49.078125 8.5 55.328125 \r\nQ 8.5 64.0625 14.71875 69.140625 \r\nQ 20.953125 74.21875 31.78125 74.21875 \r\nQ 42.671875 74.21875 48.875 69.140625 \r\nQ 55.078125 64.0625 55.078125 55.328125 \r\nQ 55.078125 49.078125 51.53125 44.71875 \r\nQ 48 40.375 41.703125 38.8125 \r\nQ 48.828125 37.15625 52.796875 32.3125 \r\nQ 56.78125 27.484375 56.78125 20.515625 \r\nQ 56.78125 9.90625 50.3125 4.234375 \r\nQ 43.84375 -1.421875 31.78125 -1.421875 \r\nQ 19.734375 -1.421875 13.25 4.234375 \r\nQ 6.78125 9.90625 6.78125 20.515625 \r\nQ 6.78125 27.484375 10.78125 32.3125 \r\nQ 14.796875 37.15625 21.921875 38.8125 \r\nz\r\nM 18.3125 54.390625 \r\nQ 18.3125 48.734375 21.84375 45.5625 \r\nQ 25.390625 42.390625 31.78125 42.390625 \r\nQ 38.140625 42.390625 41.71875 45.5625 \r\nQ 45.3125 48.734375 45.3125 54.390625 \r\nQ 45.3125 60.0625 41.71875 63.234375 \r\nQ 38.140625 66.40625 31.78125 66.40625 \r\nQ 25.390625 66.40625 21.84375 63.234375 \r\nQ 18.3125 60.0625 18.3125 54.390625 \r\nz\r\n\" id=\"DejaVuSans-56\"/>\r\n      </defs>\r\n      <g transform=\"translate(277.376136 239.238437)scale(0.1 -0.1)\">\r\n       <use xlink:href=\"#DejaVuSans-56\"/>\r\n       <use x=\"63.623047\" xlink:href=\"#DejaVuSans-48\"/>\r\n       <use x=\"127.246094\" xlink:href=\"#DejaVuSans-48\"/>\r\n       <use x=\"190.869141\" xlink:href=\"#DejaVuSans-48\"/>\r\n       <use x=\"254.492188\" xlink:href=\"#DejaVuSans-48\"/>\r\n       <use x=\"318.115234\" xlink:href=\"#DejaVuSans-48\"/>\r\n      </g>\r\n     </g>\r\n    </g>\r\n    <g id=\"text_6\">\r\n     <!-- Price -->\r\n     <defs>\r\n      <path d=\"M 19.671875 64.796875 \r\nL 19.671875 37.40625 \r\nL 32.078125 37.40625 \r\nQ 38.96875 37.40625 42.71875 40.96875 \r\nQ 46.484375 44.53125 46.484375 51.125 \r\nQ 46.484375 57.671875 42.71875 61.234375 \r\nQ 38.96875 64.796875 32.078125 64.796875 \r\nz\r\nM 9.8125 72.90625 \r\nL 32.078125 72.90625 \r\nQ 44.34375 72.90625 50.609375 67.359375 \r\nQ 56.890625 61.8125 56.890625 51.125 \r\nQ 56.890625 40.328125 50.609375 34.8125 \r\nQ 44.34375 29.296875 32.078125 29.296875 \r\nL 19.671875 29.296875 \r\nL 19.671875 0 \r\nL 9.8125 0 \r\nz\r\n\" id=\"DejaVuSans-80\"/>\r\n      <path d=\"M 41.109375 46.296875 \r\nQ 39.59375 47.171875 37.8125 47.578125 \r\nQ 36.03125 48 33.890625 48 \r\nQ 26.265625 48 22.1875 43.046875 \r\nQ 18.109375 38.09375 18.109375 28.8125 \r\nL 18.109375 0 \r\nL 9.078125 0 \r\nL 9.078125 54.6875 \r\nL 18.109375 54.6875 \r\nL 18.109375 46.1875 \r\nQ 20.953125 51.171875 25.484375 53.578125 \r\nQ 30.03125 56 36.53125 56 \r\nQ 37.453125 56 38.578125 55.875 \r\nQ 39.703125 55.765625 41.0625 55.515625 \r\nz\r\n\" id=\"DejaVuSans-114\"/>\r\n      <path d=\"M 9.421875 54.6875 \r\nL 18.40625 54.6875 \r\nL 18.40625 0 \r\nL 9.421875 0 \r\nz\r\nM 9.421875 75.984375 \r\nL 18.40625 75.984375 \r\nL 18.40625 64.59375 \r\nL 9.421875 64.59375 \r\nz\r\n\" id=\"DejaVuSans-105\"/>\r\n      <path d=\"M 48.78125 52.59375 \r\nL 48.78125 44.1875 \r\nQ 44.96875 46.296875 41.140625 47.34375 \r\nQ 37.3125 48.390625 33.40625 48.390625 \r\nQ 24.65625 48.390625 19.8125 42.84375 \r\nQ 14.984375 37.3125 14.984375 27.296875 \r\nQ 14.984375 17.28125 19.8125 11.734375 \r\nQ 24.65625 6.203125 33.40625 6.203125 \r\nQ 37.3125 6.203125 41.140625 7.25 \r\nQ 44.96875 8.296875 48.78125 10.40625 \r\nL 48.78125 2.09375 \r\nQ 45.015625 0.34375 40.984375 -0.53125 \r\nQ 36.96875 -1.421875 32.421875 -1.421875 \r\nQ 20.0625 -1.421875 12.78125 6.34375 \r\nQ 5.515625 14.109375 5.515625 27.296875 \r\nQ 5.515625 40.671875 12.859375 48.328125 \r\nQ 20.21875 56 33.015625 56 \r\nQ 37.15625 56 41.109375 55.140625 \r\nQ 45.0625 54.296875 48.78125 52.59375 \r\nz\r\n\" id=\"DejaVuSans-99\"/>\r\n      <path d=\"M 56.203125 29.59375 \r\nL 56.203125 25.203125 \r\nL 14.890625 25.203125 \r\nQ 15.484375 15.921875 20.484375 11.0625 \r\nQ 25.484375 6.203125 34.421875 6.203125 \r\nQ 39.59375 6.203125 44.453125 7.46875 \r\nQ 49.3125 8.734375 54.109375 11.28125 \r\nL 54.109375 2.78125 \r\nQ 49.265625 0.734375 44.1875 -0.34375 \r\nQ 39.109375 -1.421875 33.890625 -1.421875 \r\nQ 20.796875 -1.421875 13.15625 6.1875 \r\nQ 5.515625 13.8125 5.515625 26.8125 \r\nQ 5.515625 40.234375 12.765625 48.109375 \r\nQ 20.015625 56 32.328125 56 \r\nQ 43.359375 56 49.78125 48.890625 \r\nQ 56.203125 41.796875 56.203125 29.59375 \r\nz\r\nM 47.21875 32.234375 \r\nQ 47.125 39.59375 43.09375 43.984375 \r\nQ 39.0625 48.390625 32.421875 48.390625 \r\nQ 24.90625 48.390625 20.390625 44.140625 \r\nQ 15.875 39.890625 15.1875 32.171875 \r\nz\r\n\" id=\"DejaVuSans-101\"/>\r\n     </defs>\r\n     <g transform=\"translate(165.902344 252.916562)scale(0.1 -0.1)\">\r\n      <use xlink:href=\"#DejaVuSans-80\"/>\r\n      <use x=\"58.552734\" xlink:href=\"#DejaVuSans-114\"/>\r\n      <use x=\"99.666016\" xlink:href=\"#DejaVuSans-105\"/>\r\n      <use x=\"127.449219\" xlink:href=\"#DejaVuSans-99\"/>\r\n      <use x=\"182.429688\" xlink:href=\"#DejaVuSans-101\"/>\r\n     </g>\r\n    </g>\r\n   </g>\r\n   <g id=\"matplotlib.axis_2\">\r\n    <g id=\"ytick_1\">\r\n     <g id=\"line2d_6\">\r\n      <defs>\r\n       <path d=\"M 0 0 \r\nL -3.5 0 \r\n\" id=\"m9a76608980\" style=\"stroke:#000000;stroke-width:0.8;\"/>\r\n      </defs>\r\n      <g>\r\n       <use style=\"stroke:#000000;stroke-width:0.8;\" x=\"10.7\" xlink:href=\"#m9a76608980\" y=\"115.92\"/>\r\n      </g>\r\n     </g>\r\n    </g>\r\n   </g>\r\n   <g id=\"line2d_7\">\r\n    <path clip-path=\"url(#p4a31d75158)\" d=\"M 25.918588 115.92 \r\nL 25.918182 115.92 \r\n\" style=\"fill:none;stroke:#3f3f3f;stroke-linecap:square;stroke-width:1.5;\"/>\r\n   </g>\r\n   <g id=\"line2d_8\">\r\n    <path clip-path=\"url(#p4a31d75158)\" d=\"M 25.919027 115.92 \r\nL 25.919636 115.92 \r\n\" style=\"fill:none;stroke:#3f3f3f;stroke-linecap:square;stroke-width:1.5;\"/>\r\n   </g>\r\n   <g id=\"line2d_9\">\r\n    <path clip-path=\"url(#p4a31d75158)\" d=\"M 25.918182 72.432 \r\nL 25.918182 159.408 \r\n\" style=\"fill:none;stroke:#3f3f3f;stroke-linecap:square;stroke-width:1.5;\"/>\r\n   </g>\r\n   <g id=\"line2d_10\">\r\n    <path clip-path=\"url(#p4a31d75158)\" d=\"M 25.919636 72.432 \r\nL 25.919636 159.408 \r\n\" style=\"fill:none;stroke:#3f3f3f;stroke-linecap:square;stroke-width:1.5;\"/>\r\n   </g>\r\n   <g id=\"line2d_11\">\r\n    <defs>\r\n     <path d=\"M 0 3.535534 \r\nL 2.12132 0 \r\nL 0 -3.535534 \r\nL -2.12132 0 \r\nz\r\n\" id=\"m65e77d0cce\" style=\"stroke:#3f3f3f;stroke-linejoin:miter;\"/>\r\n    </defs>\r\n    <g clip-path=\"url(#p4a31d75158)\">\r\n     <use style=\"fill:#3f3f3f;stroke:#3f3f3f;stroke-linejoin:miter;\" x=\"25.920549\" xlink:href=\"#m65e77d0cce\" y=\"115.92\"/>\r\n     <use style=\"fill:#3f3f3f;stroke:#3f3f3f;stroke-linejoin:miter;\" x=\"26.256025\" xlink:href=\"#m65e77d0cce\" y=\"115.92\"/>\r\n     <use style=\"fill:#3f3f3f;stroke:#3f3f3f;stroke-linejoin:miter;\" x=\"25.919704\" xlink:href=\"#m65e77d0cce\" y=\"115.92\"/>\r\n     <use style=\"fill:#3f3f3f;stroke:#3f3f3f;stroke-linejoin:miter;\" x=\"27.237091\" xlink:href=\"#m65e77d0cce\" y=\"115.92\"/>\r\n     <use style=\"fill:#3f3f3f;stroke:#3f3f3f;stroke-linejoin:miter;\" x=\"27.203273\" xlink:href=\"#m65e77d0cce\" y=\"115.92\"/>\r\n     <use style=\"fill:#3f3f3f;stroke:#3f3f3f;stroke-linejoin:miter;\" x=\"25.930356\" xlink:href=\"#m65e77d0cce\" y=\"115.92\"/>\r\n     <use style=\"fill:#3f3f3f;stroke:#3f3f3f;stroke-linejoin:miter;\" x=\"26.256364\" xlink:href=\"#m65e77d0cce\" y=\"115.92\"/>\r\n     <use style=\"fill:#3f3f3f;stroke:#3f3f3f;stroke-linejoin:miter;\" x=\"27.135636\" xlink:href=\"#m65e77d0cce\" y=\"115.92\"/>\r\n     <use style=\"fill:#3f3f3f;stroke:#3f3f3f;stroke-linejoin:miter;\" x=\"110.463636\" xlink:href=\"#m65e77d0cce\" y=\"115.92\"/>\r\n     <use style=\"fill:#3f3f3f;stroke:#3f3f3f;stroke-linejoin:miter;\" x=\"25.919873\" xlink:href=\"#m65e77d0cce\" y=\"115.92\"/>\r\n     <use style=\"fill:#3f3f3f;stroke:#3f3f3f;stroke-linejoin:miter;\" x=\"25.919704\" xlink:href=\"#m65e77d0cce\" y=\"115.92\"/>\r\n     <use style=\"fill:#3f3f3f;stroke:#3f3f3f;stroke-linejoin:miter;\" x=\"25.919704\" xlink:href=\"#m65e77d0cce\" y=\"115.92\"/>\r\n     <use style=\"fill:#3f3f3f;stroke:#3f3f3f;stroke-linejoin:miter;\" x=\"25.92038\" xlink:href=\"#m65e77d0cce\" y=\"115.92\"/>\r\n     <use style=\"fill:#3f3f3f;stroke:#3f3f3f;stroke-linejoin:miter;\" x=\"25.919771\" xlink:href=\"#m65e77d0cce\" y=\"115.92\"/>\r\n     <use style=\"fill:#3f3f3f;stroke:#3f3f3f;stroke-linejoin:miter;\" x=\"127.372727\" xlink:href=\"#m65e77d0cce\" y=\"115.92\"/>\r\n     <use style=\"fill:#3f3f3f;stroke:#3f3f3f;stroke-linejoin:miter;\" x=\"25.92038\" xlink:href=\"#m65e77d0cce\" y=\"115.92\"/>\r\n     <use style=\"fill:#3f3f3f;stroke:#3f3f3f;stroke-linejoin:miter;\" x=\"27.372364\" xlink:href=\"#m65e77d0cce\" y=\"115.92\"/>\r\n     <use style=\"fill:#3f3f3f;stroke:#3f3f3f;stroke-linejoin:miter;\" x=\"330.281818\" xlink:href=\"#m65e77d0cce\" y=\"115.92\"/>\r\n     <use style=\"fill:#3f3f3f;stroke:#3f3f3f;stroke-linejoin:miter;\" x=\"25.920549\" xlink:href=\"#m65e77d0cce\" y=\"115.92\"/>\r\n     <use style=\"fill:#3f3f3f;stroke:#3f3f3f;stroke-linejoin:miter;\" x=\"26.729818\" xlink:href=\"#m65e77d0cce\" y=\"115.92\"/>\r\n     <use style=\"fill:#3f3f3f;stroke:#3f3f3f;stroke-linejoin:miter;\" x=\"93.554545\" xlink:href=\"#m65e77d0cce\" y=\"115.92\"/>\r\n     <use style=\"fill:#3f3f3f;stroke:#3f3f3f;stroke-linejoin:miter;\" x=\"26.121091\" xlink:href=\"#m65e77d0cce\" y=\"115.92\"/>\r\n     <use style=\"fill:#3f3f3f;stroke:#3f3f3f;stroke-linejoin:miter;\" x=\"25.920042\" xlink:href=\"#m65e77d0cce\" y=\"115.92\"/>\r\n     <use style=\"fill:#3f3f3f;stroke:#3f3f3f;stroke-linejoin:miter;\" x=\"26.154909\" xlink:href=\"#m65e77d0cce\" y=\"115.92\"/>\r\n     <use style=\"fill:#3f3f3f;stroke:#3f3f3f;stroke-linejoin:miter;\" x=\"25.92038\" xlink:href=\"#m65e77d0cce\" y=\"115.92\"/>\r\n     <use style=\"fill:#3f3f3f;stroke:#3f3f3f;stroke-linejoin:miter;\" x=\"25.920143\" xlink:href=\"#m65e77d0cce\" y=\"115.92\"/>\r\n     <use style=\"fill:#3f3f3f;stroke:#3f3f3f;stroke-linejoin:miter;\" x=\"25.920211\" xlink:href=\"#m65e77d0cce\" y=\"115.92\"/>\r\n     <use style=\"fill:#3f3f3f;stroke:#3f3f3f;stroke-linejoin:miter;\" x=\"25.920211\" xlink:href=\"#m65e77d0cce\" y=\"115.92\"/>\r\n     <use style=\"fill:#3f3f3f;stroke:#3f3f3f;stroke-linejoin:miter;\" x=\"27.237091\" xlink:href=\"#m65e77d0cce\" y=\"115.92\"/>\r\n     <use style=\"fill:#3f3f3f;stroke:#3f3f3f;stroke-linejoin:miter;\" x=\"25.92038\" xlink:href=\"#m65e77d0cce\" y=\"115.92\"/>\r\n     <use style=\"fill:#3f3f3f;stroke:#3f3f3f;stroke-linejoin:miter;\" x=\"120.609091\" xlink:href=\"#m65e77d0cce\" y=\"115.92\"/>\r\n     <use style=\"fill:#3f3f3f;stroke:#3f3f3f;stroke-linejoin:miter;\" x=\"25.919704\" xlink:href=\"#m65e77d0cce\" y=\"115.92\"/>\r\n     <use style=\"fill:#3f3f3f;stroke:#3f3f3f;stroke-linejoin:miter;\" x=\"25.952\" xlink:href=\"#m65e77d0cce\" y=\"115.92\"/>\r\n     <use style=\"fill:#3f3f3f;stroke:#3f3f3f;stroke-linejoin:miter;\" x=\"26.425455\" xlink:href=\"#m65e77d0cce\" y=\"115.92\"/>\r\n     <use style=\"fill:#3f3f3f;stroke:#3f3f3f;stroke-linejoin:miter;\" x=\"26.121091\" xlink:href=\"#m65e77d0cce\" y=\"115.92\"/>\r\n     <use style=\"fill:#3f3f3f;stroke:#3f3f3f;stroke-linejoin:miter;\" x=\"26.087273\" xlink:href=\"#m65e77d0cce\" y=\"115.92\"/>\r\n     <use style=\"fill:#3f3f3f;stroke:#3f3f3f;stroke-linejoin:miter;\" x=\"25.919704\" xlink:href=\"#m65e77d0cce\" y=\"115.92\"/>\r\n     <use style=\"fill:#3f3f3f;stroke:#3f3f3f;stroke-linejoin:miter;\" x=\"26.662182\" xlink:href=\"#m65e77d0cce\" y=\"115.92\"/>\r\n     <use style=\"fill:#3f3f3f;stroke:#3f3f3f;stroke-linejoin:miter;\" x=\"25.919704\" xlink:href=\"#m65e77d0cce\" y=\"115.92\"/>\r\n     <use style=\"fill:#3f3f3f;stroke:#3f3f3f;stroke-linejoin:miter;\" x=\"26.121091\" xlink:href=\"#m65e77d0cce\" y=\"115.92\"/>\r\n     <use style=\"fill:#3f3f3f;stroke:#3f3f3f;stroke-linejoin:miter;\" x=\"25.919873\" xlink:href=\"#m65e77d0cce\" y=\"115.92\"/>\r\n     <use style=\"fill:#3f3f3f;stroke:#3f3f3f;stroke-linejoin:miter;\" x=\"25.919873\" xlink:href=\"#m65e77d0cce\" y=\"115.92\"/>\r\n     <use style=\"fill:#3f3f3f;stroke:#3f3f3f;stroke-linejoin:miter;\" x=\"26.087273\" xlink:href=\"#m65e77d0cce\" y=\"115.92\"/>\r\n     <use style=\"fill:#3f3f3f;stroke:#3f3f3f;stroke-linejoin:miter;\" x=\"26.188727\" xlink:href=\"#m65e77d0cce\" y=\"115.92\"/>\r\n     <use style=\"fill:#3f3f3f;stroke:#3f3f3f;stroke-linejoin:miter;\" x=\"25.920887\" xlink:href=\"#m65e77d0cce\" y=\"115.92\"/>\r\n     <use style=\"fill:#3f3f3f;stroke:#3f3f3f;stroke-linejoin:miter;\" x=\"25.919873\" xlink:href=\"#m65e77d0cce\" y=\"115.92\"/>\r\n     <use style=\"fill:#3f3f3f;stroke:#3f3f3f;stroke-linejoin:miter;\" x=\"26.154909\" xlink:href=\"#m65e77d0cce\" y=\"115.92\"/>\r\n     <use style=\"fill:#3f3f3f;stroke:#3f3f3f;stroke-linejoin:miter;\" x=\"25.919704\" xlink:href=\"#m65e77d0cce\" y=\"115.92\"/>\r\n     <use style=\"fill:#3f3f3f;stroke:#3f3f3f;stroke-linejoin:miter;\" x=\"26.121091\" xlink:href=\"#m65e77d0cce\" y=\"115.92\"/>\r\n     <use style=\"fill:#3f3f3f;stroke:#3f3f3f;stroke-linejoin:miter;\" x=\"26.188727\" xlink:href=\"#m65e77d0cce\" y=\"115.92\"/>\r\n     <use style=\"fill:#3f3f3f;stroke:#3f3f3f;stroke-linejoin:miter;\" x=\"25.919873\" xlink:href=\"#m65e77d0cce\" y=\"115.92\"/>\r\n     <use style=\"fill:#3f3f3f;stroke:#3f3f3f;stroke-linejoin:miter;\" x=\"25.919704\" xlink:href=\"#m65e77d0cce\" y=\"115.92\"/>\r\n     <use style=\"fill:#3f3f3f;stroke:#3f3f3f;stroke-linejoin:miter;\" x=\"26.205636\" xlink:href=\"#m65e77d0cce\" y=\"115.92\"/>\r\n     <use style=\"fill:#3f3f3f;stroke:#3f3f3f;stroke-linejoin:miter;\" x=\"26.205636\" xlink:href=\"#m65e77d0cce\" y=\"115.92\"/>\r\n     <use style=\"fill:#3f3f3f;stroke:#3f3f3f;stroke-linejoin:miter;\" x=\"26.222545\" xlink:href=\"#m65e77d0cce\" y=\"115.92\"/>\r\n     <use style=\"fill:#3f3f3f;stroke:#3f3f3f;stroke-linejoin:miter;\" x=\"26.138\" xlink:href=\"#m65e77d0cce\" y=\"115.92\"/>\r\n     <use style=\"fill:#3f3f3f;stroke:#3f3f3f;stroke-linejoin:miter;\" x=\"25.919873\" xlink:href=\"#m65e77d0cce\" y=\"115.92\"/>\r\n     <use style=\"fill:#3f3f3f;stroke:#3f3f3f;stroke-linejoin:miter;\" x=\"26.087273\" xlink:href=\"#m65e77d0cce\" y=\"115.92\"/>\r\n     <use style=\"fill:#3f3f3f;stroke:#3f3f3f;stroke-linejoin:miter;\" x=\"25.920887\" xlink:href=\"#m65e77d0cce\" y=\"115.92\"/>\r\n     <use style=\"fill:#3f3f3f;stroke:#3f3f3f;stroke-linejoin:miter;\" x=\"26.222545\" xlink:href=\"#m65e77d0cce\" y=\"115.92\"/>\r\n     <use style=\"fill:#3f3f3f;stroke:#3f3f3f;stroke-linejoin:miter;\" x=\"26.205636\" xlink:href=\"#m65e77d0cce\" y=\"115.92\"/>\r\n     <use style=\"fill:#3f3f3f;stroke:#3f3f3f;stroke-linejoin:miter;\" x=\"26.188727\" xlink:href=\"#m65e77d0cce\" y=\"115.92\"/>\r\n     <use style=\"fill:#3f3f3f;stroke:#3f3f3f;stroke-linejoin:miter;\" x=\"26.121091\" xlink:href=\"#m65e77d0cce\" y=\"115.92\"/>\r\n     <use style=\"fill:#3f3f3f;stroke:#3f3f3f;stroke-linejoin:miter;\" x=\"26.239455\" xlink:href=\"#m65e77d0cce\" y=\"115.92\"/>\r\n     <use style=\"fill:#3f3f3f;stroke:#3f3f3f;stroke-linejoin:miter;\" x=\"26.205636\" xlink:href=\"#m65e77d0cce\" y=\"115.92\"/>\r\n     <use style=\"fill:#3f3f3f;stroke:#3f3f3f;stroke-linejoin:miter;\" x=\"26.087273\" xlink:href=\"#m65e77d0cce\" y=\"115.92\"/>\r\n     <use style=\"fill:#3f3f3f;stroke:#3f3f3f;stroke-linejoin:miter;\" x=\"26.154909\" xlink:href=\"#m65e77d0cce\" y=\"115.92\"/>\r\n     <use style=\"fill:#3f3f3f;stroke:#3f3f3f;stroke-linejoin:miter;\" x=\"26.154909\" xlink:href=\"#m65e77d0cce\" y=\"115.92\"/>\r\n     <use style=\"fill:#3f3f3f;stroke:#3f3f3f;stroke-linejoin:miter;\" x=\"26.222545\" xlink:href=\"#m65e77d0cce\" y=\"115.92\"/>\r\n     <use style=\"fill:#3f3f3f;stroke:#3f3f3f;stroke-linejoin:miter;\" x=\"26.222545\" xlink:href=\"#m65e77d0cce\" y=\"115.92\"/>\r\n     <use style=\"fill:#3f3f3f;stroke:#3f3f3f;stroke-linejoin:miter;\" x=\"25.958764\" xlink:href=\"#m65e77d0cce\" y=\"115.92\"/>\r\n     <use style=\"fill:#3f3f3f;stroke:#3f3f3f;stroke-linejoin:miter;\" x=\"26.053455\" xlink:href=\"#m65e77d0cce\" y=\"115.92\"/>\r\n     <use style=\"fill:#3f3f3f;stroke:#3f3f3f;stroke-linejoin:miter;\" x=\"26.087273\" xlink:href=\"#m65e77d0cce\" y=\"115.92\"/>\r\n     <use style=\"fill:#3f3f3f;stroke:#3f3f3f;stroke-linejoin:miter;\" x=\"26.205636\" xlink:href=\"#m65e77d0cce\" y=\"115.92\"/>\r\n     <use style=\"fill:#3f3f3f;stroke:#3f3f3f;stroke-linejoin:miter;\" x=\"26.087273\" xlink:href=\"#m65e77d0cce\" y=\"115.92\"/>\r\n     <use style=\"fill:#3f3f3f;stroke:#3f3f3f;stroke-linejoin:miter;\" x=\"26.188727\" xlink:href=\"#m65e77d0cce\" y=\"115.92\"/>\r\n     <use style=\"fill:#3f3f3f;stroke:#3f3f3f;stroke-linejoin:miter;\" x=\"25.919873\" xlink:href=\"#m65e77d0cce\" y=\"115.92\"/>\r\n     <use style=\"fill:#3f3f3f;stroke:#3f3f3f;stroke-linejoin:miter;\" x=\"26.239455\" xlink:href=\"#m65e77d0cce\" y=\"115.92\"/>\r\n     <use style=\"fill:#3f3f3f;stroke:#3f3f3f;stroke-linejoin:miter;\" x=\"26.121091\" xlink:href=\"#m65e77d0cce\" y=\"115.92\"/>\r\n     <use style=\"fill:#3f3f3f;stroke:#3f3f3f;stroke-linejoin:miter;\" x=\"26.188727\" xlink:href=\"#m65e77d0cce\" y=\"115.92\"/>\r\n     <use style=\"fill:#3f3f3f;stroke:#3f3f3f;stroke-linejoin:miter;\" x=\"25.920042\" xlink:href=\"#m65e77d0cce\" y=\"115.92\"/>\r\n     <use style=\"fill:#3f3f3f;stroke:#3f3f3f;stroke-linejoin:miter;\" x=\"25.922578\" xlink:href=\"#m65e77d0cce\" y=\"115.92\"/>\r\n     <use style=\"fill:#3f3f3f;stroke:#3f3f3f;stroke-linejoin:miter;\" x=\"25.920549\" xlink:href=\"#m65e77d0cce\" y=\"115.92\"/>\r\n     <use style=\"fill:#3f3f3f;stroke:#3f3f3f;stroke-linejoin:miter;\" x=\"26.188727\" xlink:href=\"#m65e77d0cce\" y=\"115.92\"/>\r\n     <use style=\"fill:#3f3f3f;stroke:#3f3f3f;stroke-linejoin:miter;\" x=\"25.92038\" xlink:href=\"#m65e77d0cce\" y=\"115.92\"/>\r\n     <use style=\"fill:#3f3f3f;stroke:#3f3f3f;stroke-linejoin:miter;\" x=\"25.920887\" xlink:href=\"#m65e77d0cce\" y=\"115.92\"/>\r\n     <use style=\"fill:#3f3f3f;stroke:#3f3f3f;stroke-linejoin:miter;\" x=\"25.921564\" xlink:href=\"#m65e77d0cce\" y=\"115.92\"/>\r\n     <use style=\"fill:#3f3f3f;stroke:#3f3f3f;stroke-linejoin:miter;\" x=\"25.919873\" xlink:href=\"#m65e77d0cce\" y=\"115.92\"/>\r\n     <use style=\"fill:#3f3f3f;stroke:#3f3f3f;stroke-linejoin:miter;\" x=\"25.92224\" xlink:href=\"#m65e77d0cce\" y=\"115.92\"/>\r\n     <use style=\"fill:#3f3f3f;stroke:#3f3f3f;stroke-linejoin:miter;\" x=\"25.923593\" xlink:href=\"#m65e77d0cce\" y=\"115.92\"/>\r\n     <use style=\"fill:#3f3f3f;stroke:#3f3f3f;stroke-linejoin:miter;\" x=\"25.919873\" xlink:href=\"#m65e77d0cce\" y=\"115.92\"/>\r\n     <use style=\"fill:#3f3f3f;stroke:#3f3f3f;stroke-linejoin:miter;\" x=\"26.239455\" xlink:href=\"#m65e77d0cce\" y=\"115.92\"/>\r\n     <use style=\"fill:#3f3f3f;stroke:#3f3f3f;stroke-linejoin:miter;\" x=\"25.919704\" xlink:href=\"#m65e77d0cce\" y=\"115.92\"/>\r\n     <use style=\"fill:#3f3f3f;stroke:#3f3f3f;stroke-linejoin:miter;\" x=\"25.919873\" xlink:href=\"#m65e77d0cce\" y=\"115.92\"/>\r\n     <use style=\"fill:#3f3f3f;stroke:#3f3f3f;stroke-linejoin:miter;\" x=\"26.188727\" xlink:href=\"#m65e77d0cce\" y=\"115.92\"/>\r\n     <use style=\"fill:#3f3f3f;stroke:#3f3f3f;stroke-linejoin:miter;\" x=\"26.425455\" xlink:href=\"#m65e77d0cce\" y=\"115.92\"/>\r\n     <use style=\"fill:#3f3f3f;stroke:#3f3f3f;stroke-linejoin:miter;\" x=\"26.154909\" xlink:href=\"#m65e77d0cce\" y=\"115.92\"/>\r\n     <use style=\"fill:#3f3f3f;stroke:#3f3f3f;stroke-linejoin:miter;\" x=\"26.188727\" xlink:href=\"#m65e77d0cce\" y=\"115.92\"/>\r\n     <use style=\"fill:#3f3f3f;stroke:#3f3f3f;stroke-linejoin:miter;\" x=\"26.188727\" xlink:href=\"#m65e77d0cce\" y=\"115.92\"/>\r\n     <use style=\"fill:#3f3f3f;stroke:#3f3f3f;stroke-linejoin:miter;\" x=\"26.205636\" xlink:href=\"#m65e77d0cce\" y=\"115.92\"/>\r\n     <use style=\"fill:#3f3f3f;stroke:#3f3f3f;stroke-linejoin:miter;\" x=\"25.919805\" xlink:href=\"#m65e77d0cce\" y=\"115.92\"/>\r\n     <use style=\"fill:#3f3f3f;stroke:#3f3f3f;stroke-linejoin:miter;\" x=\"26.188727\" xlink:href=\"#m65e77d0cce\" y=\"115.92\"/>\r\n     <use style=\"fill:#3f3f3f;stroke:#3f3f3f;stroke-linejoin:miter;\" x=\"26.188727\" xlink:href=\"#m65e77d0cce\" y=\"115.92\"/>\r\n     <use style=\"fill:#3f3f3f;stroke:#3f3f3f;stroke-linejoin:miter;\" x=\"26.932727\" xlink:href=\"#m65e77d0cce\" y=\"115.92\"/>\r\n     <use style=\"fill:#3f3f3f;stroke:#3f3f3f;stroke-linejoin:miter;\" x=\"25.919704\" xlink:href=\"#m65e77d0cce\" y=\"115.92\"/>\r\n     <use style=\"fill:#3f3f3f;stroke:#3f3f3f;stroke-linejoin:miter;\" x=\"26.087273\" xlink:href=\"#m65e77d0cce\" y=\"115.92\"/>\r\n     <use style=\"fill:#3f3f3f;stroke:#3f3f3f;stroke-linejoin:miter;\" x=\"26.087273\" xlink:href=\"#m65e77d0cce\" y=\"115.92\"/>\r\n     <use style=\"fill:#3f3f3f;stroke:#3f3f3f;stroke-linejoin:miter;\" x=\"25.920008\" xlink:href=\"#m65e77d0cce\" y=\"115.92\"/>\r\n     <use style=\"fill:#3f3f3f;stroke:#3f3f3f;stroke-linejoin:miter;\" x=\"26.154909\" xlink:href=\"#m65e77d0cce\" y=\"115.92\"/>\r\n     <use style=\"fill:#3f3f3f;stroke:#3f3f3f;stroke-linejoin:miter;\" x=\"26.188727\" xlink:href=\"#m65e77d0cce\" y=\"115.92\"/>\r\n     <use style=\"fill:#3f3f3f;stroke:#3f3f3f;stroke-linejoin:miter;\" x=\"26.324\" xlink:href=\"#m65e77d0cce\" y=\"115.92\"/>\r\n     <use style=\"fill:#3f3f3f;stroke:#3f3f3f;stroke-linejoin:miter;\" x=\"25.920211\" xlink:href=\"#m65e77d0cce\" y=\"115.92\"/>\r\n     <use style=\"fill:#3f3f3f;stroke:#3f3f3f;stroke-linejoin:miter;\" x=\"25.923593\" xlink:href=\"#m65e77d0cce\" y=\"115.92\"/>\r\n     <use style=\"fill:#3f3f3f;stroke:#3f3f3f;stroke-linejoin:miter;\" x=\"25.923593\" xlink:href=\"#m65e77d0cce\" y=\"115.92\"/>\r\n     <use style=\"fill:#3f3f3f;stroke:#3f3f3f;stroke-linejoin:miter;\" x=\"26.222545\" xlink:href=\"#m65e77d0cce\" y=\"115.92\"/>\r\n     <use style=\"fill:#3f3f3f;stroke:#3f3f3f;stroke-linejoin:miter;\" x=\"25.919873\" xlink:href=\"#m65e77d0cce\" y=\"115.92\"/>\r\n     <use style=\"fill:#3f3f3f;stroke:#3f3f3f;stroke-linejoin:miter;\" x=\"26.324\" xlink:href=\"#m65e77d0cce\" y=\"115.92\"/>\r\n     <use style=\"fill:#3f3f3f;stroke:#3f3f3f;stroke-linejoin:miter;\" x=\"26.087273\" xlink:href=\"#m65e77d0cce\" y=\"115.92\"/>\r\n     <use style=\"fill:#3f3f3f;stroke:#3f3f3f;stroke-linejoin:miter;\" x=\"26.324\" xlink:href=\"#m65e77d0cce\" y=\"115.92\"/>\r\n     <use style=\"fill:#3f3f3f;stroke:#3f3f3f;stroke-linejoin:miter;\" x=\"26.188727\" xlink:href=\"#m65e77d0cce\" y=\"115.92\"/>\r\n     <use style=\"fill:#3f3f3f;stroke:#3f3f3f;stroke-linejoin:miter;\" x=\"25.920042\" xlink:href=\"#m65e77d0cce\" y=\"115.92\"/>\r\n     <use style=\"fill:#3f3f3f;stroke:#3f3f3f;stroke-linejoin:miter;\" x=\"26.002727\" xlink:href=\"#m65e77d0cce\" y=\"115.92\"/>\r\n     <use style=\"fill:#3f3f3f;stroke:#3f3f3f;stroke-linejoin:miter;\" x=\"26.154909\" xlink:href=\"#m65e77d0cce\" y=\"115.92\"/>\r\n     <use style=\"fill:#3f3f3f;stroke:#3f3f3f;stroke-linejoin:miter;\" x=\"25.920887\" xlink:href=\"#m65e77d0cce\" y=\"115.92\"/>\r\n     <use style=\"fill:#3f3f3f;stroke:#3f3f3f;stroke-linejoin:miter;\" x=\"26.154909\" xlink:href=\"#m65e77d0cce\" y=\"115.92\"/>\r\n     <use style=\"fill:#3f3f3f;stroke:#3f3f3f;stroke-linejoin:miter;\" x=\"26.222545\" xlink:href=\"#m65e77d0cce\" y=\"115.92\"/>\r\n     <use style=\"fill:#3f3f3f;stroke:#3f3f3f;stroke-linejoin:miter;\" x=\"26.425455\" xlink:href=\"#m65e77d0cce\" y=\"115.92\"/>\r\n     <use style=\"fill:#3f3f3f;stroke:#3f3f3f;stroke-linejoin:miter;\" x=\"25.922916\" xlink:href=\"#m65e77d0cce\" y=\"115.92\"/>\r\n     <use style=\"fill:#3f3f3f;stroke:#3f3f3f;stroke-linejoin:miter;\" x=\"26.087273\" xlink:href=\"#m65e77d0cce\" y=\"115.92\"/>\r\n     <use style=\"fill:#3f3f3f;stroke:#3f3f3f;stroke-linejoin:miter;\" x=\"25.92038\" xlink:href=\"#m65e77d0cce\" y=\"115.92\"/>\r\n     <use style=\"fill:#3f3f3f;stroke:#3f3f3f;stroke-linejoin:miter;\" x=\"26.222545\" xlink:href=\"#m65e77d0cce\" y=\"115.92\"/>\r\n     <use style=\"fill:#3f3f3f;stroke:#3f3f3f;stroke-linejoin:miter;\" x=\"25.919873\" xlink:href=\"#m65e77d0cce\" y=\"115.92\"/>\r\n     <use style=\"fill:#3f3f3f;stroke:#3f3f3f;stroke-linejoin:miter;\" x=\"26.222545\" xlink:href=\"#m65e77d0cce\" y=\"115.92\"/>\r\n     <use style=\"fill:#3f3f3f;stroke:#3f3f3f;stroke-linejoin:miter;\" x=\"25.926975\" xlink:href=\"#m65e77d0cce\" y=\"115.92\"/>\r\n     <use style=\"fill:#3f3f3f;stroke:#3f3f3f;stroke-linejoin:miter;\" x=\"26.205636\" xlink:href=\"#m65e77d0cce\" y=\"115.92\"/>\r\n     <use style=\"fill:#3f3f3f;stroke:#3f3f3f;stroke-linejoin:miter;\" x=\"26.205636\" xlink:href=\"#m65e77d0cce\" y=\"115.92\"/>\r\n     <use style=\"fill:#3f3f3f;stroke:#3f3f3f;stroke-linejoin:miter;\" x=\"26.121091\" xlink:href=\"#m65e77d0cce\" y=\"115.92\"/>\r\n     <use style=\"fill:#3f3f3f;stroke:#3f3f3f;stroke-linejoin:miter;\" x=\"26.188727\" xlink:href=\"#m65e77d0cce\" y=\"115.92\"/>\r\n     <use style=\"fill:#3f3f3f;stroke:#3f3f3f;stroke-linejoin:miter;\" x=\"26.154909\" xlink:href=\"#m65e77d0cce\" y=\"115.92\"/>\r\n     <use style=\"fill:#3f3f3f;stroke:#3f3f3f;stroke-linejoin:miter;\" x=\"26.087273\" xlink:href=\"#m65e77d0cce\" y=\"115.92\"/>\r\n     <use style=\"fill:#3f3f3f;stroke:#3f3f3f;stroke-linejoin:miter;\" x=\"26.188727\" xlink:href=\"#m65e77d0cce\" y=\"115.92\"/>\r\n     <use style=\"fill:#3f3f3f;stroke:#3f3f3f;stroke-linejoin:miter;\" x=\"26.154909\" xlink:href=\"#m65e77d0cce\" y=\"115.92\"/>\r\n     <use style=\"fill:#3f3f3f;stroke:#3f3f3f;stroke-linejoin:miter;\" x=\"26.425455\" xlink:href=\"#m65e77d0cce\" y=\"115.92\"/>\r\n     <use style=\"fill:#3f3f3f;stroke:#3f3f3f;stroke-linejoin:miter;\" x=\"26.324\" xlink:href=\"#m65e77d0cce\" y=\"115.92\"/>\r\n     <use style=\"fill:#3f3f3f;stroke:#3f3f3f;stroke-linejoin:miter;\" x=\"26.324\" xlink:href=\"#m65e77d0cce\" y=\"115.92\"/>\r\n     <use style=\"fill:#3f3f3f;stroke:#3f3f3f;stroke-linejoin:miter;\" x=\"26.188727\" xlink:href=\"#m65e77d0cce\" y=\"115.92\"/>\r\n     <use style=\"fill:#3f3f3f;stroke:#3f3f3f;stroke-linejoin:miter;\" x=\"26.053455\" xlink:href=\"#m65e77d0cce\" y=\"115.92\"/>\r\n     <use style=\"fill:#3f3f3f;stroke:#3f3f3f;stroke-linejoin:miter;\" x=\"26.222545\" xlink:href=\"#m65e77d0cce\" y=\"115.92\"/>\r\n     <use style=\"fill:#3f3f3f;stroke:#3f3f3f;stroke-linejoin:miter;\" x=\"25.920549\" xlink:href=\"#m65e77d0cce\" y=\"115.92\"/>\r\n     <use style=\"fill:#3f3f3f;stroke:#3f3f3f;stroke-linejoin:miter;\" x=\"25.919873\" xlink:href=\"#m65e77d0cce\" y=\"115.92\"/>\r\n     <use style=\"fill:#3f3f3f;stroke:#3f3f3f;stroke-linejoin:miter;\" x=\"25.919873\" xlink:href=\"#m65e77d0cce\" y=\"115.92\"/>\r\n     <use style=\"fill:#3f3f3f;stroke:#3f3f3f;stroke-linejoin:miter;\" x=\"26.154909\" xlink:href=\"#m65e77d0cce\" y=\"115.92\"/>\r\n     <use style=\"fill:#3f3f3f;stroke:#3f3f3f;stroke-linejoin:miter;\" x=\"25.919873\" xlink:href=\"#m65e77d0cce\" y=\"115.92\"/>\r\n     <use style=\"fill:#3f3f3f;stroke:#3f3f3f;stroke-linejoin:miter;\" x=\"26.087273\" xlink:href=\"#m65e77d0cce\" y=\"115.92\"/>\r\n     <use style=\"fill:#3f3f3f;stroke:#3f3f3f;stroke-linejoin:miter;\" x=\"26.154909\" xlink:href=\"#m65e77d0cce\" y=\"115.92\"/>\r\n     <use style=\"fill:#3f3f3f;stroke:#3f3f3f;stroke-linejoin:miter;\" x=\"26.154909\" xlink:href=\"#m65e77d0cce\" y=\"115.92\"/>\r\n     <use style=\"fill:#3f3f3f;stroke:#3f3f3f;stroke-linejoin:miter;\" x=\"27.101818\" xlink:href=\"#m65e77d0cce\" y=\"115.92\"/>\r\n     <use style=\"fill:#3f3f3f;stroke:#3f3f3f;stroke-linejoin:miter;\" x=\"27.101818\" xlink:href=\"#m65e77d0cce\" y=\"115.92\"/>\r\n     <use style=\"fill:#3f3f3f;stroke:#3f3f3f;stroke-linejoin:miter;\" x=\"26.222545\" xlink:href=\"#m65e77d0cce\" y=\"115.92\"/>\r\n     <use style=\"fill:#3f3f3f;stroke:#3f3f3f;stroke-linejoin:miter;\" x=\"26.087273\" xlink:href=\"#m65e77d0cce\" y=\"115.92\"/>\r\n     <use style=\"fill:#3f3f3f;stroke:#3f3f3f;stroke-linejoin:miter;\" x=\"25.921564\" xlink:href=\"#m65e77d0cce\" y=\"115.92\"/>\r\n     <use style=\"fill:#3f3f3f;stroke:#3f3f3f;stroke-linejoin:miter;\" x=\"25.932385\" xlink:href=\"#m65e77d0cce\" y=\"115.92\"/>\r\n     <use style=\"fill:#3f3f3f;stroke:#3f3f3f;stroke-linejoin:miter;\" x=\"25.920887\" xlink:href=\"#m65e77d0cce\" y=\"115.92\"/>\r\n     <use style=\"fill:#3f3f3f;stroke:#3f3f3f;stroke-linejoin:miter;\" x=\"25.932385\" xlink:href=\"#m65e77d0cce\" y=\"115.92\"/>\r\n     <use style=\"fill:#3f3f3f;stroke:#3f3f3f;stroke-linejoin:miter;\" x=\"25.919873\" xlink:href=\"#m65e77d0cce\" y=\"115.92\"/>\r\n     <use style=\"fill:#3f3f3f;stroke:#3f3f3f;stroke-linejoin:miter;\" x=\"25.919704\" xlink:href=\"#m65e77d0cce\" y=\"115.92\"/>\r\n     <use style=\"fill:#3f3f3f;stroke:#3f3f3f;stroke-linejoin:miter;\" x=\"26.526909\" xlink:href=\"#m65e77d0cce\" y=\"115.92\"/>\r\n     <use style=\"fill:#3f3f3f;stroke:#3f3f3f;stroke-linejoin:miter;\" x=\"26.188727\" xlink:href=\"#m65e77d0cce\" y=\"115.92\"/>\r\n     <use style=\"fill:#3f3f3f;stroke:#3f3f3f;stroke-linejoin:miter;\" x=\"26.256025\" xlink:href=\"#m65e77d0cce\" y=\"115.92\"/>\r\n     <use style=\"fill:#3f3f3f;stroke:#3f3f3f;stroke-linejoin:miter;\" x=\"25.919704\" xlink:href=\"#m65e77d0cce\" y=\"115.92\"/>\r\n     <use style=\"fill:#3f3f3f;stroke:#3f3f3f;stroke-linejoin:miter;\" x=\"26.154909\" xlink:href=\"#m65e77d0cce\" y=\"115.92\"/>\r\n     <use style=\"fill:#3f3f3f;stroke:#3f3f3f;stroke-linejoin:miter;\" x=\"25.923931\" xlink:href=\"#m65e77d0cce\" y=\"115.92\"/>\r\n     <use style=\"fill:#3f3f3f;stroke:#3f3f3f;stroke-linejoin:miter;\" x=\"25.919704\" xlink:href=\"#m65e77d0cce\" y=\"115.92\"/>\r\n     <use style=\"fill:#3f3f3f;stroke:#3f3f3f;stroke-linejoin:miter;\" x=\"42.827273\" xlink:href=\"#m65e77d0cce\" y=\"115.92\"/>\r\n     <use style=\"fill:#3f3f3f;stroke:#3f3f3f;stroke-linejoin:miter;\" x=\"25.952\" xlink:href=\"#m65e77d0cce\" y=\"115.92\"/>\r\n     <use style=\"fill:#3f3f3f;stroke:#3f3f3f;stroke-linejoin:miter;\" x=\"25.919704\" xlink:href=\"#m65e77d0cce\" y=\"115.92\"/>\r\n     <use style=\"fill:#3f3f3f;stroke:#3f3f3f;stroke-linejoin:miter;\" x=\"26.002727\" xlink:href=\"#m65e77d0cce\" y=\"115.92\"/>\r\n     <use style=\"fill:#3f3f3f;stroke:#3f3f3f;stroke-linejoin:miter;\" x=\"26.087273\" xlink:href=\"#m65e77d0cce\" y=\"115.92\"/>\r\n     <use style=\"fill:#3f3f3f;stroke:#3f3f3f;stroke-linejoin:miter;\" x=\"26.425455\" xlink:href=\"#m65e77d0cce\" y=\"115.92\"/>\r\n     <use style=\"fill:#3f3f3f;stroke:#3f3f3f;stroke-linejoin:miter;\" x=\"26.188727\" xlink:href=\"#m65e77d0cce\" y=\"115.92\"/>\r\n     <use style=\"fill:#3f3f3f;stroke:#3f3f3f;stroke-linejoin:miter;\" x=\"26.425455\" xlink:href=\"#m65e77d0cce\" y=\"115.92\"/>\r\n     <use style=\"fill:#3f3f3f;stroke:#3f3f3f;stroke-linejoin:miter;\" x=\"25.985818\" xlink:href=\"#m65e77d0cce\" y=\"115.92\"/>\r\n     <use style=\"fill:#3f3f3f;stroke:#3f3f3f;stroke-linejoin:miter;\" x=\"26.154909\" xlink:href=\"#m65e77d0cce\" y=\"115.92\"/>\r\n     <use style=\"fill:#3f3f3f;stroke:#3f3f3f;stroke-linejoin:miter;\" x=\"25.985818\" xlink:href=\"#m65e77d0cce\" y=\"115.92\"/>\r\n     <use style=\"fill:#3f3f3f;stroke:#3f3f3f;stroke-linejoin:miter;\" x=\"26.222545\" xlink:href=\"#m65e77d0cce\" y=\"115.92\"/>\r\n     <use style=\"fill:#3f3f3f;stroke:#3f3f3f;stroke-linejoin:miter;\" x=\"25.952\" xlink:href=\"#m65e77d0cce\" y=\"115.92\"/>\r\n     <use style=\"fill:#3f3f3f;stroke:#3f3f3f;stroke-linejoin:miter;\" x=\"56.354545\" xlink:href=\"#m65e77d0cce\" y=\"115.92\"/>\r\n     <use style=\"fill:#3f3f3f;stroke:#3f3f3f;stroke-linejoin:miter;\" x=\"26.104182\" xlink:href=\"#m65e77d0cce\" y=\"115.92\"/>\r\n     <use style=\"fill:#3f3f3f;stroke:#3f3f3f;stroke-linejoin:miter;\" x=\"25.952\" xlink:href=\"#m65e77d0cce\" y=\"115.92\"/>\r\n     <use style=\"fill:#3f3f3f;stroke:#3f3f3f;stroke-linejoin:miter;\" x=\"25.920211\" xlink:href=\"#m65e77d0cce\" y=\"115.92\"/>\r\n     <use style=\"fill:#3f3f3f;stroke:#3f3f3f;stroke-linejoin:miter;\" x=\"25.958764\" xlink:href=\"#m65e77d0cce\" y=\"115.92\"/>\r\n     <use style=\"fill:#3f3f3f;stroke:#3f3f3f;stroke-linejoin:miter;\" x=\"26.526909\" xlink:href=\"#m65e77d0cce\" y=\"115.92\"/>\r\n     <use style=\"fill:#3f3f3f;stroke:#3f3f3f;stroke-linejoin:miter;\" x=\"26.256364\" xlink:href=\"#m65e77d0cce\" y=\"115.92\"/>\r\n     <use style=\"fill:#3f3f3f;stroke:#3f3f3f;stroke-linejoin:miter;\" x=\"25.920042\" xlink:href=\"#m65e77d0cce\" y=\"115.92\"/>\r\n     <use style=\"fill:#3f3f3f;stroke:#3f3f3f;stroke-linejoin:miter;\" x=\"25.920718\" xlink:href=\"#m65e77d0cce\" y=\"115.92\"/>\r\n     <use style=\"fill:#3f3f3f;stroke:#3f3f3f;stroke-linejoin:miter;\" x=\"25.919873\" xlink:href=\"#m65e77d0cce\" y=\"115.92\"/>\r\n     <use style=\"fill:#3f3f3f;stroke:#3f3f3f;stroke-linejoin:miter;\" x=\"26.154909\" xlink:href=\"#m65e77d0cce\" y=\"115.92\"/>\r\n     <use style=\"fill:#3f3f3f;stroke:#3f3f3f;stroke-linejoin:miter;\" x=\"26.188727\" xlink:href=\"#m65e77d0cce\" y=\"115.92\"/>\r\n     <use style=\"fill:#3f3f3f;stroke:#3f3f3f;stroke-linejoin:miter;\" x=\"26.222545\" xlink:href=\"#m65e77d0cce\" y=\"115.92\"/>\r\n     <use style=\"fill:#3f3f3f;stroke:#3f3f3f;stroke-linejoin:miter;\" x=\"26.188727\" xlink:href=\"#m65e77d0cce\" y=\"115.92\"/>\r\n     <use style=\"fill:#3f3f3f;stroke:#3f3f3f;stroke-linejoin:miter;\" x=\"26.080509\" xlink:href=\"#m65e77d0cce\" y=\"115.92\"/>\r\n     <use style=\"fill:#3f3f3f;stroke:#3f3f3f;stroke-linejoin:miter;\" x=\"25.921225\" xlink:href=\"#m65e77d0cce\" y=\"115.92\"/>\r\n     <use style=\"fill:#3f3f3f;stroke:#3f3f3f;stroke-linejoin:miter;\" x=\"26.493091\" xlink:href=\"#m65e77d0cce\" y=\"115.92\"/>\r\n     <use style=\"fill:#3f3f3f;stroke:#3f3f3f;stroke-linejoin:miter;\" x=\"25.920887\" xlink:href=\"#m65e77d0cce\" y=\"115.92\"/>\r\n     <use style=\"fill:#3f3f3f;stroke:#3f3f3f;stroke-linejoin:miter;\" x=\"26.222545\" xlink:href=\"#m65e77d0cce\" y=\"115.92\"/>\r\n     <use style=\"fill:#3f3f3f;stroke:#3f3f3f;stroke-linejoin:miter;\" x=\"26.222545\" xlink:href=\"#m65e77d0cce\" y=\"115.92\"/>\r\n     <use style=\"fill:#3f3f3f;stroke:#3f3f3f;stroke-linejoin:miter;\" x=\"26.425455\" xlink:href=\"#m65e77d0cce\" y=\"115.92\"/>\r\n     <use style=\"fill:#3f3f3f;stroke:#3f3f3f;stroke-linejoin:miter;\" x=\"26.222545\" xlink:href=\"#m65e77d0cce\" y=\"115.92\"/>\r\n     <use style=\"fill:#3f3f3f;stroke:#3f3f3f;stroke-linejoin:miter;\" x=\"26.121091\" xlink:href=\"#m65e77d0cce\" y=\"115.92\"/>\r\n     <use style=\"fill:#3f3f3f;stroke:#3f3f3f;stroke-linejoin:miter;\" x=\"26.222545\" xlink:href=\"#m65e77d0cce\" y=\"115.92\"/>\r\n     <use style=\"fill:#3f3f3f;stroke:#3f3f3f;stroke-linejoin:miter;\" x=\"26.154909\" xlink:href=\"#m65e77d0cce\" y=\"115.92\"/>\r\n     <use style=\"fill:#3f3f3f;stroke:#3f3f3f;stroke-linejoin:miter;\" x=\"25.920211\" xlink:href=\"#m65e77d0cce\" y=\"115.92\"/>\r\n     <use style=\"fill:#3f3f3f;stroke:#3f3f3f;stroke-linejoin:miter;\" x=\"26.222545\" xlink:href=\"#m65e77d0cce\" y=\"115.92\"/>\r\n     <use style=\"fill:#3f3f3f;stroke:#3f3f3f;stroke-linejoin:miter;\" x=\"25.919873\" xlink:href=\"#m65e77d0cce\" y=\"115.92\"/>\r\n     <use style=\"fill:#3f3f3f;stroke:#3f3f3f;stroke-linejoin:miter;\" x=\"26.222545\" xlink:href=\"#m65e77d0cce\" y=\"115.92\"/>\r\n     <use style=\"fill:#3f3f3f;stroke:#3f3f3f;stroke-linejoin:miter;\" x=\"26.493091\" xlink:href=\"#m65e77d0cce\" y=\"115.92\"/>\r\n     <use style=\"fill:#3f3f3f;stroke:#3f3f3f;stroke-linejoin:miter;\" x=\"26.188727\" xlink:href=\"#m65e77d0cce\" y=\"115.92\"/>\r\n     <use style=\"fill:#3f3f3f;stroke:#3f3f3f;stroke-linejoin:miter;\" x=\"26.087273\" xlink:href=\"#m65e77d0cce\" y=\"115.92\"/>\r\n     <use style=\"fill:#3f3f3f;stroke:#3f3f3f;stroke-linejoin:miter;\" x=\"25.920211\" xlink:href=\"#m65e77d0cce\" y=\"115.92\"/>\r\n     <use style=\"fill:#3f3f3f;stroke:#3f3f3f;stroke-linejoin:miter;\" x=\"26.205636\" xlink:href=\"#m65e77d0cce\" y=\"115.92\"/>\r\n     <use style=\"fill:#3f3f3f;stroke:#3f3f3f;stroke-linejoin:miter;\" x=\"25.919704\" xlink:href=\"#m65e77d0cce\" y=\"115.92\"/>\r\n     <use style=\"fill:#3f3f3f;stroke:#3f3f3f;stroke-linejoin:miter;\" x=\"26.087273\" xlink:href=\"#m65e77d0cce\" y=\"115.92\"/>\r\n     <use style=\"fill:#3f3f3f;stroke:#3f3f3f;stroke-linejoin:miter;\" x=\"25.919873\" xlink:href=\"#m65e77d0cce\" y=\"115.92\"/>\r\n     <use style=\"fill:#3f3f3f;stroke:#3f3f3f;stroke-linejoin:miter;\" x=\"25.920887\" xlink:href=\"#m65e77d0cce\" y=\"115.92\"/>\r\n     <use style=\"fill:#3f3f3f;stroke:#3f3f3f;stroke-linejoin:miter;\" x=\"25.919873\" xlink:href=\"#m65e77d0cce\" y=\"115.92\"/>\r\n     <use style=\"fill:#3f3f3f;stroke:#3f3f3f;stroke-linejoin:miter;\" x=\"26.205636\" xlink:href=\"#m65e77d0cce\" y=\"115.92\"/>\r\n     <use style=\"fill:#3f3f3f;stroke:#3f3f3f;stroke-linejoin:miter;\" x=\"25.920211\" xlink:href=\"#m65e77d0cce\" y=\"115.92\"/>\r\n     <use style=\"fill:#3f3f3f;stroke:#3f3f3f;stroke-linejoin:miter;\" x=\"25.919873\" xlink:href=\"#m65e77d0cce\" y=\"115.92\"/>\r\n     <use style=\"fill:#3f3f3f;stroke:#3f3f3f;stroke-linejoin:miter;\" x=\"25.919873\" xlink:href=\"#m65e77d0cce\" y=\"115.92\"/>\r\n     <use style=\"fill:#3f3f3f;stroke:#3f3f3f;stroke-linejoin:miter;\" x=\"25.919873\" xlink:href=\"#m65e77d0cce\" y=\"115.92\"/>\r\n     <use style=\"fill:#3f3f3f;stroke:#3f3f3f;stroke-linejoin:miter;\" x=\"26.053455\" xlink:href=\"#m65e77d0cce\" y=\"115.92\"/>\r\n     <use style=\"fill:#3f3f3f;stroke:#3f3f3f;stroke-linejoin:miter;\" x=\"25.919704\" xlink:href=\"#m65e77d0cce\" y=\"115.92\"/>\r\n     <use style=\"fill:#3f3f3f;stroke:#3f3f3f;stroke-linejoin:miter;\" x=\"26.222545\" xlink:href=\"#m65e77d0cce\" y=\"115.92\"/>\r\n     <use style=\"fill:#3f3f3f;stroke:#3f3f3f;stroke-linejoin:miter;\" x=\"26.222545\" xlink:href=\"#m65e77d0cce\" y=\"115.92\"/>\r\n     <use style=\"fill:#3f3f3f;stroke:#3f3f3f;stroke-linejoin:miter;\" x=\"26.188727\" xlink:href=\"#m65e77d0cce\" y=\"115.92\"/>\r\n     <use style=\"fill:#3f3f3f;stroke:#3f3f3f;stroke-linejoin:miter;\" x=\"25.975673\" xlink:href=\"#m65e77d0cce\" y=\"115.92\"/>\r\n     <use style=\"fill:#3f3f3f;stroke:#3f3f3f;stroke-linejoin:miter;\" x=\"25.921902\" xlink:href=\"#m65e77d0cce\" y=\"115.92\"/>\r\n     <use style=\"fill:#3f3f3f;stroke:#3f3f3f;stroke-linejoin:miter;\" x=\"25.992582\" xlink:href=\"#m65e77d0cce\" y=\"115.92\"/>\r\n     <use style=\"fill:#3f3f3f;stroke:#3f3f3f;stroke-linejoin:miter;\" x=\"25.919704\" xlink:href=\"#m65e77d0cce\" y=\"115.92\"/>\r\n     <use style=\"fill:#3f3f3f;stroke:#3f3f3f;stroke-linejoin:miter;\" x=\"25.920549\" xlink:href=\"#m65e77d0cce\" y=\"115.92\"/>\r\n     <use style=\"fill:#3f3f3f;stroke:#3f3f3f;stroke-linejoin:miter;\" x=\"25.952\" xlink:href=\"#m65e77d0cce\" y=\"115.92\"/>\r\n     <use style=\"fill:#3f3f3f;stroke:#3f3f3f;stroke-linejoin:miter;\" x=\"25.919704\" xlink:href=\"#m65e77d0cce\" y=\"115.92\"/>\r\n     <use style=\"fill:#3f3f3f;stroke:#3f3f3f;stroke-linejoin:miter;\" x=\"25.919873\" xlink:href=\"#m65e77d0cce\" y=\"115.92\"/>\r\n     <use style=\"fill:#3f3f3f;stroke:#3f3f3f;stroke-linejoin:miter;\" x=\"26.425455\" xlink:href=\"#m65e77d0cce\" y=\"115.92\"/>\r\n     <use style=\"fill:#3f3f3f;stroke:#3f3f3f;stroke-linejoin:miter;\" x=\"25.920211\" xlink:href=\"#m65e77d0cce\" y=\"115.92\"/>\r\n     <use style=\"fill:#3f3f3f;stroke:#3f3f3f;stroke-linejoin:miter;\" x=\"26.425455\" xlink:href=\"#m65e77d0cce\" y=\"115.92\"/>\r\n     <use style=\"fill:#3f3f3f;stroke:#3f3f3f;stroke-linejoin:miter;\" x=\"25.919873\" xlink:href=\"#m65e77d0cce\" y=\"115.92\"/>\r\n     <use style=\"fill:#3f3f3f;stroke:#3f3f3f;stroke-linejoin:miter;\" x=\"25.919873\" xlink:href=\"#m65e77d0cce\" y=\"115.92\"/>\r\n     <use style=\"fill:#3f3f3f;stroke:#3f3f3f;stroke-linejoin:miter;\" x=\"26.425455\" xlink:href=\"#m65e77d0cce\" y=\"115.92\"/>\r\n     <use style=\"fill:#3f3f3f;stroke:#3f3f3f;stroke-linejoin:miter;\" x=\"26.222545\" xlink:href=\"#m65e77d0cce\" y=\"115.92\"/>\r\n     <use style=\"fill:#3f3f3f;stroke:#3f3f3f;stroke-linejoin:miter;\" x=\"26.019636\" xlink:href=\"#m65e77d0cce\" y=\"115.92\"/>\r\n     <use style=\"fill:#3f3f3f;stroke:#3f3f3f;stroke-linejoin:miter;\" x=\"26.154909\" xlink:href=\"#m65e77d0cce\" y=\"115.92\"/>\r\n     <use style=\"fill:#3f3f3f;stroke:#3f3f3f;stroke-linejoin:miter;\" x=\"26.256364\" xlink:href=\"#m65e77d0cce\" y=\"115.92\"/>\r\n     <use style=\"fill:#3f3f3f;stroke:#3f3f3f;stroke-linejoin:miter;\" x=\"25.919704\" xlink:href=\"#m65e77d0cce\" y=\"115.92\"/>\r\n     <use style=\"fill:#3f3f3f;stroke:#3f3f3f;stroke-linejoin:miter;\" x=\"26.087273\" xlink:href=\"#m65e77d0cce\" y=\"115.92\"/>\r\n     <use style=\"fill:#3f3f3f;stroke:#3f3f3f;stroke-linejoin:miter;\" x=\"26.222545\" xlink:href=\"#m65e77d0cce\" y=\"115.92\"/>\r\n     <use style=\"fill:#3f3f3f;stroke:#3f3f3f;stroke-linejoin:miter;\" x=\"26.222545\" xlink:href=\"#m65e77d0cce\" y=\"115.92\"/>\r\n     <use style=\"fill:#3f3f3f;stroke:#3f3f3f;stroke-linejoin:miter;\" x=\"26.154909\" xlink:href=\"#m65e77d0cce\" y=\"115.92\"/>\r\n     <use style=\"fill:#3f3f3f;stroke:#3f3f3f;stroke-linejoin:miter;\" x=\"26.087273\" xlink:href=\"#m65e77d0cce\" y=\"115.92\"/>\r\n     <use style=\"fill:#3f3f3f;stroke:#3f3f3f;stroke-linejoin:miter;\" x=\"25.985818\" xlink:href=\"#m65e77d0cce\" y=\"115.92\"/>\r\n     <use style=\"fill:#3f3f3f;stroke:#3f3f3f;stroke-linejoin:miter;\" x=\"26.763636\" xlink:href=\"#m65e77d0cce\" y=\"115.92\"/>\r\n     <use style=\"fill:#3f3f3f;stroke:#3f3f3f;stroke-linejoin:miter;\" x=\"26.763636\" xlink:href=\"#m65e77d0cce\" y=\"115.92\"/>\r\n     <use style=\"fill:#3f3f3f;stroke:#3f3f3f;stroke-linejoin:miter;\" x=\"25.922578\" xlink:href=\"#m65e77d0cce\" y=\"115.92\"/>\r\n     <use style=\"fill:#3f3f3f;stroke:#3f3f3f;stroke-linejoin:miter;\" x=\"28.454545\" xlink:href=\"#m65e77d0cce\" y=\"115.92\"/>\r\n     <use style=\"fill:#3f3f3f;stroke:#3f3f3f;stroke-linejoin:miter;\" x=\"26.932727\" xlink:href=\"#m65e77d0cce\" y=\"115.92\"/>\r\n     <use style=\"fill:#3f3f3f;stroke:#3f3f3f;stroke-linejoin:miter;\" x=\"26.932727\" xlink:href=\"#m65e77d0cce\" y=\"115.92\"/>\r\n     <use style=\"fill:#3f3f3f;stroke:#3f3f3f;stroke-linejoin:miter;\" x=\"25.920211\" xlink:href=\"#m65e77d0cce\" y=\"115.92\"/>\r\n     <use style=\"fill:#3f3f3f;stroke:#3f3f3f;stroke-linejoin:miter;\" x=\"25.920042\" xlink:href=\"#m65e77d0cce\" y=\"115.92\"/>\r\n     <use style=\"fill:#3f3f3f;stroke:#3f3f3f;stroke-linejoin:miter;\" x=\"25.920211\" xlink:href=\"#m65e77d0cce\" y=\"115.92\"/>\r\n     <use style=\"fill:#3f3f3f;stroke:#3f3f3f;stroke-linejoin:miter;\" x=\"25.920211\" xlink:href=\"#m65e77d0cce\" y=\"115.92\"/>\r\n     <use style=\"fill:#3f3f3f;stroke:#3f3f3f;stroke-linejoin:miter;\" x=\"26.222545\" xlink:href=\"#m65e77d0cce\" y=\"115.92\"/>\r\n     <use style=\"fill:#3f3f3f;stroke:#3f3f3f;stroke-linejoin:miter;\" x=\"25.919873\" xlink:href=\"#m65e77d0cce\" y=\"115.92\"/>\r\n     <use style=\"fill:#3f3f3f;stroke:#3f3f3f;stroke-linejoin:miter;\" x=\"26.188727\" xlink:href=\"#m65e77d0cce\" y=\"115.92\"/>\r\n     <use style=\"fill:#3f3f3f;stroke:#3f3f3f;stroke-linejoin:miter;\" x=\"178.1\" xlink:href=\"#m65e77d0cce\" y=\"115.92\"/>\r\n     <use style=\"fill:#3f3f3f;stroke:#3f3f3f;stroke-linejoin:miter;\" x=\"71.572727\" xlink:href=\"#m65e77d0cce\" y=\"115.92\"/>\r\n     <use style=\"fill:#3f3f3f;stroke:#3f3f3f;stroke-linejoin:miter;\" x=\"25.920042\" xlink:href=\"#m65e77d0cce\" y=\"115.92\"/>\r\n     <use style=\"fill:#3f3f3f;stroke:#3f3f3f;stroke-linejoin:miter;\" x=\"25.923255\" xlink:href=\"#m65e77d0cce\" y=\"115.92\"/>\r\n     <use style=\"fill:#3f3f3f;stroke:#3f3f3f;stroke-linejoin:miter;\" x=\"26.526909\" xlink:href=\"#m65e77d0cce\" y=\"115.92\"/>\r\n     <use style=\"fill:#3f3f3f;stroke:#3f3f3f;stroke-linejoin:miter;\" x=\"25.920042\" xlink:href=\"#m65e77d0cce\" y=\"115.92\"/>\r\n    </g>\r\n   </g>\r\n   <g id=\"line2d_12\">\r\n    <path clip-path=\"url(#p4a31d75158)\" d=\"M 25.918791 28.944 \r\nL 25.918791 202.896 \r\n\" style=\"fill:none;stroke:#3f3f3f;stroke-linecap:square;stroke-width:1.5;\"/>\r\n   </g>\r\n   <g id=\"patch_4\">\r\n    <path d=\"M 10.7 224.64 \r\nL 10.7 7.2 \r\n\" style=\"fill:none;stroke:#000000;stroke-linecap:square;stroke-linejoin:miter;stroke-width:0.8;\"/>\r\n   </g>\r\n   <g id=\"patch_5\">\r\n    <path d=\"M 345.5 224.64 \r\nL 345.5 7.2 \r\n\" style=\"fill:none;stroke:#000000;stroke-linecap:square;stroke-linejoin:miter;stroke-width:0.8;\"/>\r\n   </g>\r\n   <g id=\"patch_6\">\r\n    <path d=\"M 10.7 224.64 \r\nL 345.5 224.64 \r\n\" style=\"fill:none;stroke:#000000;stroke-linecap:square;stroke-linejoin:miter;stroke-width:0.8;\"/>\r\n   </g>\r\n   <g id=\"patch_7\">\r\n    <path d=\"M 10.7 7.2 \r\nL 345.5 7.2 \r\n\" style=\"fill:none;stroke:#000000;stroke-linecap:square;stroke-linejoin:miter;stroke-width:0.8;\"/>\r\n   </g>\r\n  </g>\r\n </g>\r\n <defs>\r\n  <clipPath id=\"p4a31d75158\">\r\n   <rect height=\"217.44\" width=\"334.8\" x=\"10.7\" y=\"7.2\"/>\r\n  </clipPath>\r\n </defs>\r\n</svg>\r\n",
      "image/png": "[encoded data removed]"
     },
     "metadata": {
      "needs_background": "light"
     }
    }
   ],
   "source": [
    "import seaborn as sns\n",
    "\n",
    "sns.boxplot(data['Price'])"
   ]
  },
  {
   "cell_type": "code",
   "execution_count": 20,
   "metadata": {},
   "outputs": [
    {
     "output_type": "execute_result",
     "data": {
      "text/plain": [
       "      Price                                        Description       Kind  \\\n",
       "0       3.7  \\r\\n                             \\r\\n         ...       CCMN   \n",
       "1       3.0  \\r\\n                             \\r\\n         ...  Phòng trọ   \n",
       "2       4.0  \\r\\n                             \\r\\n         ...       CCMN   \n",
       "3       7.0  \\r\\n                             \\r\\n         ...  Phòng trọ   \n",
       "5       3.8  \\r\\n                             \\r\\n         ...       CCMN   \n",
       "...     ...                                                ...        ...   \n",
       "3173   15.0  \\r\\n                             \\r\\n         ...  Phòng trọ   \n",
       "3174    2.5  \\r\\n                             \\r\\n         ...  Phòng trọ   \n",
       "3176    3.7  \\r\\n                             \\r\\n         ...  Phòng trọ   \n",
       "3177    5.5  \\r\\n                             \\r\\n         ...       CCMN   \n",
       "3178    1.3  \\r\\n                             \\r\\n         ...  Phòng trọ   \n",
       "\n",
       "                                               Location  Size  Parking_slot  \\\n",
       "0     Đường Phạm Hùng, Phường Mỹ Đình 1, Nam Từ Liêm...    28             0   \n",
       "1     Đường Dương Văn Bé, Phường Vĩnh Tuy, Hai Bà T...    30             1   \n",
       "2     Đường Phạm Hùng, Phường Trung Hòa, Cầu Giấy, H...    32             0   \n",
       "3         đường Võng Thị, Phường Bưởi, Tây Hồ, Hà Nội    50             1   \n",
       "5     Đường Đồng Me, Phường Mễ Trì, Nam Từ Liêm, Hà...    36             1   \n",
       "...                                                 ...   ...           ...   \n",
       "3173  374c, đường Mỹ Đình, Phường Mỹ Đình 1, Nam Từ ...    30             0   \n",
       "3174  28 402/42/22 Đường Đình Thôn, Phường Mỹ Đình 1...    30             1   \n",
       "3176  Đường Lê Quang Đạo, Phường Phú Đô, Nam Từ Liêm...    30             0   \n",
       "3177  Ngõ 23 Đường Nguyễn Thị Định, Phường Trung Hòa...    35             0   \n",
       "3178                                Hoàng Mai, Hà Nội    10             1   \n",
       "\n",
       "      Air_condition  Heater_shower  Furnish  Inner_toilet  Size_total_bool  \\\n",
       "0                 1              1        1             1                0   \n",
       "1                 0              1        0             1                0   \n",
       "2                 1              1        1             0                0   \n",
       "3                 0              1        1             0                0   \n",
       "5                 0              0        1             0                0   \n",
       "...             ...            ...      ...           ...              ...   \n",
       "3173              0              0        0             0                0   \n",
       "3174              0              1        0             0                0   \n",
       "3176              1              1        1             1                0   \n",
       "3177              0              0        0             0                0   \n",
       "3178              0              1        0             0                0   \n",
       "\n",
       "            Source  \n",
       "0     thuephongtro  \n",
       "1     thuephongtro  \n",
       "2     thuephongtro  \n",
       "3     thuephongtro  \n",
       "5     thuephongtro  \n",
       "...            ...  \n",
       "3173  thuephongtro  \n",
       "3174  thuephongtro  \n",
       "3176  thuephongtro  \n",
       "3177  thuephongtro  \n",
       "3178  thuephongtro  \n",
       "\n",
       "[2996 rows x 12 columns]"
      ],
      "text/html": "<div>\n<style scoped>\n    .dataframe tbody tr th:only-of-type {\n        vertical-align: middle;\n    }\n\n    .dataframe tbody tr th {\n        vertical-align: top;\n    }\n\n    .dataframe thead th {\n        text-align: right;\n    }\n</style>\n<table border=\"1\" class=\"dataframe\">\n  <thead>\n    <tr style=\"text-align: right;\">\n      <th></th>\n      <th>Price</th>\n      <th>Description</th>\n      <th>Kind</th>\n      <th>Location</th>\n      <th>Size</th>\n      <th>Parking_slot</th>\n      <th>Air_condition</th>\n      <th>Heater_shower</th>\n      <th>Furnish</th>\n      <th>Inner_toilet</th>\n      <th>Size_total_bool</th>\n      <th>Source</th>\n    </tr>\n  </thead>\n  <tbody>\n    <tr>\n      <th>0</th>\n      <td>3.7</td>\n      <td>\\r\\n                             \\r\\n         ...</td>\n      <td>CCMN</td>\n      <td>Đường Phạm Hùng, Phường Mỹ Đình 1, Nam Từ Liêm...</td>\n      <td>28</td>\n      <td>0</td>\n      <td>1</td>\n      <td>1</td>\n      <td>1</td>\n      <td>1</td>\n      <td>0</td>\n      <td>thuephongtro</td>\n    </tr>\n    <tr>\n      <th>1</th>\n      <td>3.0</td>\n      <td>\\r\\n                             \\r\\n         ...</td>\n      <td>Phòng trọ</td>\n      <td>Đường Dương Văn Bé, Phường Vĩnh Tuy, Hai Bà T...</td>\n      <td>30</td>\n      <td>1</td>\n      <td>0</td>\n      <td>1</td>\n      <td>0</td>\n      <td>1</td>\n      <td>0</td>\n      <td>thuephongtro</td>\n    </tr>\n    <tr>\n      <th>2</th>\n      <td>4.0</td>\n      <td>\\r\\n                             \\r\\n         ...</td>\n      <td>CCMN</td>\n      <td>Đường Phạm Hùng, Phường Trung Hòa, Cầu Giấy, H...</td>\n      <td>32</td>\n      <td>0</td>\n      <td>1</td>\n      <td>1</td>\n      <td>1</td>\n      <td>0</td>\n      <td>0</td>\n      <td>thuephongtro</td>\n    </tr>\n    <tr>\n      <th>3</th>\n      <td>7.0</td>\n      <td>\\r\\n                             \\r\\n         ...</td>\n      <td>Phòng trọ</td>\n      <td>đường Võng Thị, Phường Bưởi, Tây Hồ, Hà Nội</td>\n      <td>50</td>\n      <td>1</td>\n      <td>0</td>\n      <td>1</td>\n      <td>1</td>\n      <td>0</td>\n      <td>0</td>\n      <td>thuephongtro</td>\n    </tr>\n    <tr>\n      <th>5</th>\n      <td>3.8</td>\n      <td>\\r\\n                             \\r\\n         ...</td>\n      <td>CCMN</td>\n      <td>Đường Đồng Me, Phường Mễ Trì, Nam Từ Liêm, Hà...</td>\n      <td>36</td>\n      <td>1</td>\n      <td>0</td>\n      <td>0</td>\n      <td>1</td>\n      <td>0</td>\n      <td>0</td>\n      <td>thuephongtro</td>\n    </tr>\n    <tr>\n      <th>...</th>\n      <td>...</td>\n      <td>...</td>\n      <td>...</td>\n      <td>...</td>\n      <td>...</td>\n      <td>...</td>\n      <td>...</td>\n      <td>...</td>\n      <td>...</td>\n      <td>...</td>\n      <td>...</td>\n      <td>...</td>\n    </tr>\n    <tr>\n      <th>3173</th>\n      <td>15.0</td>\n      <td>\\r\\n                             \\r\\n         ...</td>\n      <td>Phòng trọ</td>\n      <td>374c, đường Mỹ Đình, Phường Mỹ Đình 1, Nam Từ ...</td>\n      <td>30</td>\n      <td>0</td>\n      <td>0</td>\n      <td>0</td>\n      <td>0</td>\n      <td>0</td>\n      <td>0</td>\n      <td>thuephongtro</td>\n    </tr>\n    <tr>\n      <th>3174</th>\n      <td>2.5</td>\n      <td>\\r\\n                             \\r\\n         ...</td>\n      <td>Phòng trọ</td>\n      <td>28 402/42/22 Đường Đình Thôn, Phường Mỹ Đình 1...</td>\n      <td>30</td>\n      <td>1</td>\n      <td>0</td>\n      <td>1</td>\n      <td>0</td>\n      <td>0</td>\n      <td>0</td>\n      <td>thuephongtro</td>\n    </tr>\n    <tr>\n      <th>3176</th>\n      <td>3.7</td>\n      <td>\\r\\n                             \\r\\n         ...</td>\n      <td>Phòng trọ</td>\n      <td>Đường Lê Quang Đạo, Phường Phú Đô, Nam Từ Liêm...</td>\n      <td>30</td>\n      <td>0</td>\n      <td>1</td>\n      <td>1</td>\n      <td>1</td>\n      <td>1</td>\n      <td>0</td>\n      <td>thuephongtro</td>\n    </tr>\n    <tr>\n      <th>3177</th>\n      <td>5.5</td>\n      <td>\\r\\n                             \\r\\n         ...</td>\n      <td>CCMN</td>\n      <td>Ngõ 23 Đường Nguyễn Thị Định, Phường Trung Hòa...</td>\n      <td>35</td>\n      <td>0</td>\n      <td>0</td>\n      <td>0</td>\n      <td>0</td>\n      <td>0</td>\n      <td>0</td>\n      <td>thuephongtro</td>\n    </tr>\n    <tr>\n      <th>3178</th>\n      <td>1.3</td>\n      <td>\\r\\n                             \\r\\n         ...</td>\n      <td>Phòng trọ</td>\n      <td>Hoàng Mai, Hà Nội</td>\n      <td>10</td>\n      <td>1</td>\n      <td>0</td>\n      <td>1</td>\n      <td>0</td>\n      <td>0</td>\n      <td>0</td>\n      <td>thuephongtro</td>\n    </tr>\n  </tbody>\n</table>\n<p>2996 rows × 12 columns</p>\n</div>"
     },
     "metadata": {},
     "execution_count": 20
    }
   ],
   "source": [
    "new_data = data[data['Price'] <= 15]\n",
    "new_data"
   ]
  },
  {
   "cell_type": "code",
   "execution_count": 21,
   "metadata": {},
   "outputs": [
    {
     "output_type": "execute_result",
     "data": {
      "text/plain": [
       "<matplotlib.axes._subplots.AxesSubplot at 0x222154b77c0>"
      ]
     },
     "metadata": {},
     "execution_count": 21
    },
    {
     "output_type": "display_data",
     "data": {
      "text/plain": "<Figure size 432x288 with 1 Axes>",
      "image/svg+xml": "<?xml version=\"1.0\" encoding=\"utf-8\" standalone=\"no\"?>\r\n<!DOCTYPE svg PUBLIC \"-//W3C//DTD SVG 1.1//EN\"\r\n  \"http://www.w3.org/Graphics/SVG/1.1/DTD/svg11.dtd\">\r\n<!-- Created with matplotlib (https://matplotlib.org/) -->\r\n<svg height=\"262.19625pt\" version=\"1.1\" viewBox=\"0 0 352.7 262.19625\" width=\"352.7pt\" xmlns=\"http://www.w3.org/2000/svg\" xmlns:xlink=\"http://www.w3.org/1999/xlink\">\r\n <defs>\r\n  <style type=\"text/css\">\r\n*{stroke-linecap:butt;stroke-linejoin:round;}\r\n  </style>\r\n </defs>\r\n <g id=\"figure_1\">\r\n  <g id=\"patch_1\">\r\n   <path d=\"M 0 262.19625 \r\nL 352.7 262.19625 \r\nL 352.7 0 \r\nL 0 0 \r\nz\r\n\" style=\"fill:none;\"/>\r\n  </g>\r\n  <g id=\"axes_1\">\r\n   <g id=\"patch_2\">\r\n    <path d=\"M 10.7 224.64 \r\nL 345.5 224.64 \r\nL 345.5 7.2 \r\nL 10.7 7.2 \r\nz\r\n\" style=\"fill:#ffffff;\"/>\r\n   </g>\r\n   <g id=\"patch_3\">\r\n    <path clip-path=\"url(#p694bda932d)\" d=\"M 46.209091 28.944 \r\nL 46.209091 202.896 \r\nL 74.616364 202.896 \r\nL 74.616364 28.944 \r\nL 46.209091 28.944 \r\nz\r\n\" style=\"fill:#3274a1;stroke:#3f3f3f;stroke-linejoin:miter;stroke-width:1.5;\"/>\r\n   </g>\r\n   <g id=\"matplotlib.axis_1\">\r\n    <g id=\"xtick_1\">\r\n     <g id=\"line2d_1\">\r\n      <defs>\r\n       <path d=\"M 0 0 \r\nL 0 3.5 \r\n\" id=\"mbdbe66e970\" style=\"stroke:#000000;stroke-width:0.8;\"/>\r\n      </defs>\r\n      <g>\r\n       <use style=\"stroke:#000000;stroke-width:0.8;\" x=\"25.918182\" xlink:href=\"#mbdbe66e970\" y=\"224.64\"/>\r\n      </g>\r\n     </g>\r\n     <g id=\"text_1\">\r\n      <!-- 0 -->\r\n      <defs>\r\n       <path d=\"M 31.78125 66.40625 \r\nQ 24.171875 66.40625 20.328125 58.90625 \r\nQ 16.5 51.421875 16.5 36.375 \r\nQ 16.5 21.390625 20.328125 13.890625 \r\nQ 24.171875 6.390625 31.78125 6.390625 \r\nQ 39.453125 6.390625 43.28125 13.890625 \r\nQ 47.125 21.390625 47.125 36.375 \r\nQ 47.125 51.421875 43.28125 58.90625 \r\nQ 39.453125 66.40625 31.78125 66.40625 \r\nz\r\nM 31.78125 74.21875 \r\nQ 44.046875 74.21875 50.515625 64.515625 \r\nQ 56.984375 54.828125 56.984375 36.375 \r\nQ 56.984375 17.96875 50.515625 8.265625 \r\nQ 44.046875 -1.421875 31.78125 -1.421875 \r\nQ 19.53125 -1.421875 13.0625 8.265625 \r\nQ 6.59375 17.96875 6.59375 36.375 \r\nQ 6.59375 54.828125 13.0625 64.515625 \r\nQ 19.53125 74.21875 31.78125 74.21875 \r\nz\r\n\" id=\"DejaVuSans-48\"/>\r\n      </defs>\r\n      <g transform=\"translate(22.736932 239.238437)scale(0.1 -0.1)\">\r\n       <use xlink:href=\"#DejaVuSans-48\"/>\r\n      </g>\r\n     </g>\r\n    </g>\r\n    <g id=\"xtick_2\">\r\n     <g id=\"line2d_2\">\r\n      <g>\r\n       <use style=\"stroke:#000000;stroke-width:0.8;\" x=\"66.5\" xlink:href=\"#mbdbe66e970\" y=\"224.64\"/>\r\n      </g>\r\n     </g>\r\n     <g id=\"text_2\">\r\n      <!-- 2 -->\r\n      <defs>\r\n       <path d=\"M 19.1875 8.296875 \r\nL 53.609375 8.296875 \r\nL 53.609375 0 \r\nL 7.328125 0 \r\nL 7.328125 8.296875 \r\nQ 12.9375 14.109375 22.625 23.890625 \r\nQ 32.328125 33.6875 34.8125 36.53125 \r\nQ 39.546875 41.84375 41.421875 45.53125 \r\nQ 43.3125 49.21875 43.3125 52.78125 \r\nQ 43.3125 58.59375 39.234375 62.25 \r\nQ 35.15625 65.921875 28.609375 65.921875 \r\nQ 23.96875 65.921875 18.8125 64.3125 \r\nQ 13.671875 62.703125 7.8125 59.421875 \r\nL 7.8125 69.390625 \r\nQ 13.765625 71.78125 18.9375 73 \r\nQ 24.125 74.21875 28.421875 74.21875 \r\nQ 39.75 74.21875 46.484375 68.546875 \r\nQ 53.21875 62.890625 53.21875 53.421875 \r\nQ 53.21875 48.921875 51.53125 44.890625 \r\nQ 49.859375 40.875 45.40625 35.40625 \r\nQ 44.1875 33.984375 37.640625 27.21875 \r\nQ 31.109375 20.453125 19.1875 8.296875 \r\nz\r\n\" id=\"DejaVuSans-50\"/>\r\n      </defs>\r\n      <g transform=\"translate(63.31875 239.238437)scale(0.1 -0.1)\">\r\n       <use xlink:href=\"#DejaVuSans-50\"/>\r\n      </g>\r\n     </g>\r\n    </g>\r\n    <g id=\"xtick_3\">\r\n     <g id=\"line2d_3\">\r\n      <g>\r\n       <use style=\"stroke:#000000;stroke-width:0.8;\" x=\"107.081818\" xlink:href=\"#mbdbe66e970\" y=\"224.64\"/>\r\n      </g>\r\n     </g>\r\n     <g id=\"text_3\">\r\n      <!-- 4 -->\r\n      <defs>\r\n       <path d=\"M 37.796875 64.3125 \r\nL 12.890625 25.390625 \r\nL 37.796875 25.390625 \r\nz\r\nM 35.203125 72.90625 \r\nL 47.609375 72.90625 \r\nL 47.609375 25.390625 \r\nL 58.015625 25.390625 \r\nL 58.015625 17.1875 \r\nL 47.609375 17.1875 \r\nL 47.609375 0 \r\nL 37.796875 0 \r\nL 37.796875 17.1875 \r\nL 4.890625 17.1875 \r\nL 4.890625 26.703125 \r\nz\r\n\" id=\"DejaVuSans-52\"/>\r\n      </defs>\r\n      <g transform=\"translate(103.900568 239.238437)scale(0.1 -0.1)\">\r\n       <use xlink:href=\"#DejaVuSans-52\"/>\r\n      </g>\r\n     </g>\r\n    </g>\r\n    <g id=\"xtick_4\">\r\n     <g id=\"line2d_4\">\r\n      <g>\r\n       <use style=\"stroke:#000000;stroke-width:0.8;\" x=\"147.663636\" xlink:href=\"#mbdbe66e970\" y=\"224.64\"/>\r\n      </g>\r\n     </g>\r\n     <g id=\"text_4\">\r\n      <!-- 6 -->\r\n      <defs>\r\n       <path d=\"M 33.015625 40.375 \r\nQ 26.375 40.375 22.484375 35.828125 \r\nQ 18.609375 31.296875 18.609375 23.390625 \r\nQ 18.609375 15.53125 22.484375 10.953125 \r\nQ 26.375 6.390625 33.015625 6.390625 \r\nQ 39.65625 6.390625 43.53125 10.953125 \r\nQ 47.40625 15.53125 47.40625 23.390625 \r\nQ 47.40625 31.296875 43.53125 35.828125 \r\nQ 39.65625 40.375 33.015625 40.375 \r\nz\r\nM 52.59375 71.296875 \r\nL 52.59375 62.3125 \r\nQ 48.875 64.0625 45.09375 64.984375 \r\nQ 41.3125 65.921875 37.59375 65.921875 \r\nQ 27.828125 65.921875 22.671875 59.328125 \r\nQ 17.53125 52.734375 16.796875 39.40625 \r\nQ 19.671875 43.65625 24.015625 45.921875 \r\nQ 28.375 48.1875 33.59375 48.1875 \r\nQ 44.578125 48.1875 50.953125 41.515625 \r\nQ 57.328125 34.859375 57.328125 23.390625 \r\nQ 57.328125 12.15625 50.6875 5.359375 \r\nQ 44.046875 -1.421875 33.015625 -1.421875 \r\nQ 20.359375 -1.421875 13.671875 8.265625 \r\nQ 6.984375 17.96875 6.984375 36.375 \r\nQ 6.984375 53.65625 15.1875 63.9375 \r\nQ 23.390625 74.21875 37.203125 74.21875 \r\nQ 40.921875 74.21875 44.703125 73.484375 \r\nQ 48.484375 72.75 52.59375 71.296875 \r\nz\r\n\" id=\"DejaVuSans-54\"/>\r\n      </defs>\r\n      <g transform=\"translate(144.482386 239.238437)scale(0.1 -0.1)\">\r\n       <use xlink:href=\"#DejaVuSans-54\"/>\r\n      </g>\r\n     </g>\r\n    </g>\r\n    <g id=\"xtick_5\">\r\n     <g id=\"line2d_5\">\r\n      <g>\r\n       <use style=\"stroke:#000000;stroke-width:0.8;\" x=\"188.245455\" xlink:href=\"#mbdbe66e970\" y=\"224.64\"/>\r\n      </g>\r\n     </g>\r\n     <g id=\"text_5\">\r\n      <!-- 8 -->\r\n      <defs>\r\n       <path d=\"M 31.78125 34.625 \r\nQ 24.75 34.625 20.71875 30.859375 \r\nQ 16.703125 27.09375 16.703125 20.515625 \r\nQ 16.703125 13.921875 20.71875 10.15625 \r\nQ 24.75 6.390625 31.78125 6.390625 \r\nQ 38.8125 6.390625 42.859375 10.171875 \r\nQ 46.921875 13.96875 46.921875 20.515625 \r\nQ 46.921875 27.09375 42.890625 30.859375 \r\nQ 38.875 34.625 31.78125 34.625 \r\nz\r\nM 21.921875 38.8125 \r\nQ 15.578125 40.375 12.03125 44.71875 \r\nQ 8.5 49.078125 8.5 55.328125 \r\nQ 8.5 64.0625 14.71875 69.140625 \r\nQ 20.953125 74.21875 31.78125 74.21875 \r\nQ 42.671875 74.21875 48.875 69.140625 \r\nQ 55.078125 64.0625 55.078125 55.328125 \r\nQ 55.078125 49.078125 51.53125 44.71875 \r\nQ 48 40.375 41.703125 38.8125 \r\nQ 48.828125 37.15625 52.796875 32.3125 \r\nQ 56.78125 27.484375 56.78125 20.515625 \r\nQ 56.78125 9.90625 50.3125 4.234375 \r\nQ 43.84375 -1.421875 31.78125 -1.421875 \r\nQ 19.734375 -1.421875 13.25 4.234375 \r\nQ 6.78125 9.90625 6.78125 20.515625 \r\nQ 6.78125 27.484375 10.78125 32.3125 \r\nQ 14.796875 37.15625 21.921875 38.8125 \r\nz\r\nM 18.3125 54.390625 \r\nQ 18.3125 48.734375 21.84375 45.5625 \r\nQ 25.390625 42.390625 31.78125 42.390625 \r\nQ 38.140625 42.390625 41.71875 45.5625 \r\nQ 45.3125 48.734375 45.3125 54.390625 \r\nQ 45.3125 60.0625 41.71875 63.234375 \r\nQ 38.140625 66.40625 31.78125 66.40625 \r\nQ 25.390625 66.40625 21.84375 63.234375 \r\nQ 18.3125 60.0625 18.3125 54.390625 \r\nz\r\n\" id=\"DejaVuSans-56\"/>\r\n      </defs>\r\n      <g transform=\"translate(185.064205 239.238437)scale(0.1 -0.1)\">\r\n       <use xlink:href=\"#DejaVuSans-56\"/>\r\n      </g>\r\n     </g>\r\n    </g>\r\n    <g id=\"xtick_6\">\r\n     <g id=\"line2d_6\">\r\n      <g>\r\n       <use style=\"stroke:#000000;stroke-width:0.8;\" x=\"228.827273\" xlink:href=\"#mbdbe66e970\" y=\"224.64\"/>\r\n      </g>\r\n     </g>\r\n     <g id=\"text_6\">\r\n      <!-- 10 -->\r\n      <defs>\r\n       <path d=\"M 12.40625 8.296875 \r\nL 28.515625 8.296875 \r\nL 28.515625 63.921875 \r\nL 10.984375 60.40625 \r\nL 10.984375 69.390625 \r\nL 28.421875 72.90625 \r\nL 38.28125 72.90625 \r\nL 38.28125 8.296875 \r\nL 54.390625 8.296875 \r\nL 54.390625 0 \r\nL 12.40625 0 \r\nz\r\n\" id=\"DejaVuSans-49\"/>\r\n      </defs>\r\n      <g transform=\"translate(222.464773 239.238437)scale(0.1 -0.1)\">\r\n       <use xlink:href=\"#DejaVuSans-49\"/>\r\n       <use x=\"63.623047\" xlink:href=\"#DejaVuSans-48\"/>\r\n      </g>\r\n     </g>\r\n    </g>\r\n    <g id=\"xtick_7\">\r\n     <g id=\"line2d_7\">\r\n      <g>\r\n       <use style=\"stroke:#000000;stroke-width:0.8;\" x=\"269.409091\" xlink:href=\"#mbdbe66e970\" y=\"224.64\"/>\r\n      </g>\r\n     </g>\r\n     <g id=\"text_7\">\r\n      <!-- 12 -->\r\n      <g transform=\"translate(263.046591 239.238437)scale(0.1 -0.1)\">\r\n       <use xlink:href=\"#DejaVuSans-49\"/>\r\n       <use x=\"63.623047\" xlink:href=\"#DejaVuSans-50\"/>\r\n      </g>\r\n     </g>\r\n    </g>\r\n    <g id=\"xtick_8\">\r\n     <g id=\"line2d_8\">\r\n      <g>\r\n       <use style=\"stroke:#000000;stroke-width:0.8;\" x=\"309.990909\" xlink:href=\"#mbdbe66e970\" y=\"224.64\"/>\r\n      </g>\r\n     </g>\r\n     <g id=\"text_8\">\r\n      <!-- 14 -->\r\n      <g transform=\"translate(303.628409 239.238437)scale(0.1 -0.1)\">\r\n       <use xlink:href=\"#DejaVuSans-49\"/>\r\n       <use x=\"63.623047\" xlink:href=\"#DejaVuSans-52\"/>\r\n      </g>\r\n     </g>\r\n    </g>\r\n    <g id=\"text_9\">\r\n     <!-- Price -->\r\n     <defs>\r\n      <path d=\"M 19.671875 64.796875 \r\nL 19.671875 37.40625 \r\nL 32.078125 37.40625 \r\nQ 38.96875 37.40625 42.71875 40.96875 \r\nQ 46.484375 44.53125 46.484375 51.125 \r\nQ 46.484375 57.671875 42.71875 61.234375 \r\nQ 38.96875 64.796875 32.078125 64.796875 \r\nz\r\nM 9.8125 72.90625 \r\nL 32.078125 72.90625 \r\nQ 44.34375 72.90625 50.609375 67.359375 \r\nQ 56.890625 61.8125 56.890625 51.125 \r\nQ 56.890625 40.328125 50.609375 34.8125 \r\nQ 44.34375 29.296875 32.078125 29.296875 \r\nL 19.671875 29.296875 \r\nL 19.671875 0 \r\nL 9.8125 0 \r\nz\r\n\" id=\"DejaVuSans-80\"/>\r\n      <path d=\"M 41.109375 46.296875 \r\nQ 39.59375 47.171875 37.8125 47.578125 \r\nQ 36.03125 48 33.890625 48 \r\nQ 26.265625 48 22.1875 43.046875 \r\nQ 18.109375 38.09375 18.109375 28.8125 \r\nL 18.109375 0 \r\nL 9.078125 0 \r\nL 9.078125 54.6875 \r\nL 18.109375 54.6875 \r\nL 18.109375 46.1875 \r\nQ 20.953125 51.171875 25.484375 53.578125 \r\nQ 30.03125 56 36.53125 56 \r\nQ 37.453125 56 38.578125 55.875 \r\nQ 39.703125 55.765625 41.0625 55.515625 \r\nz\r\n\" id=\"DejaVuSans-114\"/>\r\n      <path d=\"M 9.421875 54.6875 \r\nL 18.40625 54.6875 \r\nL 18.40625 0 \r\nL 9.421875 0 \r\nz\r\nM 9.421875 75.984375 \r\nL 18.40625 75.984375 \r\nL 18.40625 64.59375 \r\nL 9.421875 64.59375 \r\nz\r\n\" id=\"DejaVuSans-105\"/>\r\n      <path d=\"M 48.78125 52.59375 \r\nL 48.78125 44.1875 \r\nQ 44.96875 46.296875 41.140625 47.34375 \r\nQ 37.3125 48.390625 33.40625 48.390625 \r\nQ 24.65625 48.390625 19.8125 42.84375 \r\nQ 14.984375 37.3125 14.984375 27.296875 \r\nQ 14.984375 17.28125 19.8125 11.734375 \r\nQ 24.65625 6.203125 33.40625 6.203125 \r\nQ 37.3125 6.203125 41.140625 7.25 \r\nQ 44.96875 8.296875 48.78125 10.40625 \r\nL 48.78125 2.09375 \r\nQ 45.015625 0.34375 40.984375 -0.53125 \r\nQ 36.96875 -1.421875 32.421875 -1.421875 \r\nQ 20.0625 -1.421875 12.78125 6.34375 \r\nQ 5.515625 14.109375 5.515625 27.296875 \r\nQ 5.515625 40.671875 12.859375 48.328125 \r\nQ 20.21875 56 33.015625 56 \r\nQ 37.15625 56 41.109375 55.140625 \r\nQ 45.0625 54.296875 48.78125 52.59375 \r\nz\r\n\" id=\"DejaVuSans-99\"/>\r\n      <path d=\"M 56.203125 29.59375 \r\nL 56.203125 25.203125 \r\nL 14.890625 25.203125 \r\nQ 15.484375 15.921875 20.484375 11.0625 \r\nQ 25.484375 6.203125 34.421875 6.203125 \r\nQ 39.59375 6.203125 44.453125 7.46875 \r\nQ 49.3125 8.734375 54.109375 11.28125 \r\nL 54.109375 2.78125 \r\nQ 49.265625 0.734375 44.1875 -0.34375 \r\nQ 39.109375 -1.421875 33.890625 -1.421875 \r\nQ 20.796875 -1.421875 13.15625 6.1875 \r\nQ 5.515625 13.8125 5.515625 26.8125 \r\nQ 5.515625 40.234375 12.765625 48.109375 \r\nQ 20.015625 56 32.328125 56 \r\nQ 43.359375 56 49.78125 48.890625 \r\nQ 56.203125 41.796875 56.203125 29.59375 \r\nz\r\nM 47.21875 32.234375 \r\nQ 47.125 39.59375 43.09375 43.984375 \r\nQ 39.0625 48.390625 32.421875 48.390625 \r\nQ 24.90625 48.390625 20.390625 44.140625 \r\nQ 15.875 39.890625 15.1875 32.171875 \r\nz\r\n\" id=\"DejaVuSans-101\"/>\r\n     </defs>\r\n     <g transform=\"translate(165.902344 252.916562)scale(0.1 -0.1)\">\r\n      <use xlink:href=\"#DejaVuSans-80\"/>\r\n      <use x=\"58.552734\" xlink:href=\"#DejaVuSans-114\"/>\r\n      <use x=\"99.666016\" xlink:href=\"#DejaVuSans-105\"/>\r\n      <use x=\"127.449219\" xlink:href=\"#DejaVuSans-99\"/>\r\n      <use x=\"182.429688\" xlink:href=\"#DejaVuSans-101\"/>\r\n     </g>\r\n    </g>\r\n   </g>\r\n   <g id=\"matplotlib.axis_2\">\r\n    <g id=\"ytick_1\">\r\n     <g id=\"line2d_9\">\r\n      <defs>\r\n       <path d=\"M 0 0 \r\nL -3.5 0 \r\n\" id=\"mf2987c6166\" style=\"stroke:#000000;stroke-width:0.8;\"/>\r\n      </defs>\r\n      <g>\r\n       <use style=\"stroke:#000000;stroke-width:0.8;\" x=\"10.7\" xlink:href=\"#mf2987c6166\" y=\"115.92\"/>\r\n      </g>\r\n     </g>\r\n    </g>\r\n   </g>\r\n   <g id=\"line2d_10\">\r\n    <path clip-path=\"url(#p694bda932d)\" d=\"M 46.209091 115.92 \r\nL 25.918182 115.92 \r\n\" style=\"fill:none;stroke:#3f3f3f;stroke-linecap:square;stroke-width:1.5;\"/>\r\n   </g>\r\n   <g id=\"line2d_11\">\r\n    <path clip-path=\"url(#p694bda932d)\" d=\"M 74.616364 115.92 \r\nL 117.227273 115.92 \r\n\" style=\"fill:none;stroke:#3f3f3f;stroke-linecap:square;stroke-width:1.5;\"/>\r\n   </g>\r\n   <g id=\"line2d_12\">\r\n    <path clip-path=\"url(#p694bda932d)\" d=\"M 25.918182 72.432 \r\nL 25.918182 159.408 \r\n\" style=\"fill:none;stroke:#3f3f3f;stroke-linecap:square;stroke-width:1.5;\"/>\r\n   </g>\r\n   <g id=\"line2d_13\">\r\n    <path clip-path=\"url(#p694bda932d)\" d=\"M 117.227273 72.432 \r\nL 117.227273 159.408 \r\n\" style=\"fill:none;stroke:#3f3f3f;stroke-linecap:square;stroke-width:1.5;\"/>\r\n   </g>\r\n   <g id=\"line2d_14\">\r\n    <defs>\r\n     <path d=\"M 0 3.535534 \r\nL 2.12132 0 \r\nL 0 -3.535534 \r\nL -2.12132 0 \r\nz\r\n\" id=\"mcac5e1cbbf\" style=\"stroke:#3f3f3f;stroke-linejoin:miter;\"/>\r\n    </defs>\r\n    <g clip-path=\"url(#p694bda932d)\">\r\n     <use style=\"fill:#3f3f3f;stroke:#3f3f3f;stroke-linejoin:miter;\" x=\"167.954545\" xlink:href=\"#mcac5e1cbbf\" y=\"115.92\"/>\r\n     <use style=\"fill:#3f3f3f;stroke:#3f3f3f;stroke-linejoin:miter;\" x=\"127.372727\" xlink:href=\"#mcac5e1cbbf\" y=\"115.92\"/>\r\n     <use style=\"fill:#3f3f3f;stroke:#3f3f3f;stroke-linejoin:miter;\" x=\"157.809091\" xlink:href=\"#mcac5e1cbbf\" y=\"115.92\"/>\r\n     <use style=\"fill:#3f3f3f;stroke:#3f3f3f;stroke-linejoin:miter;\" x=\"121.285455\" xlink:href=\"#mcac5e1cbbf\" y=\"115.92\"/>\r\n     <use style=\"fill:#3f3f3f;stroke:#3f3f3f;stroke-linejoin:miter;\" x=\"157.809091\" xlink:href=\"#mcac5e1cbbf\" y=\"115.92\"/>\r\n     <use style=\"fill:#3f3f3f;stroke:#3f3f3f;stroke-linejoin:miter;\" x=\"167.954545\" xlink:href=\"#mcac5e1cbbf\" y=\"115.92\"/>\r\n     <use style=\"fill:#3f3f3f;stroke:#3f3f3f;stroke-linejoin:miter;\" x=\"137.518182\" xlink:href=\"#mcac5e1cbbf\" y=\"115.92\"/>\r\n     <use style=\"fill:#3f3f3f;stroke:#3f3f3f;stroke-linejoin:miter;\" x=\"157.809091\" xlink:href=\"#mcac5e1cbbf\" y=\"115.92\"/>\r\n     <use style=\"fill:#3f3f3f;stroke:#3f3f3f;stroke-linejoin:miter;\" x=\"143.605455\" xlink:href=\"#mcac5e1cbbf\" y=\"115.92\"/>\r\n     <use style=\"fill:#3f3f3f;stroke:#3f3f3f;stroke-linejoin:miter;\" x=\"147.663636\" xlink:href=\"#mcac5e1cbbf\" y=\"115.92\"/>\r\n     <use style=\"fill:#3f3f3f;stroke:#3f3f3f;stroke-linejoin:miter;\" x=\"147.663636\" xlink:href=\"#mcac5e1cbbf\" y=\"115.92\"/>\r\n     <use style=\"fill:#3f3f3f;stroke:#3f3f3f;stroke-linejoin:miter;\" x=\"157.809091\" xlink:href=\"#mcac5e1cbbf\" y=\"115.92\"/>\r\n     <use style=\"fill:#3f3f3f;stroke:#3f3f3f;stroke-linejoin:miter;\" x=\"127.372727\" xlink:href=\"#mcac5e1cbbf\" y=\"115.92\"/>\r\n     <use style=\"fill:#3f3f3f;stroke:#3f3f3f;stroke-linejoin:miter;\" x=\"127.372727\" xlink:href=\"#mcac5e1cbbf\" y=\"115.92\"/>\r\n     <use style=\"fill:#3f3f3f;stroke:#3f3f3f;stroke-linejoin:miter;\" x=\"188.245455\" xlink:href=\"#mcac5e1cbbf\" y=\"115.92\"/>\r\n     <use style=\"fill:#3f3f3f;stroke:#3f3f3f;stroke-linejoin:miter;\" x=\"127.372727\" xlink:href=\"#mcac5e1cbbf\" y=\"115.92\"/>\r\n     <use style=\"fill:#3f3f3f;stroke:#3f3f3f;stroke-linejoin:miter;\" x=\"127.372727\" xlink:href=\"#mcac5e1cbbf\" y=\"115.92\"/>\r\n     <use style=\"fill:#3f3f3f;stroke:#3f3f3f;stroke-linejoin:miter;\" x=\"127.372727\" xlink:href=\"#mcac5e1cbbf\" y=\"115.92\"/>\r\n     <use style=\"fill:#3f3f3f;stroke:#3f3f3f;stroke-linejoin:miter;\" x=\"188.245455\" xlink:href=\"#mcac5e1cbbf\" y=\"115.92\"/>\r\n     <use style=\"fill:#3f3f3f;stroke:#3f3f3f;stroke-linejoin:miter;\" x=\"127.372727\" xlink:href=\"#mcac5e1cbbf\" y=\"115.92\"/>\r\n     <use style=\"fill:#3f3f3f;stroke:#3f3f3f;stroke-linejoin:miter;\" x=\"137.518182\" xlink:href=\"#mcac5e1cbbf\" y=\"115.92\"/>\r\n     <use style=\"fill:#3f3f3f;stroke:#3f3f3f;stroke-linejoin:miter;\" x=\"289.7\" xlink:href=\"#mcac5e1cbbf\" y=\"115.92\"/>\r\n     <use style=\"fill:#3f3f3f;stroke:#3f3f3f;stroke-linejoin:miter;\" x=\"167.954545\" xlink:href=\"#mcac5e1cbbf\" y=\"115.92\"/>\r\n     <use style=\"fill:#3f3f3f;stroke:#3f3f3f;stroke-linejoin:miter;\" x=\"157.809091\" xlink:href=\"#mcac5e1cbbf\" y=\"115.92\"/>\r\n     <use style=\"fill:#3f3f3f;stroke:#3f3f3f;stroke-linejoin:miter;\" x=\"188.245455\" xlink:href=\"#mcac5e1cbbf\" y=\"115.92\"/>\r\n     <use style=\"fill:#3f3f3f;stroke:#3f3f3f;stroke-linejoin:miter;\" x=\"228.827273\" xlink:href=\"#mcac5e1cbbf\" y=\"115.92\"/>\r\n     <use style=\"fill:#3f3f3f;stroke:#3f3f3f;stroke-linejoin:miter;\" x=\"127.372727\" xlink:href=\"#mcac5e1cbbf\" y=\"115.92\"/>\r\n     <use style=\"fill:#3f3f3f;stroke:#3f3f3f;stroke-linejoin:miter;\" x=\"269.409091\" xlink:href=\"#mcac5e1cbbf\" y=\"115.92\"/>\r\n     <use style=\"fill:#3f3f3f;stroke:#3f3f3f;stroke-linejoin:miter;\" x=\"127.372727\" xlink:href=\"#mcac5e1cbbf\" y=\"115.92\"/>\r\n     <use style=\"fill:#3f3f3f;stroke:#3f3f3f;stroke-linejoin:miter;\" x=\"127.372727\" xlink:href=\"#mcac5e1cbbf\" y=\"115.92\"/>\r\n     <use style=\"fill:#3f3f3f;stroke:#3f3f3f;stroke-linejoin:miter;\" x=\"123.314545\" xlink:href=\"#mcac5e1cbbf\" y=\"115.92\"/>\r\n     <use style=\"fill:#3f3f3f;stroke:#3f3f3f;stroke-linejoin:miter;\" x=\"135.489091\" xlink:href=\"#mcac5e1cbbf\" y=\"115.92\"/>\r\n     <use style=\"fill:#3f3f3f;stroke:#3f3f3f;stroke-linejoin:miter;\" x=\"147.663636\" xlink:href=\"#mcac5e1cbbf\" y=\"115.92\"/>\r\n     <use style=\"fill:#3f3f3f;stroke:#3f3f3f;stroke-linejoin:miter;\" x=\"127.372727\" xlink:href=\"#mcac5e1cbbf\" y=\"115.92\"/>\r\n     <use style=\"fill:#3f3f3f;stroke:#3f3f3f;stroke-linejoin:miter;\" x=\"137.518182\" xlink:href=\"#mcac5e1cbbf\" y=\"115.92\"/>\r\n     <use style=\"fill:#3f3f3f;stroke:#3f3f3f;stroke-linejoin:miter;\" x=\"188.245455\" xlink:href=\"#mcac5e1cbbf\" y=\"115.92\"/>\r\n     <use style=\"fill:#3f3f3f;stroke:#3f3f3f;stroke-linejoin:miter;\" x=\"309.990909\" xlink:href=\"#mcac5e1cbbf\" y=\"115.92\"/>\r\n     <use style=\"fill:#3f3f3f;stroke:#3f3f3f;stroke-linejoin:miter;\" x=\"157.809091\" xlink:href=\"#mcac5e1cbbf\" y=\"115.92\"/>\r\n     <use style=\"fill:#3f3f3f;stroke:#3f3f3f;stroke-linejoin:miter;\" x=\"127.372727\" xlink:href=\"#mcac5e1cbbf\" y=\"115.92\"/>\r\n     <use style=\"fill:#3f3f3f;stroke:#3f3f3f;stroke-linejoin:miter;\" x=\"167.954545\" xlink:href=\"#mcac5e1cbbf\" y=\"115.92\"/>\r\n     <use style=\"fill:#3f3f3f;stroke:#3f3f3f;stroke-linejoin:miter;\" x=\"127.372727\" xlink:href=\"#mcac5e1cbbf\" y=\"115.92\"/>\r\n     <use style=\"fill:#3f3f3f;stroke:#3f3f3f;stroke-linejoin:miter;\" x=\"127.372727\" xlink:href=\"#mcac5e1cbbf\" y=\"115.92\"/>\r\n     <use style=\"fill:#3f3f3f;stroke:#3f3f3f;stroke-linejoin:miter;\" x=\"127.372727\" xlink:href=\"#mcac5e1cbbf\" y=\"115.92\"/>\r\n     <use style=\"fill:#3f3f3f;stroke:#3f3f3f;stroke-linejoin:miter;\" x=\"228.827273\" xlink:href=\"#mcac5e1cbbf\" y=\"115.92\"/>\r\n     <use style=\"fill:#3f3f3f;stroke:#3f3f3f;stroke-linejoin:miter;\" x=\"188.245455\" xlink:href=\"#mcac5e1cbbf\" y=\"115.92\"/>\r\n     <use style=\"fill:#3f3f3f;stroke:#3f3f3f;stroke-linejoin:miter;\" x=\"127.372727\" xlink:href=\"#mcac5e1cbbf\" y=\"115.92\"/>\r\n     <use style=\"fill:#3f3f3f;stroke:#3f3f3f;stroke-linejoin:miter;\" x=\"147.663636\" xlink:href=\"#mcac5e1cbbf\" y=\"115.92\"/>\r\n     <use style=\"fill:#3f3f3f;stroke:#3f3f3f;stroke-linejoin:miter;\" x=\"137.518182\" xlink:href=\"#mcac5e1cbbf\" y=\"115.92\"/>\r\n     <use style=\"fill:#3f3f3f;stroke:#3f3f3f;stroke-linejoin:miter;\" x=\"178.1\" xlink:href=\"#mcac5e1cbbf\" y=\"115.92\"/>\r\n     <use style=\"fill:#3f3f3f;stroke:#3f3f3f;stroke-linejoin:miter;\" x=\"127.372727\" xlink:href=\"#mcac5e1cbbf\" y=\"115.92\"/>\r\n     <use style=\"fill:#3f3f3f;stroke:#3f3f3f;stroke-linejoin:miter;\" x=\"208.536364\" xlink:href=\"#mcac5e1cbbf\" y=\"115.92\"/>\r\n     <use style=\"fill:#3f3f3f;stroke:#3f3f3f;stroke-linejoin:miter;\" x=\"188.245455\" xlink:href=\"#mcac5e1cbbf\" y=\"115.92\"/>\r\n     <use style=\"fill:#3f3f3f;stroke:#3f3f3f;stroke-linejoin:miter;\" x=\"147.663636\" xlink:href=\"#mcac5e1cbbf\" y=\"115.92\"/>\r\n     <use style=\"fill:#3f3f3f;stroke:#3f3f3f;stroke-linejoin:miter;\" x=\"127.372727\" xlink:href=\"#mcac5e1cbbf\" y=\"115.92\"/>\r\n     <use style=\"fill:#3f3f3f;stroke:#3f3f3f;stroke-linejoin:miter;\" x=\"147.663636\" xlink:href=\"#mcac5e1cbbf\" y=\"115.92\"/>\r\n     <use style=\"fill:#3f3f3f;stroke:#3f3f3f;stroke-linejoin:miter;\" x=\"127.372727\" xlink:href=\"#mcac5e1cbbf\" y=\"115.92\"/>\r\n     <use style=\"fill:#3f3f3f;stroke:#3f3f3f;stroke-linejoin:miter;\" x=\"188.245455\" xlink:href=\"#mcac5e1cbbf\" y=\"115.92\"/>\r\n     <use style=\"fill:#3f3f3f;stroke:#3f3f3f;stroke-linejoin:miter;\" x=\"127.372727\" xlink:href=\"#mcac5e1cbbf\" y=\"115.92\"/>\r\n     <use style=\"fill:#3f3f3f;stroke:#3f3f3f;stroke-linejoin:miter;\" x=\"147.663636\" xlink:href=\"#mcac5e1cbbf\" y=\"115.92\"/>\r\n     <use style=\"fill:#3f3f3f;stroke:#3f3f3f;stroke-linejoin:miter;\" x=\"127.372727\" xlink:href=\"#mcac5e1cbbf\" y=\"115.92\"/>\r\n     <use style=\"fill:#3f3f3f;stroke:#3f3f3f;stroke-linejoin:miter;\" x=\"127.372727\" xlink:href=\"#mcac5e1cbbf\" y=\"115.92\"/>\r\n     <use style=\"fill:#3f3f3f;stroke:#3f3f3f;stroke-linejoin:miter;\" x=\"127.372727\" xlink:href=\"#mcac5e1cbbf\" y=\"115.92\"/>\r\n     <use style=\"fill:#3f3f3f;stroke:#3f3f3f;stroke-linejoin:miter;\" x=\"249.118182\" xlink:href=\"#mcac5e1cbbf\" y=\"115.92\"/>\r\n     <use style=\"fill:#3f3f3f;stroke:#3f3f3f;stroke-linejoin:miter;\" x=\"167.954545\" xlink:href=\"#mcac5e1cbbf\" y=\"115.92\"/>\r\n     <use style=\"fill:#3f3f3f;stroke:#3f3f3f;stroke-linejoin:miter;\" x=\"127.372727\" xlink:href=\"#mcac5e1cbbf\" y=\"115.92\"/>\r\n     <use style=\"fill:#3f3f3f;stroke:#3f3f3f;stroke-linejoin:miter;\" x=\"147.663636\" xlink:href=\"#mcac5e1cbbf\" y=\"115.92\"/>\r\n     <use style=\"fill:#3f3f3f;stroke:#3f3f3f;stroke-linejoin:miter;\" x=\"127.372727\" xlink:href=\"#mcac5e1cbbf\" y=\"115.92\"/>\r\n     <use style=\"fill:#3f3f3f;stroke:#3f3f3f;stroke-linejoin:miter;\" x=\"127.372727\" xlink:href=\"#mcac5e1cbbf\" y=\"115.92\"/>\r\n     <use style=\"fill:#3f3f3f;stroke:#3f3f3f;stroke-linejoin:miter;\" x=\"289.7\" xlink:href=\"#mcac5e1cbbf\" y=\"115.92\"/>\r\n     <use style=\"fill:#3f3f3f;stroke:#3f3f3f;stroke-linejoin:miter;\" x=\"147.663636\" xlink:href=\"#mcac5e1cbbf\" y=\"115.92\"/>\r\n     <use style=\"fill:#3f3f3f;stroke:#3f3f3f;stroke-linejoin:miter;\" x=\"137.518182\" xlink:href=\"#mcac5e1cbbf\" y=\"115.92\"/>\r\n     <use style=\"fill:#3f3f3f;stroke:#3f3f3f;stroke-linejoin:miter;\" x=\"147.663636\" xlink:href=\"#mcac5e1cbbf\" y=\"115.92\"/>\r\n     <use style=\"fill:#3f3f3f;stroke:#3f3f3f;stroke-linejoin:miter;\" x=\"147.663636\" xlink:href=\"#mcac5e1cbbf\" y=\"115.92\"/>\r\n     <use style=\"fill:#3f3f3f;stroke:#3f3f3f;stroke-linejoin:miter;\" x=\"127.372727\" xlink:href=\"#mcac5e1cbbf\" y=\"115.92\"/>\r\n     <use style=\"fill:#3f3f3f;stroke:#3f3f3f;stroke-linejoin:miter;\" x=\"137.518182\" xlink:href=\"#mcac5e1cbbf\" y=\"115.92\"/>\r\n     <use style=\"fill:#3f3f3f;stroke:#3f3f3f;stroke-linejoin:miter;\" x=\"330.281818\" xlink:href=\"#mcac5e1cbbf\" y=\"115.92\"/>\r\n     <use style=\"fill:#3f3f3f;stroke:#3f3f3f;stroke-linejoin:miter;\" x=\"137.518182\" xlink:href=\"#mcac5e1cbbf\" y=\"115.92\"/>\r\n    </g>\r\n   </g>\r\n   <g id=\"line2d_15\">\r\n    <path clip-path=\"url(#p694bda932d)\" d=\"M 60.412727 28.944 \r\nL 60.412727 202.896 \r\n\" style=\"fill:none;stroke:#3f3f3f;stroke-linecap:square;stroke-width:1.5;\"/>\r\n   </g>\r\n   <g id=\"patch_4\">\r\n    <path d=\"M 10.7 224.64 \r\nL 10.7 7.2 \r\n\" style=\"fill:none;stroke:#000000;stroke-linecap:square;stroke-linejoin:miter;stroke-width:0.8;\"/>\r\n   </g>\r\n   <g id=\"patch_5\">\r\n    <path d=\"M 345.5 224.64 \r\nL 345.5 7.2 \r\n\" style=\"fill:none;stroke:#000000;stroke-linecap:square;stroke-linejoin:miter;stroke-width:0.8;\"/>\r\n   </g>\r\n   <g id=\"patch_6\">\r\n    <path d=\"M 10.7 224.64 \r\nL 345.5 224.64 \r\n\" style=\"fill:none;stroke:#000000;stroke-linecap:square;stroke-linejoin:miter;stroke-width:0.8;\"/>\r\n   </g>\r\n   <g id=\"patch_7\">\r\n    <path d=\"M 10.7 7.2 \r\nL 345.5 7.2 \r\n\" style=\"fill:none;stroke:#000000;stroke-linecap:square;stroke-linejoin:miter;stroke-width:0.8;\"/>\r\n   </g>\r\n  </g>\r\n </g>\r\n <defs>\r\n  <clipPath id=\"p694bda932d\">\r\n   <rect height=\"217.44\" width=\"334.8\" x=\"10.7\" y=\"7.2\"/>\r\n  </clipPath>\r\n </defs>\r\n</svg>\r\n",
      "image/png": "[encoded data removed]"
     },
     "metadata": {
      "needs_background": "light"
     }
    }
   ],
   "source": [
    "sns.boxplot(new_data[\"Price\"])"
   ]
  },
  {
   "cell_type": "code",
   "execution_count": 43,
   "metadata": {},
   "outputs": [],
   "source": [
    "new_data.loc[new_data[\"Kind\"] == \"CCMN\", \"Parking_slot\"] = 1\n",
    "new_data.loc[new_data[\"Kind\"] == \"CCMN\", \"Air_condition\"] = 1\n",
    "new_data.loc[new_data[\"Kind\"] == \"CCMN\", \"Heater_shower\"] = 1\n",
    "new_data.loc[new_data[\"Kind\"] == \"CCMN\", \"Inner_toilet\"] = 1\n",
    "\n",
    "new_data.loc[new_data[\"Kind\"] == \"Homestay\", \"Parking_slot\"] = 1\n",
    "new_data.loc[new_data[\"Kind\"] == \"Homestay\", \"Air_condition\"] = 1\n",
    "new_data.loc[new_data[\"Kind\"] == \"Homestay\", \"Heater_shower\"] = 1"
   ]
  },
  {
   "cell_type": "code",
   "execution_count": 41,
   "metadata": {},
   "outputs": [],
   "source": [
    "new_data.loc[new_data[\"Kind\"] == \"CCMN\", \"Parking_slot\"] = 1"
   ]
  },
  {
   "cell_type": "code",
   "execution_count": 48,
   "metadata": {},
   "outputs": [
    {
     "output_type": "execute_result",
     "data": {
      "text/plain": [
       "      Price                                        Description       Kind  \\\n",
       "0       3.7  \\r\\n                             \\r\\n         ...       CCMN   \n",
       "1       3.0  \\r\\n                             \\r\\n         ...  Phòng trọ   \n",
       "2       4.0  \\r\\n                             \\r\\n         ...       CCMN   \n",
       "3       7.0  \\r\\n                             \\r\\n         ...  Phòng trọ   \n",
       "5       3.8  \\r\\n                             \\r\\n         ...       CCMN   \n",
       "...     ...                                                ...        ...   \n",
       "3173   15.0  \\r\\n                             \\r\\n         ...  Phòng trọ   \n",
       "3174    2.5  \\r\\n                             \\r\\n         ...  Phòng trọ   \n",
       "3176    3.7  \\r\\n                             \\r\\n         ...  Phòng trọ   \n",
       "3177    5.5  \\r\\n                             \\r\\n         ...       CCMN   \n",
       "3178    1.3  \\r\\n                             \\r\\n         ...  Phòng trọ   \n",
       "\n",
       "                                               Location  Size  Parking_slot  \\\n",
       "0     Đường Phạm Hùng, Phường Mỹ Đình 1, Nam Từ Liêm...    28             1   \n",
       "1     Đường Dương Văn Bé, Phường Vĩnh Tuy, Hai Bà T...    30             1   \n",
       "2     Đường Phạm Hùng, Phường Trung Hòa, Cầu Giấy, H...    32             1   \n",
       "3         đường Võng Thị, Phường Bưởi, Tây Hồ, Hà Nội    50             1   \n",
       "5     Đường Đồng Me, Phường Mễ Trì, Nam Từ Liêm, Hà...    36             1   \n",
       "...                                                 ...   ...           ...   \n",
       "3173  374c, đường Mỹ Đình, Phường Mỹ Đình 1, Nam Từ ...    30             0   \n",
       "3174  28 402/42/22 Đường Đình Thôn, Phường Mỹ Đình 1...    30             1   \n",
       "3176  Đường Lê Quang Đạo, Phường Phú Đô, Nam Từ Liêm...    30             0   \n",
       "3177  Ngõ 23 Đường Nguyễn Thị Định, Phường Trung Hòa...    35             1   \n",
       "3178                                Hoàng Mai, Hà Nội    10             1   \n",
       "\n",
       "      Air_condition  Heater_shower  Furnish  Inner_toilet  Size_total_bool  \\\n",
       "0                 1              1        1             1                0   \n",
       "1                 0              1        0             1                0   \n",
       "2                 1              1        1             1                0   \n",
       "3                 0              1        1             0                0   \n",
       "5                 1              1        1             1                0   \n",
       "...             ...            ...      ...           ...              ...   \n",
       "3173              0              0        0             0                0   \n",
       "3174              0              1        0             0                0   \n",
       "3176              1              1        1             1                0   \n",
       "3177              1              1        0             1                0   \n",
       "3178              0              1        0             0                0   \n",
       "\n",
       "            Source  \n",
       "0     thuephongtro  \n",
       "1     thuephongtro  \n",
       "2     thuephongtro  \n",
       "3     thuephongtro  \n",
       "5     thuephongtro  \n",
       "...            ...  \n",
       "3173  thuephongtro  \n",
       "3174  thuephongtro  \n",
       "3176  thuephongtro  \n",
       "3177  thuephongtro  \n",
       "3178  thuephongtro  \n",
       "\n",
       "[2996 rows x 12 columns]"
      ],
      "text/html": "<div>\n<style scoped>\n    .dataframe tbody tr th:only-of-type {\n        vertical-align: middle;\n    }\n\n    .dataframe tbody tr th {\n        vertical-align: top;\n    }\n\n    .dataframe thead th {\n        text-align: right;\n    }\n</style>\n<table border=\"1\" class=\"dataframe\">\n  <thead>\n    <tr style=\"text-align: right;\">\n      <th></th>\n      <th>Price</th>\n      <th>Description</th>\n      <th>Kind</th>\n      <th>Location</th>\n      <th>Size</th>\n      <th>Parking_slot</th>\n      <th>Air_condition</th>\n      <th>Heater_shower</th>\n      <th>Furnish</th>\n      <th>Inner_toilet</th>\n      <th>Size_total_bool</th>\n      <th>Source</th>\n    </tr>\n  </thead>\n  <tbody>\n    <tr>\n      <th>0</th>\n      <td>3.7</td>\n      <td>\\r\\n                             \\r\\n         ...</td>\n      <td>CCMN</td>\n      <td>Đường Phạm Hùng, Phường Mỹ Đình 1, Nam Từ Liêm...</td>\n      <td>28</td>\n      <td>1</td>\n      <td>1</td>\n      <td>1</td>\n      <td>1</td>\n      <td>1</td>\n      <td>0</td>\n      <td>thuephongtro</td>\n    </tr>\n    <tr>\n      <th>1</th>\n      <td>3.0</td>\n      <td>\\r\\n                             \\r\\n         ...</td>\n      <td>Phòng trọ</td>\n      <td>Đường Dương Văn Bé, Phường Vĩnh Tuy, Hai Bà T...</td>\n      <td>30</td>\n      <td>1</td>\n      <td>0</td>\n      <td>1</td>\n      <td>0</td>\n      <td>1</td>\n      <td>0</td>\n      <td>thuephongtro</td>\n    </tr>\n    <tr>\n      <th>2</th>\n      <td>4.0</td>\n      <td>\\r\\n                             \\r\\n         ...</td>\n      <td>CCMN</td>\n      <td>Đường Phạm Hùng, Phường Trung Hòa, Cầu Giấy, H...</td>\n      <td>32</td>\n      <td>1</td>\n      <td>1</td>\n      <td>1</td>\n      <td>1</td>\n      <td>1</td>\n      <td>0</td>\n      <td>thuephongtro</td>\n    </tr>\n    <tr>\n      <th>3</th>\n      <td>7.0</td>\n      <td>\\r\\n                             \\r\\n         ...</td>\n      <td>Phòng trọ</td>\n      <td>đường Võng Thị, Phường Bưởi, Tây Hồ, Hà Nội</td>\n      <td>50</td>\n      <td>1</td>\n      <td>0</td>\n      <td>1</td>\n      <td>1</td>\n      <td>0</td>\n      <td>0</td>\n      <td>thuephongtro</td>\n    </tr>\n    <tr>\n      <th>5</th>\n      <td>3.8</td>\n      <td>\\r\\n                             \\r\\n         ...</td>\n      <td>CCMN</td>\n      <td>Đường Đồng Me, Phường Mễ Trì, Nam Từ Liêm, Hà...</td>\n      <td>36</td>\n      <td>1</td>\n      <td>1</td>\n      <td>1</td>\n      <td>1</td>\n      <td>1</td>\n      <td>0</td>\n      <td>thuephongtro</td>\n    </tr>\n    <tr>\n      <th>...</th>\n      <td>...</td>\n      <td>...</td>\n      <td>...</td>\n      <td>...</td>\n      <td>...</td>\n      <td>...</td>\n      <td>...</td>\n      <td>...</td>\n      <td>...</td>\n      <td>...</td>\n      <td>...</td>\n      <td>...</td>\n    </tr>\n    <tr>\n      <th>3173</th>\n      <td>15.0</td>\n      <td>\\r\\n                             \\r\\n         ...</td>\n      <td>Phòng trọ</td>\n      <td>374c, đường Mỹ Đình, Phường Mỹ Đình 1, Nam Từ ...</td>\n      <td>30</td>\n      <td>0</td>\n      <td>0</td>\n      <td>0</td>\n      <td>0</td>\n      <td>0</td>\n      <td>0</td>\n      <td>thuephongtro</td>\n    </tr>\n    <tr>\n      <th>3174</th>\n      <td>2.5</td>\n      <td>\\r\\n                             \\r\\n         ...</td>\n      <td>Phòng trọ</td>\n      <td>28 402/42/22 Đường Đình Thôn, Phường Mỹ Đình 1...</td>\n      <td>30</td>\n      <td>1</td>\n      <td>0</td>\n      <td>1</td>\n      <td>0</td>\n      <td>0</td>\n      <td>0</td>\n      <td>thuephongtro</td>\n    </tr>\n    <tr>\n      <th>3176</th>\n      <td>3.7</td>\n      <td>\\r\\n                             \\r\\n         ...</td>\n      <td>Phòng trọ</td>\n      <td>Đường Lê Quang Đạo, Phường Phú Đô, Nam Từ Liêm...</td>\n      <td>30</td>\n      <td>0</td>\n      <td>1</td>\n      <td>1</td>\n      <td>1</td>\n      <td>1</td>\n      <td>0</td>\n      <td>thuephongtro</td>\n    </tr>\n    <tr>\n      <th>3177</th>\n      <td>5.5</td>\n      <td>\\r\\n                             \\r\\n         ...</td>\n      <td>CCMN</td>\n      <td>Ngõ 23 Đường Nguyễn Thị Định, Phường Trung Hòa...</td>\n      <td>35</td>\n      <td>1</td>\n      <td>1</td>\n      <td>1</td>\n      <td>0</td>\n      <td>1</td>\n      <td>0</td>\n      <td>thuephongtro</td>\n    </tr>\n    <tr>\n      <th>3178</th>\n      <td>1.3</td>\n      <td>\\r\\n                             \\r\\n         ...</td>\n      <td>Phòng trọ</td>\n      <td>Hoàng Mai, Hà Nội</td>\n      <td>10</td>\n      <td>1</td>\n      <td>0</td>\n      <td>1</td>\n      <td>0</td>\n      <td>0</td>\n      <td>0</td>\n      <td>thuephongtro</td>\n    </tr>\n  </tbody>\n</table>\n<p>2996 rows × 12 columns</p>\n</div>"
     },
     "metadata": {},
     "execution_count": 48
    }
   ],
   "source": [
    "new_data"
   ]
  },
  {
   "cell_type": "code",
   "execution_count": 51,
   "metadata": {},
   "outputs": [],
   "source": [
    "new_data.to_csv(\"../processed-data/thuephongtro.csv\")"
   ]
  },
  {
   "cell_type": "code",
   "execution_count": null,
   "metadata": {},
   "outputs": [],
   "source": []
  }
 ]
}